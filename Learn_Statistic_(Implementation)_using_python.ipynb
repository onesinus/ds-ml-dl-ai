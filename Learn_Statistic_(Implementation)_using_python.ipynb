{
  "nbformat": 4,
  "nbformat_minor": 0,
  "metadata": {
    "colab": {
      "provenance": []
    },
    "kernelspec": {
      "name": "python3",
      "display_name": "Python 3"
    },
    "language_info": {
      "name": "python"
    }
  },
  "cells": [
    {
      "cell_type": "code",
      "execution_count": null,
      "metadata": {
        "colab": {
          "base_uri": "https://localhost:8080/"
        },
        "id": "RRNHOuu6hnUd",
        "outputId": "d023665b-7023-4a4f-bdf8-22e6b55890f7"
      },
      "outputs": [
        {
          "output_type": "stream",
          "name": "stdout",
          "text": [
            "Slope (B1): 14.9475\n",
            "Intercept (B0): 74.2833\n",
            "Linear Regression Formula: y = 74.2833 + 14.9475 * x\n"
          ]
        }
      ],
      "source": [
        "import numpy as np\n",
        "\n",
        "# Data\n",
        "x = np.array([0.99, 1.02, 1.15, 1.29, 1.46, 1.36, 0.87, 1.23, 1.55, 1.40,\n",
        "              1.19, 1.15, 0.98, 1.01, 1.11, 1.20, 1.26, 1.32, 1.43, 0.95])\n",
        "y = np.array([90.01, 89.05, 91.43, 93.74, 96.73, 94.45, 87.59, 91.77, 99.42,\n",
        "              93.65, 93.54, 92.52, 90.56, 89.54, 89.85, 90.39, 93.25, 93.41,\n",
        "              94.98, 87.33])\n",
        "\n",
        "# Calculate B1 (slope)\n",
        "n = len(x)\n",
        "sum_xy = np.sum(x * y)\n",
        "sum_x = np.sum(x)\n",
        "sum_y = np.sum(y)\n",
        "sum_x_squared = np.sum(x**2)\n",
        "\n",
        "B1 = (n * sum_xy - sum_x * sum_y) / (n * sum_x_squared - sum_x**2)\n",
        "\n",
        "# Calculate B0 (intercept)\n",
        "B0 = (sum_y - B1 * sum_x) / n\n",
        "\n",
        "# Display the results\n",
        "print(f\"Slope (B1): {B1:.4f}\")\n",
        "print(f\"Intercept (B0): {B0:.4f}\")\n",
        "\n",
        "# Linear Regression Formula: y = B0 + B1 * x\n",
        "print(f\"Linear Regression Formula: y = {B0:.4f} + {B1:.4f} * x\")"
      ]
    }
  ]
}