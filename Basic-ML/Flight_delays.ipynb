{
  "cells": [
    {
      "cell_type": "markdown",
      "metadata": {
        "id": "aPzGMqM9119H"
      },
      "source": [
        "# Imports"
      ]
    },
    {
      "cell_type": "code",
      "execution_count": null,
      "metadata": {
        "colab": {
          "base_uri": "https://localhost:8080/"
        },
        "id": "lcVWlAiQH60-",
        "outputId": "38ca0143-6300-41d2-f70c-95b1f69603f3"
      },
      "outputs": [
        {
          "output_type": "stream",
          "name": "stdout",
          "text": [
            "Collecting catboost\n",
            "  Downloading catboost-1.2.7-cp311-cp311-manylinux2014_x86_64.whl.metadata (1.2 kB)\n",
            "Requirement already satisfied: graphviz in /usr/local/lib/python3.11/dist-packages (from catboost) (0.20.3)\n",
            "Requirement already satisfied: matplotlib in /usr/local/lib/python3.11/dist-packages (from catboost) (3.10.0)\n",
            "Requirement already satisfied: numpy<2.0,>=1.16.0 in /usr/local/lib/python3.11/dist-packages (from catboost) (1.26.4)\n",
            "Requirement already satisfied: pandas>=0.24 in /usr/local/lib/python3.11/dist-packages (from catboost) (2.2.2)\n",
            "Requirement already satisfied: scipy in /usr/local/lib/python3.11/dist-packages (from catboost) (1.13.1)\n",
            "Requirement already satisfied: plotly in /usr/local/lib/python3.11/dist-packages (from catboost) (5.24.1)\n",
            "Requirement already satisfied: six in /usr/local/lib/python3.11/dist-packages (from catboost) (1.17.0)\n",
            "Requirement already satisfied: python-dateutil>=2.8.2 in /usr/local/lib/python3.11/dist-packages (from pandas>=0.24->catboost) (2.8.2)\n",
            "Requirement already satisfied: pytz>=2020.1 in /usr/local/lib/python3.11/dist-packages (from pandas>=0.24->catboost) (2024.2)\n",
            "Requirement already satisfied: tzdata>=2022.7 in /usr/local/lib/python3.11/dist-packages (from pandas>=0.24->catboost) (2024.2)\n",
            "Requirement already satisfied: contourpy>=1.0.1 in /usr/local/lib/python3.11/dist-packages (from matplotlib->catboost) (1.3.1)\n",
            "Requirement already satisfied: cycler>=0.10 in /usr/local/lib/python3.11/dist-packages (from matplotlib->catboost) (0.12.1)\n",
            "Requirement already satisfied: fonttools>=4.22.0 in /usr/local/lib/python3.11/dist-packages (from matplotlib->catboost) (4.55.3)\n",
            "Requirement already satisfied: kiwisolver>=1.3.1 in /usr/local/lib/python3.11/dist-packages (from matplotlib->catboost) (1.4.8)\n",
            "Requirement already satisfied: packaging>=20.0 in /usr/local/lib/python3.11/dist-packages (from matplotlib->catboost) (24.2)\n",
            "Requirement already satisfied: pillow>=8 in /usr/local/lib/python3.11/dist-packages (from matplotlib->catboost) (11.1.0)\n",
            "Requirement already satisfied: pyparsing>=2.3.1 in /usr/local/lib/python3.11/dist-packages (from matplotlib->catboost) (3.2.1)\n",
            "Requirement already satisfied: tenacity>=6.2.0 in /usr/local/lib/python3.11/dist-packages (from plotly->catboost) (9.0.0)\n",
            "Downloading catboost-1.2.7-cp311-cp311-manylinux2014_x86_64.whl (98.7 MB)\n",
            "\u001b[2K   \u001b[90m━━━━━━━━━━━━━━━━━━━━━━━━━━━━━━━━━━━━━━━━\u001b[0m \u001b[32m98.7/98.7 MB\u001b[0m \u001b[31m8.3 MB/s\u001b[0m eta \u001b[36m0:00:00\u001b[0m\n",
            "\u001b[?25hInstalling collected packages: catboost\n",
            "Successfully installed catboost-1.2.7\n"
          ]
        }
      ],
      "source": [
        "!pip install catboost"
      ]
    },
    {
      "cell_type": "code",
      "execution_count": null,
      "metadata": {
        "id": "ZyJYwwjQHj9B"
      },
      "outputs": [],
      "source": [
        "import warnings\n",
        "import numpy as np\n",
        "import pandas as pd\n",
        "from pathlib import Path\n",
        "from sklearn.model_selection import train_test_split\n",
        "from sklearn.metrics import roc_auc_score, accuracy_score, precision_score, recall_score\n",
        "from catboost import CatBoostClassifier\n",
        "from sklearn.metrics import classification_report"
      ]
    },
    {
      "cell_type": "markdown",
      "metadata": {
        "id": "idQXsEMv15Ik"
      },
      "source": [
        "# Data Loading"
      ]
    },
    {
      "cell_type": "code",
      "execution_count": null,
      "metadata": {
        "colab": {
          "base_uri": "https://localhost:8080/"
        },
        "id": "kLPoD8x5UsTV",
        "outputId": "b6385da2-ddfd-4617-f097-a2e9dbe311ed"
      },
      "outputs": [
        {
          "output_type": "stream",
          "name": "stdout",
          "text": [
            "Archive:  dataset.zip\n",
            "  inflating: flight-delays-fall-2018/flight_delays_test.csv  \n",
            "  inflating: flight-delays-fall-2018/flight_delays_train.csv  \n"
          ]
        }
      ],
      "source": [
        "!unzip dataset.zip"
      ]
    },
    {
      "cell_type": "code",
      "execution_count": null,
      "metadata": {
        "id": "oZh-FkgeH-9U"
      },
      "outputs": [],
      "source": [
        "PATH_TO_DATA = Path('flight-delays-fall-2018/')"
      ]
    },
    {
      "cell_type": "code",
      "execution_count": null,
      "metadata": {
        "id": "oSIznZfXH_vs"
      },
      "outputs": [],
      "source": [
        "train_df = pd.read_csv(PATH_TO_DATA / 'flight_delays_train.csv')"
      ]
    },
    {
      "cell_type": "code",
      "execution_count": null,
      "metadata": {
        "id": "x5XJFIhRIxmE"
      },
      "outputs": [],
      "source": [
        "test_df = pd.read_csv(PATH_TO_DATA / 'flight_delays_test.csv')"
      ]
    },
    {
      "cell_type": "markdown",
      "metadata": {
        "id": "Qb5DDOwj18A1"
      },
      "source": [
        "# Data understanding"
      ]
    },
    {
      "cell_type": "code",
      "execution_count": null,
      "metadata": {
        "colab": {
          "base_uri": "https://localhost:8080/",
          "height": 206
        },
        "id": "Zvqb0OL3ICfh",
        "outputId": "933c88cb-4f0d-4c4f-a57d-84d812ce34db"
      },
      "outputs": [
        {
          "output_type": "execute_result",
          "data": {
            "text/plain": [
              "  Month DayofMonth DayOfWeek  DepTime UniqueCarrier Origin Dest  Distance  \\\n",
              "0   c-8       c-21       c-7     1934            AA    ATL  DFW       732   \n",
              "1   c-4       c-20       c-3     1548            US    PIT  MCO       834   \n",
              "2   c-9        c-2       c-5     1422            XE    RDU  CLE       416   \n",
              "3  c-11       c-25       c-6     1015            OO    DEN  MEM       872   \n",
              "4  c-10        c-7       c-6     1828            WN    MDW  OMA       423   \n",
              "\n",
              "  dep_delayed_15min  \n",
              "0                 N  \n",
              "1                 N  \n",
              "2                 N  \n",
              "3                 N  \n",
              "4                 Y  "
            ],
            "text/html": [
              "\n",
              "  <div id=\"df-a06cdcb9-616d-437e-9c64-cbd104d5a7d8\" class=\"colab-df-container\">\n",
              "    <div>\n",
              "<style scoped>\n",
              "    .dataframe tbody tr th:only-of-type {\n",
              "        vertical-align: middle;\n",
              "    }\n",
              "\n",
              "    .dataframe tbody tr th {\n",
              "        vertical-align: top;\n",
              "    }\n",
              "\n",
              "    .dataframe thead th {\n",
              "        text-align: right;\n",
              "    }\n",
              "</style>\n",
              "<table border=\"1\" class=\"dataframe\">\n",
              "  <thead>\n",
              "    <tr style=\"text-align: right;\">\n",
              "      <th></th>\n",
              "      <th>Month</th>\n",
              "      <th>DayofMonth</th>\n",
              "      <th>DayOfWeek</th>\n",
              "      <th>DepTime</th>\n",
              "      <th>UniqueCarrier</th>\n",
              "      <th>Origin</th>\n",
              "      <th>Dest</th>\n",
              "      <th>Distance</th>\n",
              "      <th>dep_delayed_15min</th>\n",
              "    </tr>\n",
              "  </thead>\n",
              "  <tbody>\n",
              "    <tr>\n",
              "      <th>0</th>\n",
              "      <td>c-8</td>\n",
              "      <td>c-21</td>\n",
              "      <td>c-7</td>\n",
              "      <td>1934</td>\n",
              "      <td>AA</td>\n",
              "      <td>ATL</td>\n",
              "      <td>DFW</td>\n",
              "      <td>732</td>\n",
              "      <td>N</td>\n",
              "    </tr>\n",
              "    <tr>\n",
              "      <th>1</th>\n",
              "      <td>c-4</td>\n",
              "      <td>c-20</td>\n",
              "      <td>c-3</td>\n",
              "      <td>1548</td>\n",
              "      <td>US</td>\n",
              "      <td>PIT</td>\n",
              "      <td>MCO</td>\n",
              "      <td>834</td>\n",
              "      <td>N</td>\n",
              "    </tr>\n",
              "    <tr>\n",
              "      <th>2</th>\n",
              "      <td>c-9</td>\n",
              "      <td>c-2</td>\n",
              "      <td>c-5</td>\n",
              "      <td>1422</td>\n",
              "      <td>XE</td>\n",
              "      <td>RDU</td>\n",
              "      <td>CLE</td>\n",
              "      <td>416</td>\n",
              "      <td>N</td>\n",
              "    </tr>\n",
              "    <tr>\n",
              "      <th>3</th>\n",
              "      <td>c-11</td>\n",
              "      <td>c-25</td>\n",
              "      <td>c-6</td>\n",
              "      <td>1015</td>\n",
              "      <td>OO</td>\n",
              "      <td>DEN</td>\n",
              "      <td>MEM</td>\n",
              "      <td>872</td>\n",
              "      <td>N</td>\n",
              "    </tr>\n",
              "    <tr>\n",
              "      <th>4</th>\n",
              "      <td>c-10</td>\n",
              "      <td>c-7</td>\n",
              "      <td>c-6</td>\n",
              "      <td>1828</td>\n",
              "      <td>WN</td>\n",
              "      <td>MDW</td>\n",
              "      <td>OMA</td>\n",
              "      <td>423</td>\n",
              "      <td>Y</td>\n",
              "    </tr>\n",
              "  </tbody>\n",
              "</table>\n",
              "</div>\n",
              "    <div class=\"colab-df-buttons\">\n",
              "\n",
              "  <div class=\"colab-df-container\">\n",
              "    <button class=\"colab-df-convert\" onclick=\"convertToInteractive('df-a06cdcb9-616d-437e-9c64-cbd104d5a7d8')\"\n",
              "            title=\"Convert this dataframe to an interactive table.\"\n",
              "            style=\"display:none;\">\n",
              "\n",
              "  <svg xmlns=\"http://www.w3.org/2000/svg\" height=\"24px\" viewBox=\"0 -960 960 960\">\n",
              "    <path d=\"M120-120v-720h720v720H120Zm60-500h600v-160H180v160Zm220 220h160v-160H400v160Zm0 220h160v-160H400v160ZM180-400h160v-160H180v160Zm440 0h160v-160H620v160ZM180-180h160v-160H180v160Zm440 0h160v-160H620v160Z\"/>\n",
              "  </svg>\n",
              "    </button>\n",
              "\n",
              "  <style>\n",
              "    .colab-df-container {\n",
              "      display:flex;\n",
              "      gap: 12px;\n",
              "    }\n",
              "\n",
              "    .colab-df-convert {\n",
              "      background-color: #E8F0FE;\n",
              "      border: none;\n",
              "      border-radius: 50%;\n",
              "      cursor: pointer;\n",
              "      display: none;\n",
              "      fill: #1967D2;\n",
              "      height: 32px;\n",
              "      padding: 0 0 0 0;\n",
              "      width: 32px;\n",
              "    }\n",
              "\n",
              "    .colab-df-convert:hover {\n",
              "      background-color: #E2EBFA;\n",
              "      box-shadow: 0px 1px 2px rgba(60, 64, 67, 0.3), 0px 1px 3px 1px rgba(60, 64, 67, 0.15);\n",
              "      fill: #174EA6;\n",
              "    }\n",
              "\n",
              "    .colab-df-buttons div {\n",
              "      margin-bottom: 4px;\n",
              "    }\n",
              "\n",
              "    [theme=dark] .colab-df-convert {\n",
              "      background-color: #3B4455;\n",
              "      fill: #D2E3FC;\n",
              "    }\n",
              "\n",
              "    [theme=dark] .colab-df-convert:hover {\n",
              "      background-color: #434B5C;\n",
              "      box-shadow: 0px 1px 3px 1px rgba(0, 0, 0, 0.15);\n",
              "      filter: drop-shadow(0px 1px 2px rgba(0, 0, 0, 0.3));\n",
              "      fill: #FFFFFF;\n",
              "    }\n",
              "  </style>\n",
              "\n",
              "    <script>\n",
              "      const buttonEl =\n",
              "        document.querySelector('#df-a06cdcb9-616d-437e-9c64-cbd104d5a7d8 button.colab-df-convert');\n",
              "      buttonEl.style.display =\n",
              "        google.colab.kernel.accessAllowed ? 'block' : 'none';\n",
              "\n",
              "      async function convertToInteractive(key) {\n",
              "        const element = document.querySelector('#df-a06cdcb9-616d-437e-9c64-cbd104d5a7d8');\n",
              "        const dataTable =\n",
              "          await google.colab.kernel.invokeFunction('convertToInteractive',\n",
              "                                                    [key], {});\n",
              "        if (!dataTable) return;\n",
              "\n",
              "        const docLinkHtml = 'Like what you see? Visit the ' +\n",
              "          '<a target=\"_blank\" href=https://colab.research.google.com/notebooks/data_table.ipynb>data table notebook</a>'\n",
              "          + ' to learn more about interactive tables.';\n",
              "        element.innerHTML = '';\n",
              "        dataTable['output_type'] = 'display_data';\n",
              "        await google.colab.output.renderOutput(dataTable, element);\n",
              "        const docLink = document.createElement('div');\n",
              "        docLink.innerHTML = docLinkHtml;\n",
              "        element.appendChild(docLink);\n",
              "      }\n",
              "    </script>\n",
              "  </div>\n",
              "\n",
              "\n",
              "<div id=\"df-061a8889-52d5-411d-b17c-8085262015a5\">\n",
              "  <button class=\"colab-df-quickchart\" onclick=\"quickchart('df-061a8889-52d5-411d-b17c-8085262015a5')\"\n",
              "            title=\"Suggest charts\"\n",
              "            style=\"display:none;\">\n",
              "\n",
              "<svg xmlns=\"http://www.w3.org/2000/svg\" height=\"24px\"viewBox=\"0 0 24 24\"\n",
              "     width=\"24px\">\n",
              "    <g>\n",
              "        <path d=\"M19 3H5c-1.1 0-2 .9-2 2v14c0 1.1.9 2 2 2h14c1.1 0 2-.9 2-2V5c0-1.1-.9-2-2-2zM9 17H7v-7h2v7zm4 0h-2V7h2v10zm4 0h-2v-4h2v4z\"/>\n",
              "    </g>\n",
              "</svg>\n",
              "  </button>\n",
              "\n",
              "<style>\n",
              "  .colab-df-quickchart {\n",
              "      --bg-color: #E8F0FE;\n",
              "      --fill-color: #1967D2;\n",
              "      --hover-bg-color: #E2EBFA;\n",
              "      --hover-fill-color: #174EA6;\n",
              "      --disabled-fill-color: #AAA;\n",
              "      --disabled-bg-color: #DDD;\n",
              "  }\n",
              "\n",
              "  [theme=dark] .colab-df-quickchart {\n",
              "      --bg-color: #3B4455;\n",
              "      --fill-color: #D2E3FC;\n",
              "      --hover-bg-color: #434B5C;\n",
              "      --hover-fill-color: #FFFFFF;\n",
              "      --disabled-bg-color: #3B4455;\n",
              "      --disabled-fill-color: #666;\n",
              "  }\n",
              "\n",
              "  .colab-df-quickchart {\n",
              "    background-color: var(--bg-color);\n",
              "    border: none;\n",
              "    border-radius: 50%;\n",
              "    cursor: pointer;\n",
              "    display: none;\n",
              "    fill: var(--fill-color);\n",
              "    height: 32px;\n",
              "    padding: 0;\n",
              "    width: 32px;\n",
              "  }\n",
              "\n",
              "  .colab-df-quickchart:hover {\n",
              "    background-color: var(--hover-bg-color);\n",
              "    box-shadow: 0 1px 2px rgba(60, 64, 67, 0.3), 0 1px 3px 1px rgba(60, 64, 67, 0.15);\n",
              "    fill: var(--button-hover-fill-color);\n",
              "  }\n",
              "\n",
              "  .colab-df-quickchart-complete:disabled,\n",
              "  .colab-df-quickchart-complete:disabled:hover {\n",
              "    background-color: var(--disabled-bg-color);\n",
              "    fill: var(--disabled-fill-color);\n",
              "    box-shadow: none;\n",
              "  }\n",
              "\n",
              "  .colab-df-spinner {\n",
              "    border: 2px solid var(--fill-color);\n",
              "    border-color: transparent;\n",
              "    border-bottom-color: var(--fill-color);\n",
              "    animation:\n",
              "      spin 1s steps(1) infinite;\n",
              "  }\n",
              "\n",
              "  @keyframes spin {\n",
              "    0% {\n",
              "      border-color: transparent;\n",
              "      border-bottom-color: var(--fill-color);\n",
              "      border-left-color: var(--fill-color);\n",
              "    }\n",
              "    20% {\n",
              "      border-color: transparent;\n",
              "      border-left-color: var(--fill-color);\n",
              "      border-top-color: var(--fill-color);\n",
              "    }\n",
              "    30% {\n",
              "      border-color: transparent;\n",
              "      border-left-color: var(--fill-color);\n",
              "      border-top-color: var(--fill-color);\n",
              "      border-right-color: var(--fill-color);\n",
              "    }\n",
              "    40% {\n",
              "      border-color: transparent;\n",
              "      border-right-color: var(--fill-color);\n",
              "      border-top-color: var(--fill-color);\n",
              "    }\n",
              "    60% {\n",
              "      border-color: transparent;\n",
              "      border-right-color: var(--fill-color);\n",
              "    }\n",
              "    80% {\n",
              "      border-color: transparent;\n",
              "      border-right-color: var(--fill-color);\n",
              "      border-bottom-color: var(--fill-color);\n",
              "    }\n",
              "    90% {\n",
              "      border-color: transparent;\n",
              "      border-bottom-color: var(--fill-color);\n",
              "    }\n",
              "  }\n",
              "</style>\n",
              "\n",
              "  <script>\n",
              "    async function quickchart(key) {\n",
              "      const quickchartButtonEl =\n",
              "        document.querySelector('#' + key + ' button');\n",
              "      quickchartButtonEl.disabled = true;  // To prevent multiple clicks.\n",
              "      quickchartButtonEl.classList.add('colab-df-spinner');\n",
              "      try {\n",
              "        const charts = await google.colab.kernel.invokeFunction(\n",
              "            'suggestCharts', [key], {});\n",
              "      } catch (error) {\n",
              "        console.error('Error during call to suggestCharts:', error);\n",
              "      }\n",
              "      quickchartButtonEl.classList.remove('colab-df-spinner');\n",
              "      quickchartButtonEl.classList.add('colab-df-quickchart-complete');\n",
              "    }\n",
              "    (() => {\n",
              "      let quickchartButtonEl =\n",
              "        document.querySelector('#df-061a8889-52d5-411d-b17c-8085262015a5 button');\n",
              "      quickchartButtonEl.style.display =\n",
              "        google.colab.kernel.accessAllowed ? 'block' : 'none';\n",
              "    })();\n",
              "  </script>\n",
              "</div>\n",
              "\n",
              "    </div>\n",
              "  </div>\n"
            ],
            "application/vnd.google.colaboratory.intrinsic+json": {
              "type": "dataframe",
              "variable_name": "train_df",
              "summary": "{\n  \"name\": \"train_df\",\n  \"rows\": 100000,\n  \"fields\": [\n    {\n      \"column\": \"Month\",\n      \"properties\": {\n        \"dtype\": \"category\",\n        \"num_unique_values\": 12,\n        \"samples\": [\n          \"c-12\",\n          \"c-3\",\n          \"c-8\"\n        ],\n        \"semantic_type\": \"\",\n        \"description\": \"\"\n      }\n    },\n    {\n      \"column\": \"DayofMonth\",\n      \"properties\": {\n        \"dtype\": \"category\",\n        \"num_unique_values\": 31,\n        \"samples\": [\n          \"c-12\",\n          \"c-22\",\n          \"c-24\"\n        ],\n        \"semantic_type\": \"\",\n        \"description\": \"\"\n      }\n    },\n    {\n      \"column\": \"DayOfWeek\",\n      \"properties\": {\n        \"dtype\": \"category\",\n        \"num_unique_values\": 7,\n        \"samples\": [\n          \"c-7\",\n          \"c-3\",\n          \"c-2\"\n        ],\n        \"semantic_type\": \"\",\n        \"description\": \"\"\n      }\n    },\n    {\n      \"column\": \"DepTime\",\n      \"properties\": {\n        \"dtype\": \"number\",\n        \"std\": 476,\n        \"min\": 1,\n        \"max\": 2534,\n        \"num_unique_values\": 1300,\n        \"samples\": [\n          1550,\n          839,\n          1149\n        ],\n        \"semantic_type\": \"\",\n        \"description\": \"\"\n      }\n    },\n    {\n      \"column\": \"UniqueCarrier\",\n      \"properties\": {\n        \"dtype\": \"category\",\n        \"num_unique_values\": 22,\n        \"samples\": [\n          \"AA\",\n          \"DH\",\n          \"AS\"\n        ],\n        \"semantic_type\": \"\",\n        \"description\": \"\"\n      }\n    },\n    {\n      \"column\": \"Origin\",\n      \"properties\": {\n        \"dtype\": \"category\",\n        \"num_unique_values\": 289,\n        \"samples\": [\n          \"BOS\",\n          \"SRQ\",\n          \"DLG\"\n        ],\n        \"semantic_type\": \"\",\n        \"description\": \"\"\n      }\n    },\n    {\n      \"column\": \"Dest\",\n      \"properties\": {\n        \"dtype\": \"category\",\n        \"num_unique_values\": 289,\n        \"samples\": [\n          \"JAN\",\n          \"SRQ\",\n          \"SCC\"\n        ],\n        \"semantic_type\": \"\",\n        \"description\": \"\"\n      }\n    },\n    {\n      \"column\": \"Distance\",\n      \"properties\": {\n        \"dtype\": \"number\",\n        \"std\": 574,\n        \"min\": 30,\n        \"max\": 4962,\n        \"num_unique_values\": 1310,\n        \"samples\": [\n          1142,\n          663,\n          2116\n        ],\n        \"semantic_type\": \"\",\n        \"description\": \"\"\n      }\n    },\n    {\n      \"column\": \"dep_delayed_15min\",\n      \"properties\": {\n        \"dtype\": \"category\",\n        \"num_unique_values\": 2,\n        \"samples\": [\n          \"Y\",\n          \"N\"\n        ],\n        \"semantic_type\": \"\",\n        \"description\": \"\"\n      }\n    }\n  ]\n}"
            }
          },
          "metadata": {},
          "execution_count": 8
        }
      ],
      "source": [
        "train_df.head()"
      ]
    },
    {
      "cell_type": "code",
      "execution_count": null,
      "metadata": {
        "colab": {
          "base_uri": "https://localhost:8080/"
        },
        "id": "AZ6ryhx_9YMc",
        "outputId": "d8a94f9b-1e3b-4dcf-e81d-ce35134273c4"
      },
      "outputs": [
        {
          "output_type": "stream",
          "name": "stdout",
          "text": [
            "Number of data per class:\n",
            "dep_delayed_15min\n",
            "N    80956\n",
            "Y    19044\n",
            "Name: count, dtype: int64\n"
          ]
        }
      ],
      "source": [
        "class_counts = train_df['dep_delayed_15min'].value_counts()\n",
        "\n",
        "print(\"Number of data per class:\")\n",
        "print(class_counts)"
      ]
    },
    {
      "cell_type": "code",
      "execution_count": null,
      "metadata": {
        "colab": {
          "base_uri": "https://localhost:8080/",
          "height": 206
        },
        "id": "jyexeSZm8YBO",
        "outputId": "0e6e2e68-106c-4eec-f38b-398c81c82e6d"
      },
      "outputs": [
        {
          "output_type": "execute_result",
          "data": {
            "text/plain": [
              "  Month DayofMonth DayOfWeek  DepTime UniqueCarrier Origin Dest  Distance\n",
              "0   c-7       c-25       c-3      615            YV    MRY  PHX       598\n",
              "1   c-4       c-17       c-2      739            WN    LAS  HOU      1235\n",
              "2  c-12        c-2       c-7      651            MQ    GSP  ORD       577\n",
              "3   c-3       c-25       c-7     1614            WN    BWI  MHT       377\n",
              "4   c-6        c-6       c-3     1505            UA    ORD  STL       258"
            ],
            "text/html": [
              "\n",
              "  <div id=\"df-2a0c6eb7-ed74-4e62-b32f-6d7f580e01b1\" class=\"colab-df-container\">\n",
              "    <div>\n",
              "<style scoped>\n",
              "    .dataframe tbody tr th:only-of-type {\n",
              "        vertical-align: middle;\n",
              "    }\n",
              "\n",
              "    .dataframe tbody tr th {\n",
              "        vertical-align: top;\n",
              "    }\n",
              "\n",
              "    .dataframe thead th {\n",
              "        text-align: right;\n",
              "    }\n",
              "</style>\n",
              "<table border=\"1\" class=\"dataframe\">\n",
              "  <thead>\n",
              "    <tr style=\"text-align: right;\">\n",
              "      <th></th>\n",
              "      <th>Month</th>\n",
              "      <th>DayofMonth</th>\n",
              "      <th>DayOfWeek</th>\n",
              "      <th>DepTime</th>\n",
              "      <th>UniqueCarrier</th>\n",
              "      <th>Origin</th>\n",
              "      <th>Dest</th>\n",
              "      <th>Distance</th>\n",
              "    </tr>\n",
              "  </thead>\n",
              "  <tbody>\n",
              "    <tr>\n",
              "      <th>0</th>\n",
              "      <td>c-7</td>\n",
              "      <td>c-25</td>\n",
              "      <td>c-3</td>\n",
              "      <td>615</td>\n",
              "      <td>YV</td>\n",
              "      <td>MRY</td>\n",
              "      <td>PHX</td>\n",
              "      <td>598</td>\n",
              "    </tr>\n",
              "    <tr>\n",
              "      <th>1</th>\n",
              "      <td>c-4</td>\n",
              "      <td>c-17</td>\n",
              "      <td>c-2</td>\n",
              "      <td>739</td>\n",
              "      <td>WN</td>\n",
              "      <td>LAS</td>\n",
              "      <td>HOU</td>\n",
              "      <td>1235</td>\n",
              "    </tr>\n",
              "    <tr>\n",
              "      <th>2</th>\n",
              "      <td>c-12</td>\n",
              "      <td>c-2</td>\n",
              "      <td>c-7</td>\n",
              "      <td>651</td>\n",
              "      <td>MQ</td>\n",
              "      <td>GSP</td>\n",
              "      <td>ORD</td>\n",
              "      <td>577</td>\n",
              "    </tr>\n",
              "    <tr>\n",
              "      <th>3</th>\n",
              "      <td>c-3</td>\n",
              "      <td>c-25</td>\n",
              "      <td>c-7</td>\n",
              "      <td>1614</td>\n",
              "      <td>WN</td>\n",
              "      <td>BWI</td>\n",
              "      <td>MHT</td>\n",
              "      <td>377</td>\n",
              "    </tr>\n",
              "    <tr>\n",
              "      <th>4</th>\n",
              "      <td>c-6</td>\n",
              "      <td>c-6</td>\n",
              "      <td>c-3</td>\n",
              "      <td>1505</td>\n",
              "      <td>UA</td>\n",
              "      <td>ORD</td>\n",
              "      <td>STL</td>\n",
              "      <td>258</td>\n",
              "    </tr>\n",
              "  </tbody>\n",
              "</table>\n",
              "</div>\n",
              "    <div class=\"colab-df-buttons\">\n",
              "\n",
              "  <div class=\"colab-df-container\">\n",
              "    <button class=\"colab-df-convert\" onclick=\"convertToInteractive('df-2a0c6eb7-ed74-4e62-b32f-6d7f580e01b1')\"\n",
              "            title=\"Convert this dataframe to an interactive table.\"\n",
              "            style=\"display:none;\">\n",
              "\n",
              "  <svg xmlns=\"http://www.w3.org/2000/svg\" height=\"24px\" viewBox=\"0 -960 960 960\">\n",
              "    <path d=\"M120-120v-720h720v720H120Zm60-500h600v-160H180v160Zm220 220h160v-160H400v160Zm0 220h160v-160H400v160ZM180-400h160v-160H180v160Zm440 0h160v-160H620v160ZM180-180h160v-160H180v160Zm440 0h160v-160H620v160Z\"/>\n",
              "  </svg>\n",
              "    </button>\n",
              "\n",
              "  <style>\n",
              "    .colab-df-container {\n",
              "      display:flex;\n",
              "      gap: 12px;\n",
              "    }\n",
              "\n",
              "    .colab-df-convert {\n",
              "      background-color: #E8F0FE;\n",
              "      border: none;\n",
              "      border-radius: 50%;\n",
              "      cursor: pointer;\n",
              "      display: none;\n",
              "      fill: #1967D2;\n",
              "      height: 32px;\n",
              "      padding: 0 0 0 0;\n",
              "      width: 32px;\n",
              "    }\n",
              "\n",
              "    .colab-df-convert:hover {\n",
              "      background-color: #E2EBFA;\n",
              "      box-shadow: 0px 1px 2px rgba(60, 64, 67, 0.3), 0px 1px 3px 1px rgba(60, 64, 67, 0.15);\n",
              "      fill: #174EA6;\n",
              "    }\n",
              "\n",
              "    .colab-df-buttons div {\n",
              "      margin-bottom: 4px;\n",
              "    }\n",
              "\n",
              "    [theme=dark] .colab-df-convert {\n",
              "      background-color: #3B4455;\n",
              "      fill: #D2E3FC;\n",
              "    }\n",
              "\n",
              "    [theme=dark] .colab-df-convert:hover {\n",
              "      background-color: #434B5C;\n",
              "      box-shadow: 0px 1px 3px 1px rgba(0, 0, 0, 0.15);\n",
              "      filter: drop-shadow(0px 1px 2px rgba(0, 0, 0, 0.3));\n",
              "      fill: #FFFFFF;\n",
              "    }\n",
              "  </style>\n",
              "\n",
              "    <script>\n",
              "      const buttonEl =\n",
              "        document.querySelector('#df-2a0c6eb7-ed74-4e62-b32f-6d7f580e01b1 button.colab-df-convert');\n",
              "      buttonEl.style.display =\n",
              "        google.colab.kernel.accessAllowed ? 'block' : 'none';\n",
              "\n",
              "      async function convertToInteractive(key) {\n",
              "        const element = document.querySelector('#df-2a0c6eb7-ed74-4e62-b32f-6d7f580e01b1');\n",
              "        const dataTable =\n",
              "          await google.colab.kernel.invokeFunction('convertToInteractive',\n",
              "                                                    [key], {});\n",
              "        if (!dataTable) return;\n",
              "\n",
              "        const docLinkHtml = 'Like what you see? Visit the ' +\n",
              "          '<a target=\"_blank\" href=https://colab.research.google.com/notebooks/data_table.ipynb>data table notebook</a>'\n",
              "          + ' to learn more about interactive tables.';\n",
              "        element.innerHTML = '';\n",
              "        dataTable['output_type'] = 'display_data';\n",
              "        await google.colab.output.renderOutput(dataTable, element);\n",
              "        const docLink = document.createElement('div');\n",
              "        docLink.innerHTML = docLinkHtml;\n",
              "        element.appendChild(docLink);\n",
              "      }\n",
              "    </script>\n",
              "  </div>\n",
              "\n",
              "\n",
              "<div id=\"df-af476d83-17b4-43bc-bf50-2f0d9076db39\">\n",
              "  <button class=\"colab-df-quickchart\" onclick=\"quickchart('df-af476d83-17b4-43bc-bf50-2f0d9076db39')\"\n",
              "            title=\"Suggest charts\"\n",
              "            style=\"display:none;\">\n",
              "\n",
              "<svg xmlns=\"http://www.w3.org/2000/svg\" height=\"24px\"viewBox=\"0 0 24 24\"\n",
              "     width=\"24px\">\n",
              "    <g>\n",
              "        <path d=\"M19 3H5c-1.1 0-2 .9-2 2v14c0 1.1.9 2 2 2h14c1.1 0 2-.9 2-2V5c0-1.1-.9-2-2-2zM9 17H7v-7h2v7zm4 0h-2V7h2v10zm4 0h-2v-4h2v4z\"/>\n",
              "    </g>\n",
              "</svg>\n",
              "  </button>\n",
              "\n",
              "<style>\n",
              "  .colab-df-quickchart {\n",
              "      --bg-color: #E8F0FE;\n",
              "      --fill-color: #1967D2;\n",
              "      --hover-bg-color: #E2EBFA;\n",
              "      --hover-fill-color: #174EA6;\n",
              "      --disabled-fill-color: #AAA;\n",
              "      --disabled-bg-color: #DDD;\n",
              "  }\n",
              "\n",
              "  [theme=dark] .colab-df-quickchart {\n",
              "      --bg-color: #3B4455;\n",
              "      --fill-color: #D2E3FC;\n",
              "      --hover-bg-color: #434B5C;\n",
              "      --hover-fill-color: #FFFFFF;\n",
              "      --disabled-bg-color: #3B4455;\n",
              "      --disabled-fill-color: #666;\n",
              "  }\n",
              "\n",
              "  .colab-df-quickchart {\n",
              "    background-color: var(--bg-color);\n",
              "    border: none;\n",
              "    border-radius: 50%;\n",
              "    cursor: pointer;\n",
              "    display: none;\n",
              "    fill: var(--fill-color);\n",
              "    height: 32px;\n",
              "    padding: 0;\n",
              "    width: 32px;\n",
              "  }\n",
              "\n",
              "  .colab-df-quickchart:hover {\n",
              "    background-color: var(--hover-bg-color);\n",
              "    box-shadow: 0 1px 2px rgba(60, 64, 67, 0.3), 0 1px 3px 1px rgba(60, 64, 67, 0.15);\n",
              "    fill: var(--button-hover-fill-color);\n",
              "  }\n",
              "\n",
              "  .colab-df-quickchart-complete:disabled,\n",
              "  .colab-df-quickchart-complete:disabled:hover {\n",
              "    background-color: var(--disabled-bg-color);\n",
              "    fill: var(--disabled-fill-color);\n",
              "    box-shadow: none;\n",
              "  }\n",
              "\n",
              "  .colab-df-spinner {\n",
              "    border: 2px solid var(--fill-color);\n",
              "    border-color: transparent;\n",
              "    border-bottom-color: var(--fill-color);\n",
              "    animation:\n",
              "      spin 1s steps(1) infinite;\n",
              "  }\n",
              "\n",
              "  @keyframes spin {\n",
              "    0% {\n",
              "      border-color: transparent;\n",
              "      border-bottom-color: var(--fill-color);\n",
              "      border-left-color: var(--fill-color);\n",
              "    }\n",
              "    20% {\n",
              "      border-color: transparent;\n",
              "      border-left-color: var(--fill-color);\n",
              "      border-top-color: var(--fill-color);\n",
              "    }\n",
              "    30% {\n",
              "      border-color: transparent;\n",
              "      border-left-color: var(--fill-color);\n",
              "      border-top-color: var(--fill-color);\n",
              "      border-right-color: var(--fill-color);\n",
              "    }\n",
              "    40% {\n",
              "      border-color: transparent;\n",
              "      border-right-color: var(--fill-color);\n",
              "      border-top-color: var(--fill-color);\n",
              "    }\n",
              "    60% {\n",
              "      border-color: transparent;\n",
              "      border-right-color: var(--fill-color);\n",
              "    }\n",
              "    80% {\n",
              "      border-color: transparent;\n",
              "      border-right-color: var(--fill-color);\n",
              "      border-bottom-color: var(--fill-color);\n",
              "    }\n",
              "    90% {\n",
              "      border-color: transparent;\n",
              "      border-bottom-color: var(--fill-color);\n",
              "    }\n",
              "  }\n",
              "</style>\n",
              "\n",
              "  <script>\n",
              "    async function quickchart(key) {\n",
              "      const quickchartButtonEl =\n",
              "        document.querySelector('#' + key + ' button');\n",
              "      quickchartButtonEl.disabled = true;  // To prevent multiple clicks.\n",
              "      quickchartButtonEl.classList.add('colab-df-spinner');\n",
              "      try {\n",
              "        const charts = await google.colab.kernel.invokeFunction(\n",
              "            'suggestCharts', [key], {});\n",
              "      } catch (error) {\n",
              "        console.error('Error during call to suggestCharts:', error);\n",
              "      }\n",
              "      quickchartButtonEl.classList.remove('colab-df-spinner');\n",
              "      quickchartButtonEl.classList.add('colab-df-quickchart-complete');\n",
              "    }\n",
              "    (() => {\n",
              "      let quickchartButtonEl =\n",
              "        document.querySelector('#df-af476d83-17b4-43bc-bf50-2f0d9076db39 button');\n",
              "      quickchartButtonEl.style.display =\n",
              "        google.colab.kernel.accessAllowed ? 'block' : 'none';\n",
              "    })();\n",
              "  </script>\n",
              "</div>\n",
              "\n",
              "    </div>\n",
              "  </div>\n"
            ],
            "application/vnd.google.colaboratory.intrinsic+json": {
              "type": "dataframe",
              "summary": "{\n  \"name\": \"# bisa coba lakukan data cleaning, seperti DepTime harusnya gada yang 25\",\n  \"rows\": 5,\n  \"fields\": [\n    {\n      \"column\": \"Month\",\n      \"properties\": {\n        \"dtype\": \"string\",\n        \"num_unique_values\": 5,\n        \"samples\": [\n          \"c-4\",\n          \"c-6\",\n          \"c-12\"\n        ],\n        \"semantic_type\": \"\",\n        \"description\": \"\"\n      }\n    },\n    {\n      \"column\": \"DayofMonth\",\n      \"properties\": {\n        \"dtype\": \"string\",\n        \"num_unique_values\": 4,\n        \"samples\": [\n          \"c-17\",\n          \"c-6\",\n          \"c-25\"\n        ],\n        \"semantic_type\": \"\",\n        \"description\": \"\"\n      }\n    },\n    {\n      \"column\": \"DayOfWeek\",\n      \"properties\": {\n        \"dtype\": \"string\",\n        \"num_unique_values\": 3,\n        \"samples\": [\n          \"c-3\",\n          \"c-2\",\n          \"c-7\"\n        ],\n        \"semantic_type\": \"\",\n        \"description\": \"\"\n      }\n    },\n    {\n      \"column\": \"DepTime\",\n      \"properties\": {\n        \"dtype\": \"number\",\n        \"std\": 491,\n        \"min\": 615,\n        \"max\": 1614,\n        \"num_unique_values\": 5,\n        \"samples\": [\n          739,\n          1505,\n          651\n        ],\n        \"semantic_type\": \"\",\n        \"description\": \"\"\n      }\n    },\n    {\n      \"column\": \"UniqueCarrier\",\n      \"properties\": {\n        \"dtype\": \"string\",\n        \"num_unique_values\": 4,\n        \"samples\": [\n          \"WN\",\n          \"UA\",\n          \"YV\"\n        ],\n        \"semantic_type\": \"\",\n        \"description\": \"\"\n      }\n    },\n    {\n      \"column\": \"Origin\",\n      \"properties\": {\n        \"dtype\": \"string\",\n        \"num_unique_values\": 5,\n        \"samples\": [\n          \"LAS\",\n          \"ORD\",\n          \"GSP\"\n        ],\n        \"semantic_type\": \"\",\n        \"description\": \"\"\n      }\n    },\n    {\n      \"column\": \"Dest\",\n      \"properties\": {\n        \"dtype\": \"string\",\n        \"num_unique_values\": 5,\n        \"samples\": [\n          \"HOU\",\n          \"STL\",\n          \"ORD\"\n        ],\n        \"semantic_type\": \"\",\n        \"description\": \"\"\n      }\n    },\n    {\n      \"column\": \"Distance\",\n      \"properties\": {\n        \"dtype\": \"number\",\n        \"std\": 377,\n        \"min\": 258,\n        \"max\": 1235,\n        \"num_unique_values\": 5,\n        \"samples\": [\n          1235,\n          258,\n          577\n        ],\n        \"semantic_type\": \"\",\n        \"description\": \"\"\n      }\n    }\n  ]\n}"
            }
          },
          "metadata": {},
          "execution_count": 10
        }
      ],
      "source": [
        "test_df.head()\n",
        "# bisa coba lakukan data cleaning, seperti DepTime harusnya gada yang 25"
      ]
    },
    {
      "cell_type": "markdown",
      "metadata": {
        "id": "9s64iEzf1tQf"
      },
      "source": [
        "# Feature Engineering"
      ]
    },
    {
      "cell_type": "code",
      "source": [
        "#Extract the labels\n",
        "train_y = train_df.pop('dep_delayed_15min')\n",
        "train_y = train_y.map({'N': 0, 'Y': 1})\n",
        "\n",
        "# Concatenate for preprocessing\n",
        "train_split = train_df.shape[0]\n",
        "full_df = pd.concat((train_df, test_df))\n",
        "\n",
        "# Hour and minute\n",
        "full_df['hour'] = full_df['DepTime'] // 100\n",
        "full_df.loc[full_df['hour'] == 24, 'hour'] = 0\n",
        "full_df.loc[full_df['hour'] == 25, 'hour'] = 1\n",
        "full_df['minute'] = full_df['DepTime'] % 100\n",
        "\n",
        "# Season\n",
        "full_df['summer'] = (full_df['Month'].isin(['c-6', 'c-7', 'c-8'])).astype(np.int32)\n",
        "full_df['autumn'] = (full_df['Month'].isin(['c-9', 'c-10', 'c-11'])).astype(np.int32)\n",
        "full_df['winter'] = (full_df['Month'].isin(['c-12', 'c-1', 'c-2'])).astype(np.int32)\n",
        "full_df['spring'] = (full_df['Month'].isin(['c-3', 'c-4', 'c-5'])).astype(np.int32)\n",
        "\n",
        "# Daytime\n",
        "full_df['daytime'] = pd.cut(full_df['hour'], bins=[0, 6, 12, 18, 23], include_lowest=True)\n",
        "\n",
        "# DepHour < 17\n",
        "full_df['DepHour<17'] = (full_df['hour'] < 17).astype(np.int32)"
      ],
      "metadata": {
        "id": "WDhNk0JsWjfE"
      },
      "execution_count": null,
      "outputs": []
    },
    {
      "cell_type": "code",
      "source": [
        "# String to numerical\n",
        "for col in ['Month', 'DayofMonth', 'DayOfWeek']:\n",
        "    full_df[col] = full_df[col].apply(lambda x: x.split('-')[1]).astype(np.int32) - 1\n",
        "\n",
        "# Label Encoding\n",
        "for col in ['Origin', 'Dest', 'UniqueCarrier', 'daytime']:\n",
        "    full_df[col] = pd.factorize(full_df[col])[0]\n",
        "\n",
        "# Categorical columns\n",
        "cat_cols = ['Month', 'DayofMonth', 'DayOfWeek', 'Origin', 'Dest', 'UniqueCarrier', 'hour', 'summer', 'autumn', 'winter', 'spring', 'daytime']\n",
        "\n",
        "for c in cat_cols:\n",
        "    full_df[c] = full_df[c].astype('category')\n",
        "\n",
        "# Split into train and test\n",
        "train_df, test_df = full_df.iloc[:train_split], full_df.iloc[train_split:]\n",
        "train_df.shape, train_y.shape, test_df.shape"
      ],
      "metadata": {
        "colab": {
          "base_uri": "https://localhost:8080/"
        },
        "id": "3uloU2gYW8HL",
        "outputId": "795883d2-6ae1-403d-adee-c5e820f460fd"
      },
      "execution_count": null,
      "outputs": [
        {
          "output_type": "execute_result",
          "data": {
            "text/plain": [
              "((100000, 16), (100000,), (100000, 16))"
            ]
          },
          "metadata": {},
          "execution_count": 12
        }
      ]
    },
    {
      "cell_type": "code",
      "source": [
        "train_df"
      ],
      "metadata": {
        "colab": {
          "base_uri": "https://localhost:8080/",
          "height": 443
        },
        "id": "Ks2fp4hjXBT2",
        "outputId": "8084d654-cdc8-4ea6-b28d-b112c6be4d7a"
      },
      "execution_count": null,
      "outputs": [
        {
          "output_type": "execute_result",
          "data": {
            "text/plain": [
              "      Month DayofMonth DayOfWeek  DepTime UniqueCarrier Origin Dest  Distance  \\\n",
              "0         7         20         6     1934             0      0    0       732   \n",
              "1         3         19         2     1548             1      1    1       834   \n",
              "2         8          1         4     1422             2      2    2       416   \n",
              "3        10         24         5     1015             3      3    3       872   \n",
              "4         9          6         5     1828             4      4    4       423   \n",
              "...     ...        ...       ...      ...           ...    ...  ...       ...   \n",
              "99995     4          3         2     1618             3     28  143       199   \n",
              "99996     0         17         2      804            11     60  163       884   \n",
              "99997     0         23         1     1901             5     66   12      1076   \n",
              "99998     3         26         3     1515            10     12  226       140   \n",
              "99999    10         16         3     1800             4     30   26       605   \n",
              "\n",
              "      hour  minute summer autumn winter spring daytime  DepHour<17  \n",
              "0       19      34      1      0      0      0       0           0  \n",
              "1       15      48      0      0      0      1       1           1  \n",
              "2       14      22      0      1      0      0       1           1  \n",
              "3       10      15      0      1      0      0       2           1  \n",
              "4       18      28      0      1      0      0       1           0  \n",
              "...    ...     ...    ...    ...    ...    ...     ...         ...  \n",
              "99995   16      18      0      0      0      1       1           1  \n",
              "99996    8       4      0      0      1      0       2           1  \n",
              "99997   19       1      0      0      1      0       0           0  \n",
              "99998   15      15      0      0      0      1       1           1  \n",
              "99999   18       0      0      1      0      0       1           0  \n",
              "\n",
              "[100000 rows x 16 columns]"
            ],
            "text/html": [
              "\n",
              "  <div id=\"df-a5de1fdd-0c06-412c-b2b2-a21308d98762\" class=\"colab-df-container\">\n",
              "    <div>\n",
              "<style scoped>\n",
              "    .dataframe tbody tr th:only-of-type {\n",
              "        vertical-align: middle;\n",
              "    }\n",
              "\n",
              "    .dataframe tbody tr th {\n",
              "        vertical-align: top;\n",
              "    }\n",
              "\n",
              "    .dataframe thead th {\n",
              "        text-align: right;\n",
              "    }\n",
              "</style>\n",
              "<table border=\"1\" class=\"dataframe\">\n",
              "  <thead>\n",
              "    <tr style=\"text-align: right;\">\n",
              "      <th></th>\n",
              "      <th>Month</th>\n",
              "      <th>DayofMonth</th>\n",
              "      <th>DayOfWeek</th>\n",
              "      <th>DepTime</th>\n",
              "      <th>UniqueCarrier</th>\n",
              "      <th>Origin</th>\n",
              "      <th>Dest</th>\n",
              "      <th>Distance</th>\n",
              "      <th>hour</th>\n",
              "      <th>minute</th>\n",
              "      <th>summer</th>\n",
              "      <th>autumn</th>\n",
              "      <th>winter</th>\n",
              "      <th>spring</th>\n",
              "      <th>daytime</th>\n",
              "      <th>DepHour&lt;17</th>\n",
              "    </tr>\n",
              "  </thead>\n",
              "  <tbody>\n",
              "    <tr>\n",
              "      <th>0</th>\n",
              "      <td>7</td>\n",
              "      <td>20</td>\n",
              "      <td>6</td>\n",
              "      <td>1934</td>\n",
              "      <td>0</td>\n",
              "      <td>0</td>\n",
              "      <td>0</td>\n",
              "      <td>732</td>\n",
              "      <td>19</td>\n",
              "      <td>34</td>\n",
              "      <td>1</td>\n",
              "      <td>0</td>\n",
              "      <td>0</td>\n",
              "      <td>0</td>\n",
              "      <td>0</td>\n",
              "      <td>0</td>\n",
              "    </tr>\n",
              "    <tr>\n",
              "      <th>1</th>\n",
              "      <td>3</td>\n",
              "      <td>19</td>\n",
              "      <td>2</td>\n",
              "      <td>1548</td>\n",
              "      <td>1</td>\n",
              "      <td>1</td>\n",
              "      <td>1</td>\n",
              "      <td>834</td>\n",
              "      <td>15</td>\n",
              "      <td>48</td>\n",
              "      <td>0</td>\n",
              "      <td>0</td>\n",
              "      <td>0</td>\n",
              "      <td>1</td>\n",
              "      <td>1</td>\n",
              "      <td>1</td>\n",
              "    </tr>\n",
              "    <tr>\n",
              "      <th>2</th>\n",
              "      <td>8</td>\n",
              "      <td>1</td>\n",
              "      <td>4</td>\n",
              "      <td>1422</td>\n",
              "      <td>2</td>\n",
              "      <td>2</td>\n",
              "      <td>2</td>\n",
              "      <td>416</td>\n",
              "      <td>14</td>\n",
              "      <td>22</td>\n",
              "      <td>0</td>\n",
              "      <td>1</td>\n",
              "      <td>0</td>\n",
              "      <td>0</td>\n",
              "      <td>1</td>\n",
              "      <td>1</td>\n",
              "    </tr>\n",
              "    <tr>\n",
              "      <th>3</th>\n",
              "      <td>10</td>\n",
              "      <td>24</td>\n",
              "      <td>5</td>\n",
              "      <td>1015</td>\n",
              "      <td>3</td>\n",
              "      <td>3</td>\n",
              "      <td>3</td>\n",
              "      <td>872</td>\n",
              "      <td>10</td>\n",
              "      <td>15</td>\n",
              "      <td>0</td>\n",
              "      <td>1</td>\n",
              "      <td>0</td>\n",
              "      <td>0</td>\n",
              "      <td>2</td>\n",
              "      <td>1</td>\n",
              "    </tr>\n",
              "    <tr>\n",
              "      <th>4</th>\n",
              "      <td>9</td>\n",
              "      <td>6</td>\n",
              "      <td>5</td>\n",
              "      <td>1828</td>\n",
              "      <td>4</td>\n",
              "      <td>4</td>\n",
              "      <td>4</td>\n",
              "      <td>423</td>\n",
              "      <td>18</td>\n",
              "      <td>28</td>\n",
              "      <td>0</td>\n",
              "      <td>1</td>\n",
              "      <td>0</td>\n",
              "      <td>0</td>\n",
              "      <td>1</td>\n",
              "      <td>0</td>\n",
              "    </tr>\n",
              "    <tr>\n",
              "      <th>...</th>\n",
              "      <td>...</td>\n",
              "      <td>...</td>\n",
              "      <td>...</td>\n",
              "      <td>...</td>\n",
              "      <td>...</td>\n",
              "      <td>...</td>\n",
              "      <td>...</td>\n",
              "      <td>...</td>\n",
              "      <td>...</td>\n",
              "      <td>...</td>\n",
              "      <td>...</td>\n",
              "      <td>...</td>\n",
              "      <td>...</td>\n",
              "      <td>...</td>\n",
              "      <td>...</td>\n",
              "      <td>...</td>\n",
              "    </tr>\n",
              "    <tr>\n",
              "      <th>99995</th>\n",
              "      <td>4</td>\n",
              "      <td>3</td>\n",
              "      <td>2</td>\n",
              "      <td>1618</td>\n",
              "      <td>3</td>\n",
              "      <td>28</td>\n",
              "      <td>143</td>\n",
              "      <td>199</td>\n",
              "      <td>16</td>\n",
              "      <td>18</td>\n",
              "      <td>0</td>\n",
              "      <td>0</td>\n",
              "      <td>0</td>\n",
              "      <td>1</td>\n",
              "      <td>1</td>\n",
              "      <td>1</td>\n",
              "    </tr>\n",
              "    <tr>\n",
              "      <th>99996</th>\n",
              "      <td>0</td>\n",
              "      <td>17</td>\n",
              "      <td>2</td>\n",
              "      <td>804</td>\n",
              "      <td>11</td>\n",
              "      <td>60</td>\n",
              "      <td>163</td>\n",
              "      <td>884</td>\n",
              "      <td>8</td>\n",
              "      <td>4</td>\n",
              "      <td>0</td>\n",
              "      <td>0</td>\n",
              "      <td>1</td>\n",
              "      <td>0</td>\n",
              "      <td>2</td>\n",
              "      <td>1</td>\n",
              "    </tr>\n",
              "    <tr>\n",
              "      <th>99997</th>\n",
              "      <td>0</td>\n",
              "      <td>23</td>\n",
              "      <td>1</td>\n",
              "      <td>1901</td>\n",
              "      <td>5</td>\n",
              "      <td>66</td>\n",
              "      <td>12</td>\n",
              "      <td>1076</td>\n",
              "      <td>19</td>\n",
              "      <td>1</td>\n",
              "      <td>0</td>\n",
              "      <td>0</td>\n",
              "      <td>1</td>\n",
              "      <td>0</td>\n",
              "      <td>0</td>\n",
              "      <td>0</td>\n",
              "    </tr>\n",
              "    <tr>\n",
              "      <th>99998</th>\n",
              "      <td>3</td>\n",
              "      <td>26</td>\n",
              "      <td>3</td>\n",
              "      <td>1515</td>\n",
              "      <td>10</td>\n",
              "      <td>12</td>\n",
              "      <td>226</td>\n",
              "      <td>140</td>\n",
              "      <td>15</td>\n",
              "      <td>15</td>\n",
              "      <td>0</td>\n",
              "      <td>0</td>\n",
              "      <td>0</td>\n",
              "      <td>1</td>\n",
              "      <td>1</td>\n",
              "      <td>1</td>\n",
              "    </tr>\n",
              "    <tr>\n",
              "      <th>99999</th>\n",
              "      <td>10</td>\n",
              "      <td>16</td>\n",
              "      <td>3</td>\n",
              "      <td>1800</td>\n",
              "      <td>4</td>\n",
              "      <td>30</td>\n",
              "      <td>26</td>\n",
              "      <td>605</td>\n",
              "      <td>18</td>\n",
              "      <td>0</td>\n",
              "      <td>0</td>\n",
              "      <td>1</td>\n",
              "      <td>0</td>\n",
              "      <td>0</td>\n",
              "      <td>1</td>\n",
              "      <td>0</td>\n",
              "    </tr>\n",
              "  </tbody>\n",
              "</table>\n",
              "<p>100000 rows × 16 columns</p>\n",
              "</div>\n",
              "    <div class=\"colab-df-buttons\">\n",
              "\n",
              "  <div class=\"colab-df-container\">\n",
              "    <button class=\"colab-df-convert\" onclick=\"convertToInteractive('df-a5de1fdd-0c06-412c-b2b2-a21308d98762')\"\n",
              "            title=\"Convert this dataframe to an interactive table.\"\n",
              "            style=\"display:none;\">\n",
              "\n",
              "  <svg xmlns=\"http://www.w3.org/2000/svg\" height=\"24px\" viewBox=\"0 -960 960 960\">\n",
              "    <path d=\"M120-120v-720h720v720H120Zm60-500h600v-160H180v160Zm220 220h160v-160H400v160Zm0 220h160v-160H400v160ZM180-400h160v-160H180v160Zm440 0h160v-160H620v160ZM180-180h160v-160H180v160Zm440 0h160v-160H620v160Z\"/>\n",
              "  </svg>\n",
              "    </button>\n",
              "\n",
              "  <style>\n",
              "    .colab-df-container {\n",
              "      display:flex;\n",
              "      gap: 12px;\n",
              "    }\n",
              "\n",
              "    .colab-df-convert {\n",
              "      background-color: #E8F0FE;\n",
              "      border: none;\n",
              "      border-radius: 50%;\n",
              "      cursor: pointer;\n",
              "      display: none;\n",
              "      fill: #1967D2;\n",
              "      height: 32px;\n",
              "      padding: 0 0 0 0;\n",
              "      width: 32px;\n",
              "    }\n",
              "\n",
              "    .colab-df-convert:hover {\n",
              "      background-color: #E2EBFA;\n",
              "      box-shadow: 0px 1px 2px rgba(60, 64, 67, 0.3), 0px 1px 3px 1px rgba(60, 64, 67, 0.15);\n",
              "      fill: #174EA6;\n",
              "    }\n",
              "\n",
              "    .colab-df-buttons div {\n",
              "      margin-bottom: 4px;\n",
              "    }\n",
              "\n",
              "    [theme=dark] .colab-df-convert {\n",
              "      background-color: #3B4455;\n",
              "      fill: #D2E3FC;\n",
              "    }\n",
              "\n",
              "    [theme=dark] .colab-df-convert:hover {\n",
              "      background-color: #434B5C;\n",
              "      box-shadow: 0px 1px 3px 1px rgba(0, 0, 0, 0.15);\n",
              "      filter: drop-shadow(0px 1px 2px rgba(0, 0, 0, 0.3));\n",
              "      fill: #FFFFFF;\n",
              "    }\n",
              "  </style>\n",
              "\n",
              "    <script>\n",
              "      const buttonEl =\n",
              "        document.querySelector('#df-a5de1fdd-0c06-412c-b2b2-a21308d98762 button.colab-df-convert');\n",
              "      buttonEl.style.display =\n",
              "        google.colab.kernel.accessAllowed ? 'block' : 'none';\n",
              "\n",
              "      async function convertToInteractive(key) {\n",
              "        const element = document.querySelector('#df-a5de1fdd-0c06-412c-b2b2-a21308d98762');\n",
              "        const dataTable =\n",
              "          await google.colab.kernel.invokeFunction('convertToInteractive',\n",
              "                                                    [key], {});\n",
              "        if (!dataTable) return;\n",
              "\n",
              "        const docLinkHtml = 'Like what you see? Visit the ' +\n",
              "          '<a target=\"_blank\" href=https://colab.research.google.com/notebooks/data_table.ipynb>data table notebook</a>'\n",
              "          + ' to learn more about interactive tables.';\n",
              "        element.innerHTML = '';\n",
              "        dataTable['output_type'] = 'display_data';\n",
              "        await google.colab.output.renderOutput(dataTable, element);\n",
              "        const docLink = document.createElement('div');\n",
              "        docLink.innerHTML = docLinkHtml;\n",
              "        element.appendChild(docLink);\n",
              "      }\n",
              "    </script>\n",
              "  </div>\n",
              "\n",
              "\n",
              "<div id=\"df-34250782-3cf4-441c-a1a1-618579ecee4f\">\n",
              "  <button class=\"colab-df-quickchart\" onclick=\"quickchart('df-34250782-3cf4-441c-a1a1-618579ecee4f')\"\n",
              "            title=\"Suggest charts\"\n",
              "            style=\"display:none;\">\n",
              "\n",
              "<svg xmlns=\"http://www.w3.org/2000/svg\" height=\"24px\"viewBox=\"0 0 24 24\"\n",
              "     width=\"24px\">\n",
              "    <g>\n",
              "        <path d=\"M19 3H5c-1.1 0-2 .9-2 2v14c0 1.1.9 2 2 2h14c1.1 0 2-.9 2-2V5c0-1.1-.9-2-2-2zM9 17H7v-7h2v7zm4 0h-2V7h2v10zm4 0h-2v-4h2v4z\"/>\n",
              "    </g>\n",
              "</svg>\n",
              "  </button>\n",
              "\n",
              "<style>\n",
              "  .colab-df-quickchart {\n",
              "      --bg-color: #E8F0FE;\n",
              "      --fill-color: #1967D2;\n",
              "      --hover-bg-color: #E2EBFA;\n",
              "      --hover-fill-color: #174EA6;\n",
              "      --disabled-fill-color: #AAA;\n",
              "      --disabled-bg-color: #DDD;\n",
              "  }\n",
              "\n",
              "  [theme=dark] .colab-df-quickchart {\n",
              "      --bg-color: #3B4455;\n",
              "      --fill-color: #D2E3FC;\n",
              "      --hover-bg-color: #434B5C;\n",
              "      --hover-fill-color: #FFFFFF;\n",
              "      --disabled-bg-color: #3B4455;\n",
              "      --disabled-fill-color: #666;\n",
              "  }\n",
              "\n",
              "  .colab-df-quickchart {\n",
              "    background-color: var(--bg-color);\n",
              "    border: none;\n",
              "    border-radius: 50%;\n",
              "    cursor: pointer;\n",
              "    display: none;\n",
              "    fill: var(--fill-color);\n",
              "    height: 32px;\n",
              "    padding: 0;\n",
              "    width: 32px;\n",
              "  }\n",
              "\n",
              "  .colab-df-quickchart:hover {\n",
              "    background-color: var(--hover-bg-color);\n",
              "    box-shadow: 0 1px 2px rgba(60, 64, 67, 0.3), 0 1px 3px 1px rgba(60, 64, 67, 0.15);\n",
              "    fill: var(--button-hover-fill-color);\n",
              "  }\n",
              "\n",
              "  .colab-df-quickchart-complete:disabled,\n",
              "  .colab-df-quickchart-complete:disabled:hover {\n",
              "    background-color: var(--disabled-bg-color);\n",
              "    fill: var(--disabled-fill-color);\n",
              "    box-shadow: none;\n",
              "  }\n",
              "\n",
              "  .colab-df-spinner {\n",
              "    border: 2px solid var(--fill-color);\n",
              "    border-color: transparent;\n",
              "    border-bottom-color: var(--fill-color);\n",
              "    animation:\n",
              "      spin 1s steps(1) infinite;\n",
              "  }\n",
              "\n",
              "  @keyframes spin {\n",
              "    0% {\n",
              "      border-color: transparent;\n",
              "      border-bottom-color: var(--fill-color);\n",
              "      border-left-color: var(--fill-color);\n",
              "    }\n",
              "    20% {\n",
              "      border-color: transparent;\n",
              "      border-left-color: var(--fill-color);\n",
              "      border-top-color: var(--fill-color);\n",
              "    }\n",
              "    30% {\n",
              "      border-color: transparent;\n",
              "      border-left-color: var(--fill-color);\n",
              "      border-top-color: var(--fill-color);\n",
              "      border-right-color: var(--fill-color);\n",
              "    }\n",
              "    40% {\n",
              "      border-color: transparent;\n",
              "      border-right-color: var(--fill-color);\n",
              "      border-top-color: var(--fill-color);\n",
              "    }\n",
              "    60% {\n",
              "      border-color: transparent;\n",
              "      border-right-color: var(--fill-color);\n",
              "    }\n",
              "    80% {\n",
              "      border-color: transparent;\n",
              "      border-right-color: var(--fill-color);\n",
              "      border-bottom-color: var(--fill-color);\n",
              "    }\n",
              "    90% {\n",
              "      border-color: transparent;\n",
              "      border-bottom-color: var(--fill-color);\n",
              "    }\n",
              "  }\n",
              "</style>\n",
              "\n",
              "  <script>\n",
              "    async function quickchart(key) {\n",
              "      const quickchartButtonEl =\n",
              "        document.querySelector('#' + key + ' button');\n",
              "      quickchartButtonEl.disabled = true;  // To prevent multiple clicks.\n",
              "      quickchartButtonEl.classList.add('colab-df-spinner');\n",
              "      try {\n",
              "        const charts = await google.colab.kernel.invokeFunction(\n",
              "            'suggestCharts', [key], {});\n",
              "      } catch (error) {\n",
              "        console.error('Error during call to suggestCharts:', error);\n",
              "      }\n",
              "      quickchartButtonEl.classList.remove('colab-df-spinner');\n",
              "      quickchartButtonEl.classList.add('colab-df-quickchart-complete');\n",
              "    }\n",
              "    (() => {\n",
              "      let quickchartButtonEl =\n",
              "        document.querySelector('#df-34250782-3cf4-441c-a1a1-618579ecee4f button');\n",
              "      quickchartButtonEl.style.display =\n",
              "        google.colab.kernel.accessAllowed ? 'block' : 'none';\n",
              "    })();\n",
              "  </script>\n",
              "</div>\n",
              "\n",
              "  <div id=\"id_f30b172b-9ab6-4461-a5b5-44e352d5c2e5\">\n",
              "    <style>\n",
              "      .colab-df-generate {\n",
              "        background-color: #E8F0FE;\n",
              "        border: none;\n",
              "        border-radius: 50%;\n",
              "        cursor: pointer;\n",
              "        display: none;\n",
              "        fill: #1967D2;\n",
              "        height: 32px;\n",
              "        padding: 0 0 0 0;\n",
              "        width: 32px;\n",
              "      }\n",
              "\n",
              "      .colab-df-generate:hover {\n",
              "        background-color: #E2EBFA;\n",
              "        box-shadow: 0px 1px 2px rgba(60, 64, 67, 0.3), 0px 1px 3px 1px rgba(60, 64, 67, 0.15);\n",
              "        fill: #174EA6;\n",
              "      }\n",
              "\n",
              "      [theme=dark] .colab-df-generate {\n",
              "        background-color: #3B4455;\n",
              "        fill: #D2E3FC;\n",
              "      }\n",
              "\n",
              "      [theme=dark] .colab-df-generate:hover {\n",
              "        background-color: #434B5C;\n",
              "        box-shadow: 0px 1px 3px 1px rgba(0, 0, 0, 0.15);\n",
              "        filter: drop-shadow(0px 1px 2px rgba(0, 0, 0, 0.3));\n",
              "        fill: #FFFFFF;\n",
              "      }\n",
              "    </style>\n",
              "    <button class=\"colab-df-generate\" onclick=\"generateWithVariable('train_df')\"\n",
              "            title=\"Generate code using this dataframe.\"\n",
              "            style=\"display:none;\">\n",
              "\n",
              "  <svg xmlns=\"http://www.w3.org/2000/svg\" height=\"24px\"viewBox=\"0 0 24 24\"\n",
              "       width=\"24px\">\n",
              "    <path d=\"M7,19H8.4L18.45,9,17,7.55,7,17.6ZM5,21V16.75L18.45,3.32a2,2,0,0,1,2.83,0l1.4,1.43a1.91,1.91,0,0,1,.58,1.4,1.91,1.91,0,0,1-.58,1.4L9.25,21ZM18.45,9,17,7.55Zm-12,3A5.31,5.31,0,0,0,4.9,8.1,5.31,5.31,0,0,0,1,6.5,5.31,5.31,0,0,0,4.9,4.9,5.31,5.31,0,0,0,6.5,1,5.31,5.31,0,0,0,8.1,4.9,5.31,5.31,0,0,0,12,6.5,5.46,5.46,0,0,0,6.5,12Z\"/>\n",
              "  </svg>\n",
              "    </button>\n",
              "    <script>\n",
              "      (() => {\n",
              "      const buttonEl =\n",
              "        document.querySelector('#id_f30b172b-9ab6-4461-a5b5-44e352d5c2e5 button.colab-df-generate');\n",
              "      buttonEl.style.display =\n",
              "        google.colab.kernel.accessAllowed ? 'block' : 'none';\n",
              "\n",
              "      buttonEl.onclick = () => {\n",
              "        google.colab.notebook.generateWithVariable('train_df');\n",
              "      }\n",
              "      })();\n",
              "    </script>\n",
              "  </div>\n",
              "\n",
              "    </div>\n",
              "  </div>\n"
            ],
            "application/vnd.google.colaboratory.intrinsic+json": {
              "type": "dataframe",
              "variable_name": "train_df",
              "summary": "{\n  \"name\": \"train_df\",\n  \"rows\": 100000,\n  \"fields\": [\n    {\n      \"column\": \"Month\",\n      \"properties\": {\n        \"dtype\": \"category\",\n        \"num_unique_values\": 12,\n        \"samples\": [\n          11,\n          2,\n          7\n        ],\n        \"semantic_type\": \"\",\n        \"description\": \"\"\n      }\n    },\n    {\n      \"column\": \"DayofMonth\",\n      \"properties\": {\n        \"dtype\": \"category\",\n        \"num_unique_values\": 31,\n        \"samples\": [\n          11,\n          21,\n          23\n        ],\n        \"semantic_type\": \"\",\n        \"description\": \"\"\n      }\n    },\n    {\n      \"column\": \"DayOfWeek\",\n      \"properties\": {\n        \"dtype\": \"category\",\n        \"num_unique_values\": 7,\n        \"samples\": [\n          6,\n          2,\n          1\n        ],\n        \"semantic_type\": \"\",\n        \"description\": \"\"\n      }\n    },\n    {\n      \"column\": \"DepTime\",\n      \"properties\": {\n        \"dtype\": \"number\",\n        \"std\": 476,\n        \"min\": 1,\n        \"max\": 2534,\n        \"num_unique_values\": 1300,\n        \"samples\": [\n          1550,\n          839,\n          1149\n        ],\n        \"semantic_type\": \"\",\n        \"description\": \"\"\n      }\n    },\n    {\n      \"column\": \"UniqueCarrier\",\n      \"properties\": {\n        \"dtype\": \"category\",\n        \"num_unique_values\": 22,\n        \"samples\": [\n          0,\n          13,\n          8\n        ],\n        \"semantic_type\": \"\",\n        \"description\": \"\"\n      }\n    },\n    {\n      \"column\": \"Origin\",\n      \"properties\": {\n        \"dtype\": \"category\",\n        \"num_unique_values\": 289,\n        \"samples\": [\n          45,\n          157,\n          274\n        ],\n        \"semantic_type\": \"\",\n        \"description\": \"\"\n      }\n    },\n    {\n      \"column\": \"Dest\",\n      \"properties\": {\n        \"dtype\": \"category\",\n        \"num_unique_values\": 289,\n        \"samples\": [\n          45,\n          157,\n          274\n        ],\n        \"semantic_type\": \"\",\n        \"description\": \"\"\n      }\n    },\n    {\n      \"column\": \"Distance\",\n      \"properties\": {\n        \"dtype\": \"number\",\n        \"std\": 574,\n        \"min\": 30,\n        \"max\": 4962,\n        \"num_unique_values\": 1310,\n        \"samples\": [\n          1142,\n          663,\n          2116\n        ],\n        \"semantic_type\": \"\",\n        \"description\": \"\"\n      }\n    },\n    {\n      \"column\": \"hour\",\n      \"properties\": {\n        \"dtype\": \"category\",\n        \"num_unique_values\": 24,\n        \"samples\": [\n          17,\n          8,\n          19\n        ],\n        \"semantic_type\": \"\",\n        \"description\": \"\"\n      }\n    },\n    {\n      \"column\": \"minute\",\n      \"properties\": {\n        \"dtype\": \"number\",\n        \"std\": 17,\n        \"min\": 0,\n        \"max\": 59,\n        \"num_unique_values\": 60,\n        \"samples\": [\n          34,\n          18,\n          12\n        ],\n        \"semantic_type\": \"\",\n        \"description\": \"\"\n      }\n    },\n    {\n      \"column\": \"summer\",\n      \"properties\": {\n        \"dtype\": \"category\",\n        \"num_unique_values\": 2,\n        \"samples\": [\n          0,\n          1\n        ],\n        \"semantic_type\": \"\",\n        \"description\": \"\"\n      }\n    },\n    {\n      \"column\": \"autumn\",\n      \"properties\": {\n        \"dtype\": \"category\",\n        \"num_unique_values\": 2,\n        \"samples\": [\n          1,\n          0\n        ],\n        \"semantic_type\": \"\",\n        \"description\": \"\"\n      }\n    },\n    {\n      \"column\": \"winter\",\n      \"properties\": {\n        \"dtype\": \"category\",\n        \"num_unique_values\": 2,\n        \"samples\": [\n          1,\n          0\n        ],\n        \"semantic_type\": \"\",\n        \"description\": \"\"\n      }\n    },\n    {\n      \"column\": \"spring\",\n      \"properties\": {\n        \"dtype\": \"category\",\n        \"num_unique_values\": 2,\n        \"samples\": [\n          1,\n          0\n        ],\n        \"semantic_type\": \"\",\n        \"description\": \"\"\n      }\n    },\n    {\n      \"column\": \"daytime\",\n      \"properties\": {\n        \"dtype\": \"category\",\n        \"num_unique_values\": 4,\n        \"samples\": [\n          1,\n          3\n        ],\n        \"semantic_type\": \"\",\n        \"description\": \"\"\n      }\n    },\n    {\n      \"column\": \"DepHour<17\",\n      \"properties\": {\n        \"dtype\": \"int32\",\n        \"num_unique_values\": 2,\n        \"samples\": [\n          1,\n          0\n        ],\n        \"semantic_type\": \"\",\n        \"description\": \"\"\n      }\n    }\n  ]\n}"
            }
          },
          "metadata": {},
          "execution_count": 13
        }
      ]
    },
    {
      "cell_type": "code",
      "source": [
        "categ_feat_idx = np.where((train_df.dtypes=='object') | (train_df.dtypes=='category') )[0]\n",
        "categ_feat_idx"
      ],
      "metadata": {
        "colab": {
          "base_uri": "https://localhost:8080/"
        },
        "id": "Y1iU-yhzXvdb",
        "outputId": "9dd342ec-fbeb-4d36-f1c6-a7e13e6ecc1e"
      },
      "execution_count": null,
      "outputs": [
        {
          "output_type": "execute_result",
          "data": {
            "text/plain": [
              "array([ 0,  1,  2,  4,  5,  6,  8, 10, 11, 12, 13, 14])"
            ]
          },
          "metadata": {},
          "execution_count": 14
        }
      ]
    },
    {
      "cell_type": "code",
      "execution_count": null,
      "metadata": {
        "id": "x0pjOwE-4M-H",
        "colab": {
          "base_uri": "https://localhost:8080/",
          "height": 226
        },
        "outputId": "782b0bac-5dab-4d7a-ed78-47888f82cc6d"
      },
      "outputs": [
        {
          "output_type": "execute_result",
          "data": {
            "text/plain": [
              "  Month DayofMonth DayOfWeek  DepTime UniqueCarrier Origin Dest  Distance  \\\n",
              "0     7         20         6     1934             0      0    0       732   \n",
              "1     3         19         2     1548             1      1    1       834   \n",
              "2     8          1         4     1422             2      2    2       416   \n",
              "3    10         24         5     1015             3      3    3       872   \n",
              "4     9          6         5     1828             4      4    4       423   \n",
              "\n",
              "  hour  minute summer autumn winter spring daytime  DepHour<17  \n",
              "0   19      34      1      0      0      0       0           0  \n",
              "1   15      48      0      0      0      1       1           1  \n",
              "2   14      22      0      1      0      0       1           1  \n",
              "3   10      15      0      1      0      0       2           1  \n",
              "4   18      28      0      1      0      0       1           0  "
            ],
            "text/html": [
              "\n",
              "  <div id=\"df-6126eacb-ea51-4504-b50c-ed2612349407\" class=\"colab-df-container\">\n",
              "    <div>\n",
              "<style scoped>\n",
              "    .dataframe tbody tr th:only-of-type {\n",
              "        vertical-align: middle;\n",
              "    }\n",
              "\n",
              "    .dataframe tbody tr th {\n",
              "        vertical-align: top;\n",
              "    }\n",
              "\n",
              "    .dataframe thead th {\n",
              "        text-align: right;\n",
              "    }\n",
              "</style>\n",
              "<table border=\"1\" class=\"dataframe\">\n",
              "  <thead>\n",
              "    <tr style=\"text-align: right;\">\n",
              "      <th></th>\n",
              "      <th>Month</th>\n",
              "      <th>DayofMonth</th>\n",
              "      <th>DayOfWeek</th>\n",
              "      <th>DepTime</th>\n",
              "      <th>UniqueCarrier</th>\n",
              "      <th>Origin</th>\n",
              "      <th>Dest</th>\n",
              "      <th>Distance</th>\n",
              "      <th>hour</th>\n",
              "      <th>minute</th>\n",
              "      <th>summer</th>\n",
              "      <th>autumn</th>\n",
              "      <th>winter</th>\n",
              "      <th>spring</th>\n",
              "      <th>daytime</th>\n",
              "      <th>DepHour&lt;17</th>\n",
              "    </tr>\n",
              "  </thead>\n",
              "  <tbody>\n",
              "    <tr>\n",
              "      <th>0</th>\n",
              "      <td>7</td>\n",
              "      <td>20</td>\n",
              "      <td>6</td>\n",
              "      <td>1934</td>\n",
              "      <td>0</td>\n",
              "      <td>0</td>\n",
              "      <td>0</td>\n",
              "      <td>732</td>\n",
              "      <td>19</td>\n",
              "      <td>34</td>\n",
              "      <td>1</td>\n",
              "      <td>0</td>\n",
              "      <td>0</td>\n",
              "      <td>0</td>\n",
              "      <td>0</td>\n",
              "      <td>0</td>\n",
              "    </tr>\n",
              "    <tr>\n",
              "      <th>1</th>\n",
              "      <td>3</td>\n",
              "      <td>19</td>\n",
              "      <td>2</td>\n",
              "      <td>1548</td>\n",
              "      <td>1</td>\n",
              "      <td>1</td>\n",
              "      <td>1</td>\n",
              "      <td>834</td>\n",
              "      <td>15</td>\n",
              "      <td>48</td>\n",
              "      <td>0</td>\n",
              "      <td>0</td>\n",
              "      <td>0</td>\n",
              "      <td>1</td>\n",
              "      <td>1</td>\n",
              "      <td>1</td>\n",
              "    </tr>\n",
              "    <tr>\n",
              "      <th>2</th>\n",
              "      <td>8</td>\n",
              "      <td>1</td>\n",
              "      <td>4</td>\n",
              "      <td>1422</td>\n",
              "      <td>2</td>\n",
              "      <td>2</td>\n",
              "      <td>2</td>\n",
              "      <td>416</td>\n",
              "      <td>14</td>\n",
              "      <td>22</td>\n",
              "      <td>0</td>\n",
              "      <td>1</td>\n",
              "      <td>0</td>\n",
              "      <td>0</td>\n",
              "      <td>1</td>\n",
              "      <td>1</td>\n",
              "    </tr>\n",
              "    <tr>\n",
              "      <th>3</th>\n",
              "      <td>10</td>\n",
              "      <td>24</td>\n",
              "      <td>5</td>\n",
              "      <td>1015</td>\n",
              "      <td>3</td>\n",
              "      <td>3</td>\n",
              "      <td>3</td>\n",
              "      <td>872</td>\n",
              "      <td>10</td>\n",
              "      <td>15</td>\n",
              "      <td>0</td>\n",
              "      <td>1</td>\n",
              "      <td>0</td>\n",
              "      <td>0</td>\n",
              "      <td>2</td>\n",
              "      <td>1</td>\n",
              "    </tr>\n",
              "    <tr>\n",
              "      <th>4</th>\n",
              "      <td>9</td>\n",
              "      <td>6</td>\n",
              "      <td>5</td>\n",
              "      <td>1828</td>\n",
              "      <td>4</td>\n",
              "      <td>4</td>\n",
              "      <td>4</td>\n",
              "      <td>423</td>\n",
              "      <td>18</td>\n",
              "      <td>28</td>\n",
              "      <td>0</td>\n",
              "      <td>1</td>\n",
              "      <td>0</td>\n",
              "      <td>0</td>\n",
              "      <td>1</td>\n",
              "      <td>0</td>\n",
              "    </tr>\n",
              "  </tbody>\n",
              "</table>\n",
              "</div>\n",
              "    <div class=\"colab-df-buttons\">\n",
              "\n",
              "  <div class=\"colab-df-container\">\n",
              "    <button class=\"colab-df-convert\" onclick=\"convertToInteractive('df-6126eacb-ea51-4504-b50c-ed2612349407')\"\n",
              "            title=\"Convert this dataframe to an interactive table.\"\n",
              "            style=\"display:none;\">\n",
              "\n",
              "  <svg xmlns=\"http://www.w3.org/2000/svg\" height=\"24px\" viewBox=\"0 -960 960 960\">\n",
              "    <path d=\"M120-120v-720h720v720H120Zm60-500h600v-160H180v160Zm220 220h160v-160H400v160Zm0 220h160v-160H400v160ZM180-400h160v-160H180v160Zm440 0h160v-160H620v160ZM180-180h160v-160H180v160Zm440 0h160v-160H620v160Z\"/>\n",
              "  </svg>\n",
              "    </button>\n",
              "\n",
              "  <style>\n",
              "    .colab-df-container {\n",
              "      display:flex;\n",
              "      gap: 12px;\n",
              "    }\n",
              "\n",
              "    .colab-df-convert {\n",
              "      background-color: #E8F0FE;\n",
              "      border: none;\n",
              "      border-radius: 50%;\n",
              "      cursor: pointer;\n",
              "      display: none;\n",
              "      fill: #1967D2;\n",
              "      height: 32px;\n",
              "      padding: 0 0 0 0;\n",
              "      width: 32px;\n",
              "    }\n",
              "\n",
              "    .colab-df-convert:hover {\n",
              "      background-color: #E2EBFA;\n",
              "      box-shadow: 0px 1px 2px rgba(60, 64, 67, 0.3), 0px 1px 3px 1px rgba(60, 64, 67, 0.15);\n",
              "      fill: #174EA6;\n",
              "    }\n",
              "\n",
              "    .colab-df-buttons div {\n",
              "      margin-bottom: 4px;\n",
              "    }\n",
              "\n",
              "    [theme=dark] .colab-df-convert {\n",
              "      background-color: #3B4455;\n",
              "      fill: #D2E3FC;\n",
              "    }\n",
              "\n",
              "    [theme=dark] .colab-df-convert:hover {\n",
              "      background-color: #434B5C;\n",
              "      box-shadow: 0px 1px 3px 1px rgba(0, 0, 0, 0.15);\n",
              "      filter: drop-shadow(0px 1px 2px rgba(0, 0, 0, 0.3));\n",
              "      fill: #FFFFFF;\n",
              "    }\n",
              "  </style>\n",
              "\n",
              "    <script>\n",
              "      const buttonEl =\n",
              "        document.querySelector('#df-6126eacb-ea51-4504-b50c-ed2612349407 button.colab-df-convert');\n",
              "      buttonEl.style.display =\n",
              "        google.colab.kernel.accessAllowed ? 'block' : 'none';\n",
              "\n",
              "      async function convertToInteractive(key) {\n",
              "        const element = document.querySelector('#df-6126eacb-ea51-4504-b50c-ed2612349407');\n",
              "        const dataTable =\n",
              "          await google.colab.kernel.invokeFunction('convertToInteractive',\n",
              "                                                    [key], {});\n",
              "        if (!dataTable) return;\n",
              "\n",
              "        const docLinkHtml = 'Like what you see? Visit the ' +\n",
              "          '<a target=\"_blank\" href=https://colab.research.google.com/notebooks/data_table.ipynb>data table notebook</a>'\n",
              "          + ' to learn more about interactive tables.';\n",
              "        element.innerHTML = '';\n",
              "        dataTable['output_type'] = 'display_data';\n",
              "        await google.colab.output.renderOutput(dataTable, element);\n",
              "        const docLink = document.createElement('div');\n",
              "        docLink.innerHTML = docLinkHtml;\n",
              "        element.appendChild(docLink);\n",
              "      }\n",
              "    </script>\n",
              "  </div>\n",
              "\n",
              "\n",
              "<div id=\"df-64b2019e-faf6-442f-9e12-556535bdf317\">\n",
              "  <button class=\"colab-df-quickchart\" onclick=\"quickchart('df-64b2019e-faf6-442f-9e12-556535bdf317')\"\n",
              "            title=\"Suggest charts\"\n",
              "            style=\"display:none;\">\n",
              "\n",
              "<svg xmlns=\"http://www.w3.org/2000/svg\" height=\"24px\"viewBox=\"0 0 24 24\"\n",
              "     width=\"24px\">\n",
              "    <g>\n",
              "        <path d=\"M19 3H5c-1.1 0-2 .9-2 2v14c0 1.1.9 2 2 2h14c1.1 0 2-.9 2-2V5c0-1.1-.9-2-2-2zM9 17H7v-7h2v7zm4 0h-2V7h2v10zm4 0h-2v-4h2v4z\"/>\n",
              "    </g>\n",
              "</svg>\n",
              "  </button>\n",
              "\n",
              "<style>\n",
              "  .colab-df-quickchart {\n",
              "      --bg-color: #E8F0FE;\n",
              "      --fill-color: #1967D2;\n",
              "      --hover-bg-color: #E2EBFA;\n",
              "      --hover-fill-color: #174EA6;\n",
              "      --disabled-fill-color: #AAA;\n",
              "      --disabled-bg-color: #DDD;\n",
              "  }\n",
              "\n",
              "  [theme=dark] .colab-df-quickchart {\n",
              "      --bg-color: #3B4455;\n",
              "      --fill-color: #D2E3FC;\n",
              "      --hover-bg-color: #434B5C;\n",
              "      --hover-fill-color: #FFFFFF;\n",
              "      --disabled-bg-color: #3B4455;\n",
              "      --disabled-fill-color: #666;\n",
              "  }\n",
              "\n",
              "  .colab-df-quickchart {\n",
              "    background-color: var(--bg-color);\n",
              "    border: none;\n",
              "    border-radius: 50%;\n",
              "    cursor: pointer;\n",
              "    display: none;\n",
              "    fill: var(--fill-color);\n",
              "    height: 32px;\n",
              "    padding: 0;\n",
              "    width: 32px;\n",
              "  }\n",
              "\n",
              "  .colab-df-quickchart:hover {\n",
              "    background-color: var(--hover-bg-color);\n",
              "    box-shadow: 0 1px 2px rgba(60, 64, 67, 0.3), 0 1px 3px 1px rgba(60, 64, 67, 0.15);\n",
              "    fill: var(--button-hover-fill-color);\n",
              "  }\n",
              "\n",
              "  .colab-df-quickchart-complete:disabled,\n",
              "  .colab-df-quickchart-complete:disabled:hover {\n",
              "    background-color: var(--disabled-bg-color);\n",
              "    fill: var(--disabled-fill-color);\n",
              "    box-shadow: none;\n",
              "  }\n",
              "\n",
              "  .colab-df-spinner {\n",
              "    border: 2px solid var(--fill-color);\n",
              "    border-color: transparent;\n",
              "    border-bottom-color: var(--fill-color);\n",
              "    animation:\n",
              "      spin 1s steps(1) infinite;\n",
              "  }\n",
              "\n",
              "  @keyframes spin {\n",
              "    0% {\n",
              "      border-color: transparent;\n",
              "      border-bottom-color: var(--fill-color);\n",
              "      border-left-color: var(--fill-color);\n",
              "    }\n",
              "    20% {\n",
              "      border-color: transparent;\n",
              "      border-left-color: var(--fill-color);\n",
              "      border-top-color: var(--fill-color);\n",
              "    }\n",
              "    30% {\n",
              "      border-color: transparent;\n",
              "      border-left-color: var(--fill-color);\n",
              "      border-top-color: var(--fill-color);\n",
              "      border-right-color: var(--fill-color);\n",
              "    }\n",
              "    40% {\n",
              "      border-color: transparent;\n",
              "      border-right-color: var(--fill-color);\n",
              "      border-top-color: var(--fill-color);\n",
              "    }\n",
              "    60% {\n",
              "      border-color: transparent;\n",
              "      border-right-color: var(--fill-color);\n",
              "    }\n",
              "    80% {\n",
              "      border-color: transparent;\n",
              "      border-right-color: var(--fill-color);\n",
              "      border-bottom-color: var(--fill-color);\n",
              "    }\n",
              "    90% {\n",
              "      border-color: transparent;\n",
              "      border-bottom-color: var(--fill-color);\n",
              "    }\n",
              "  }\n",
              "</style>\n",
              "\n",
              "  <script>\n",
              "    async function quickchart(key) {\n",
              "      const quickchartButtonEl =\n",
              "        document.querySelector('#' + key + ' button');\n",
              "      quickchartButtonEl.disabled = true;  // To prevent multiple clicks.\n",
              "      quickchartButtonEl.classList.add('colab-df-spinner');\n",
              "      try {\n",
              "        const charts = await google.colab.kernel.invokeFunction(\n",
              "            'suggestCharts', [key], {});\n",
              "      } catch (error) {\n",
              "        console.error('Error during call to suggestCharts:', error);\n",
              "      }\n",
              "      quickchartButtonEl.classList.remove('colab-df-spinner');\n",
              "      quickchartButtonEl.classList.add('colab-df-quickchart-complete');\n",
              "    }\n",
              "    (() => {\n",
              "      let quickchartButtonEl =\n",
              "        document.querySelector('#df-64b2019e-faf6-442f-9e12-556535bdf317 button');\n",
              "      quickchartButtonEl.style.display =\n",
              "        google.colab.kernel.accessAllowed ? 'block' : 'none';\n",
              "    })();\n",
              "  </script>\n",
              "</div>\n",
              "\n",
              "    </div>\n",
              "  </div>\n"
            ],
            "application/vnd.google.colaboratory.intrinsic+json": {
              "type": "dataframe",
              "variable_name": "train_df",
              "summary": "{\n  \"name\": \"train_df\",\n  \"rows\": 100000,\n  \"fields\": [\n    {\n      \"column\": \"Month\",\n      \"properties\": {\n        \"dtype\": \"category\",\n        \"num_unique_values\": 12,\n        \"samples\": [\n          11,\n          2,\n          7\n        ],\n        \"semantic_type\": \"\",\n        \"description\": \"\"\n      }\n    },\n    {\n      \"column\": \"DayofMonth\",\n      \"properties\": {\n        \"dtype\": \"category\",\n        \"num_unique_values\": 31,\n        \"samples\": [\n          11,\n          21,\n          23\n        ],\n        \"semantic_type\": \"\",\n        \"description\": \"\"\n      }\n    },\n    {\n      \"column\": \"DayOfWeek\",\n      \"properties\": {\n        \"dtype\": \"category\",\n        \"num_unique_values\": 7,\n        \"samples\": [\n          6,\n          2,\n          1\n        ],\n        \"semantic_type\": \"\",\n        \"description\": \"\"\n      }\n    },\n    {\n      \"column\": \"DepTime\",\n      \"properties\": {\n        \"dtype\": \"number\",\n        \"std\": 476,\n        \"min\": 1,\n        \"max\": 2534,\n        \"num_unique_values\": 1300,\n        \"samples\": [\n          1550,\n          839,\n          1149\n        ],\n        \"semantic_type\": \"\",\n        \"description\": \"\"\n      }\n    },\n    {\n      \"column\": \"UniqueCarrier\",\n      \"properties\": {\n        \"dtype\": \"category\",\n        \"num_unique_values\": 22,\n        \"samples\": [\n          0,\n          13,\n          8\n        ],\n        \"semantic_type\": \"\",\n        \"description\": \"\"\n      }\n    },\n    {\n      \"column\": \"Origin\",\n      \"properties\": {\n        \"dtype\": \"category\",\n        \"num_unique_values\": 289,\n        \"samples\": [\n          45,\n          157,\n          274\n        ],\n        \"semantic_type\": \"\",\n        \"description\": \"\"\n      }\n    },\n    {\n      \"column\": \"Dest\",\n      \"properties\": {\n        \"dtype\": \"category\",\n        \"num_unique_values\": 289,\n        \"samples\": [\n          45,\n          157,\n          274\n        ],\n        \"semantic_type\": \"\",\n        \"description\": \"\"\n      }\n    },\n    {\n      \"column\": \"Distance\",\n      \"properties\": {\n        \"dtype\": \"number\",\n        \"std\": 574,\n        \"min\": 30,\n        \"max\": 4962,\n        \"num_unique_values\": 1310,\n        \"samples\": [\n          1142,\n          663,\n          2116\n        ],\n        \"semantic_type\": \"\",\n        \"description\": \"\"\n      }\n    },\n    {\n      \"column\": \"hour\",\n      \"properties\": {\n        \"dtype\": \"category\",\n        \"num_unique_values\": 24,\n        \"samples\": [\n          17,\n          8,\n          19\n        ],\n        \"semantic_type\": \"\",\n        \"description\": \"\"\n      }\n    },\n    {\n      \"column\": \"minute\",\n      \"properties\": {\n        \"dtype\": \"number\",\n        \"std\": 17,\n        \"min\": 0,\n        \"max\": 59,\n        \"num_unique_values\": 60,\n        \"samples\": [\n          34,\n          18,\n          12\n        ],\n        \"semantic_type\": \"\",\n        \"description\": \"\"\n      }\n    },\n    {\n      \"column\": \"summer\",\n      \"properties\": {\n        \"dtype\": \"category\",\n        \"num_unique_values\": 2,\n        \"samples\": [\n          0,\n          1\n        ],\n        \"semantic_type\": \"\",\n        \"description\": \"\"\n      }\n    },\n    {\n      \"column\": \"autumn\",\n      \"properties\": {\n        \"dtype\": \"category\",\n        \"num_unique_values\": 2,\n        \"samples\": [\n          1,\n          0\n        ],\n        \"semantic_type\": \"\",\n        \"description\": \"\"\n      }\n    },\n    {\n      \"column\": \"winter\",\n      \"properties\": {\n        \"dtype\": \"category\",\n        \"num_unique_values\": 2,\n        \"samples\": [\n          1,\n          0\n        ],\n        \"semantic_type\": \"\",\n        \"description\": \"\"\n      }\n    },\n    {\n      \"column\": \"spring\",\n      \"properties\": {\n        \"dtype\": \"category\",\n        \"num_unique_values\": 2,\n        \"samples\": [\n          1,\n          0\n        ],\n        \"semantic_type\": \"\",\n        \"description\": \"\"\n      }\n    },\n    {\n      \"column\": \"daytime\",\n      \"properties\": {\n        \"dtype\": \"category\",\n        \"num_unique_values\": 4,\n        \"samples\": [\n          1,\n          3\n        ],\n        \"semantic_type\": \"\",\n        \"description\": \"\"\n      }\n    },\n    {\n      \"column\": \"DepHour<17\",\n      \"properties\": {\n        \"dtype\": \"int32\",\n        \"num_unique_values\": 2,\n        \"samples\": [\n          1,\n          0\n        ],\n        \"semantic_type\": \"\",\n        \"description\": \"\"\n      }\n    }\n  ]\n}"
            }
          },
          "metadata": {},
          "execution_count": 15
        }
      ],
      "source": [
        "train_df.head()"
      ]
    },
    {
      "cell_type": "markdown",
      "metadata": {
        "id": "HoaqwpAEdUnO"
      },
      "source": [
        "# Handling imbalance\n",
        "\n",
        "**WHY?**\n",
        "```\n",
        "Number of data per class:\n",
        "dep_delayed_15min\n",
        "N    80956\n",
        "Y    19044\n",
        "Name: count, dtype: int64\n",
        "```"
      ]
    },
    {
      "cell_type": "markdown",
      "metadata": {
        "id": "ObpKjMAGL46L"
      },
      "source": [
        "# Training"
      ]
    },
    {
      "cell_type": "code",
      "execution_count": null,
      "metadata": {
        "id": "Mr7nhGaUIPt9"
      },
      "outputs": [],
      "source": [
        "X_train_part, X_valid, y_train_part, y_valid = train_test_split(train_df, train_y,\n",
        "                                                                test_size=0.3,\n",
        "                                                                random_state=17)"
      ]
    },
    {
      "cell_type": "code",
      "execution_count": null,
      "metadata": {
        "id": "LwEeRzv_p98X"
      },
      "outputs": [],
      "source": [
        "from sklearn.preprocessing import OrdinalEncoder\n",
        "from imblearn.combine import SMOTEENN\n",
        "smote_enn = SMOTEENN(sampling_strategy='not majority')\n",
        "\n",
        "encoder = OrdinalEncoder()\n",
        "X_train_part_encoded = encoder.fit_transform(X_train_part)\n",
        "X_train_balanced, y_train_balanced = smote_enn.fit_resample(X_train_part_encoded, y_train_part)"
      ]
    },
    {
      "cell_type": "code",
      "source": [
        "# from sklearn.preprocessing import OrdinalEncoder\n",
        "# from imblearn.over_sampling import ADASYN\n",
        "\n",
        "# adasyn = ADASYN(sampling_strategy='minority')\n",
        "# encoder = OrdinalEncoder()\n",
        "# X_train_part_encoded = encoder.fit_transform(X_train_part)\n",
        "# X_train_balanced, y_train_balanced = adasyn.fit_resample(X_train_part_encoded, y_train_part)"
      ],
      "metadata": {
        "id": "BvBgnJQfPPSM"
      },
      "execution_count": null,
      "outputs": []
    },
    {
      "cell_type": "code",
      "execution_count": null,
      "metadata": {
        "id": "PQTmHplu_SpB",
        "colab": {
          "base_uri": "https://localhost:8080/"
        },
        "outputId": "8ed778ef-ff98-4cf1-a423-136991ed37c8"
      },
      "outputs": [
        {
          "output_type": "stream",
          "name": "stdout",
          "text": [
            "Number of data per class:\n",
            "Class 0: 33115\n",
            "Class 1: 46584\n"
          ]
        }
      ],
      "source": [
        "# Get unique values and their counts\n",
        "unique_values, counts = np.unique(y_train_balanced, return_counts=True)\n",
        "\n",
        "# Print the counts\n",
        "print(\"Number of data per class:\")\n",
        "for value, count in zip(unique_values, counts):\n",
        "    print(f\"Class {value}: {count}\")\n",
        "\n",
        "# # Before\n",
        "# N    80956\n",
        "# Y    19044"
      ]
    },
    {
      "cell_type": "code",
      "source": [
        "from catboost import CatBoostClassifier, Pool\n",
        "ctb = CatBoostClassifier(random_state=17,\n",
        "                         silent=True,\n",
        "                        #  learning_rate=0.01,\n",
        "                         iterations=500,\n",
        "                        #  bagging_temperature=1,\n",
        "                        #  depth=6,\n",
        "                         loss_function='Logloss',\n",
        "                         eval_metric='AUC',\n",
        "                         l2_leaf_reg=1.5\n",
        "                        )\n",
        "\n",
        "valid_set = Pool(data=X_valid,\n",
        "                  label=y_valid,\n",
        "                  cat_features=categ_feat_idx\n",
        "                  )\n",
        "\n",
        "ctb.fit(train_df, train_y,\n",
        "        cat_features=categ_feat_idx,\n",
        "        use_best_model=True,\n",
        "        early_stopping_rounds=20,\n",
        "        plot=True,\n",
        "        eval_set=valid_set,\n",
        "        verbose=True);"
      ],
      "metadata": {
        "id": "b_15oMmdZ1vp",
        "colab": {
          "base_uri": "https://localhost:8080/",
          "height": 1000,
          "referenced_widgets": [
            "f06ae61eabc44b73b718c6591bdcb06e"
          ]
        },
        "outputId": "94262189-44d3-4861-e7eb-b76c21ea07ab"
      },
      "execution_count": null,
      "outputs": [
        {
          "output_type": "display_data",
          "data": {
            "text/plain": [
              "MetricVisualizer(layout=Layout(align_self='stretch', height='500px'))"
            ],
            "application/vnd.jupyter.widget-view+json": {
              "version_major": 2,
              "version_minor": 0,
              "model_id": "f06ae61eabc44b73b718c6591bdcb06e"
            }
          },
          "metadata": {}
        },
        {
          "output_type": "stream",
          "name": "stdout",
          "text": [
            "0:\ttest: 0.6509472\tbest: 0.6509472 (0)\ttotal: 407ms\tremaining: 3m 23s\n",
            "1:\ttest: 0.6638556\tbest: 0.6638556 (1)\ttotal: 582ms\tremaining: 2m 24s\n",
            "2:\ttest: 0.6704403\tbest: 0.6704403 (2)\ttotal: 1.03s\tremaining: 2m 50s\n",
            "3:\ttest: 0.6762358\tbest: 0.6762358 (3)\ttotal: 1.34s\tremaining: 2m 46s\n",
            "4:\ttest: 0.6800338\tbest: 0.6800338 (4)\ttotal: 1.78s\tremaining: 2m 56s\n",
            "5:\ttest: 0.6799768\tbest: 0.6800338 (4)\ttotal: 1.96s\tremaining: 2m 41s\n",
            "6:\ttest: 0.6844099\tbest: 0.6844099 (6)\ttotal: 2.35s\tremaining: 2m 45s\n",
            "7:\ttest: 0.6880126\tbest: 0.6880126 (7)\ttotal: 2.67s\tremaining: 2m 44s\n",
            "8:\ttest: 0.6898593\tbest: 0.6898593 (8)\ttotal: 3.04s\tremaining: 2m 46s\n",
            "9:\ttest: 0.6914502\tbest: 0.6914502 (9)\ttotal: 3.48s\tremaining: 2m 50s\n",
            "10:\ttest: 0.6926915\tbest: 0.6926915 (10)\ttotal: 4.04s\tremaining: 2m 59s\n",
            "11:\ttest: 0.6929927\tbest: 0.6929927 (11)\ttotal: 4.47s\tremaining: 3m 1s\n",
            "12:\ttest: 0.6936339\tbest: 0.6936339 (12)\ttotal: 4.83s\tremaining: 3m\n",
            "13:\ttest: 0.6944818\tbest: 0.6944818 (13)\ttotal: 5.33s\tremaining: 3m 4s\n",
            "14:\ttest: 0.6950468\tbest: 0.6950468 (14)\ttotal: 5.65s\tremaining: 3m 2s\n",
            "15:\ttest: 0.6948654\tbest: 0.6950468 (14)\ttotal: 5.79s\tremaining: 2m 55s\n",
            "16:\ttest: 0.6950674\tbest: 0.6950674 (16)\ttotal: 5.94s\tremaining: 2m 48s\n",
            "17:\ttest: 0.6955327\tbest: 0.6955327 (17)\ttotal: 6.14s\tremaining: 2m 44s\n",
            "18:\ttest: 0.6964799\tbest: 0.6964799 (18)\ttotal: 6.34s\tremaining: 2m 40s\n",
            "19:\ttest: 0.6969623\tbest: 0.6969623 (19)\ttotal: 6.52s\tremaining: 2m 36s\n",
            "20:\ttest: 0.6973652\tbest: 0.6973652 (20)\ttotal: 6.74s\tremaining: 2m 33s\n",
            "21:\ttest: 0.6976703\tbest: 0.6976703 (21)\ttotal: 7s\tremaining: 2m 31s\n",
            "22:\ttest: 0.6979848\tbest: 0.6979848 (22)\ttotal: 7.26s\tremaining: 2m 30s\n",
            "23:\ttest: 0.6981552\tbest: 0.6981552 (23)\ttotal: 7.5s\tremaining: 2m 28s\n",
            "24:\ttest: 0.6987398\tbest: 0.6987398 (24)\ttotal: 7.67s\tremaining: 2m 25s\n",
            "25:\ttest: 0.6989550\tbest: 0.6989550 (25)\ttotal: 7.88s\tremaining: 2m 23s\n",
            "26:\ttest: 0.6994135\tbest: 0.6994135 (26)\ttotal: 8.12s\tremaining: 2m 22s\n",
            "27:\ttest: 0.6993835\tbest: 0.6994135 (26)\ttotal: 8.29s\tremaining: 2m 19s\n",
            "28:\ttest: 0.6991819\tbest: 0.6994135 (26)\ttotal: 8.45s\tremaining: 2m 17s\n",
            "29:\ttest: 0.6995730\tbest: 0.6995730 (29)\ttotal: 8.64s\tremaining: 2m 15s\n",
            "30:\ttest: 0.6996110\tbest: 0.6996110 (30)\ttotal: 8.82s\tremaining: 2m 13s\n",
            "31:\ttest: 0.6998074\tbest: 0.6998074 (31)\ttotal: 8.97s\tremaining: 2m 11s\n",
            "32:\ttest: 0.7001025\tbest: 0.7001025 (32)\ttotal: 9.2s\tremaining: 2m 10s\n",
            "33:\ttest: 0.7014199\tbest: 0.7014199 (33)\ttotal: 9.46s\tremaining: 2m 9s\n",
            "34:\ttest: 0.7036675\tbest: 0.7036675 (34)\ttotal: 9.67s\tremaining: 2m 8s\n",
            "35:\ttest: 0.7038178\tbest: 0.7038178 (35)\ttotal: 9.85s\tremaining: 2m 7s\n",
            "36:\ttest: 0.7039720\tbest: 0.7039720 (36)\ttotal: 10s\tremaining: 2m 5s\n",
            "37:\ttest: 0.7057403\tbest: 0.7057403 (37)\ttotal: 10.3s\tremaining: 2m 5s\n",
            "38:\ttest: 0.7058680\tbest: 0.7058680 (38)\ttotal: 10.5s\tremaining: 2m 3s\n",
            "39:\ttest: 0.7058441\tbest: 0.7058680 (38)\ttotal: 10.7s\tremaining: 2m 2s\n",
            "40:\ttest: 0.7078480\tbest: 0.7078480 (40)\ttotal: 10.9s\tremaining: 2m 2s\n",
            "41:\ttest: 0.7096156\tbest: 0.7096156 (41)\ttotal: 11.2s\tremaining: 2m 1s\n",
            "42:\ttest: 0.7105901\tbest: 0.7105901 (42)\ttotal: 11.4s\tremaining: 2m 1s\n",
            "43:\ttest: 0.7117481\tbest: 0.7117481 (43)\ttotal: 11.7s\tremaining: 2m\n",
            "44:\ttest: 0.7130305\tbest: 0.7130305 (44)\ttotal: 11.9s\tremaining: 1m 59s\n",
            "45:\ttest: 0.7133067\tbest: 0.7133067 (45)\ttotal: 11.9s\tremaining: 1m 57s\n",
            "46:\ttest: 0.7133067\tbest: 0.7133067 (45)\ttotal: 12s\tremaining: 1m 55s\n",
            "47:\ttest: 0.7146469\tbest: 0.7146469 (47)\ttotal: 12.2s\tremaining: 1m 54s\n",
            "48:\ttest: 0.7155420\tbest: 0.7155420 (48)\ttotal: 12.4s\tremaining: 1m 54s\n",
            "49:\ttest: 0.7159914\tbest: 0.7159914 (49)\ttotal: 12.7s\tremaining: 1m 54s\n",
            "50:\ttest: 0.7168894\tbest: 0.7168894 (50)\ttotal: 12.8s\tremaining: 1m 52s\n",
            "51:\ttest: 0.7177512\tbest: 0.7177512 (51)\ttotal: 13s\tremaining: 1m 52s\n",
            "52:\ttest: 0.7184915\tbest: 0.7184915 (52)\ttotal: 13.2s\tremaining: 1m 51s\n",
            "53:\ttest: 0.7189687\tbest: 0.7189687 (53)\ttotal: 13.4s\tremaining: 1m 50s\n",
            "54:\ttest: 0.7197135\tbest: 0.7197135 (54)\ttotal: 13.6s\tremaining: 1m 50s\n",
            "55:\ttest: 0.7215877\tbest: 0.7215877 (55)\ttotal: 13.8s\tremaining: 1m 49s\n",
            "56:\ttest: 0.7233278\tbest: 0.7233278 (56)\ttotal: 14s\tremaining: 1m 48s\n",
            "57:\ttest: 0.7250605\tbest: 0.7250605 (57)\ttotal: 14.2s\tremaining: 1m 48s\n",
            "58:\ttest: 0.7266619\tbest: 0.7266619 (58)\ttotal: 14.5s\tremaining: 1m 48s\n",
            "59:\ttest: 0.7283556\tbest: 0.7283556 (59)\ttotal: 14.9s\tremaining: 1m 49s\n",
            "60:\ttest: 0.7294801\tbest: 0.7294801 (60)\ttotal: 15.3s\tremaining: 1m 50s\n",
            "61:\ttest: 0.7309969\tbest: 0.7309969 (61)\ttotal: 15.5s\tremaining: 1m 49s\n",
            "62:\ttest: 0.7323334\tbest: 0.7323334 (62)\ttotal: 15.7s\tremaining: 1m 49s\n",
            "63:\ttest: 0.7338351\tbest: 0.7338351 (63)\ttotal: 16.1s\tremaining: 1m 49s\n",
            "64:\ttest: 0.7346775\tbest: 0.7346775 (64)\ttotal: 16.4s\tremaining: 1m 49s\n",
            "65:\ttest: 0.7365511\tbest: 0.7365511 (65)\ttotal: 16.8s\tremaining: 1m 50s\n",
            "66:\ttest: 0.7376625\tbest: 0.7376625 (66)\ttotal: 17.1s\tremaining: 1m 50s\n",
            "67:\ttest: 0.7396109\tbest: 0.7396109 (67)\ttotal: 17.5s\tremaining: 1m 50s\n",
            "68:\ttest: 0.7397460\tbest: 0.7397460 (68)\ttotal: 17.9s\tremaining: 1m 51s\n",
            "69:\ttest: 0.7406900\tbest: 0.7406900 (69)\ttotal: 18.3s\tremaining: 1m 52s\n",
            "70:\ttest: 0.7409404\tbest: 0.7409404 (70)\ttotal: 18.7s\tremaining: 1m 53s\n",
            "71:\ttest: 0.7425122\tbest: 0.7425122 (71)\ttotal: 19.2s\tremaining: 1m 53s\n",
            "72:\ttest: 0.7429669\tbest: 0.7429669 (72)\ttotal: 19.6s\tremaining: 1m 54s\n",
            "73:\ttest: 0.7452161\tbest: 0.7452161 (73)\ttotal: 20s\tremaining: 1m 55s\n",
            "74:\ttest: 0.7460212\tbest: 0.7460212 (74)\ttotal: 20.4s\tremaining: 1m 55s\n",
            "75:\ttest: 0.7489615\tbest: 0.7489615 (75)\ttotal: 20.7s\tremaining: 1m 55s\n",
            "76:\ttest: 0.7496144\tbest: 0.7496144 (76)\ttotal: 20.9s\tremaining: 1m 54s\n",
            "77:\ttest: 0.7509918\tbest: 0.7509918 (77)\ttotal: 21.1s\tremaining: 1m 53s\n",
            "78:\ttest: 0.7519303\tbest: 0.7519303 (78)\ttotal: 21.2s\tremaining: 1m 53s\n",
            "79:\ttest: 0.7528396\tbest: 0.7528396 (79)\ttotal: 21.4s\tremaining: 1m 52s\n",
            "80:\ttest: 0.7533071\tbest: 0.7533071 (80)\ttotal: 21.7s\tremaining: 1m 52s\n",
            "81:\ttest: 0.7541607\tbest: 0.7541607 (81)\ttotal: 21.9s\tremaining: 1m 51s\n",
            "82:\ttest: 0.7557490\tbest: 0.7557490 (82)\ttotal: 22.2s\tremaining: 1m 51s\n",
            "83:\ttest: 0.7571974\tbest: 0.7571974 (83)\ttotal: 22.4s\tremaining: 1m 50s\n",
            "84:\ttest: 0.7579926\tbest: 0.7579926 (84)\ttotal: 22.5s\tremaining: 1m 49s\n",
            "85:\ttest: 0.7598260\tbest: 0.7598260 (85)\ttotal: 22.7s\tremaining: 1m 49s\n",
            "86:\ttest: 0.7631880\tbest: 0.7631880 (86)\ttotal: 22.9s\tremaining: 1m 48s\n",
            "87:\ttest: 0.7648891\tbest: 0.7648891 (87)\ttotal: 23.1s\tremaining: 1m 48s\n",
            "88:\ttest: 0.7659436\tbest: 0.7659436 (88)\ttotal: 23.3s\tremaining: 1m 47s\n",
            "89:\ttest: 0.7677111\tbest: 0.7677111 (89)\ttotal: 23.5s\tremaining: 1m 47s\n",
            "90:\ttest: 0.7682533\tbest: 0.7682533 (90)\ttotal: 23.7s\tremaining: 1m 46s\n",
            "91:\ttest: 0.7699080\tbest: 0.7699080 (91)\ttotal: 24s\tremaining: 1m 46s\n",
            "92:\ttest: 0.7706660\tbest: 0.7706660 (92)\ttotal: 24.2s\tremaining: 1m 45s\n",
            "93:\ttest: 0.7713316\tbest: 0.7713316 (93)\ttotal: 24.4s\tremaining: 1m 45s\n",
            "94:\ttest: 0.7727895\tbest: 0.7727895 (94)\ttotal: 24.6s\tremaining: 1m 44s\n",
            "95:\ttest: 0.7733740\tbest: 0.7733740 (95)\ttotal: 24.8s\tremaining: 1m 44s\n",
            "96:\ttest: 0.7746707\tbest: 0.7746707 (96)\ttotal: 25s\tremaining: 1m 43s\n",
            "97:\ttest: 0.7756313\tbest: 0.7756313 (97)\ttotal: 25.2s\tremaining: 1m 43s\n",
            "98:\ttest: 0.7767189\tbest: 0.7767189 (98)\ttotal: 25.4s\tremaining: 1m 42s\n",
            "99:\ttest: 0.7782590\tbest: 0.7782590 (99)\ttotal: 25.6s\tremaining: 1m 42s\n",
            "100:\ttest: 0.7790882\tbest: 0.7790882 (100)\ttotal: 25.8s\tremaining: 1m 42s\n",
            "101:\ttest: 0.7795589\tbest: 0.7795589 (101)\ttotal: 26.1s\tremaining: 1m 41s\n",
            "102:\ttest: 0.7804543\tbest: 0.7804543 (102)\ttotal: 26.3s\tremaining: 1m 41s\n",
            "103:\ttest: 0.7819230\tbest: 0.7819230 (103)\ttotal: 26.6s\tremaining: 1m 41s\n",
            "104:\ttest: 0.7823509\tbest: 0.7823509 (104)\ttotal: 26.9s\tremaining: 1m 41s\n",
            "105:\ttest: 0.7825457\tbest: 0.7825457 (105)\ttotal: 27.2s\tremaining: 1m 41s\n",
            "106:\ttest: 0.7835080\tbest: 0.7835080 (106)\ttotal: 27.4s\tremaining: 1m 40s\n",
            "107:\ttest: 0.7847858\tbest: 0.7847858 (107)\ttotal: 27.7s\tremaining: 1m 40s\n",
            "108:\ttest: 0.7849992\tbest: 0.7849992 (108)\ttotal: 27.9s\tremaining: 1m 40s\n",
            "109:\ttest: 0.7862108\tbest: 0.7862108 (109)\ttotal: 28.1s\tremaining: 1m 39s\n",
            "110:\ttest: 0.7876564\tbest: 0.7876564 (110)\ttotal: 28.5s\tremaining: 1m 39s\n",
            "111:\ttest: 0.7885810\tbest: 0.7885810 (111)\ttotal: 28.7s\tremaining: 1m 39s\n",
            "112:\ttest: 0.7897769\tbest: 0.7897769 (112)\ttotal: 29s\tremaining: 1m 39s\n",
            "113:\ttest: 0.7908751\tbest: 0.7908751 (113)\ttotal: 29.2s\tremaining: 1m 38s\n",
            "114:\ttest: 0.7919445\tbest: 0.7919445 (114)\ttotal: 29.4s\tremaining: 1m 38s\n",
            "115:\ttest: 0.7927617\tbest: 0.7927617 (115)\ttotal: 29.7s\tremaining: 1m 38s\n",
            "116:\ttest: 0.7934773\tbest: 0.7934773 (116)\ttotal: 29.9s\tremaining: 1m 37s\n",
            "117:\ttest: 0.7947675\tbest: 0.7947675 (117)\ttotal: 30.1s\tremaining: 1m 37s\n",
            "118:\ttest: 0.7954172\tbest: 0.7954172 (118)\ttotal: 30.3s\tremaining: 1m 37s\n",
            "119:\ttest: 0.7961399\tbest: 0.7961399 (119)\ttotal: 30.6s\tremaining: 1m 36s\n",
            "120:\ttest: 0.7968046\tbest: 0.7968046 (120)\ttotal: 30.8s\tremaining: 1m 36s\n",
            "121:\ttest: 0.7973653\tbest: 0.7973653 (121)\ttotal: 31.2s\tremaining: 1m 36s\n",
            "122:\ttest: 0.7976192\tbest: 0.7976192 (122)\ttotal: 31.8s\tremaining: 1m 37s\n",
            "123:\ttest: 0.7982346\tbest: 0.7982346 (123)\ttotal: 32.8s\tremaining: 1m 39s\n",
            "124:\ttest: 0.7984601\tbest: 0.7984601 (124)\ttotal: 33.6s\tremaining: 1m 40s\n",
            "125:\ttest: 0.7987457\tbest: 0.7987457 (125)\ttotal: 34.2s\tremaining: 1m 41s\n",
            "126:\ttest: 0.7996068\tbest: 0.7996068 (126)\ttotal: 34.6s\tremaining: 1m 41s\n",
            "127:\ttest: 0.8008580\tbest: 0.8008580 (127)\ttotal: 35.1s\tremaining: 1m 41s\n",
            "128:\ttest: 0.8016905\tbest: 0.8016905 (128)\ttotal: 35.3s\tremaining: 1m 41s\n",
            "129:\ttest: 0.8022104\tbest: 0.8022104 (129)\ttotal: 35.7s\tremaining: 1m 41s\n",
            "130:\ttest: 0.8028407\tbest: 0.8028407 (130)\ttotal: 35.9s\tremaining: 1m 41s\n",
            "131:\ttest: 0.8036200\tbest: 0.8036200 (131)\ttotal: 36.2s\tremaining: 1m 40s\n",
            "132:\ttest: 0.8040774\tbest: 0.8040774 (132)\ttotal: 36.4s\tremaining: 1m 40s\n",
            "133:\ttest: 0.8043744\tbest: 0.8043744 (133)\ttotal: 36.7s\tremaining: 1m 40s\n",
            "134:\ttest: 0.8045044\tbest: 0.8045044 (134)\ttotal: 37s\tremaining: 1m 39s\n",
            "135:\ttest: 0.8048257\tbest: 0.8048257 (135)\ttotal: 37.2s\tremaining: 1m 39s\n",
            "136:\ttest: 0.8055724\tbest: 0.8055724 (136)\ttotal: 37.5s\tremaining: 1m 39s\n",
            "137:\ttest: 0.8058364\tbest: 0.8058364 (137)\ttotal: 37.7s\tremaining: 1m 39s\n",
            "138:\ttest: 0.8060064\tbest: 0.8060064 (138)\ttotal: 38s\tremaining: 1m 38s\n",
            "139:\ttest: 0.8063048\tbest: 0.8063048 (139)\ttotal: 38.3s\tremaining: 1m 38s\n",
            "140:\ttest: 0.8069493\tbest: 0.8069493 (140)\ttotal: 38.5s\tremaining: 1m 38s\n",
            "141:\ttest: 0.8075176\tbest: 0.8075176 (141)\ttotal: 38.8s\tremaining: 1m 37s\n",
            "142:\ttest: 0.8080580\tbest: 0.8080580 (142)\ttotal: 39s\tremaining: 1m 37s\n",
            "143:\ttest: 0.8086819\tbest: 0.8086819 (143)\ttotal: 39.3s\tremaining: 1m 37s\n",
            "144:\ttest: 0.8094368\tbest: 0.8094368 (144)\ttotal: 39.5s\tremaining: 1m 36s\n",
            "145:\ttest: 0.8103433\tbest: 0.8103433 (145)\ttotal: 39.7s\tremaining: 1m 36s\n",
            "146:\ttest: 0.8115117\tbest: 0.8115117 (146)\ttotal: 39.9s\tremaining: 1m 35s\n",
            "147:\ttest: 0.8122161\tbest: 0.8122161 (147)\ttotal: 40.2s\tremaining: 1m 35s\n",
            "148:\ttest: 0.8122159\tbest: 0.8122161 (147)\ttotal: 40.5s\tremaining: 1m 35s\n",
            "149:\ttest: 0.8126099\tbest: 0.8126099 (149)\ttotal: 40.7s\tremaining: 1m 34s\n",
            "150:\ttest: 0.8129229\tbest: 0.8129229 (150)\ttotal: 40.9s\tremaining: 1m 34s\n",
            "151:\ttest: 0.8131196\tbest: 0.8131196 (151)\ttotal: 41.1s\tremaining: 1m 34s\n",
            "152:\ttest: 0.8133834\tbest: 0.8133834 (152)\ttotal: 41.4s\tremaining: 1m 33s\n",
            "153:\ttest: 0.8137310\tbest: 0.8137310 (153)\ttotal: 41.6s\tremaining: 1m 33s\n",
            "154:\ttest: 0.8142735\tbest: 0.8142735 (154)\ttotal: 41.9s\tremaining: 1m 33s\n",
            "155:\ttest: 0.8148596\tbest: 0.8148596 (155)\ttotal: 42.1s\tremaining: 1m 32s\n",
            "156:\ttest: 0.8152237\tbest: 0.8152237 (156)\ttotal: 42.3s\tremaining: 1m 32s\n",
            "157:\ttest: 0.8157773\tbest: 0.8157773 (157)\ttotal: 42.6s\tremaining: 1m 32s\n",
            "158:\ttest: 0.8164611\tbest: 0.8164611 (158)\ttotal: 42.7s\tremaining: 1m 31s\n",
            "159:\ttest: 0.8169322\tbest: 0.8169322 (159)\ttotal: 42.9s\tremaining: 1m 31s\n",
            "160:\ttest: 0.8174777\tbest: 0.8174777 (160)\ttotal: 43.1s\tremaining: 1m 30s\n",
            "161:\ttest: 0.8177760\tbest: 0.8177760 (161)\ttotal: 43.4s\tremaining: 1m 30s\n",
            "162:\ttest: 0.8184657\tbest: 0.8184657 (162)\ttotal: 43.6s\tremaining: 1m 30s\n",
            "163:\ttest: 0.8186253\tbest: 0.8186253 (163)\ttotal: 43.8s\tremaining: 1m 29s\n",
            "164:\ttest: 0.8191010\tbest: 0.8191010 (164)\ttotal: 44.1s\tremaining: 1m 29s\n",
            "165:\ttest: 0.8191779\tbest: 0.8191779 (165)\ttotal: 44.4s\tremaining: 1m 29s\n",
            "166:\ttest: 0.8195488\tbest: 0.8195488 (166)\ttotal: 44.6s\tremaining: 1m 28s\n",
            "167:\ttest: 0.8205433\tbest: 0.8205433 (167)\ttotal: 44.9s\tremaining: 1m 28s\n",
            "168:\ttest: 0.8220322\tbest: 0.8220322 (168)\ttotal: 45.1s\tremaining: 1m 28s\n",
            "169:\ttest: 0.8221051\tbest: 0.8221051 (169)\ttotal: 45.4s\tremaining: 1m 28s\n",
            "170:\ttest: 0.8230765\tbest: 0.8230765 (170)\ttotal: 45.7s\tremaining: 1m 27s\n",
            "171:\ttest: 0.8245932\tbest: 0.8245932 (171)\ttotal: 45.9s\tremaining: 1m 27s\n",
            "172:\ttest: 0.8247197\tbest: 0.8247197 (172)\ttotal: 46.4s\tremaining: 1m 27s\n",
            "173:\ttest: 0.8251499\tbest: 0.8251499 (173)\ttotal: 46.9s\tremaining: 1m 27s\n",
            "174:\ttest: 0.8259325\tbest: 0.8259325 (174)\ttotal: 47.4s\tremaining: 1m 28s\n",
            "175:\ttest: 0.8261538\tbest: 0.8261538 (175)\ttotal: 47.8s\tremaining: 1m 28s\n",
            "176:\ttest: 0.8268557\tbest: 0.8268557 (176)\ttotal: 48.2s\tremaining: 1m 27s\n",
            "177:\ttest: 0.8272425\tbest: 0.8272425 (177)\ttotal: 48.6s\tremaining: 1m 27s\n",
            "178:\ttest: 0.8275014\tbest: 0.8275014 (178)\ttotal: 49s\tremaining: 1m 27s\n",
            "179:\ttest: 0.8277373\tbest: 0.8277373 (179)\ttotal: 49.5s\tremaining: 1m 27s\n",
            "180:\ttest: 0.8281646\tbest: 0.8281646 (180)\ttotal: 50s\tremaining: 1m 28s\n",
            "181:\ttest: 0.8290915\tbest: 0.8290915 (181)\ttotal: 50.3s\tremaining: 1m 27s\n",
            "182:\ttest: 0.8296139\tbest: 0.8296139 (182)\ttotal: 50.6s\tremaining: 1m 27s\n",
            "183:\ttest: 0.8299671\tbest: 0.8299671 (183)\ttotal: 50.8s\tremaining: 1m 27s\n",
            "184:\ttest: 0.8301437\tbest: 0.8301437 (184)\ttotal: 51.1s\tremaining: 1m 26s\n",
            "185:\ttest: 0.8302728\tbest: 0.8302728 (185)\ttotal: 51.3s\tremaining: 1m 26s\n",
            "186:\ttest: 0.8307300\tbest: 0.8307300 (186)\ttotal: 51.6s\tremaining: 1m 26s\n",
            "187:\ttest: 0.8312007\tbest: 0.8312007 (187)\ttotal: 51.7s\tremaining: 1m 25s\n",
            "188:\ttest: 0.8312698\tbest: 0.8312698 (188)\ttotal: 52s\tremaining: 1m 25s\n",
            "189:\ttest: 0.8313287\tbest: 0.8313287 (189)\ttotal: 52.2s\tremaining: 1m 25s\n",
            "190:\ttest: 0.8315185\tbest: 0.8315185 (190)\ttotal: 52.5s\tremaining: 1m 24s\n",
            "191:\ttest: 0.8317909\tbest: 0.8317909 (191)\ttotal: 52.7s\tremaining: 1m 24s\n",
            "192:\ttest: 0.8319234\tbest: 0.8319234 (192)\ttotal: 52.9s\tremaining: 1m 24s\n",
            "193:\ttest: 0.8319784\tbest: 0.8319784 (193)\ttotal: 53.2s\tremaining: 1m 23s\n",
            "194:\ttest: 0.8322757\tbest: 0.8322757 (194)\ttotal: 53.5s\tremaining: 1m 23s\n",
            "195:\ttest: 0.8323167\tbest: 0.8323167 (195)\ttotal: 53.8s\tremaining: 1m 23s\n",
            "196:\ttest: 0.8324085\tbest: 0.8324085 (196)\ttotal: 54s\tremaining: 1m 23s\n",
            "197:\ttest: 0.8337538\tbest: 0.8337538 (197)\ttotal: 54.3s\tremaining: 1m 22s\n",
            "198:\ttest: 0.8338064\tbest: 0.8338064 (198)\ttotal: 54.6s\tremaining: 1m 22s\n",
            "199:\ttest: 0.8355401\tbest: 0.8355401 (199)\ttotal: 54.8s\tremaining: 1m 22s\n",
            "200:\ttest: 0.8362927\tbest: 0.8362927 (200)\ttotal: 55s\tremaining: 1m 21s\n",
            "201:\ttest: 0.8372330\tbest: 0.8372330 (201)\ttotal: 55.2s\tremaining: 1m 21s\n",
            "202:\ttest: 0.8372411\tbest: 0.8372411 (202)\ttotal: 55.4s\tremaining: 1m 21s\n",
            "203:\ttest: 0.8383145\tbest: 0.8383145 (203)\ttotal: 55.7s\tremaining: 1m 20s\n",
            "204:\ttest: 0.8383971\tbest: 0.8383971 (204)\ttotal: 55.9s\tremaining: 1m 20s\n",
            "205:\ttest: 0.8390664\tbest: 0.8390664 (205)\ttotal: 56.1s\tremaining: 1m 20s\n",
            "206:\ttest: 0.8391778\tbest: 0.8391778 (206)\ttotal: 56.4s\tremaining: 1m 19s\n",
            "207:\ttest: 0.8392465\tbest: 0.8392465 (207)\ttotal: 56.7s\tremaining: 1m 19s\n",
            "208:\ttest: 0.8404645\tbest: 0.8404645 (208)\ttotal: 56.9s\tremaining: 1m 19s\n",
            "209:\ttest: 0.8408031\tbest: 0.8408031 (209)\ttotal: 57.2s\tremaining: 1m 18s\n",
            "210:\ttest: 0.8423675\tbest: 0.8423675 (210)\ttotal: 57.3s\tremaining: 1m 18s\n",
            "211:\ttest: 0.8424293\tbest: 0.8424293 (211)\ttotal: 57.7s\tremaining: 1m 18s\n",
            "212:\ttest: 0.8435365\tbest: 0.8435365 (212)\ttotal: 57.9s\tremaining: 1m 18s\n",
            "213:\ttest: 0.8436993\tbest: 0.8436993 (213)\ttotal: 58.1s\tremaining: 1m 17s\n",
            "214:\ttest: 0.8437374\tbest: 0.8437374 (214)\ttotal: 58.4s\tremaining: 1m 17s\n",
            "215:\ttest: 0.8443170\tbest: 0.8443170 (215)\ttotal: 58.6s\tremaining: 1m 17s\n",
            "216:\ttest: 0.8453045\tbest: 0.8453045 (216)\ttotal: 58.9s\tremaining: 1m 16s\n",
            "217:\ttest: 0.8453333\tbest: 0.8453333 (217)\ttotal: 59.1s\tremaining: 1m 16s\n",
            "218:\ttest: 0.8455838\tbest: 0.8455838 (218)\ttotal: 59.4s\tremaining: 1m 16s\n",
            "219:\ttest: 0.8456983\tbest: 0.8456983 (219)\ttotal: 59.6s\tremaining: 1m 15s\n",
            "220:\ttest: 0.8460770\tbest: 0.8460770 (220)\ttotal: 59.9s\tremaining: 1m 15s\n",
            "221:\ttest: 0.8461234\tbest: 0.8461234 (221)\ttotal: 1m\tremaining: 1m 15s\n",
            "222:\ttest: 0.8463731\tbest: 0.8463731 (222)\ttotal: 1m\tremaining: 1m 14s\n",
            "223:\ttest: 0.8464266\tbest: 0.8464266 (223)\ttotal: 1m\tremaining: 1m 14s\n",
            "224:\ttest: 0.8467782\tbest: 0.8467782 (224)\ttotal: 1m 1s\tremaining: 1m 14s\n",
            "225:\ttest: 0.8471045\tbest: 0.8471045 (225)\ttotal: 1m 1s\tremaining: 1m 14s\n",
            "226:\ttest: 0.8471443\tbest: 0.8471443 (226)\ttotal: 1m 2s\tremaining: 1m 14s\n",
            "227:\ttest: 0.8472088\tbest: 0.8472088 (227)\ttotal: 1m 2s\tremaining: 1m 14s\n",
            "228:\ttest: 0.8472638\tbest: 0.8472638 (228)\ttotal: 1m 3s\tremaining: 1m 14s\n",
            "229:\ttest: 0.8476616\tbest: 0.8476616 (229)\ttotal: 1m 3s\tremaining: 1m 14s\n",
            "230:\ttest: 0.8477261\tbest: 0.8477261 (230)\ttotal: 1m 3s\tremaining: 1m 14s\n",
            "231:\ttest: 0.8477337\tbest: 0.8477337 (231)\ttotal: 1m 4s\tremaining: 1m 14s\n",
            "232:\ttest: 0.8485947\tbest: 0.8485947 (232)\ttotal: 1m 4s\tremaining: 1m 14s\n",
            "233:\ttest: 0.8492172\tbest: 0.8492172 (233)\ttotal: 1m 5s\tremaining: 1m 13s\n",
            "234:\ttest: 0.8492350\tbest: 0.8492350 (234)\ttotal: 1m 5s\tremaining: 1m 13s\n",
            "235:\ttest: 0.8492566\tbest: 0.8492566 (235)\ttotal: 1m 5s\tremaining: 1m 13s\n",
            "236:\ttest: 0.8493406\tbest: 0.8493406 (236)\ttotal: 1m 5s\tremaining: 1m 13s\n",
            "237:\ttest: 0.8497598\tbest: 0.8497598 (237)\ttotal: 1m 6s\tremaining: 1m 12s\n",
            "238:\ttest: 0.8505903\tbest: 0.8505903 (238)\ttotal: 1m 6s\tremaining: 1m 12s\n",
            "239:\ttest: 0.8510666\tbest: 0.8510666 (239)\ttotal: 1m 6s\tremaining: 1m 12s\n",
            "240:\ttest: 0.8511483\tbest: 0.8511483 (240)\ttotal: 1m 6s\tremaining: 1m 11s\n",
            "241:\ttest: 0.8511970\tbest: 0.8511970 (241)\ttotal: 1m 7s\tremaining: 1m 11s\n",
            "242:\ttest: 0.8512203\tbest: 0.8512203 (242)\ttotal: 1m 7s\tremaining: 1m 11s\n",
            "243:\ttest: 0.8512548\tbest: 0.8512548 (243)\ttotal: 1m 7s\tremaining: 1m 11s\n",
            "244:\ttest: 0.8512153\tbest: 0.8512548 (243)\ttotal: 1m 7s\tremaining: 1m 10s\n",
            "245:\ttest: 0.8515773\tbest: 0.8515773 (245)\ttotal: 1m 8s\tremaining: 1m 10s\n",
            "246:\ttest: 0.8516215\tbest: 0.8516215 (246)\ttotal: 1m 8s\tremaining: 1m 10s\n",
            "247:\ttest: 0.8516397\tbest: 0.8516397 (247)\ttotal: 1m 8s\tremaining: 1m 9s\n",
            "248:\ttest: 0.8519520\tbest: 0.8519520 (248)\ttotal: 1m 8s\tremaining: 1m 9s\n",
            "249:\ttest: 0.8523004\tbest: 0.8523004 (249)\ttotal: 1m 9s\tremaining: 1m 9s\n",
            "250:\ttest: 0.8523547\tbest: 0.8523547 (250)\ttotal: 1m 9s\tremaining: 1m 8s\n",
            "251:\ttest: 0.8523459\tbest: 0.8523547 (250)\ttotal: 1m 9s\tremaining: 1m 8s\n",
            "252:\ttest: 0.8523626\tbest: 0.8523626 (252)\ttotal: 1m 9s\tremaining: 1m 8s\n",
            "253:\ttest: 0.8533565\tbest: 0.8533565 (253)\ttotal: 1m 10s\tremaining: 1m 8s\n",
            "254:\ttest: 0.8534269\tbest: 0.8534269 (254)\ttotal: 1m 10s\tremaining: 1m 7s\n",
            "255:\ttest: 0.8536800\tbest: 0.8536800 (255)\ttotal: 1m 10s\tremaining: 1m 7s\n",
            "256:\ttest: 0.8538198\tbest: 0.8538198 (256)\ttotal: 1m 11s\tremaining: 1m 7s\n",
            "257:\ttest: 0.8538882\tbest: 0.8538882 (257)\ttotal: 1m 11s\tremaining: 1m 6s\n",
            "258:\ttest: 0.8539388\tbest: 0.8539388 (258)\ttotal: 1m 11s\tremaining: 1m 6s\n",
            "259:\ttest: 0.8541649\tbest: 0.8541649 (259)\ttotal: 1m 11s\tremaining: 1m 6s\n",
            "260:\ttest: 0.8543576\tbest: 0.8543576 (260)\ttotal: 1m 12s\tremaining: 1m 5s\n",
            "261:\ttest: 0.8546154\tbest: 0.8546154 (261)\ttotal: 1m 12s\tremaining: 1m 5s\n",
            "262:\ttest: 0.8546858\tbest: 0.8546858 (262)\ttotal: 1m 12s\tremaining: 1m 5s\n",
            "263:\ttest: 0.8548732\tbest: 0.8548732 (263)\ttotal: 1m 12s\tremaining: 1m 5s\n",
            "264:\ttest: 0.8550159\tbest: 0.8550159 (264)\ttotal: 1m 12s\tremaining: 1m 4s\n",
            "265:\ttest: 0.8550545\tbest: 0.8550545 (265)\ttotal: 1m 13s\tremaining: 1m 4s\n",
            "266:\ttest: 0.8551543\tbest: 0.8551543 (266)\ttotal: 1m 13s\tremaining: 1m 4s\n",
            "267:\ttest: 0.8552646\tbest: 0.8552646 (267)\ttotal: 1m 13s\tremaining: 1m 3s\n",
            "268:\ttest: 0.8553802\tbest: 0.8553802 (268)\ttotal: 1m 14s\tremaining: 1m 3s\n",
            "269:\ttest: 0.8554423\tbest: 0.8554423 (269)\ttotal: 1m 14s\tremaining: 1m 3s\n",
            "270:\ttest: 0.8554762\tbest: 0.8554762 (270)\ttotal: 1m 14s\tremaining: 1m 2s\n",
            "271:\ttest: 0.8560263\tbest: 0.8560263 (271)\ttotal: 1m 14s\tremaining: 1m 2s\n",
            "272:\ttest: 0.8560893\tbest: 0.8560893 (272)\ttotal: 1m 14s\tremaining: 1m 2s\n",
            "273:\ttest: 0.8561350\tbest: 0.8561350 (273)\ttotal: 1m 15s\tremaining: 1m 2s\n",
            "274:\ttest: 0.8562851\tbest: 0.8562851 (274)\ttotal: 1m 15s\tremaining: 1m 1s\n",
            "275:\ttest: 0.8563790\tbest: 0.8563790 (275)\ttotal: 1m 16s\tremaining: 1m 1s\n",
            "276:\ttest: 0.8564019\tbest: 0.8564019 (276)\ttotal: 1m 16s\tremaining: 1m 1s\n",
            "277:\ttest: 0.8564250\tbest: 0.8564250 (277)\ttotal: 1m 17s\tremaining: 1m 1s\n",
            "278:\ttest: 0.8564648\tbest: 0.8564648 (278)\ttotal: 1m 17s\tremaining: 1m 1s\n",
            "279:\ttest: 0.8566070\tbest: 0.8566070 (279)\ttotal: 1m 18s\tremaining: 1m 1s\n",
            "280:\ttest: 0.8566310\tbest: 0.8566310 (280)\ttotal: 1m 18s\tremaining: 1m 1s\n",
            "281:\ttest: 0.8566348\tbest: 0.8566348 (281)\ttotal: 1m 18s\tremaining: 1m\n",
            "282:\ttest: 0.8566314\tbest: 0.8566348 (281)\ttotal: 1m 19s\tremaining: 1m\n",
            "283:\ttest: 0.8566899\tbest: 0.8566899 (283)\ttotal: 1m 19s\tremaining: 1m\n",
            "284:\ttest: 0.8567160\tbest: 0.8567160 (284)\ttotal: 1m 20s\tremaining: 1m\n",
            "285:\ttest: 0.8570512\tbest: 0.8570512 (285)\ttotal: 1m 20s\tremaining: 1m\n",
            "286:\ttest: 0.8570515\tbest: 0.8570515 (286)\ttotal: 1m 20s\tremaining: 59.7s\n",
            "287:\ttest: 0.8571407\tbest: 0.8571407 (287)\ttotal: 1m 20s\tremaining: 59.4s\n",
            "288:\ttest: 0.8571848\tbest: 0.8571848 (288)\ttotal: 1m 20s\tremaining: 59.1s\n",
            "289:\ttest: 0.8571840\tbest: 0.8571848 (288)\ttotal: 1m 21s\tremaining: 58.8s\n",
            "290:\ttest: 0.8572327\tbest: 0.8572327 (290)\ttotal: 1m 21s\tremaining: 58.5s\n",
            "291:\ttest: 0.8572335\tbest: 0.8572335 (291)\ttotal: 1m 21s\tremaining: 58.1s\n",
            "292:\ttest: 0.8572725\tbest: 0.8572725 (292)\ttotal: 1m 21s\tremaining: 57.8s\n",
            "293:\ttest: 0.8572876\tbest: 0.8572876 (293)\ttotal: 1m 22s\tremaining: 57.5s\n",
            "294:\ttest: 0.8576410\tbest: 0.8576410 (294)\ttotal: 1m 22s\tremaining: 57.2s\n",
            "295:\ttest: 0.8578120\tbest: 0.8578120 (295)\ttotal: 1m 22s\tremaining: 56.9s\n",
            "296:\ttest: 0.8585827\tbest: 0.8585827 (296)\ttotal: 1m 22s\tremaining: 56.6s\n",
            "297:\ttest: 0.8591717\tbest: 0.8591717 (297)\ttotal: 1m 23s\tremaining: 56.3s\n",
            "298:\ttest: 0.8600780\tbest: 0.8600780 (298)\ttotal: 1m 23s\tremaining: 56s\n",
            "299:\ttest: 0.8601070\tbest: 0.8601070 (299)\ttotal: 1m 23s\tremaining: 55.7s\n",
            "300:\ttest: 0.8602011\tbest: 0.8602011 (300)\ttotal: 1m 23s\tremaining: 55.4s\n",
            "301:\ttest: 0.8610075\tbest: 0.8610075 (301)\ttotal: 1m 24s\tremaining: 55.1s\n",
            "302:\ttest: 0.8610468\tbest: 0.8610468 (302)\ttotal: 1m 24s\tremaining: 54.8s\n",
            "303:\ttest: 0.8610911\tbest: 0.8610911 (303)\ttotal: 1m 24s\tremaining: 54.5s\n",
            "304:\ttest: 0.8611678\tbest: 0.8611678 (304)\ttotal: 1m 24s\tremaining: 54.3s\n",
            "305:\ttest: 0.8615041\tbest: 0.8615041 (305)\ttotal: 1m 25s\tremaining: 54s\n",
            "306:\ttest: 0.8614845\tbest: 0.8615041 (305)\ttotal: 1m 25s\tremaining: 53.7s\n",
            "307:\ttest: 0.8615365\tbest: 0.8615365 (307)\ttotal: 1m 25s\tremaining: 53.4s\n",
            "308:\ttest: 0.8615443\tbest: 0.8615443 (308)\ttotal: 1m 25s\tremaining: 53.1s\n",
            "309:\ttest: 0.8615736\tbest: 0.8615736 (309)\ttotal: 1m 26s\tremaining: 52.8s\n",
            "310:\ttest: 0.8622850\tbest: 0.8622850 (310)\ttotal: 1m 26s\tremaining: 52.5s\n",
            "311:\ttest: 0.8623439\tbest: 0.8623439 (311)\ttotal: 1m 26s\tremaining: 52.2s\n",
            "312:\ttest: 0.8623829\tbest: 0.8623829 (312)\ttotal: 1m 26s\tremaining: 51.9s\n",
            "313:\ttest: 0.8624387\tbest: 0.8624387 (313)\ttotal: 1m 27s\tremaining: 51.6s\n",
            "314:\ttest: 0.8626531\tbest: 0.8626531 (314)\ttotal: 1m 27s\tremaining: 51.4s\n",
            "315:\ttest: 0.8634902\tbest: 0.8634902 (315)\ttotal: 1m 27s\tremaining: 51s\n",
            "316:\ttest: 0.8639208\tbest: 0.8639208 (316)\ttotal: 1m 27s\tremaining: 50.7s\n",
            "317:\ttest: 0.8639543\tbest: 0.8639543 (317)\ttotal: 1m 27s\tremaining: 50.4s\n",
            "318:\ttest: 0.8643814\tbest: 0.8643814 (318)\ttotal: 1m 28s\tremaining: 50s\n",
            "319:\ttest: 0.8644112\tbest: 0.8644112 (319)\ttotal: 1m 28s\tremaining: 49.7s\n",
            "320:\ttest: 0.8652188\tbest: 0.8652188 (320)\ttotal: 1m 28s\tremaining: 49.4s\n",
            "321:\ttest: 0.8652669\tbest: 0.8652669 (321)\ttotal: 1m 28s\tremaining: 49.1s\n",
            "322:\ttest: 0.8654289\tbest: 0.8654289 (322)\ttotal: 1m 29s\tremaining: 48.8s\n",
            "323:\ttest: 0.8654461\tbest: 0.8654461 (323)\ttotal: 1m 29s\tremaining: 48.5s\n",
            "324:\ttest: 0.8654566\tbest: 0.8654566 (324)\ttotal: 1m 29s\tremaining: 48.3s\n",
            "325:\ttest: 0.8655124\tbest: 0.8655124 (325)\ttotal: 1m 29s\tremaining: 48s\n",
            "326:\ttest: 0.8656095\tbest: 0.8656095 (326)\ttotal: 1m 30s\tremaining: 47.8s\n",
            "327:\ttest: 0.8658157\tbest: 0.8658157 (327)\ttotal: 1m 30s\tremaining: 47.6s\n",
            "328:\ttest: 0.8658427\tbest: 0.8658427 (328)\ttotal: 1m 31s\tremaining: 47.5s\n",
            "329:\ttest: 0.8663760\tbest: 0.8663760 (329)\ttotal: 1m 31s\tremaining: 47.3s\n",
            "330:\ttest: 0.8663846\tbest: 0.8663846 (330)\ttotal: 1m 32s\tremaining: 47.1s\n",
            "331:\ttest: 0.8664198\tbest: 0.8664198 (331)\ttotal: 1m 32s\tremaining: 46.9s\n",
            "332:\ttest: 0.8664367\tbest: 0.8664367 (332)\ttotal: 1m 33s\tremaining: 46.7s\n",
            "333:\ttest: 0.8664711\tbest: 0.8664711 (333)\ttotal: 1m 33s\tremaining: 46.5s\n",
            "334:\ttest: 0.8664723\tbest: 0.8664723 (334)\ttotal: 1m 33s\tremaining: 46.3s\n",
            "335:\ttest: 0.8671797\tbest: 0.8671797 (335)\ttotal: 1m 34s\tremaining: 46.1s\n",
            "336:\ttest: 0.8671850\tbest: 0.8671850 (336)\ttotal: 1m 34s\tremaining: 45.8s\n",
            "337:\ttest: 0.8672283\tbest: 0.8672283 (337)\ttotal: 1m 35s\tremaining: 45.5s\n",
            "338:\ttest: 0.8675758\tbest: 0.8675758 (338)\ttotal: 1m 35s\tremaining: 45.3s\n",
            "339:\ttest: 0.8682404\tbest: 0.8682404 (339)\ttotal: 1m 35s\tremaining: 45s\n",
            "340:\ttest: 0.8687812\tbest: 0.8687812 (340)\ttotal: 1m 35s\tremaining: 44.7s\n",
            "341:\ttest: 0.8690393\tbest: 0.8690393 (341)\ttotal: 1m 36s\tremaining: 44.4s\n",
            "342:\ttest: 0.8690854\tbest: 0.8690854 (342)\ttotal: 1m 36s\tremaining: 44.1s\n",
            "343:\ttest: 0.8691158\tbest: 0.8691158 (343)\ttotal: 1m 36s\tremaining: 43.8s\n",
            "344:\ttest: 0.8691470\tbest: 0.8691470 (344)\ttotal: 1m 36s\tremaining: 43.5s\n",
            "345:\ttest: 0.8698042\tbest: 0.8698042 (345)\ttotal: 1m 37s\tremaining: 43.2s\n",
            "346:\ttest: 0.8698229\tbest: 0.8698229 (346)\ttotal: 1m 37s\tremaining: 42.9s\n",
            "347:\ttest: 0.8703787\tbest: 0.8703787 (347)\ttotal: 1m 37s\tremaining: 42.7s\n",
            "348:\ttest: 0.8710204\tbest: 0.8710204 (348)\ttotal: 1m 37s\tremaining: 42.3s\n",
            "349:\ttest: 0.8710219\tbest: 0.8710219 (349)\ttotal: 1m 38s\tremaining: 42s\n",
            "350:\ttest: 0.8710524\tbest: 0.8710524 (350)\ttotal: 1m 38s\tremaining: 41.8s\n",
            "351:\ttest: 0.8711413\tbest: 0.8711413 (351)\ttotal: 1m 38s\tremaining: 41.5s\n",
            "352:\ttest: 0.8712034\tbest: 0.8712034 (352)\ttotal: 1m 38s\tremaining: 41.2s\n",
            "353:\ttest: 0.8718315\tbest: 0.8718315 (353)\ttotal: 1m 39s\tremaining: 40.9s\n",
            "354:\ttest: 0.8718165\tbest: 0.8718315 (353)\ttotal: 1m 39s\tremaining: 40.6s\n",
            "355:\ttest: 0.8718451\tbest: 0.8718451 (355)\ttotal: 1m 39s\tremaining: 40.4s\n",
            "356:\ttest: 0.8718549\tbest: 0.8718549 (356)\ttotal: 1m 39s\tremaining: 40.1s\n",
            "357:\ttest: 0.8718891\tbest: 0.8718891 (357)\ttotal: 1m 40s\tremaining: 39.8s\n",
            "358:\ttest: 0.8719835\tbest: 0.8719835 (358)\ttotal: 1m 40s\tremaining: 39.5s\n",
            "359:\ttest: 0.8720112\tbest: 0.8720112 (359)\ttotal: 1m 40s\tremaining: 39.2s\n",
            "360:\ttest: 0.8722517\tbest: 0.8722517 (360)\ttotal: 1m 41s\tremaining: 38.9s\n",
            "361:\ttest: 0.8723447\tbest: 0.8723447 (361)\ttotal: 1m 41s\tremaining: 38.6s\n",
            "362:\ttest: 0.8723867\tbest: 0.8723867 (362)\ttotal: 1m 41s\tremaining: 38.3s\n",
            "363:\ttest: 0.8727046\tbest: 0.8727046 (363)\ttotal: 1m 41s\tremaining: 38s\n",
            "364:\ttest: 0.8726870\tbest: 0.8727046 (363)\ttotal: 1m 42s\tremaining: 37.8s\n",
            "365:\ttest: 0.8727068\tbest: 0.8727068 (365)\ttotal: 1m 42s\tremaining: 37.5s\n",
            "366:\ttest: 0.8734278\tbest: 0.8734278 (366)\ttotal: 1m 42s\tremaining: 37.2s\n",
            "367:\ttest: 0.8739236\tbest: 0.8739236 (367)\ttotal: 1m 42s\tremaining: 36.9s\n",
            "368:\ttest: 0.8741949\tbest: 0.8741949 (368)\ttotal: 1m 43s\tremaining: 36.6s\n",
            "369:\ttest: 0.8742015\tbest: 0.8742015 (369)\ttotal: 1m 43s\tremaining: 36.3s\n",
            "370:\ttest: 0.8746804\tbest: 0.8746804 (370)\ttotal: 1m 43s\tremaining: 36s\n",
            "371:\ttest: 0.8751369\tbest: 0.8751369 (371)\ttotal: 1m 43s\tremaining: 35.7s\n",
            "372:\ttest: 0.8751529\tbest: 0.8751529 (372)\ttotal: 1m 44s\tremaining: 35.5s\n",
            "373:\ttest: 0.8752534\tbest: 0.8752534 (373)\ttotal: 1m 44s\tremaining: 35.2s\n",
            "374:\ttest: 0.8754996\tbest: 0.8754996 (374)\ttotal: 1m 44s\tremaining: 34.9s\n",
            "375:\ttest: 0.8755014\tbest: 0.8755014 (375)\ttotal: 1m 45s\tremaining: 34.7s\n",
            "376:\ttest: 0.8755647\tbest: 0.8755647 (376)\ttotal: 1m 45s\tremaining: 34.4s\n",
            "377:\ttest: 0.8761378\tbest: 0.8761378 (377)\ttotal: 1m 46s\tremaining: 34.2s\n",
            "378:\ttest: 0.8763390\tbest: 0.8763390 (378)\ttotal: 1m 46s\tremaining: 34s\n",
            "379:\ttest: 0.8768851\tbest: 0.8768851 (379)\ttotal: 1m 46s\tremaining: 33.8s\n",
            "380:\ttest: 0.8769373\tbest: 0.8769373 (380)\ttotal: 1m 47s\tremaining: 33.5s\n",
            "381:\ttest: 0.8769640\tbest: 0.8769640 (381)\ttotal: 1m 47s\tremaining: 33.3s\n",
            "382:\ttest: 0.8769734\tbest: 0.8769734 (382)\ttotal: 1m 48s\tremaining: 33.1s\n",
            "383:\ttest: 0.8770043\tbest: 0.8770043 (383)\ttotal: 1m 48s\tremaining: 32.9s\n",
            "384:\ttest: 0.8770543\tbest: 0.8770543 (384)\ttotal: 1m 49s\tremaining: 32.7s\n",
            "385:\ttest: 0.8774741\tbest: 0.8774741 (385)\ttotal: 1m 49s\tremaining: 32.4s\n",
            "386:\ttest: 0.8775238\tbest: 0.8775238 (386)\ttotal: 1m 49s\tremaining: 32.1s\n",
            "387:\ttest: 0.8778244\tbest: 0.8778244 (387)\ttotal: 1m 50s\tremaining: 31.8s\n",
            "388:\ttest: 0.8778561\tbest: 0.8778561 (388)\ttotal: 1m 50s\tremaining: 31.5s\n",
            "389:\ttest: 0.8779234\tbest: 0.8779234 (389)\ttotal: 1m 50s\tremaining: 31.2s\n",
            "390:\ttest: 0.8783271\tbest: 0.8783271 (390)\ttotal: 1m 51s\tremaining: 31s\n",
            "391:\ttest: 0.8784542\tbest: 0.8784542 (391)\ttotal: 1m 51s\tremaining: 30.7s\n",
            "392:\ttest: 0.8784581\tbest: 0.8784581 (392)\ttotal: 1m 51s\tremaining: 30.4s\n",
            "393:\ttest: 0.8785067\tbest: 0.8785067 (393)\ttotal: 1m 51s\tremaining: 30.1s\n",
            "394:\ttest: 0.8789464\tbest: 0.8789464 (394)\ttotal: 1m 52s\tremaining: 29.8s\n",
            "395:\ttest: 0.8789941\tbest: 0.8789941 (395)\ttotal: 1m 52s\tremaining: 29.5s\n",
            "396:\ttest: 0.8792436\tbest: 0.8792436 (396)\ttotal: 1m 52s\tremaining: 29.2s\n",
            "397:\ttest: 0.8792639\tbest: 0.8792639 (397)\ttotal: 1m 52s\tremaining: 29s\n",
            "398:\ttest: 0.8792871\tbest: 0.8792871 (398)\ttotal: 1m 53s\tremaining: 28.7s\n",
            "399:\ttest: 0.8794412\tbest: 0.8794412 (399)\ttotal: 1m 53s\tremaining: 28.4s\n",
            "400:\ttest: 0.8794847\tbest: 0.8794847 (400)\ttotal: 1m 53s\tremaining: 28.1s\n",
            "401:\ttest: 0.8794997\tbest: 0.8794997 (401)\ttotal: 1m 54s\tremaining: 27.8s\n",
            "402:\ttest: 0.8795319\tbest: 0.8795319 (402)\ttotal: 1m 54s\tremaining: 27.5s\n",
            "403:\ttest: 0.8797208\tbest: 0.8797208 (403)\ttotal: 1m 54s\tremaining: 27.2s\n",
            "404:\ttest: 0.8797587\tbest: 0.8797587 (404)\ttotal: 1m 54s\tremaining: 26.9s\n",
            "405:\ttest: 0.8798509\tbest: 0.8798509 (405)\ttotal: 1m 55s\tremaining: 26.6s\n",
            "406:\ttest: 0.8798773\tbest: 0.8798773 (406)\ttotal: 1m 55s\tremaining: 26.4s\n",
            "407:\ttest: 0.8798867\tbest: 0.8798867 (407)\ttotal: 1m 55s\tremaining: 26.1s\n",
            "408:\ttest: 0.8799366\tbest: 0.8799366 (408)\ttotal: 1m 55s\tremaining: 25.8s\n",
            "409:\ttest: 0.8800003\tbest: 0.8800003 (409)\ttotal: 1m 56s\tremaining: 25.5s\n",
            "410:\ttest: 0.8800223\tbest: 0.8800223 (410)\ttotal: 1m 56s\tremaining: 25.2s\n",
            "411:\ttest: 0.8801236\tbest: 0.8801236 (411)\ttotal: 1m 56s\tremaining: 24.9s\n",
            "412:\ttest: 0.8802297\tbest: 0.8802297 (412)\ttotal: 1m 57s\tremaining: 24.7s\n",
            "413:\ttest: 0.8802487\tbest: 0.8802487 (413)\ttotal: 1m 57s\tremaining: 24.4s\n",
            "414:\ttest: 0.8804832\tbest: 0.8804832 (414)\ttotal: 1m 57s\tremaining: 24.2s\n",
            "415:\ttest: 0.8805203\tbest: 0.8805203 (415)\ttotal: 1m 58s\tremaining: 23.9s\n",
            "416:\ttest: 0.8807394\tbest: 0.8807394 (416)\ttotal: 1m 59s\tremaining: 23.7s\n",
            "417:\ttest: 0.8812142\tbest: 0.8812142 (417)\ttotal: 1m 59s\tremaining: 23.5s\n",
            "418:\ttest: 0.8812430\tbest: 0.8812430 (418)\ttotal: 2m\tremaining: 23.2s\n",
            "419:\ttest: 0.8812420\tbest: 0.8812430 (418)\ttotal: 2m\tremaining: 23s\n",
            "420:\ttest: 0.8812742\tbest: 0.8812742 (420)\ttotal: 2m 1s\tremaining: 22.7s\n",
            "421:\ttest: 0.8813487\tbest: 0.8813487 (421)\ttotal: 2m 1s\tremaining: 22.5s\n",
            "422:\ttest: 0.8813643\tbest: 0.8813643 (422)\ttotal: 2m 2s\tremaining: 22.2s\n",
            "423:\ttest: 0.8814068\tbest: 0.8814068 (423)\ttotal: 2m 2s\tremaining: 22s\n",
            "424:\ttest: 0.8819364\tbest: 0.8819364 (424)\ttotal: 2m 3s\tremaining: 21.7s\n",
            "425:\ttest: 0.8820208\tbest: 0.8820208 (425)\ttotal: 2m 3s\tremaining: 21.5s\n",
            "426:\ttest: 0.8822562\tbest: 0.8822562 (426)\ttotal: 2m 4s\tremaining: 21.2s\n",
            "427:\ttest: 0.8824915\tbest: 0.8824915 (427)\ttotal: 2m 4s\tremaining: 21s\n",
            "428:\ttest: 0.8830034\tbest: 0.8830034 (428)\ttotal: 2m 5s\tremaining: 20.7s\n",
            "429:\ttest: 0.8830246\tbest: 0.8830246 (429)\ttotal: 2m 5s\tremaining: 20.5s\n",
            "430:\ttest: 0.8831823\tbest: 0.8831823 (430)\ttotal: 2m 6s\tremaining: 20.2s\n",
            "431:\ttest: 0.8836258\tbest: 0.8836258 (431)\ttotal: 2m 6s\tremaining: 19.9s\n",
            "432:\ttest: 0.8840836\tbest: 0.8840836 (432)\ttotal: 2m 6s\tremaining: 19.6s\n",
            "433:\ttest: 0.8841133\tbest: 0.8841133 (433)\ttotal: 2m 7s\tremaining: 19.3s\n",
            "434:\ttest: 0.8841397\tbest: 0.8841397 (434)\ttotal: 2m 7s\tremaining: 19s\n",
            "435:\ttest: 0.8841396\tbest: 0.8841397 (434)\ttotal: 2m 7s\tremaining: 18.7s\n",
            "436:\ttest: 0.8841282\tbest: 0.8841397 (434)\ttotal: 2m 8s\tremaining: 18.5s\n",
            "437:\ttest: 0.8841273\tbest: 0.8841397 (434)\ttotal: 2m 8s\tremaining: 18.2s\n",
            "438:\ttest: 0.8841565\tbest: 0.8841565 (438)\ttotal: 2m 8s\tremaining: 17.9s\n",
            "439:\ttest: 0.8845981\tbest: 0.8845981 (439)\ttotal: 2m 8s\tremaining: 17.6s\n",
            "440:\ttest: 0.8849382\tbest: 0.8849382 (440)\ttotal: 2m 8s\tremaining: 17.3s\n",
            "441:\ttest: 0.8849836\tbest: 0.8849836 (441)\ttotal: 2m 9s\tremaining: 17s\n",
            "442:\ttest: 0.8849610\tbest: 0.8849836 (441)\ttotal: 2m 9s\tremaining: 16.7s\n",
            "443:\ttest: 0.8850248\tbest: 0.8850248 (443)\ttotal: 2m 9s\tremaining: 16.4s\n",
            "444:\ttest: 0.8852927\tbest: 0.8852927 (444)\ttotal: 2m 10s\tremaining: 16.1s\n",
            "445:\ttest: 0.8853176\tbest: 0.8853176 (445)\ttotal: 2m 10s\tremaining: 15.8s\n",
            "446:\ttest: 0.8855852\tbest: 0.8855852 (446)\ttotal: 2m 10s\tremaining: 15.5s\n",
            "447:\ttest: 0.8855892\tbest: 0.8855892 (447)\ttotal: 2m 10s\tremaining: 15.2s\n",
            "448:\ttest: 0.8855957\tbest: 0.8855957 (448)\ttotal: 2m 11s\tremaining: 14.9s\n",
            "449:\ttest: 0.8857263\tbest: 0.8857263 (449)\ttotal: 2m 11s\tremaining: 14.6s\n",
            "450:\ttest: 0.8857785\tbest: 0.8857785 (450)\ttotal: 2m 11s\tremaining: 14.3s\n",
            "451:\ttest: 0.8858194\tbest: 0.8858194 (451)\ttotal: 2m 11s\tremaining: 14s\n",
            "452:\ttest: 0.8858951\tbest: 0.8858951 (452)\ttotal: 2m 11s\tremaining: 13.7s\n",
            "453:\ttest: 0.8858802\tbest: 0.8858951 (452)\ttotal: 2m 12s\tremaining: 13.4s\n",
            "454:\ttest: 0.8858968\tbest: 0.8858968 (454)\ttotal: 2m 12s\tremaining: 13.1s\n",
            "455:\ttest: 0.8859097\tbest: 0.8859097 (455)\ttotal: 2m 12s\tremaining: 12.8s\n",
            "456:\ttest: 0.8859244\tbest: 0.8859244 (456)\ttotal: 2m 12s\tremaining: 12.5s\n",
            "457:\ttest: 0.8859633\tbest: 0.8859633 (457)\ttotal: 2m 13s\tremaining: 12.2s\n",
            "458:\ttest: 0.8862967\tbest: 0.8862967 (458)\ttotal: 2m 13s\tremaining: 11.9s\n",
            "459:\ttest: 0.8865702\tbest: 0.8865702 (459)\ttotal: 2m 13s\tremaining: 11.6s\n",
            "460:\ttest: 0.8870399\tbest: 0.8870399 (460)\ttotal: 2m 14s\tremaining: 11.3s\n",
            "461:\ttest: 0.8870416\tbest: 0.8870416 (461)\ttotal: 2m 14s\tremaining: 11.1s\n",
            "462:\ttest: 0.8873130\tbest: 0.8873130 (462)\ttotal: 2m 14s\tremaining: 10.8s\n",
            "463:\ttest: 0.8878265\tbest: 0.8878265 (463)\ttotal: 2m 14s\tremaining: 10.5s\n",
            "464:\ttest: 0.8878346\tbest: 0.8878346 (464)\ttotal: 2m 15s\tremaining: 10.2s\n",
            "465:\ttest: 0.8879123\tbest: 0.8879123 (465)\ttotal: 2m 15s\tremaining: 9.88s\n",
            "466:\ttest: 0.8881507\tbest: 0.8881507 (466)\ttotal: 2m 15s\tremaining: 9.59s\n",
            "467:\ttest: 0.8881435\tbest: 0.8881507 (466)\ttotal: 2m 15s\tremaining: 9.29s\n",
            "468:\ttest: 0.8883073\tbest: 0.8883073 (468)\ttotal: 2m 16s\tremaining: 9s\n",
            "469:\ttest: 0.8883499\tbest: 0.8883499 (469)\ttotal: 2m 16s\tremaining: 8.71s\n",
            "470:\ttest: 0.8888127\tbest: 0.8888127 (470)\ttotal: 2m 16s\tremaining: 8.43s\n",
            "471:\ttest: 0.8888876\tbest: 0.8888876 (471)\ttotal: 2m 17s\tremaining: 8.15s\n",
            "472:\ttest: 0.8892767\tbest: 0.8892767 (472)\ttotal: 2m 17s\tremaining: 7.87s\n",
            "473:\ttest: 0.8893222\tbest: 0.8893222 (473)\ttotal: 2m 18s\tremaining: 7.59s\n",
            "474:\ttest: 0.8897232\tbest: 0.8897232 (474)\ttotal: 2m 18s\tremaining: 7.31s\n",
            "475:\ttest: 0.8897335\tbest: 0.8897335 (475)\ttotal: 2m 19s\tremaining: 7.02s\n",
            "476:\ttest: 0.8897471\tbest: 0.8897471 (476)\ttotal: 2m 19s\tremaining: 6.74s\n",
            "477:\ttest: 0.8901686\tbest: 0.8901686 (477)\ttotal: 2m 20s\tremaining: 6.45s\n",
            "478:\ttest: 0.8900937\tbest: 0.8901686 (477)\ttotal: 2m 20s\tremaining: 6.17s\n",
            "479:\ttest: 0.8905051\tbest: 0.8905051 (479)\ttotal: 2m 21s\tremaining: 5.88s\n",
            "480:\ttest: 0.8905115\tbest: 0.8905115 (480)\ttotal: 2m 21s\tremaining: 5.59s\n",
            "481:\ttest: 0.8905395\tbest: 0.8905395 (481)\ttotal: 2m 21s\tremaining: 5.29s\n",
            "482:\ttest: 0.8905684\tbest: 0.8905684 (482)\ttotal: 2m 21s\tremaining: 5s\n",
            "483:\ttest: 0.8905910\tbest: 0.8905910 (483)\ttotal: 2m 22s\tremaining: 4.7s\n",
            "484:\ttest: 0.8905544\tbest: 0.8905910 (483)\ttotal: 2m 22s\tremaining: 4.41s\n",
            "485:\ttest: 0.8907659\tbest: 0.8907659 (485)\ttotal: 2m 22s\tremaining: 4.11s\n",
            "486:\ttest: 0.8908994\tbest: 0.8908994 (486)\ttotal: 2m 23s\tremaining: 3.82s\n",
            "487:\ttest: 0.8909994\tbest: 0.8909994 (487)\ttotal: 2m 23s\tremaining: 3.52s\n",
            "488:\ttest: 0.8910036\tbest: 0.8910036 (488)\ttotal: 2m 23s\tremaining: 3.23s\n",
            "489:\ttest: 0.8910232\tbest: 0.8910232 (489)\ttotal: 2m 23s\tremaining: 2.94s\n",
            "490:\ttest: 0.8910263\tbest: 0.8910263 (490)\ttotal: 2m 24s\tremaining: 2.64s\n",
            "491:\ttest: 0.8910847\tbest: 0.8910847 (491)\ttotal: 2m 24s\tremaining: 2.35s\n",
            "492:\ttest: 0.8910753\tbest: 0.8910847 (491)\ttotal: 2m 24s\tremaining: 2.05s\n",
            "493:\ttest: 0.8911177\tbest: 0.8911177 (493)\ttotal: 2m 24s\tremaining: 1.76s\n",
            "494:\ttest: 0.8911955\tbest: 0.8911955 (494)\ttotal: 2m 25s\tremaining: 1.47s\n",
            "495:\ttest: 0.8912191\tbest: 0.8912191 (495)\ttotal: 2m 25s\tremaining: 1.17s\n",
            "496:\ttest: 0.8912256\tbest: 0.8912256 (496)\ttotal: 2m 25s\tremaining: 879ms\n",
            "497:\ttest: 0.8912958\tbest: 0.8912958 (497)\ttotal: 2m 25s\tremaining: 586ms\n",
            "498:\ttest: 0.8913187\tbest: 0.8913187 (498)\ttotal: 2m 26s\tremaining: 293ms\n",
            "499:\ttest: 0.8914069\tbest: 0.8914069 (499)\ttotal: 2m 26s\tremaining: 0us\n",
            "\n",
            "bestTest = 0.8914069446\n",
            "bestIteration = 499\n",
            "\n"
          ]
        }
      ]
    },
    {
      "cell_type": "code",
      "source": [
        "ctb_test_pred = ctb.predict_proba(test_df)[:, 1]\n",
        "ctb_test_pred\n",
        "\n",
        "# array([0.01751595, 0.04798026, 0.03079552, ..., 0.43106122, 0.06908342,\n",
        "#        0.15010744])\n",
        "\n",
        "# array([0.01354074, 0.0532012 , 0.02625807, ..., 0.50822915, 0.07478639,\n",
        "#        0.15840951])\n",
        "\n",
        "# array([0.01266802, 0.05563983, 0.02666962, ..., 0.52194224, 0.0763849 ,\n",
        "#        0.16049282])\n",
        "\n",
        "# array([0.02114111, 0.04496973, 0.03002092, ..., 0.36789419, 0.07159183,\n",
        "#        0.1456582 ]) + learning rate 0.1\n",
        "\n",
        "# array([0.01806567, 0.04811216, 0.02953581, ..., 0.41583744, 0.06877989,\n",
        "#        0.14860559])"
      ],
      "metadata": {
        "id": "BLz5SIrybgTk",
        "colab": {
          "base_uri": "https://localhost:8080/"
        },
        "outputId": "abdf10e0-9c5f-4453-b5a0-db23235241cd"
      },
      "execution_count": null,
      "outputs": [
        {
          "output_type": "execute_result",
          "data": {
            "text/plain": [
              "array([0.01751595, 0.04798026, 0.03079552, ..., 0.43106122, 0.06908342,\n",
              "       0.15010744])"
            ]
          },
          "metadata": {},
          "execution_count": 24
        }
      ]
    },
    {
      "cell_type": "markdown",
      "metadata": {
        "id": "iIQWDhbIEyRt"
      },
      "source": [
        "# Submit Result"
      ]
    },
    {
      "cell_type": "code",
      "source": [
        "# Prepare the submission file with test data probabilities\n",
        "submission = pd.DataFrame({\n",
        "    'id': range(len(ctb_test_pred)),\n",
        "    'dep_delayed_15min': ctb_test_pred\n",
        "})\n",
        "\n",
        "# Save the submission to a CSV file\n",
        "submission.to_csv('submission.csv', index=False)\n",
        "\n",
        "# Display the first few rows of the submission\n",
        "print(submission.head())"
      ],
      "metadata": {
        "id": "-bkL4_7qIdls",
        "colab": {
          "base_uri": "https://localhost:8080/"
        },
        "outputId": "ed9e323e-7b2d-48ca-af85-35cc53a277ea"
      },
      "execution_count": null,
      "outputs": [
        {
          "output_type": "stream",
          "name": "stdout",
          "text": [
            "   id  dep_delayed_15min\n",
            "0   0           0.017516\n",
            "1   1           0.047980\n",
            "2   2           0.030796\n",
            "3   3           0.344056\n",
            "4   4           0.357655\n"
          ]
        }
      ]
    },
    {
      "cell_type": "code",
      "execution_count": null,
      "metadata": {
        "id": "7t_O6HrpJC4T",
        "colab": {
          "base_uri": "https://localhost:8080/"
        },
        "outputId": "43dc1cb8-b6e0-4aa9-cdac-fc5e66e5b5ae"
      },
      "outputs": [
        {
          "output_type": "stream",
          "name": "stdout",
          "text": [
            "<class 'pandas.core.frame.DataFrame'>\n",
            "RangeIndex: 100000 entries, 0 to 99999\n",
            "Data columns (total 2 columns):\n",
            " #   Column             Non-Null Count   Dtype  \n",
            "---  ------             --------------   -----  \n",
            " 0   id                 100000 non-null  int64  \n",
            " 1   dep_delayed_15min  100000 non-null  float64\n",
            "dtypes: float64(1), int64(1)\n",
            "memory usage: 1.5 MB\n"
          ]
        }
      ],
      "source": [
        "submission.info()"
      ]
    }
  ],
  "metadata": {
    "colab": {
      "provenance": []
    },
    "kernelspec": {
      "display_name": "Python 3",
      "name": "python3"
    },
    "language_info": {
      "name": "python"
    },
    "widgets": {
      "application/vnd.jupyter.widget-state+json": {
        "f06ae61eabc44b73b718c6591bdcb06e": {
          "model_module": "catboost-widget",
          "model_name": "CatboostWidgetModel",
          "model_module_version": "^1.0.0",
          "state": {
            "_dom_classes": [],
            "_model_module": "catboost-widget",
            "_model_module_version": "^1.0.0",
            "_model_name": "CatboostWidgetModel",
            "_view_count": null,
            "_view_module": "catboost-widget",
            "_view_module_version": "^1.0.0",
            "_view_name": "CatboostWidgetView",
            "data": {
              "catboost_info": {
                "path": "catboost_info",
                "name": "catboost_info",
                "content": {
                  "passed_iterations": 499,
                  "total_iterations": 500,
                  "data": {
                    "iterations": [
                      {
                        "learn": [
                          0.67750223
                        ],
                        "iteration": 0,
                        "passed_time": 0.4071374567,
                        "remaining_time": 203.1615909,
                        "test": [
                          0.6509472425,
                          0.6774109326
                        ]
                      },
                      {
                        "learn": [
                          0.6625141856
                        ],
                        "iteration": 1,
                        "passed_time": 0.5823209845,
                        "remaining_time": 144.9979251,
                        "test": [
                          0.6638555823,
                          0.6623505569
                        ]
                      },
                      {
                        "learn": [
                          0.6481553475
                        ],
                        "iteration": 2,
                        "passed_time": 1.031947277,
                        "remaining_time": 170.9592655,
                        "test": [
                          0.6704402563,
                          0.6479672601
                        ]
                      },
                      {
                        "learn": [
                          0.6350831115
                        ],
                        "iteration": 3,
                        "passed_time": 1.344573326,
                        "remaining_time": 166.7270924,
                        "test": [
                          0.6762358162,
                          0.6348152972
                        ]
                      },
                      {
                        "learn": [
                          0.6219339159
                        ],
                        "iteration": 4,
                        "passed_time": 1.78202031,
                        "remaining_time": 176.4200107,
                        "test": [
                          0.6800337884,
                          0.6216287342
                        ]
                      },
                      {
                        "learn": [
                          0.6109826724
                        ],
                        "iteration": 5,
                        "passed_time": 1.955724399,
                        "remaining_time": 161.0213089,
                        "test": [
                          0.6799767732,
                          0.6106280668
                        ]
                      },
                      {
                        "learn": [
                          0.5993559788
                        ],
                        "iteration": 6,
                        "passed_time": 2.346841609,
                        "remaining_time": 165.2847019,
                        "test": [
                          0.6844099217,
                          0.5986581561
                        ]
                      },
                      {
                        "learn": [
                          0.5886363158
                        ],
                        "iteration": 7,
                        "passed_time": 2.66785892,
                        "remaining_time": 164.0733236,
                        "test": [
                          0.6880126057,
                          0.5878636964
                        ]
                      },
                      {
                        "learn": [
                          0.5788327327
                        ],
                        "iteration": 8,
                        "passed_time": 3.044567901,
                        "remaining_time": 166.0980933,
                        "test": [
                          0.6898592734,
                          0.5780691261
                        ]
                      },
                      {
                        "learn": [
                          0.5699504901
                        ],
                        "iteration": 9,
                        "passed_time": 3.475643578,
                        "remaining_time": 170.3065353,
                        "test": [
                          0.6914502102,
                          0.5692097356
                        ]
                      },
                      {
                        "learn": [
                          0.5616448907
                        ],
                        "iteration": 10,
                        "passed_time": 4.040909612,
                        "remaining_time": 179.6368,
                        "test": [
                          0.6926915366,
                          0.5608587812
                        ]
                      },
                      {
                        "learn": [
                          0.5539813677
                        ],
                        "iteration": 11,
                        "passed_time": 4.467972009,
                        "remaining_time": 181.6975283,
                        "test": [
                          0.6929926513,
                          0.5530242803
                        ]
                      },
                      {
                        "learn": [
                          0.5472556456
                        ],
                        "iteration": 12,
                        "passed_time": 4.828102457,
                        "remaining_time": 180.8681459,
                        "test": [
                          0.6936338738,
                          0.5462239856
                        ]
                      },
                      {
                        "learn": [
                          0.54091198
                        ],
                        "iteration": 13,
                        "passed_time": 5.327282247,
                        "remaining_time": 184.932798,
                        "test": [
                          0.6944818237,
                          0.5399046578
                        ]
                      },
                      {
                        "learn": [
                          0.5345159871
                        ],
                        "iteration": 14,
                        "passed_time": 5.651293948,
                        "remaining_time": 182.725171,
                        "test": [
                          0.6950468336,
                          0.5334571419
                        ]
                      },
                      {
                        "learn": [
                          0.5295409299
                        ],
                        "iteration": 15,
                        "passed_time": 5.789580053,
                        "remaining_time": 175.1347966,
                        "test": [
                          0.6948654292,
                          0.5284810624
                        ]
                      },
                      {
                        "learn": [
                          0.5248163789
                        ],
                        "iteration": 16,
                        "passed_time": 5.936948617,
                        "remaining_time": 168.6791872,
                        "test": [
                          0.6950673656,
                          0.5237136049
                        ]
                      },
                      {
                        "learn": [
                          0.5195975262
                        ],
                        "iteration": 17,
                        "passed_time": 6.140873388,
                        "remaining_time": 164.438943,
                        "test": [
                          0.6955327003,
                          0.5183249005
                        ]
                      },
                      {
                        "learn": [
                          0.514781096
                        ],
                        "iteration": 18,
                        "passed_time": 6.338723588,
                        "remaining_time": 160.4697919,
                        "test": [
                          0.6964798939,
                          0.5134919686
                        ]
                      },
                      {
                        "learn": [
                          0.5106589992
                        ],
                        "iteration": 19,
                        "passed_time": 6.520862697,
                        "remaining_time": 156.5007047,
                        "test": [
                          0.6969622533,
                          0.5093514838
                        ]
                      },
                      {
                        "learn": [
                          0.506192529
                        ],
                        "iteration": 20,
                        "passed_time": 6.743824812,
                        "remaining_time": 153.8234326,
                        "test": [
                          0.6973651722,
                          0.5046621694
                        ]
                      },
                      {
                        "learn": [
                          0.5021775517
                        ],
                        "iteration": 21,
                        "passed_time": 6.995465728,
                        "remaining_time": 151.9923917,
                        "test": [
                          0.6976703128,
                          0.5006537607
                        ]
                      },
                      {
                        "learn": [
                          0.4985425024
                        ],
                        "iteration": 22,
                        "passed_time": 7.256147064,
                        "remaining_time": 150.4861804,
                        "test": [
                          0.6979847963,
                          0.4970055073
                        ]
                      },
                      {
                        "learn": [
                          0.4951995416
                        ],
                        "iteration": 23,
                        "passed_time": 7.502185392,
                        "remaining_time": 148.7933436,
                        "test": [
                          0.6981551675,
                          0.4936534643
                        ]
                      },
                      {
                        "learn": [
                          0.4918269891
                        ],
                        "iteration": 24,
                        "passed_time": 7.665339011,
                        "remaining_time": 145.6414412,
                        "test": [
                          0.6987397882,
                          0.4901496145
                        ]
                      },
                      {
                        "learn": [
                          0.4887509386
                        ],
                        "iteration": 25,
                        "passed_time": 7.883930295,
                        "remaining_time": 143.7301138,
                        "test": [
                          0.6989549882,
                          0.4870881186
                        ]
                      },
                      {
                        "learn": [
                          0.4859399306
                        ],
                        "iteration": 26,
                        "passed_time": 8.115371164,
                        "remaining_time": 142.16928,
                        "test": [
                          0.6994135224,
                          0.4843130581
                        ]
                      },
                      {
                        "learn": [
                          0.4833838671
                        ],
                        "iteration": 27,
                        "passed_time": 8.291740498,
                        "remaining_time": 139.7750541,
                        "test": [
                          0.6993834697,
                          0.4816156532
                        ]
                      },
                      {
                        "learn": [
                          0.4812955888
                        ],
                        "iteration": 28,
                        "passed_time": 8.453826707,
                        "remaining_time": 137.3018062,
                        "test": [
                          0.6991819359,
                          0.4795352047
                        ]
                      },
                      {
                        "learn": [
                          0.4791429618
                        ],
                        "iteration": 29,
                        "passed_time": 8.637353705,
                        "remaining_time": 135.3185414,
                        "test": [
                          0.6995729911,
                          0.4773503296
                        ]
                      },
                      {
                        "learn": [
                          0.4770927632
                        ],
                        "iteration": 30,
                        "passed_time": 8.824715073,
                        "remaining_time": 133.509399,
                        "test": [
                          0.6996110303,
                          0.4753540854
                        ]
                      },
                      {
                        "learn": [
                          0.4750465984
                        ],
                        "iteration": 31,
                        "passed_time": 8.968470044,
                        "remaining_time": 131.1638744,
                        "test": [
                          0.6998074356,
                          0.4733234257
                        ]
                      },
                      {
                        "learn": [
                          0.473276235
                        ],
                        "iteration": 32,
                        "passed_time": 9.196965065,
                        "remaining_time": 130.1509905,
                        "test": [
                          0.7001024933,
                          0.4715738907
                        ]
                      },
                      {
                        "learn": [
                          0.4714636246
                        ],
                        "iteration": 33,
                        "passed_time": 9.459054457,
                        "remaining_time": 129.6446876,
                        "test": [
                          0.701419938,
                          0.4696267865
                        ]
                      },
                      {
                        "learn": [
                          0.4692410418
                        ],
                        "iteration": 34,
                        "passed_time": 9.668027876,
                        "remaining_time": 128.4466561,
                        "test": [
                          0.7036674972,
                          0.467078911
                        ]
                      },
                      {
                        "learn": [
                          0.4676362516
                        ],
                        "iteration": 35,
                        "passed_time": 9.854789149,
                        "remaining_time": 127.0172824,
                        "test": [
                          0.7038178043,
                          0.4654968176
                        ]
                      },
                      {
                        "learn": [
                          0.4661731178
                        ],
                        "iteration": 36,
                        "passed_time": 10.03891166,
                        "remaining_time": 125.6220567,
                        "test": [
                          0.7039720284,
                          0.4640671065
                        ]
                      },
                      {
                        "learn": [
                          0.4643816112
                        ],
                        "iteration": 37,
                        "passed_time": 10.29740259,
                        "remaining_time": 125.1947367,
                        "test": [
                          0.7057402892,
                          0.4621839167
                        ]
                      },
                      {
                        "learn": [
                          0.4631133925
                        ],
                        "iteration": 38,
                        "passed_time": 10.47501582,
                        "remaining_time": 123.8200588,
                        "test": [
                          0.7058679897,
                          0.4609556455
                        ]
                      },
                      {
                        "learn": [
                          0.4620719612
                        ],
                        "iteration": 39,
                        "passed_time": 10.68756292,
                        "remaining_time": 122.9069735,
                        "test": [
                          0.7058441027,
                          0.4599607712
                        ]
                      },
                      {
                        "learn": [
                          0.4606762411
                        ],
                        "iteration": 40,
                        "passed_time": 10.9452818,
                        "remaining_time": 122.5337645,
                        "test": [
                          0.707848034,
                          0.4583378805
                        ]
                      },
                      {
                        "learn": [
                          0.4592757072
                        ],
                        "iteration": 41,
                        "passed_time": 11.16914984,
                        "remaining_time": 121.7969197,
                        "test": [
                          0.7096156165,
                          0.4567994814
                        ]
                      },
                      {
                        "learn": [
                          0.4579176334
                        ],
                        "iteration": 42,
                        "passed_time": 11.40620965,
                        "remaining_time": 121.2241351,
                        "test": [
                          0.7105901136,
                          0.4552935066
                        ]
                      },
                      {
                        "learn": [
                          0.4568127446
                        ],
                        "iteration": 43,
                        "passed_time": 11.67049514,
                        "remaining_time": 120.9487678,
                        "test": [
                          0.7117481259,
                          0.4540442448
                        ]
                      },
                      {
                        "learn": [
                          0.4556313742
                        ],
                        "iteration": 44,
                        "passed_time": 11.86405905,
                        "remaining_time": 119.9588193,
                        "test": [
                          0.7130305164,
                          0.4526750305
                        ]
                      },
                      {
                        "learn": [
                          0.4550451018
                        ],
                        "iteration": 45,
                        "passed_time": 11.9498224,
                        "remaining_time": 117.9395515,
                        "test": [
                          0.7133066561,
                          0.4520775989
                        ]
                      },
                      {
                        "learn": [
                          0.4545522379
                        ],
                        "iteration": 46,
                        "passed_time": 12.00158602,
                        "remaining_time": 115.674861,
                        "test": [
                          0.7133066561,
                          0.4515976942
                        ]
                      },
                      {
                        "learn": [
                          0.4535489004
                        ],
                        "iteration": 47,
                        "passed_time": 12.20020362,
                        "remaining_time": 114.8852507,
                        "test": [
                          0.7146468815,
                          0.4504015004
                        ]
                      },
                      {
                        "learn": [
                          0.4526975903
                        ],
                        "iteration": 48,
                        "passed_time": 12.43286233,
                        "remaining_time": 114.4330798,
                        "test": [
                          0.7155419743,
                          0.4493953516
                        ]
                      },
                      {
                        "learn": [
                          0.451904509
                        ],
                        "iteration": 49,
                        "passed_time": 12.66820856,
                        "remaining_time": 114.013877,
                        "test": [
                          0.715991423,
                          0.4485373937
                        ]
                      },
                      {
                        "learn": [
                          0.4511923496
                        ],
                        "iteration": 50,
                        "passed_time": 12.80931181,
                        "remaining_time": 112.7721765,
                        "test": [
                          0.7168894391,
                          0.4476346855
                        ]
                      },
                      {
                        "learn": [
                          0.4503626464
                        ],
                        "iteration": 51,
                        "passed_time": 13.01860364,
                        "remaining_time": 112.1602775,
                        "test": [
                          0.7177511751,
                          0.4465967596
                        ]
                      },
                      {
                        "learn": [
                          0.4494977256
                        ],
                        "iteration": 52,
                        "passed_time": 13.19582223,
                        "remaining_time": 111.2930668,
                        "test": [
                          0.7184915251,
                          0.4455291201
                        ]
                      },
                      {
                        "learn": [
                          0.4487089801
                        ],
                        "iteration": 53,
                        "passed_time": 13.41930567,
                        "remaining_time": 110.8335246,
                        "test": [
                          0.7189687125,
                          0.444650514
                        ]
                      },
                      {
                        "learn": [
                          0.4480629868
                        ],
                        "iteration": 54,
                        "passed_time": 13.61393354,
                        "remaining_time": 110.1490987,
                        "test": [
                          0.7197134946,
                          0.4438372057
                        ]
                      },
                      {
                        "learn": [
                          0.4467509432
                        ],
                        "iteration": 55,
                        "passed_time": 13.80301919,
                        "remaining_time": 109.4382236,
                        "test": [
                          0.7215877305,
                          0.4425481988
                        ]
                      },
                      {
                        "learn": [
                          0.4455780434
                        ],
                        "iteration": 56,
                        "passed_time": 13.98586138,
                        "remaining_time": 108.6971332,
                        "test": [
                          0.7233278246,
                          0.4413327346
                        ]
                      },
                      {
                        "learn": [
                          0.4446942089
                        ],
                        "iteration": 57,
                        "passed_time": 14.22703859,
                        "remaining_time": 108.4198458,
                        "test": [
                          0.7250605343,
                          0.4401652278
                        ]
                      },
                      {
                        "learn": [
                          0.4440059674
                        ],
                        "iteration": 58,
                        "passed_time": 14.45274142,
                        "remaining_time": 108.0281181,
                        "test": [
                          0.7266618622,
                          0.4392530318
                        ]
                      },
                      {
                        "learn": [
                          0.4429983544
                        ],
                        "iteration": 59,
                        "passed_time": 14.90370289,
                        "remaining_time": 109.2938212,
                        "test": [
                          0.7283555715,
                          0.4382482362
                        ]
                      },
                      {
                        "learn": [
                          0.442311821
                        ],
                        "iteration": 60,
                        "passed_time": 15.29560836,
                        "remaining_time": 110.0782306,
                        "test": [
                          0.7294800928,
                          0.4374619732
                        ]
                      },
                      {
                        "learn": [
                          0.4413360021
                        ],
                        "iteration": 61,
                        "passed_time": 15.45978866,
                        "remaining_time": 109.2159263,
                        "test": [
                          0.7309969206,
                          0.4364440739
                        ]
                      },
                      {
                        "learn": [
                          0.4406892274
                        ],
                        "iteration": 62,
                        "passed_time": 15.74194367,
                        "remaining_time": 109.1941172,
                        "test": [
                          0.7323333849,
                          0.4356092007
                        ]
                      },
                      {
                        "learn": [
                          0.4397839485
                        ],
                        "iteration": 63,
                        "passed_time": 16.06429645,
                        "remaining_time": 109.4380195,
                        "test": [
                          0.7338351174,
                          0.4346787129
                        ]
                      },
                      {
                        "learn": [
                          0.438960471
                        ],
                        "iteration": 64,
                        "passed_time": 16.38509611,
                        "remaining_time": 109.6541048,
                        "test": [
                          0.7346775254,
                          0.4338656141
                        ]
                      },
                      {
                        "learn": [
                          0.4380986963
                        ],
                        "iteration": 65,
                        "passed_time": 16.78168905,
                        "remaining_time": 110.3523189,
                        "test": [
                          0.7365511013,
                          0.4328289148
                        ]
                      },
                      {
                        "learn": [
                          0.4373106904
                        ],
                        "iteration": 66,
                        "passed_time": 17.08661096,
                        "remaining_time": 110.4254112,
                        "test": [
                          0.7376624931,
                          0.4319161869
                        ]
                      },
                      {
                        "learn": [
                          0.4363634527
                        ],
                        "iteration": 67,
                        "passed_time": 17.46459781,
                        "remaining_time": 110.9515626,
                        "test": [
                          0.739610878,
                          0.4309278652
                        ]
                      },
                      {
                        "learn": [
                          0.4360091471
                        ],
                        "iteration": 68,
                        "passed_time": 17.92810046,
                        "remaining_time": 111.985671,
                        "test": [
                          0.7397459664,
                          0.4305886195
                        ]
                      },
                      {
                        "learn": [
                          0.4355316447
                        ],
                        "iteration": 69,
                        "passed_time": 18.33904802,
                        "remaining_time": 112.6541521,
                        "test": [
                          0.7406900336,
                          0.4299847518
                        ]
                      },
                      {
                        "learn": [
                          0.4352258467
                        ],
                        "iteration": 70,
                        "passed_time": 18.72386583,
                        "remaining_time": 113.1343442,
                        "test": [
                          0.7409403822,
                          0.4296914895
                        ]
                      },
                      {
                        "learn": [
                          0.434420899
                        ],
                        "iteration": 71,
                        "passed_time": 19.17046415,
                        "remaining_time": 113.9577591,
                        "test": [
                          0.7425122123,
                          0.4288767385
                        ]
                      },
                      {
                        "learn": [
                          0.4340417139
                        ],
                        "iteration": 72,
                        "passed_time": 19.61295884,
                        "remaining_time": 114.7223757,
                        "test": [
                          0.7429669237,
                          0.4284400448
                        ]
                      },
                      {
                        "learn": [
                          0.4332188355
                        ],
                        "iteration": 73,
                        "passed_time": 19.98422049,
                        "remaining_time": 115.0442963,
                        "test": [
                          0.7452160533,
                          0.4273996528
                        ]
                      },
                      {
                        "learn": [
                          0.4327880923
                        ],
                        "iteration": 74,
                        "passed_time": 20.38565681,
                        "remaining_time": 115.5187219,
                        "test": [
                          0.7460212382,
                          0.4268328163
                        ]
                      },
                      {
                        "learn": [
                          0.4320328405
                        ],
                        "iteration": 75,
                        "passed_time": 20.71017946,
                        "remaining_time": 115.5410012,
                        "test": [
                          0.7489614641,
                          0.4254373613
                        ]
                      },
                      {
                        "learn": [
                          0.4313919179
                        ],
                        "iteration": 76,
                        "passed_time": 20.87279427,
                        "remaining_time": 114.6648308,
                        "test": [
                          0.7496143906,
                          0.4248845654
                        ]
                      },
                      {
                        "learn": [
                          0.4307268881
                        ],
                        "iteration": 77,
                        "passed_time": 21.0621701,
                        "remaining_time": 113.9517408,
                        "test": [
                          0.7509917594,
                          0.4240612644
                        ]
                      },
                      {
                        "learn": [
                          0.43014023
                        ],
                        "iteration": 78,
                        "passed_time": 21.23785308,
                        "remaining_time": 113.1789385,
                        "test": [
                          0.7519302702,
                          0.423538178
                        ]
                      },
                      {
                        "learn": [
                          0.4295517395
                        ],
                        "iteration": 79,
                        "passed_time": 21.43984144,
                        "remaining_time": 112.5591676,
                        "test": [
                          0.7528395986,
                          0.4229926679
                        ]
                      },
                      {
                        "learn": [
                          0.4290302753
                        ],
                        "iteration": 80,
                        "passed_time": 21.68434936,
                        "remaining_time": 112.169659,
                        "test": [
                          0.7533070804,
                          0.4225452049
                        ]
                      },
                      {
                        "learn": [
                          0.4286216695
                        ],
                        "iteration": 81,
                        "passed_time": 21.94509463,
                        "remaining_time": 111.866458,
                        "test": [
                          0.7541607211,
                          0.4219575401
                        ]
                      },
                      {
                        "learn": [
                          0.4280865008
                        ],
                        "iteration": 82,
                        "passed_time": 22.19359283,
                        "remaining_time": 111.5027495,
                        "test": [
                          0.7557489594,
                          0.4210797559
                        ]
                      },
                      {
                        "learn": [
                          0.4276054382
                        ],
                        "iteration": 83,
                        "passed_time": 22.38212682,
                        "remaining_time": 110.8448185,
                        "test": [
                          0.7571973579,
                          0.4203808083
                        ]
                      },
                      {
                        "learn": [
                          0.4271781477
                        ],
                        "iteration": 84,
                        "passed_time": 22.52374655,
                        "remaining_time": 109.9688802,
                        "test": [
                          0.7579925869,
                          0.419935303
                        ]
                      },
                      {
                        "learn": [
                          0.4265364378
                        ],
                        "iteration": 85,
                        "passed_time": 22.72721581,
                        "remaining_time": 109.4077599,
                        "test": [
                          0.759825991,
                          0.4190292747
                        ]
                      },
                      {
                        "learn": [
                          0.4257864844
                        ],
                        "iteration": 86,
                        "passed_time": 22.8772468,
                        "remaining_time": 108.6011831,
                        "test": [
                          0.7631880356,
                          0.4174891027
                        ]
                      },
                      {
                        "learn": [
                          0.4251155461
                        ],
                        "iteration": 87,
                        "passed_time": 23.09796598,
                        "remaining_time": 108.1404771,
                        "test": [
                          0.7648890714,
                          0.4165774335
                        ]
                      },
                      {
                        "learn": [
                          0.4246048475
                        ],
                        "iteration": 88,
                        "passed_time": 23.3227897,
                        "remaining_time": 107.7041187,
                        "test": [
                          0.7659435639,
                          0.4158158924
                        ]
                      },
                      {
                        "learn": [
                          0.4239807412
                        ],
                        "iteration": 89,
                        "passed_time": 23.50138953,
                        "remaining_time": 107.0618857,
                        "test": [
                          0.7677111465,
                          0.4149227147
                        ]
                      },
                      {
                        "learn": [
                          0.4237223269
                        ],
                        "iteration": 90,
                        "passed_time": 23.73452381,
                        "remaining_time": 106.6749477,
                        "test": [
                          0.7682532704,
                          0.4145595603
                        ]
                      },
                      {
                        "learn": [
                          0.4231026707
                        ],
                        "iteration": 91,
                        "passed_time": 23.95290891,
                        "remaining_time": 106.2259438,
                        "test": [
                          0.7699079831,
                          0.4136839237
                        ]
                      },
                      {
                        "learn": [
                          0.4226378588
                        ],
                        "iteration": 92,
                        "passed_time": 24.17083988,
                        "remaining_time": 105.7799122,
                        "test": [
                          0.7706660252,
                          0.4132295508
                        ]
                      },
                      {
                        "learn": [
                          0.4221771694
                        ],
                        "iteration": 93,
                        "passed_time": 24.36194608,
                        "remaining_time": 105.2228735,
                        "test": [
                          0.7713316024,
                          0.4128014954
                        ]
                      },
                      {
                        "learn": [
                          0.4216497498
                        ],
                        "iteration": 94,
                        "passed_time": 24.579951,
                        "remaining_time": 104.7882121,
                        "test": [
                          0.7727894818,
                          0.4120239832
                        ]
                      },
                      {
                        "learn": [
                          0.4212001278
                        ],
                        "iteration": 95,
                        "passed_time": 24.7745386,
                        "remaining_time": 104.2595166,
                        "test": [
                          0.7733739827,
                          0.4116199435
                        ]
                      },
                      {
                        "learn": [
                          0.420693502
                        ],
                        "iteration": 96,
                        "passed_time": 25.00850595,
                        "remaining_time": 103.9013185,
                        "test": [
                          0.774670725,
                          0.4108165714
                        ]
                      },
                      {
                        "learn": [
                          0.4202468422
                        ],
                        "iteration": 97,
                        "passed_time": 25.21436697,
                        "remaining_time": 103.4303625,
                        "test": [
                          0.7756312511,
                          0.4102231988
                        ]
                      },
                      {
                        "learn": [
                          0.4198405034
                        ],
                        "iteration": 98,
                        "passed_time": 25.39541091,
                        "remaining_time": 102.8642401,
                        "test": [
                          0.7767189446,
                          0.4095865567
                        ]
                      },
                      {
                        "learn": [
                          0.4194728234
                        ],
                        "iteration": 99,
                        "passed_time": 25.59748216,
                        "remaining_time": 102.3899287,
                        "test": [
                          0.778258952,
                          0.40881566
                        ]
                      },
                      {
                        "learn": [
                          0.4190580934
                        ],
                        "iteration": 100,
                        "passed_time": 25.82778772,
                        "remaining_time": 102.0325475,
                        "test": [
                          0.7790882415,
                          0.4081717157
                        ]
                      },
                      {
                        "learn": [
                          0.418819578
                        ],
                        "iteration": 101,
                        "passed_time": 26.06356223,
                        "remaining_time": 101.6989977,
                        "test": [
                          0.779558886,
                          0.4078353048
                        ]
                      },
                      {
                        "learn": [
                          0.4184720885
                        ],
                        "iteration": 102,
                        "passed_time": 26.32245056,
                        "remaining_time": 101.4564356,
                        "test": [
                          0.7804543306,
                          0.4072104931
                        ]
                      },
                      {
                        "learn": [
                          0.4181803929
                        ],
                        "iteration": 103,
                        "passed_time": 26.55267961,
                        "remaining_time": 101.1044339,
                        "test": [
                          0.7819230036,
                          0.4063973741
                        ]
                      },
                      {
                        "learn": [
                          0.4179804385
                        ],
                        "iteration": 104,
                        "passed_time": 26.91267999,
                        "remaining_time": 101.242939,
                        "test": [
                          0.7823509156,
                          0.4060897038
                        ]
                      },
                      {
                        "learn": [
                          0.4177996567
                        ],
                        "iteration": 105,
                        "passed_time": 27.19416782,
                        "remaining_time": 101.0802087,
                        "test": [
                          0.7825457106,
                          0.4059028649
                        ]
                      },
                      {
                        "learn": [
                          0.4174058491
                        ],
                        "iteration": 106,
                        "passed_time": 27.44868415,
                        "remaining_time": 100.8161951,
                        "test": [
                          0.7835079922,
                          0.405323966
                        ]
                      },
                      {
                        "learn": [
                          0.4171100348
                        ],
                        "iteration": 107,
                        "passed_time": 27.67381022,
                        "remaining_time": 100.4456815,
                        "test": [
                          0.7847858237,
                          0.4045983849
                        ]
                      },
                      {
                        "learn": [
                          0.4169207187
                        ],
                        "iteration": 108,
                        "passed_time": 27.89221201,
                        "remaining_time": 100.0537146,
                        "test": [
                          0.7849992465,
                          0.4043782779
                        ]
                      },
                      {
                        "learn": [
                          0.4166299457
                        ],
                        "iteration": 109,
                        "passed_time": 28.13794781,
                        "remaining_time": 99.76181495,
                        "test": [
                          0.7862107705,
                          0.4036393126
                        ]
                      },
                      {
                        "learn": [
                          0.4163215657
                        ],
                        "iteration": 110,
                        "passed_time": 28.45455663,
                        "remaining_time": 99.71912188,
                        "test": [
                          0.7876564343,
                          0.4027982598
                        ]
                      },
                      {
                        "learn": [
                          0.4160152219
                        ],
                        "iteration": 111,
                        "passed_time": 28.68289603,
                        "remaining_time": 99.36574697,
                        "test": [
                          0.7885809669,
                          0.4022498336
                        ]
                      },
                      {
                        "learn": [
                          0.4157218136
                        ],
                        "iteration": 112,
                        "passed_time": 28.95799828,
                        "remaining_time": 99.17473749,
                        "test": [
                          0.7897768878,
                          0.4015543445
                        ]
                      },
                      {
                        "learn": [
                          0.4155311236
                        ],
                        "iteration": 113,
                        "passed_time": 29.21565825,
                        "remaining_time": 98.92319371,
                        "test": [
                          0.7908751429,
                          0.4009329476
                        ]
                      },
                      {
                        "learn": [
                          0.4152939302
                        ],
                        "iteration": 114,
                        "passed_time": 29.44497905,
                        "remaining_time": 98.576669,
                        "test": [
                          0.7919445349,
                          0.4002779033
                        ]
                      },
                      {
                        "learn": [
                          0.4149663828
                        ],
                        "iteration": 115,
                        "passed_time": 29.70720627,
                        "remaining_time": 98.34109661,
                        "test": [
                          0.7927616596,
                          0.3997384425
                        ]
                      },
                      {
                        "learn": [
                          0.4146512007
                        ],
                        "iteration": 116,
                        "passed_time": 29.91771989,
                        "remaining_time": 97.9357839,
                        "test": [
                          0.7934773465,
                          0.3992198318
                        ]
                      },
                      {
                        "learn": [
                          0.4144422397
                        ],
                        "iteration": 117,
                        "passed_time": 30.11152275,
                        "remaining_time": 97.47967536,
                        "test": [
                          0.7947675312,
                          0.3984391227
                        ]
                      },
                      {
                        "learn": [
                          0.4142107436
                        ],
                        "iteration": 118,
                        "passed_time": 30.31932839,
                        "remaining_time": 97.07280769,
                        "test": [
                          0.7954172081,
                          0.3980147197
                        ]
                      },
                      {
                        "learn": [
                          0.4139145751
                        ],
                        "iteration": 119,
                        "passed_time": 30.55579056,
                        "remaining_time": 96.76000345,
                        "test": [
                          0.7961399094,
                          0.3974657713
                        ]
                      },
                      {
                        "learn": [
                          0.4136846957
                        ],
                        "iteration": 120,
                        "passed_time": 30.84769317,
                        "remaining_time": 96.62211332,
                        "test": [
                          0.796804638,
                          0.3970459859
                        ]
                      },
                      {
                        "learn": [
                          0.4134200755
                        ],
                        "iteration": 121,
                        "passed_time": 31.23849502,
                        "remaining_time": 96.78812392,
                        "test": [
                          0.797365339,
                          0.3966402637
                        ]
                      },
                      {
                        "learn": [
                          0.4132248653
                        ],
                        "iteration": 122,
                        "passed_time": 31.83223665,
                        "remaining_time": 97.56709933,
                        "test": [
                          0.7976192239,
                          0.3964072053
                        ]
                      },
                      {
                        "learn": [
                          0.4129362846
                        ],
                        "iteration": 123,
                        "passed_time": 32.8408197,
                        "remaining_time": 99.58184038,
                        "test": [
                          0.7982345537,
                          0.3959245723
                        ]
                      },
                      {
                        "learn": [
                          0.4127708961
                        ],
                        "iteration": 124,
                        "passed_time": 33.57571398,
                        "remaining_time": 100.727142,
                        "test": [
                          0.7984601195,
                          0.3957122767
                        ]
                      },
                      {
                        "learn": [
                          0.4126142717
                        ],
                        "iteration": 125,
                        "passed_time": 34.157511,
                        "remaining_time": 101.3881676,
                        "test": [
                          0.7987457254,
                          0.395431574
                        ]
                      },
                      {
                        "learn": [
                          0.4124183402
                        ],
                        "iteration": 126,
                        "passed_time": 34.56969471,
                        "remaining_time": 101.5314656,
                        "test": [
                          0.7996067723,
                          0.3948594515
                        ]
                      },
                      {
                        "learn": [
                          0.4121451213
                        ],
                        "iteration": 127,
                        "passed_time": 35.07591995,
                        "remaining_time": 101.9393924,
                        "test": [
                          0.8008579966,
                          0.3941249727
                        ]
                      },
                      {
                        "learn": [
                          0.4119370726
                        ],
                        "iteration": 128,
                        "passed_time": 35.32194911,
                        "remaining_time": 101.5848304,
                        "test": [
                          0.8016904632,
                          0.3935520551
                        ]
                      },
                      {
                        "learn": [
                          0.4116874968
                        ],
                        "iteration": 129,
                        "passed_time": 35.66843817,
                        "remaining_time": 101.5178625,
                        "test": [
                          0.8022104412,
                          0.3931179006
                        ]
                      },
                      {
                        "learn": [
                          0.4114259738
                        ],
                        "iteration": 130,
                        "passed_time": 35.91209726,
                        "remaining_time": 101.1569763,
                        "test": [
                          0.8028406994,
                          0.392636606
                        ]
                      },
                      {
                        "learn": [
                          0.4112226328
                        ],
                        "iteration": 131,
                        "passed_time": 36.15999861,
                        "remaining_time": 100.8096931,
                        "test": [
                          0.8036200098,
                          0.3921080059
                        ]
                      },
                      {
                        "learn": [
                          0.4111135693
                        ],
                        "iteration": 132,
                        "passed_time": 36.40570381,
                        "remaining_time": 100.4578443,
                        "test": [
                          0.8040774015,
                          0.3918416066
                        ]
                      },
                      {
                        "learn": [
                          0.4108780734
                        ],
                        "iteration": 133,
                        "passed_time": 36.69560663,
                        "remaining_time": 100.2282987,
                        "test": [
                          0.8043743597,
                          0.3916228313
                        ]
                      },
                      {
                        "learn": [
                          0.4107677456
                        ],
                        "iteration": 134,
                        "passed_time": 36.98552033,
                        "remaining_time": 99.99788831,
                        "test": [
                          0.8045044431,
                          0.3914582935
                        ]
                      },
                      {
                        "learn": [
                          0.410560022
                        ],
                        "iteration": 135,
                        "passed_time": 37.24497707,
                        "remaining_time": 99.68508569,
                        "test": [
                          0.8048256945,
                          0.3912023859
                        ]
                      },
                      {
                        "learn": [
                          0.4103789677
                        ],
                        "iteration": 136,
                        "passed_time": 37.47275338,
                        "remaining_time": 99.28912027,
                        "test": [
                          0.8055723625,
                          0.390706566
                        ]
                      },
                      {
                        "learn": [
                          0.4101937798
                        ],
                        "iteration": 137,
                        "passed_time": 37.74329548,
                        "remaining_time": 99.00777511,
                        "test": [
                          0.80583641,
                          0.3904169731
                        ]
                      },
                      {
                        "learn": [
                          0.4100511382
                        ],
                        "iteration": 138,
                        "passed_time": 38.03622399,
                        "remaining_time": 98.78472561,
                        "test": [
                          0.8060063968,
                          0.3902275814
                        ]
                      },
                      {
                        "learn": [
                          0.4099549501
                        ],
                        "iteration": 139,
                        "passed_time": 38.30467321,
                        "remaining_time": 98.49773111,
                        "test": [
                          0.8063048421,
                          0.3900421985
                        ]
                      },
                      {
                        "learn": [
                          0.4097632374
                        ],
                        "iteration": 140,
                        "passed_time": 38.54971467,
                        "remaining_time": 98.15140118,
                        "test": [
                          0.8069492598,
                          0.3896323382
                        ]
                      },
                      {
                        "learn": [
                          0.4096310698
                        ],
                        "iteration": 141,
                        "passed_time": 38.77748678,
                        "remaining_time": 97.76295964,
                        "test": [
                          0.8075176355,
                          0.3892311023
                        ]
                      },
                      {
                        "learn": [
                          0.4094155309
                        ],
                        "iteration": 142,
                        "passed_time": 39.0150765,
                        "remaining_time": 97.40127491,
                        "test": [
                          0.8080580112,
                          0.3887530777
                        ]
                      },
                      {
                        "learn": [
                          0.4091409137
                        ],
                        "iteration": 143,
                        "passed_time": 39.26917253,
                        "remaining_time": 97.08212098,
                        "test": [
                          0.8086819151,
                          0.3882667506
                        ]
                      },
                      {
                        "learn": [
                          0.4089404561
                        ],
                        "iteration": 144,
                        "passed_time": 39.463225,
                        "remaining_time": 96.6168612,
                        "test": [
                          0.8094367946,
                          0.3876961134
                        ]
                      },
                      {
                        "learn": [
                          0.4087015907
                        ],
                        "iteration": 145,
                        "passed_time": 39.65457038,
                        "remaining_time": 96.14875283,
                        "test": [
                          0.8103433375,
                          0.3870626876
                        ]
                      },
                      {
                        "learn": [
                          0.40855135
                        ],
                        "iteration": 146,
                        "passed_time": 39.94032975,
                        "remaining_time": 95.91113198,
                        "test": [
                          0.8115117374,
                          0.3863352372
                        ]
                      },
                      {
                        "learn": [
                          0.4083705693
                        ],
                        "iteration": 147,
                        "passed_time": 40.20233933,
                        "remaining_time": 95.61637462,
                        "test": [
                          0.8122161445,
                          0.3858768527
                        ]
                      },
                      {
                        "learn": [
                          0.4082935724
                        ],
                        "iteration": 148,
                        "passed_time": 40.45412025,
                        "remaining_time": 95.29796114,
                        "test": [
                          0.8122159341,
                          0.3858184575
                        ]
                      },
                      {
                        "learn": [
                          0.4081197161
                        ],
                        "iteration": 149,
                        "passed_time": 40.67511548,
                        "remaining_time": 94.90860278,
                        "test": [
                          0.8126099199,
                          0.3854683399
                        ]
                      },
                      {
                        "learn": [
                          0.4079152795
                        ],
                        "iteration": 150,
                        "passed_time": 40.86723122,
                        "remaining_time": 94.45472646,
                        "test": [
                          0.8129228511,
                          0.3851454072
                        ]
                      },
                      {
                        "learn": [
                          0.4077958882
                        ],
                        "iteration": 151,
                        "passed_time": 41.14144427,
                        "remaining_time": 94.19225399,
                        "test": [
                          0.8131195538,
                          0.3849585399
                        ]
                      },
                      {
                        "learn": [
                          0.4076314165
                        ],
                        "iteration": 152,
                        "passed_time": 41.40154216,
                        "remaining_time": 93.89761522,
                        "test": [
                          0.8133834272,
                          0.3846691925
                        ]
                      },
                      {
                        "learn": [
                          0.4074716143
                        ],
                        "iteration": 153,
                        "passed_time": 41.62890091,
                        "remaining_time": 93.52986828,
                        "test": [
                          0.8137309811,
                          0.3843054633
                        ]
                      },
                      {
                        "learn": [
                          0.4073360615
                        ],
                        "iteration": 154,
                        "passed_time": 41.86599471,
                        "remaining_time": 93.18560113,
                        "test": [
                          0.8142734967,
                          0.383885406
                        ]
                      },
                      {
                        "learn": [
                          0.4071978059
                        ],
                        "iteration": 155,
                        "passed_time": 42.09322552,
                        "remaining_time": 92.82095883,
                        "test": [
                          0.8148595718,
                          0.3834510963
                        ]
                      },
                      {
                        "learn": [
                          0.4070368257
                        ],
                        "iteration": 156,
                        "passed_time": 42.34202791,
                        "remaining_time": 92.50519473,
                        "test": [
                          0.8152236789,
                          0.3830983348
                        ]
                      },
                      {
                        "learn": [
                          0.406895056
                        ],
                        "iteration": 157,
                        "passed_time": 42.55129894,
                        "remaining_time": 92.10471036,
                        "test": [
                          0.815777322,
                          0.3826733739
                        ]
                      },
                      {
                        "learn": [
                          0.4067542386
                        ],
                        "iteration": 158,
                        "passed_time": 42.71169799,
                        "remaining_time": 91.6018177,
                        "test": [
                          0.8164610846,
                          0.3821860796
                        ]
                      },
                      {
                        "learn": [
                          0.4066034787
                        ],
                        "iteration": 159,
                        "passed_time": 42.91130828,
                        "remaining_time": 91.1865301,
                        "test": [
                          0.8169321861,
                          0.3818077765
                        ]
                      },
                      {
                        "learn": [
                          0.4064608028
                        ],
                        "iteration": 160,
                        "passed_time": 43.1221061,
                        "remaining_time": 90.79747805,
                        "test": [
                          0.8174777338,
                          0.3813462576
                        ]
                      },
                      {
                        "learn": [
                          0.4063055616
                        ],
                        "iteration": 161,
                        "passed_time": 43.36315352,
                        "remaining_time": 90.47374007,
                        "test": [
                          0.8177760195,
                          0.3810379254
                        ]
                      },
                      {
                        "learn": [
                          0.4061240404
                        ],
                        "iteration": 162,
                        "passed_time": 43.62323797,
                        "remaining_time": 90.19037543,
                        "test": [
                          0.8184656651,
                          0.3805150373
                        ]
                      },
                      {
                        "learn": [
                          0.4060297666
                        ],
                        "iteration": 163,
                        "passed_time": 43.84208054,
                        "remaining_time": 89.82279917,
                        "test": [
                          0.8186252571,
                          0.3803701559
                        ]
                      },
                      {
                        "learn": [
                          0.4058952467
                        ],
                        "iteration": 164,
                        "passed_time": 44.08676587,
                        "remaining_time": 89.50949434,
                        "test": [
                          0.819100972,
                          0.3799869477
                        ]
                      },
                      {
                        "learn": [
                          0.4058267918
                        ],
                        "iteration": 165,
                        "passed_time": 44.36896823,
                        "remaining_time": 89.27250235,
                        "test": [
                          0.8191778991,
                          0.3799185553
                        ]
                      },
                      {
                        "learn": [
                          0.4057071249
                        ],
                        "iteration": 166,
                        "passed_time": 44.61628587,
                        "remaining_time": 88.96540835,
                        "test": [
                          0.8195487741,
                          0.3796191469
                        ]
                      },
                      {
                        "learn": [
                          0.4055485268
                        ],
                        "iteration": 167,
                        "passed_time": 44.85780751,
                        "remaining_time": 88.64757198,
                        "test": [
                          0.8205433281,
                          0.3789472845
                        ]
                      },
                      {
                        "learn": [
                          0.405398185
                        ],
                        "iteration": 168,
                        "passed_time": 45.10619025,
                        "remaining_time": 88.34407676,
                        "test": [
                          0.8220321959,
                          0.3780178495
                        ]
                      },
                      {
                        "learn": [
                          0.4053447182
                        ],
                        "iteration": 169,
                        "passed_time": 45.39317825,
                        "remaining_time": 88.11616954,
                        "test": [
                          0.8221050898,
                          0.3779679751
                        ]
                      },
                      {
                        "learn": [
                          0.4052515934
                        ],
                        "iteration": 170,
                        "passed_time": 45.70218006,
                        "remaining_time": 87.92992539,
                        "test": [
                          0.823076533,
                          0.37739375
                        ]
                      },
                      {
                        "learn": [
                          0.4051182617
                        ],
                        "iteration": 171,
                        "passed_time": 45.9342928,
                        "remaining_time": 87.59562813,
                        "test": [
                          0.8245932048,
                          0.3764759767
                        ]
                      },
                      {
                        "learn": [
                          0.4050532614
                        ],
                        "iteration": 172,
                        "passed_time": 46.42497034,
                        "remaining_time": 87.75124451,
                        "test": [
                          0.8247196685,
                          0.3763949347
                        ]
                      },
                      {
                        "learn": [
                          0.4049334713
                        ],
                        "iteration": 173,
                        "passed_time": 46.9056242,
                        "remaining_time": 87.88065223,
                        "test": [
                          0.825149851,
                          0.3760266629
                        ]
                      },
                      {
                        "learn": [
                          0.4048108192
                        ],
                        "iteration": 174,
                        "passed_time": 47.393102,
                        "remaining_time": 88.01576086,
                        "test": [
                          0.8259325054,
                          0.3754762709
                        ]
                      },
                      {
                        "learn": [
                          0.4046633218
                        ],
                        "iteration": 175,
                        "passed_time": 47.80433891,
                        "remaining_time": 88.00344209,
                        "test": [
                          0.8261538205,
                          0.3752070628
                        ]
                      },
                      {
                        "learn": [
                          0.4045593966
                        ],
                        "iteration": 176,
                        "passed_time": 48.17837863,
                        "remaining_time": 87.91873615,
                        "test": [
                          0.8268557468,
                          0.3747341875
                        ]
                      },
                      {
                        "learn": [
                          0.4044545993
                        ],
                        "iteration": 177,
                        "passed_time": 48.56612839,
                        "remaining_time": 87.85558057,
                        "test": [
                          0.827242544,
                          0.3744013659
                        ]
                      },
                      {
                        "learn": [
                          0.4043703746
                        ],
                        "iteration": 178,
                        "passed_time": 48.99919521,
                        "remaining_time": 87.87006515,
                        "test": [
                          0.8275014267,
                          0.3742035978
                        ]
                      },
                      {
                        "learn": [
                          0.404285373
                        ],
                        "iteration": 179,
                        "passed_time": 49.46463747,
                        "remaining_time": 87.93713329,
                        "test": [
                          0.8277372567,
                          0.3739845775
                        ]
                      },
                      {
                        "learn": [
                          0.4042027353
                        ],
                        "iteration": 180,
                        "passed_time": 49.95628923,
                        "remaining_time": 88.04450974,
                        "test": [
                          0.8281645595,
                          0.3736138784
                        ]
                      },
                      {
                        "learn": [
                          0.404105261
                        ],
                        "iteration": 181,
                        "passed_time": 50.33534704,
                        "remaining_time": 87.9485734,
                        "test": [
                          0.8290915075,
                          0.3729237554
                        ]
                      },
                      {
                        "learn": [
                          0.4040183588
                        ],
                        "iteration": 182,
                        "passed_time": 50.63130507,
                        "remaining_time": 87.70559403,
                        "test": [
                          0.8296139373,
                          0.3724968511
                        ]
                      },
                      {
                        "learn": [
                          0.4039174182
                        ],
                        "iteration": 183,
                        "passed_time": 50.82074337,
                        "remaining_time": 87.27910274,
                        "test": [
                          0.8299671346,
                          0.3721752749
                        ]
                      },
                      {
                        "learn": [
                          0.4038433436
                        ],
                        "iteration": 184,
                        "passed_time": 51.06476011,
                        "remaining_time": 86.94810505,
                        "test": [
                          0.8301437442,
                          0.3720321592
                        ]
                      },
                      {
                        "learn": [
                          0.4037667877
                        ],
                        "iteration": 185,
                        "passed_time": 51.34720505,
                        "remaining_time": 86.68291604,
                        "test": [
                          0.8302727684,
                          0.3718212384
                        ]
                      },
                      {
                        "learn": [
                          0.4036684391
                        ],
                        "iteration": 186,
                        "passed_time": 51.55708222,
                        "remaining_time": 86.29607879,
                        "test": [
                          0.830729986,
                          0.3714284195
                        ]
                      },
                      {
                        "learn": [
                          0.4035596189
                        ],
                        "iteration": 187,
                        "passed_time": 51.72377908,
                        "remaining_time": 85.83946316,
                        "test": [
                          0.8312007248,
                          0.3710810283
                        ]
                      },
                      {
                        "learn": [
                          0.4034943439
                        ],
                        "iteration": 188,
                        "passed_time": 52.00152954,
                        "remaining_time": 85.56865443,
                        "test": [
                          0.8312698178,
                          0.3710404651
                        ]
                      },
                      {
                        "learn": [
                          0.4034406042
                        ],
                        "iteration": 189,
                        "passed_time": 52.21668024,
                        "remaining_time": 85.19563619,
                        "test": [
                          0.8313287408,
                          0.3709650765
                        ]
                      },
                      {
                        "learn": [
                          0.4033497504
                        ],
                        "iteration": 190,
                        "passed_time": 52.4825768,
                        "remaining_time": 84.9063677,
                        "test": [
                          0.8315185016,
                          0.3708274102
                        ]
                      },
                      {
                        "learn": [
                          0.4032747193
                        ],
                        "iteration": 191,
                        "passed_time": 52.69785411,
                        "remaining_time": 84.53614098,
                        "test": [
                          0.8317908765,
                          0.3706035052
                        ]
                      },
                      {
                        "learn": [
                          0.4031923136
                        ],
                        "iteration": 192,
                        "passed_time": 52.93184742,
                        "remaining_time": 84.19729097,
                        "test": [
                          0.8319233609,
                          0.3705202685
                        ]
                      },
                      {
                        "learn": [
                          0.4031503659
                        ],
                        "iteration": 193,
                        "passed_time": 53.23169571,
                        "remaining_time": 83.96339633,
                        "test": [
                          0.8319784466,
                          0.3704691541
                        ]
                      },
                      {
                        "learn": [
                          0.4030616398
                        ],
                        "iteration": 194,
                        "passed_time": 53.50269139,
                        "remaining_time": 83.68369679,
                        "test": [
                          0.8322757095,
                          0.3702794251
                        ]
                      },
                      {
                        "learn": [
                          0.4030157676
                        ],
                        "iteration": 195,
                        "passed_time": 53.76035124,
                        "remaining_time": 83.38340192,
                        "test": [
                          0.8323166865,
                          0.3702579454
                        ]
                      },
                      {
                        "learn": [
                          0.4029579349
                        ],
                        "iteration": 196,
                        "passed_time": 54.01652261,
                        "remaining_time": 83.08125051,
                        "test": [
                          0.8324084768,
                          0.3702038991
                        ]
                      },
                      {
                        "learn": [
                          0.4028625075
                        ],
                        "iteration": 197,
                        "passed_time": 54.25194977,
                        "remaining_time": 82.74792338,
                        "test": [
                          0.8337537836,
                          0.3692744168
                        ]
                      },
                      {
                        "learn": [
                          0.4028223414
                        ],
                        "iteration": 198,
                        "passed_time": 54.55786673,
                        "remaining_time": 82.52220044,
                        "test": [
                          0.8338063958,
                          0.3692466267
                        ]
                      },
                      {
                        "learn": [
                          0.4026722358
                        ],
                        "iteration": 199,
                        "passed_time": 54.77950809,
                        "remaining_time": 82.16926214,
                        "test": [
                          0.8355400738,
                          0.3680913801
                        ]
                      },
                      {
                        "learn": [
                          0.4025550468
                        ],
                        "iteration": 200,
                        "passed_time": 54.98000165,
                        "remaining_time": 81.78617161,
                        "test": [
                          0.8362927191,
                          0.3674687966
                        ]
                      },
                      {
                        "learn": [
                          0.4024168556
                        ],
                        "iteration": 201,
                        "passed_time": 55.15524944,
                        "remaining_time": 81.36764521,
                        "test": [
                          0.8372329852,
                          0.366810967
                        ]
                      },
                      {
                        "learn": [
                          0.4023702494
                        ],
                        "iteration": 202,
                        "passed_time": 55.43447969,
                        "remaining_time": 81.10364762,
                        "test": [
                          0.8372411168,
                          0.3667821044
                        ]
                      },
                      {
                        "learn": [
                          0.4022566121
                        ],
                        "iteration": 203,
                        "passed_time": 55.65873693,
                        "remaining_time": 80.75973593,
                        "test": [
                          0.8383144694,
                          0.3659718032
                        ]
                      },
                      {
                        "learn": [
                          0.4021957027
                        ],
                        "iteration": 204,
                        "passed_time": 55.88807428,
                        "remaining_time": 80.42430201,
                        "test": [
                          0.8383971415,
                          0.365920484
                        ]
                      },
                      {
                        "learn": [
                          0.4021044677
                        ],
                        "iteration": 205,
                        "passed_time": 56.12621609,
                        "remaining_time": 80.10246374,
                        "test": [
                          0.839066382,
                          0.3653403879
                        ]
                      },
                      {
                        "learn": [
                          0.4020310824
                        ],
                        "iteration": 206,
                        "passed_time": 56.41536697,
                        "remaining_time": 79.85363537,
                        "test": [
                          0.8391777939,
                          0.3652702116
                        ]
                      },
                      {
                        "learn": [
                          0.4019736277
                        ],
                        "iteration": 207,
                        "passed_time": 56.69534731,
                        "remaining_time": 79.59154526,
                        "test": [
                          0.8392465024,
                          0.3652161802
                        ]
                      },
                      {
                        "learn": [
                          0.4018319541
                        ],
                        "iteration": 208,
                        "passed_time": 56.91797425,
                        "remaining_time": 79.24942826,
                        "test": [
                          0.8404644751,
                          0.3643117032
                        ]
                      },
                      {
                        "learn": [
                          0.4017375349
                        ],
                        "iteration": 209,
                        "passed_time": 57.1591448,
                        "remaining_time": 78.9340571,
                        "test": [
                          0.8408031212,
                          0.3640325676
                        ]
                      },
                      {
                        "learn": [
                          0.4016351632
                        ],
                        "iteration": 210,
                        "passed_time": 57.34862517,
                        "remaining_time": 78.54859087,
                        "test": [
                          0.8423674871,
                          0.3629655034
                        ]
                      },
                      {
                        "learn": [
                          0.401586945
                        ],
                        "iteration": 211,
                        "passed_time": 57.67413565,
                        "remaining_time": 78.34976919,
                        "test": [
                          0.8424293262,
                          0.3629324802
                        ]
                      },
                      {
                        "learn": [
                          0.4014953948
                        ],
                        "iteration": 212,
                        "passed_time": 57.92267362,
                        "remaining_time": 78.0460438,
                        "test": [
                          0.8435365397,
                          0.3621566423
                        ]
                      },
                      {
                        "learn": [
                          0.401441462
                        ],
                        "iteration": 213,
                        "passed_time": 58.12654816,
                        "remaining_time": 77.6831438,
                        "test": [
                          0.8436992582,
                          0.3620166651
                        ]
                      },
                      {
                        "learn": [
                          0.4013903286
                        ],
                        "iteration": 214,
                        "passed_time": 58.41943865,
                        "remaining_time": 77.439721,
                        "test": [
                          0.8437374352,
                          0.3620010376
                        ]
                      },
                      {
                        "learn": [
                          0.4013224285
                        ],
                        "iteration": 215,
                        "passed_time": 58.6284544,
                        "remaining_time": 77.08556041,
                        "test": [
                          0.844317018,
                          0.3614655056
                        ]
                      },
                      {
                        "learn": [
                          0.4012348072
                        ],
                        "iteration": 216,
                        "passed_time": 58.87019503,
                        "remaining_time": 76.77541564,
                        "test": [
                          0.8453045068,
                          0.3607709157
                        ]
                      },
                      {
                        "learn": [
                          0.4012041731
                        ],
                        "iteration": 217,
                        "passed_time": 59.13423787,
                        "remaining_time": 76.49474808,
                        "test": [
                          0.8453332755,
                          0.3607490524
                        ]
                      },
                      {
                        "learn": [
                          0.4011252994
                        ],
                        "iteration": 218,
                        "passed_time": 59.38728455,
                        "remaining_time": 76.2001231,
                        "test": [
                          0.8455838019,
                          0.3605468501
                        ]
                      },
                      {
                        "learn": [
                          0.4010744779
                        ],
                        "iteration": 219,
                        "passed_time": 59.63553831,
                        "remaining_time": 75.89977603,
                        "test": [
                          0.8456982749,
                          0.3604846679
                        ]
                      },
                      {
                        "learn": [
                          0.4009896165
                        ],
                        "iteration": 220,
                        "passed_time": 59.89286004,
                        "remaining_time": 75.61134819,
                        "test": [
                          0.8460769623,
                          0.3601963444
                        ]
                      },
                      {
                        "learn": [
                          0.4009320864
                        ],
                        "iteration": 221,
                        "passed_time": 60.11858496,
                        "remaining_time": 75.28363341,
                        "test": [
                          0.8461234377,
                          0.3601715897
                        ]
                      },
                      {
                        "learn": [
                          0.4008404729
                        ],
                        "iteration": 222,
                        "passed_time": 60.36416269,
                        "remaining_time": 74.98149357,
                        "test": [
                          0.8463731444,
                          0.3599505524
                        ]
                      },
                      {
                        "learn": [
                          0.4008036013
                        ],
                        "iteration": 223,
                        "passed_time": 60.77826957,
                        "remaining_time": 74.88751072,
                        "test": [
                          0.846426569,
                          0.3599249177
                        ]
                      },
                      {
                        "learn": [
                          0.400715567
                        ],
                        "iteration": 224,
                        "passed_time": 61.14027773,
                        "remaining_time": 74.72700611,
                        "test": [
                          0.846778243,
                          0.3596124209
                        ]
                      },
                      {
                        "learn": [
                          0.4006655148
                        ],
                        "iteration": 225,
                        "passed_time": 61.71116468,
                        "remaining_time": 74.81796072,
                        "test": [
                          0.8471044923,
                          0.3593683544
                        ]
                      },
                      {
                        "learn": [
                          0.4006112855
                        ],
                        "iteration": 226,
                        "passed_time": 62.06446736,
                        "remaining_time": 74.64140788,
                        "test": [
                          0.8471443014,
                          0.3592987496
                        ]
                      },
                      {
                        "learn": [
                          0.4005716276
                        ],
                        "iteration": 227,
                        "passed_time": 62.63359962,
                        "remaining_time": 74.72078551,
                        "test": [
                          0.8472087882,
                          0.3592653
                        ]
                      },
                      {
                        "learn": [
                          0.4005207359
                        ],
                        "iteration": 228,
                        "passed_time": 63.06524667,
                        "remaining_time": 74.63179846,
                        "test": [
                          0.8472638159,
                          0.3592227628
                        ]
                      },
                      {
                        "learn": [
                          0.400454723
                        ],
                        "iteration": 229,
                        "passed_time": 63.45947028,
                        "remaining_time": 74.49589989,
                        "test": [
                          0.8476615737,
                          0.3589155209
                        ]
                      },
                      {
                        "learn": [
                          0.4004039614
                        ],
                        "iteration": 230,
                        "passed_time": 63.93326798,
                        "remaining_time": 74.45042894,
                        "test": [
                          0.847726133,
                          0.3588607093
                        ]
                      },
                      {
                        "learn": [
                          0.4003575828
                        ],
                        "iteration": 231,
                        "passed_time": 64.39272018,
                        "remaining_time": 74.384694,
                        "test": [
                          0.8477336987,
                          0.3588211779
                        ]
                      },
                      {
                        "learn": [
                          0.4002504438
                        ],
                        "iteration": 232,
                        "passed_time": 64.79548851,
                        "remaining_time": 74.25062417,
                        "test": [
                          0.8485947165,
                          0.3580912722
                        ]
                      },
                      {
                        "learn": [
                          0.4000981793
                        ],
                        "iteration": 233,
                        "passed_time": 65.07906101,
                        "remaining_time": 73.97876167,
                        "test": [
                          0.8492171987,
                          0.3576034624
                        ]
                      },
                      {
                        "learn": [
                          0.4000452491
                        ],
                        "iteration": 234,
                        "passed_time": 65.31059275,
                        "remaining_time": 73.64811523,
                        "test": [
                          0.8492349561,
                          0.3575695777
                        ]
                      },
                      {
                        "learn": [
                          0.4000022983
                        ],
                        "iteration": 235,
                        "passed_time": 65.56291751,
                        "remaining_time": 73.34156874,
                        "test": [
                          0.8492565726,
                          0.3575367217
                        ]
                      },
                      {
                        "learn": [
                          0.3999501433
                        ],
                        "iteration": 236,
                        "passed_time": 65.86705153,
                        "remaining_time": 73.0929728,
                        "test": [
                          0.849340623,
                          0.357465027
                        ]
                      },
                      {
                        "learn": [
                          0.3998910126
                        ],
                        "iteration": 237,
                        "passed_time": 66.16294383,
                        "remaining_time": 72.83483732,
                        "test": [
                          0.8497597723,
                          0.3571657752
                        ]
                      },
                      {
                        "learn": [
                          0.3997851889
                        ],
                        "iteration": 238,
                        "passed_time": 66.40409725,
                        "remaining_time": 72.51660829,
                        "test": [
                          0.8505902659,
                          0.3564436889
                        ]
                      },
                      {
                        "learn": [
                          0.3996487807
                        ],
                        "iteration": 239,
                        "passed_time": 66.53107647,
                        "remaining_time": 72.07533285,
                        "test": [
                          0.8510666337,
                          0.3561016974
                        ]
                      },
                      {
                        "learn": [
                          0.399603608
                        ],
                        "iteration": 240,
                        "passed_time": 66.82276562,
                        "remaining_time": 71.81367758,
                        "test": [
                          0.8511482867,
                          0.3560483791
                        ]
                      },
                      {
                        "learn": [
                          0.3995531378
                        ],
                        "iteration": 241,
                        "passed_time": 67.14698647,
                        "remaining_time": 71.58645665,
                        "test": [
                          0.8511969528,
                          0.3560137237
                        ]
                      },
                      {
                        "learn": [
                          0.3995291357
                        ],
                        "iteration": 242,
                        "passed_time": 67.41492336,
                        "remaining_time": 71.29891071,
                        "test": [
                          0.8512203247,
                          0.3560031498
                        ]
                      },
                      {
                        "learn": [
                          0.3994956219
                        ],
                        "iteration": 243,
                        "passed_time": 67.68665678,
                        "remaining_time": 71.01550875,
                        "test": [
                          0.851254795,
                          0.355979273
                        ]
                      },
                      {
                        "learn": [
                          0.3994468192
                        ],
                        "iteration": 244,
                        "passed_time": 67.91069359,
                        "remaining_time": 70.68255864,
                        "test": [
                          0.8512152905,
                          0.3559532033
                        ]
                      },
                      {
                        "learn": [
                          0.3994017462
                        ],
                        "iteration": 245,
                        "passed_time": 68.18361123,
                        "remaining_time": 70.40096444,
                        "test": [
                          0.851577265,
                          0.3556135637
                        ]
                      },
                      {
                        "learn": [
                          0.3993499769
                        ],
                        "iteration": 246,
                        "passed_time": 68.42279858,
                        "remaining_time": 70.08489086,
                        "test": [
                          0.8516215063,
                          0.355531199
                        ]
                      },
                      {
                        "learn": [
                          0.3993148521
                        ],
                        "iteration": 247,
                        "passed_time": 68.63188819,
                        "remaining_time": 69.73885413,
                        "test": [
                          0.851639728,
                          0.3555138925
                        ]
                      },
                      {
                        "learn": [
                          0.3992368335
                        ],
                        "iteration": 248,
                        "passed_time": 68.88034692,
                        "remaining_time": 69.43360272,
                        "test": [
                          0.8519520353,
                          0.3552615911
                        ]
                      },
                      {
                        "learn": [
                          0.3991901468
                        ],
                        "iteration": 249,
                        "passed_time": 69.17353182,
                        "remaining_time": 69.17353182,
                        "test": [
                          0.8523003726,
                          0.3549832266
                        ]
                      },
                      {
                        "learn": [
                          0.3991401948
                        ],
                        "iteration": 250,
                        "passed_time": 69.42699082,
                        "remaining_time": 68.8737877,
                        "test": [
                          0.8523546532,
                          0.3549476042
                        ]
                      },
                      {
                        "learn": [
                          0.3990944959
                        ],
                        "iteration": 251,
                        "passed_time": 69.7162162,
                        "remaining_time": 68.60960959,
                        "test": [
                          0.8523458833,
                          0.3549261212
                        ]
                      },
                      {
                        "learn": [
                          0.3990442534
                        ],
                        "iteration": 252,
                        "passed_time": 69.97262624,
                        "remaining_time": 68.31319637,
                        "test": [
                          0.8523625744,
                          0.3548900425
                        ]
                      },
                      {
                        "learn": [
                          0.3989142946
                        ],
                        "iteration": 253,
                        "passed_time": 70.23611503,
                        "remaining_time": 68.02395392,
                        "test": [
                          0.8533564538,
                          0.3541742895
                        ]
                      },
                      {
                        "learn": [
                          0.3988666568
                        ],
                        "iteration": 254,
                        "passed_time": 70.47324738,
                        "remaining_time": 67.70959062,
                        "test": [
                          0.8534268887,
                          0.3540827581
                        ]
                      },
                      {
                        "learn": [
                          0.3988104278
                        ],
                        "iteration": 255,
                        "passed_time": 70.77205794,
                        "remaining_time": 67.45461772,
                        "test": [
                          0.8536799829,
                          0.3538479287
                        ]
                      },
                      {
                        "learn": [
                          0.39875895
                        ],
                        "iteration": 256,
                        "passed_time": 71.041479,
                        "remaining_time": 67.17151516,
                        "test": [
                          0.8538197574,
                          0.3537206082
                        ]
                      },
                      {
                        "learn": [
                          0.3987263953
                        ],
                        "iteration": 257,
                        "passed_time": 71.32751361,
                        "remaining_time": 66.90410192,
                        "test": [
                          0.8538882337,
                          0.3536614418
                        ]
                      },
                      {
                        "learn": [
                          0.3987005408
                        ],
                        "iteration": 258,
                        "passed_time": 71.54883857,
                        "remaining_time": 66.57633241,
                        "test": [
                          0.8539387568,
                          0.3536217328
                        ]
                      },
                      {
                        "learn": [
                          0.3986494062
                        ],
                        "iteration": 259,
                        "passed_time": 71.77468103,
                        "remaining_time": 66.25355172,
                        "test": [
                          0.8541648521,
                          0.3534167874
                        ]
                      },
                      {
                        "learn": [
                          0.3986038728
                        ],
                        "iteration": 260,
                        "passed_time": 72.00643857,
                        "remaining_time": 65.93693034,
                        "test": [
                          0.8543575943,
                          0.3531733264
                        ]
                      },
                      {
                        "learn": [
                          0.3985387476
                        ],
                        "iteration": 261,
                        "passed_time": 72.23522142,
                        "remaining_time": 65.61825458,
                        "test": [
                          0.854615447,
                          0.3529550923
                        ]
                      },
                      {
                        "learn": [
                          0.3985100697
                        ],
                        "iteration": 262,
                        "passed_time": 72.49703776,
                        "remaining_time": 65.33003022,
                        "test": [
                          0.8546858384,
                          0.3529156837
                        ]
                      },
                      {
                        "learn": [
                          0.3984488689
                        ],
                        "iteration": 263,
                        "passed_time": 72.72064202,
                        "remaining_time": 65.00784665,
                        "test": [
                          0.8548731836,
                          0.3527394508
                        ]
                      },
                      {
                        "learn": [
                          0.3984214464
                        ],
                        "iteration": 264,
                        "passed_time": 72.97831292,
                        "remaining_time": 64.71661712,
                        "test": [
                          0.8550159322,
                          0.3526234725
                        ]
                      },
                      {
                        "learn": [
                          0.398370579
                        ],
                        "iteration": 265,
                        "passed_time": 73.20288494,
                        "remaining_time": 64.39652284,
                        "test": [
                          0.8550544719,
                          0.3525789565
                        ]
                      },
                      {
                        "learn": [
                          0.3983176194
                        ],
                        "iteration": 266,
                        "passed_time": 73.47342687,
                        "remaining_time": 64.11726015,
                        "test": [
                          0.8551543284,
                          0.3524853162
                        ]
                      },
                      {
                        "learn": [
                          0.3982718546
                        ],
                        "iteration": 267,
                        "passed_time": 73.7512058,
                        "remaining_time": 63.84432741,
                        "test": [
                          0.8552646378,
                          0.3522995908
                        ]
                      },
                      {
                        "learn": [
                          0.3981605508
                        ],
                        "iteration": 268,
                        "passed_time": 74.00260517,
                        "remaining_time": 63.54870556,
                        "test": [
                          0.8553801626,
                          0.3521964643
                        ]
                      },
                      {
                        "learn": [
                          0.3981334624
                        ],
                        "iteration": 269,
                        "passed_time": 74.26615303,
                        "remaining_time": 63.26375999,
                        "test": [
                          0.8554422774,
                          0.352125586
                        ]
                      },
                      {
                        "learn": [
                          0.3981122858
                        ],
                        "iteration": 270,
                        "passed_time": 74.50033494,
                        "remaining_time": 62.95415757,
                        "test": [
                          0.8554762036,
                          0.3521116043
                        ]
                      },
                      {
                        "learn": [
                          0.3980568212
                        ],
                        "iteration": 271,
                        "passed_time": 74.76515373,
                        "remaining_time": 62.67079063,
                        "test": [
                          0.8560262778,
                          0.3516767958
                        ]
                      },
                      {
                        "learn": [
                          0.3980271472
                        ],
                        "iteration": 272,
                        "passed_time": 74.97507574,
                        "remaining_time": 62.3419128,
                        "test": [
                          0.8560893428,
                          0.351601938
                        ]
                      },
                      {
                        "learn": [
                          0.3979972862
                        ],
                        "iteration": 273,
                        "passed_time": 75.26213124,
                        "remaining_time": 62.07752431,
                        "test": [
                          0.8561349986,
                          0.3515810844
                        ]
                      },
                      {
                        "learn": [
                          0.3979692797
                        ],
                        "iteration": 274,
                        "passed_time": 75.69312187,
                        "remaining_time": 61.93073607,
                        "test": [
                          0.8562851388,
                          0.3514340945
                        ]
                      },
                      {
                        "learn": [
                          0.3979231908
                        ],
                        "iteration": 275,
                        "passed_time": 76.22398441,
                        "remaining_time": 61.86294387,
                        "test": [
                          0.8563790037,
                          0.3513591979
                        ]
                      },
                      {
                        "learn": [
                          0.3978760226
                        ],
                        "iteration": 276,
                        "passed_time": 76.65583649,
                        "remaining_time": 61.71209941,
                        "test": [
                          0.8564018823,
                          0.3513346661
                        ]
                      },
                      {
                        "learn": [
                          0.3978362666
                        ],
                        "iteration": 277,
                        "passed_time": 77.13937363,
                        "remaining_time": 61.600507,
                        "test": [
                          0.8564250003,
                          0.3512836739
                        ]
                      },
                      {
                        "learn": [
                          0.3977951269
                        ],
                        "iteration": 278,
                        "passed_time": 77.57147365,
                        "remaining_time": 61.44550421,
                        "test": [
                          0.856464824,
                          0.3512584306
                        ]
                      },
                      {
                        "learn": [
                          0.3977476545
                        ],
                        "iteration": 279,
                        "passed_time": 78.01498915,
                        "remaining_time": 61.29749147,
                        "test": [
                          0.8566070285,
                          0.3511212037
                        ]
                      },
                      {
                        "learn": [
                          0.3977004414
                        ],
                        "iteration": 280,
                        "passed_time": 78.42890918,
                        "remaining_time": 61.12431,
                        "test": [
                          0.856631017,
                          0.351083394
                        ]
                      },
                      {
                        "learn": [
                          0.39766843
                        ],
                        "iteration": 281,
                        "passed_time": 78.84906032,
                        "remaining_time": 60.95423812,
                        "test": [
                          0.85663476,
                          0.3510709113
                        ]
                      },
                      {
                        "learn": [
                          0.397625737
                        ],
                        "iteration": 282,
                        "passed_time": 79.33122355,
                        "remaining_time": 60.8299488,
                        "test": [
                          0.8566314015,
                          0.3510455655
                        ]
                      },
                      {
                        "learn": [
                          0.3975863669
                        ],
                        "iteration": 283,
                        "passed_time": 79.79502121,
                        "remaining_time": 60.68917106,
                        "test": [
                          0.8566898893,
                          0.35098594
                        ]
                      },
                      {
                        "learn": [
                          0.3975416518
                        ],
                        "iteration": 284,
                        "passed_time": 80.11197243,
                        "remaining_time": 60.43534762,
                        "test": [
                          0.8567159596,
                          0.3509409818
                        ]
                      },
                      {
                        "learn": [
                          0.3974792666
                        ],
                        "iteration": 285,
                        "passed_time": 80.34224825,
                        "remaining_time": 60.11622771,
                        "test": [
                          0.8570511892,
                          0.3506355887
                        ]
                      },
                      {
                        "learn": [
                          0.397476791
                        ],
                        "iteration": 286,
                        "passed_time": 80.44584603,
                        "remaining_time": 59.70371151,
                        "test": [
                          0.8570514721,
                          0.3506345808
                        ]
                      },
                      {
                        "learn": [
                          0.3974313092
                        ],
                        "iteration": 287,
                        "passed_time": 80.72504522,
                        "remaining_time": 59.42260273,
                        "test": [
                          0.857140709,
                          0.350556162
                        ]
                      },
                      {
                        "learn": [
                          0.3973844865
                        ],
                        "iteration": 288,
                        "passed_time": 80.98584744,
                        "remaining_time": 59.12807547,
                        "test": [
                          0.8571847544,
                          0.3505188501
                        ]
                      },
                      {
                        "learn": [
                          0.3973291819
                        ],
                        "iteration": 289,
                        "passed_time": 81.21117761,
                        "remaining_time": 58.80809413,
                        "test": [
                          0.8571840217,
                          0.350494542
                        ]
                      },
                      {
                        "learn": [
                          0.3972771317
                        ],
                        "iteration": 290,
                        "passed_time": 81.44271447,
                        "remaining_time": 58.49322105,
                        "test": [
                          0.8572327458,
                          0.3504632265
                        ]
                      },
                      {
                        "learn": [
                          0.3972745039
                        ],
                        "iteration": 291,
                        "passed_time": 81.54311297,
                        "remaining_time": 58.08550513,
                        "test": [
                          0.8572335148,
                          0.3504596262
                        ]
                      },
                      {
                        "learn": [
                          0.3972413117
                        ],
                        "iteration": 292,
                        "passed_time": 81.80537098,
                        "remaining_time": 57.7942382,
                        "test": [
                          0.8572724752,
                          0.3504134036
                        ]
                      },
                      {
                        "learn": [
                          0.3971705329
                        ],
                        "iteration": 293,
                        "passed_time": 82.07449871,
                        "remaining_time": 57.50798209,
                        "test": [
                          0.8572875705,
                          0.3503613252
                        ]
                      },
                      {
                        "learn": [
                          0.3971181623
                        ],
                        "iteration": 294,
                        "passed_time": 82.31894547,
                        "remaining_time": 57.20469092,
                        "test": [
                          0.857641029,
                          0.3500562468
                        ]
                      },
                      {
                        "learn": [
                          0.3970535464
                        ],
                        "iteration": 295,
                        "passed_time": 82.55392133,
                        "remaining_time": 56.89527011,
                        "test": [
                          0.8578119732,
                          0.349846725
                        ]
                      },
                      {
                        "learn": [
                          0.3970126661
                        ],
                        "iteration": 296,
                        "passed_time": 82.76437354,
                        "remaining_time": 56.56958865,
                        "test": [
                          0.8585827024,
                          0.349262519
                        ]
                      },
                      {
                        "learn": [
                          0.3969498608
                        ],
                        "iteration": 297,
                        "passed_time": 83.04846375,
                        "remaining_time": 56.29459623,
                        "test": [
                          0.8591717225,
                          0.3488426997
                        ]
                      },
                      {
                        "learn": [
                          0.3968600323
                        ],
                        "iteration": 298,
                        "passed_time": 83.29246662,
                        "remaining_time": 55.99259462,
                        "test": [
                          0.8600780261,
                          0.3481181848
                        ]
                      },
                      {
                        "learn": [
                          0.3968152781
                        ],
                        "iteration": 299,
                        "passed_time": 83.56333551,
                        "remaining_time": 55.70889034,
                        "test": [
                          0.8601069689,
                          0.3480848028
                        ]
                      },
                      {
                        "learn": [
                          0.3967837308
                        ],
                        "iteration": 300,
                        "passed_time": 83.84260607,
                        "remaining_time": 55.43082594,
                        "test": [
                          0.8602011312,
                          0.3479919981
                        ]
                      },
                      {
                        "learn": [
                          0.3967067977
                        ],
                        "iteration": 301,
                        "passed_time": 84.09269572,
                        "remaining_time": 55.1336217,
                        "test": [
                          0.8610074912,
                          0.3473623106
                        ]
                      },
                      {
                        "learn": [
                          0.3966704305
                        ],
                        "iteration": 302,
                        "passed_time": 84.28694337,
                        "remaining_time": 54.80042193,
                        "test": [
                          0.8610467563,
                          0.3473403606
                        ]
                      },
                      {
                        "learn": [
                          0.3966520279
                        ],
                        "iteration": 303,
                        "passed_time": 84.56327148,
                        "remaining_time": 54.52105661,
                        "test": [
                          0.8610910774,
                          0.3473250501
                        ]
                      },
                      {
                        "learn": [
                          0.3966074345
                        ],
                        "iteration": 304,
                        "passed_time": 84.8907718,
                        "remaining_time": 54.27442787,
                        "test": [
                          0.8611678231,
                          0.3472724401
                        ]
                      },
                      {
                        "learn": [
                          0.3965508981
                        ],
                        "iteration": 305,
                        "passed_time": 85.11800514,
                        "remaining_time": 53.9637026,
                        "test": [
                          0.8615040972,
                          0.3469883246
                        ]
                      },
                      {
                        "learn": [
                          0.3965112558
                        ],
                        "iteration": 306,
                        "passed_time": 85.38120734,
                        "remaining_time": 53.6761336,
                        "test": [
                          0.8614845409,
                          0.346960778
                        ]
                      },
                      {
                        "learn": [
                          0.3964677888
                        ],
                        "iteration": 307,
                        "passed_time": 85.62474214,
                        "remaining_time": 53.37646263,
                        "test": [
                          0.861536493,
                          0.346915427
                        ]
                      },
                      {
                        "learn": [
                          0.3964413449
                        ],
                        "iteration": 308,
                        "passed_time": 85.89669239,
                        "remaining_time": 53.09471924,
                        "test": [
                          0.8615442981,
                          0.3469009227
                        ]
                      },
                      {
                        "learn": [
                          0.3964099603
                        ],
                        "iteration": 309,
                        "passed_time": 86.16957236,
                        "remaining_time": 52.81360887,
                        "test": [
                          0.8615736472,
                          0.3468786854
                        ]
                      },
                      {
                        "learn": [
                          0.3963258464
                        ],
                        "iteration": 310,
                        "passed_time": 86.40841371,
                        "remaining_time": 52.51186557,
                        "test": [
                          0.8622850035,
                          0.346314737
                        ]
                      },
                      {
                        "learn": [
                          0.3962908766
                        ],
                        "iteration": 311,
                        "passed_time": 86.65068337,
                        "remaining_time": 52.21259126,
                        "test": [
                          0.8623438758,
                          0.3462783548
                        ]
                      },
                      {
                        "learn": [
                          0.3962629164
                        ],
                        "iteration": 312,
                        "passed_time": 86.93638707,
                        "remaining_time": 51.93963061,
                        "test": [
                          0.8623829088,
                          0.3462212663
                        ]
                      },
                      {
                        "learn": [
                          0.3962428382
                        ],
                        "iteration": 313,
                        "passed_time": 87.16587948,
                        "remaining_time": 51.63329167,
                        "test": [
                          0.8624386691,
                          0.3461567667
                        ]
                      },
                      {
                        "learn": [
                          0.3962217241
                        ],
                        "iteration": 314,
                        "passed_time": 87.4441787,
                        "remaining_time": 51.35610495,
                        "test": [
                          0.8626530858,
                          0.3460018445
                        ]
                      },
                      {
                        "learn": [
                          0.3961369729
                        ],
                        "iteration": 315,
                        "passed_time": 87.63162651,
                        "remaining_time": 51.02601037,
                        "test": [
                          0.8634902166,
                          0.3453411005
                        ]
                      },
                      {
                        "learn": [
                          0.3960703922
                        ],
                        "iteration": 316,
                        "passed_time": 87.88166896,
                        "remaining_time": 50.73295085,
                        "test": [
                          0.8639207546,
                          0.3449930747
                        ]
                      },
                      {
                        "learn": [
                          0.3960640271
                        ],
                        "iteration": 317,
                        "passed_time": 87.99299348,
                        "remaining_time": 50.36076985,
                        "test": [
                          0.8639543109,
                          0.3449831368
                        ]
                      },
                      {
                        "learn": [
                          0.3959668449
                        ],
                        "iteration": 318,
                        "passed_time": 88.20617827,
                        "remaining_time": 50.04801964,
                        "test": [
                          0.8643814395,
                          0.3446061263
                        ]
                      },
                      {
                        "learn": [
                          0.3959299289
                        ],
                        "iteration": 319,
                        "passed_time": 88.42719386,
                        "remaining_time": 49.74029654,
                        "test": [
                          0.8644112311,
                          0.3445728561
                        ]
                      },
                      {
                        "learn": [
                          0.3958617155
                        ],
                        "iteration": 320,
                        "passed_time": 88.67450914,
                        "remaining_time": 49.44777924,
                        "test": [
                          0.8652187662,
                          0.3439446394
                        ]
                      },
                      {
                        "learn": [
                          0.3958290884
                        ],
                        "iteration": 321,
                        "passed_time": 88.88317986,
                        "remaining_time": 49.13418017,
                        "test": [
                          0.8652668883,
                          0.3439131146
                        ]
                      },
                      {
                        "learn": [
                          0.3957949447
                        ],
                        "iteration": 322,
                        "passed_time": 89.11702229,
                        "remaining_time": 48.8350246,
                        "test": [
                          0.8654288741,
                          0.343756416
                        ]
                      },
                      {
                        "learn": [
                          0.3957309614
                        ],
                        "iteration": 323,
                        "passed_time": 89.32941299,
                        "remaining_time": 48.5246194,
                        "test": [
                          0.8654461092,
                          0.3436448211
                        ]
                      },
                      {
                        "learn": [
                          0.3957129736
                        ],
                        "iteration": 324,
                        "passed_time": 89.63130128,
                        "remaining_time": 48.26300838,
                        "test": [
                          0.8654565693,
                          0.3436320659
                        ]
                      },
                      {
                        "learn": [
                          0.3956781943
                        ],
                        "iteration": 325,
                        "passed_time": 89.92564739,
                        "remaining_time": 47.99712468,
                        "test": [
                          0.8655123587,
                          0.3436016526
                        ]
                      },
                      {
                        "learn": [
                          0.3956452162
                        ],
                        "iteration": 326,
                        "passed_time": 90.33111948,
                        "remaining_time": 47.78985832,
                        "test": [
                          0.8656094805,
                          0.3435161787
                        ]
                      },
                      {
                        "learn": [
                          0.3955999489
                        ],
                        "iteration": 327,
                        "passed_time": 90.78158412,
                        "remaining_time": 47.60497704,
                        "test": [
                          0.8658157148,
                          0.3433424835
                        ]
                      },
                      {
                        "learn": [
                          0.395570095
                        ],
                        "iteration": 328,
                        "passed_time": 91.35588799,
                        "remaining_time": 47.48284756,
                        "test": [
                          0.8658426701,
                          0.3433104167
                        ]
                      },
                      {
                        "learn": [
                          0.3955090067
                        ],
                        "iteration": 329,
                        "passed_time": 91.81672639,
                        "remaining_time": 47.29952572,
                        "test": [
                          0.8663759588,
                          0.3428650589
                        ]
                      },
                      {
                        "learn": [
                          0.3954667655
                        ],
                        "iteration": 330,
                        "passed_time": 92.26156358,
                        "remaining_time": 47.10635724,
                        "test": [
                          0.8663846345,
                          0.342788535
                        ]
                      },
                      {
                        "learn": [
                          0.3953897029
                        ],
                        "iteration": 331,
                        "passed_time": 92.66809705,
                        "remaining_time": 46.89229007,
                        "test": [
                          0.8664198447,
                          0.3426783896
                        ]
                      },
                      {
                        "learn": [
                          0.3953491554
                        ],
                        "iteration": 332,
                        "passed_time": 93.10523797,
                        "remaining_time": 46.69241664,
                        "test": [
                          0.8664367099,
                          0.3426331149
                        ]
                      },
                      {
                        "learn": [
                          0.3953279809
                        ],
                        "iteration": 333,
                        "passed_time": 93.51790422,
                        "remaining_time": 46.47895839,
                        "test": [
                          0.8664711076,
                          0.3426160691
                        ]
                      },
                      {
                        "learn": [
                          0.3953023174
                        ],
                        "iteration": 334,
                        "passed_time": 93.96975468,
                        "remaining_time": 46.28361051,
                        "test": [
                          0.8664722755,
                          0.3425648276
                        ]
                      },
                      {
                        "learn": [
                          0.3952245896
                        ],
                        "iteration": 335,
                        "passed_time": 94.36007729,
                        "remaining_time": 46.05670439,
                        "test": [
                          0.8671796857,
                          0.3419717156
                        ]
                      },
                      {
                        "learn": [
                          0.3952037877
                        ],
                        "iteration": 336,
                        "passed_time": 94.76504357,
                        "remaining_time": 45.83591128,
                        "test": [
                          0.8671850246,
                          0.3419558572
                        ]
                      },
                      {
                        "learn": [
                          0.3951690044
                        ],
                        "iteration": 337,
                        "passed_time": 95.02018546,
                        "remaining_time": 45.54221907,
                        "test": [
                          0.8672282938,
                          0.3418998653
                        ]
                      },
                      {
                        "learn": [
                          0.3951213965
                        ],
                        "iteration": 338,
                        "passed_time": 95.2839357,
                        "remaining_time": 45.25284262,
                        "test": [
                          0.8675757606,
                          0.3415828267
                        ]
                      },
                      {
                        "learn": [
                          0.3950720931
                        ],
                        "iteration": 339,
                        "passed_time": 95.57157627,
                        "remaining_time": 44.97485942,
                        "test": [
                          0.8682403803,
                          0.3410796635
                        ]
                      },
                      {
                        "learn": [
                          0.3949410718
                        ],
                        "iteration": 340,
                        "passed_time": 95.82587396,
                        "remaining_time": 44.68127261,
                        "test": [
                          0.8687812349,
                          0.3406121339
                        ]
                      },
                      {
                        "learn": [
                          0.3948822181
                        ],
                        "iteration": 341,
                        "passed_time": 96.09202213,
                        "remaining_time": 44.39339034,
                        "test": [
                          0.8690392834,
                          0.3403081343
                        ]
                      },
                      {
                        "learn": [
                          0.3947878018
                        ],
                        "iteration": 342,
                        "passed_time": 96.35545588,
                        "remaining_time": 44.10439234,
                        "test": [
                          0.8690854324,
                          0.3402240512
                        ]
                      },
                      {
                        "learn": [
                          0.3947462508
                        ],
                        "iteration": 343,
                        "passed_time": 96.63990102,
                        "remaining_time": 43.82507139,
                        "test": [
                          0.8691157535,
                          0.3401969141
                        ]
                      },
                      {
                        "learn": [
                          0.3947299878
                        ],
                        "iteration": 344,
                        "passed_time": 96.89741179,
                        "remaining_time": 43.53361979,
                        "test": [
                          0.8691470104,
                          0.3401885052
                        ]
                      },
                      {
                        "learn": [
                          0.3946528966
                        ],
                        "iteration": 345,
                        "passed_time": 97.15649496,
                        "remaining_time": 43.24306423,
                        "test": [
                          0.8698042457,
                          0.3395966215
                        ]
                      },
                      {
                        "learn": [
                          0.3946222906
                        ],
                        "iteration": 346,
                        "passed_time": 97.40512959,
                        "remaining_time": 42.94808308,
                        "test": [
                          0.8698228881,
                          0.339585828
                        ]
                      },
                      {
                        "learn": [
                          0.3945419801
                        ],
                        "iteration": 347,
                        "passed_time": 97.66300834,
                        "remaining_time": 42.65740594,
                        "test": [
                          0.8703786856,
                          0.3391024884
                        ]
                      },
                      {
                        "learn": [
                          0.3944824021
                        ],
                        "iteration": 348,
                        "passed_time": 97.87107018,
                        "remaining_time": 42.34536274,
                        "test": [
                          0.8710204267,
                          0.3385563824
                        ]
                      },
                      {
                        "learn": [
                          0.3944160177
                        ],
                        "iteration": 349,
                        "passed_time": 98.10477088,
                        "remaining_time": 42.04490181,
                        "test": [
                          0.8710219282,
                          0.3385174005
                        ]
                      },
                      {
                        "learn": [
                          0.3943749626
                        ],
                        "iteration": 350,
                        "passed_time": 98.45006932,
                        "remaining_time": 41.79219467,
                        "test": [
                          0.8710523654,
                          0.3384813406
                        ]
                      },
                      {
                        "learn": [
                          0.3943442725
                        ],
                        "iteration": 351,
                        "passed_time": 98.73373302,
                        "remaining_time": 41.51304684,
                        "test": [
                          0.8711413194,
                          0.3383742247
                        ]
                      },
                      {
                        "learn": [
                          0.394310142
                        ],
                        "iteration": 352,
                        "passed_time": 98.97791475,
                        "remaining_time": 41.21743192,
                        "test": [
                          0.8712033543,
                          0.3382977701
                        ]
                      },
                      {
                        "learn": [
                          0.3942514188
                        ],
                        "iteration": 353,
                        "passed_time": 99.22069298,
                        "remaining_time": 40.92152874,
                        "test": [
                          0.8718314509,
                          0.3377658247
                        ]
                      },
                      {
                        "learn": [
                          0.3942336985
                        ],
                        "iteration": 354,
                        "passed_time": 99.51114264,
                        "remaining_time": 40.64539629,
                        "test": [
                          0.8718164572,
                          0.3377715313
                        ]
                      },
                      {
                        "learn": [
                          0.3942115132
                        ],
                        "iteration": 355,
                        "passed_time": 99.75523125,
                        "remaining_time": 40.35043062,
                        "test": [
                          0.8718450519,
                          0.3377513543
                        ]
                      },
                      {
                        "learn": [
                          0.3941743493
                        ],
                        "iteration": 356,
                        "passed_time": 99.98926311,
                        "remaining_time": 40.05172164,
                        "test": [
                          0.8718549099,
                          0.3377229171
                        ]
                      },
                      {
                        "learn": [
                          0.39413755
                        ],
                        "iteration": 357,
                        "passed_time": 100.2795948,
                        "remaining_time": 39.77570519,
                        "test": [
                          0.8718891045,
                          0.337680868
                        ]
                      },
                      {
                        "learn": [
                          0.3941020861
                        ],
                        "iteration": 358,
                        "passed_time": 100.5800159,
                        "remaining_time": 39.50357169,
                        "test": [
                          0.8719835062,
                          0.3376324246
                        ]
                      },
                      {
                        "learn": [
                          0.3940571974
                        ],
                        "iteration": 359,
                        "passed_time": 100.8293502,
                        "remaining_time": 39.21141397,
                        "test": [
                          0.8720112159,
                          0.337600088
                        ]
                      },
                      {
                        "learn": [
                          0.3940082787
                        ],
                        "iteration": 360,
                        "passed_time": 101.0513382,
                        "remaining_time": 38.90896401,
                        "test": [
                          0.8722517029,
                          0.337438777
                        ]
                      },
                      {
                        "learn": [
                          0.3939647267
                        ],
                        "iteration": 361,
                        "passed_time": 101.2714988,
                        "remaining_time": 38.60626196,
                        "test": [
                          0.8723447481,
                          0.3373698514
                        ]
                      },
                      {
                        "learn": [
                          0.3939309302
                        ],
                        "iteration": 362,
                        "passed_time": 101.5765871,
                        "remaining_time": 38.33606729,
                        "test": [
                          0.8723867261,
                          0.3373504377
                        ]
                      },
                      {
                        "learn": [
                          0.3938704285
                        ],
                        "iteration": 363,
                        "passed_time": 101.7999071,
                        "remaining_time": 38.03513013,
                        "test": [
                          0.8727046044,
                          0.3370533813
                        ]
                      },
                      {
                        "learn": [
                          0.3938552826
                        ],
                        "iteration": 364,
                        "passed_time": 102.0651307,
                        "remaining_time": 37.75011682,
                        "test": [
                          0.8726870284,
                          0.3370497572
                        ]
                      },
                      {
                        "learn": [
                          0.3938417121
                        ],
                        "iteration": 365,
                        "passed_time": 102.3447484,
                        "remaining_time": 37.47048164,
                        "test": [
                          0.8727067516,
                          0.3370370165
                        ]
                      },
                      {
                        "learn": [
                          0.3937927568
                        ],
                        "iteration": 366,
                        "passed_time": 102.6342967,
                        "remaining_time": 37.1944454,
                        "test": [
                          0.8734277628,
                          0.3364653328
                        ]
                      },
                      {
                        "learn": [
                          0.3937472931
                        ],
                        "iteration": 367,
                        "passed_time": 102.7942334,
                        "remaining_time": 36.8718446,
                        "test": [
                          0.8739235926,
                          0.3360329957
                        ]
                      },
                      {
                        "learn": [
                          0.3937008948
                        ],
                        "iteration": 368,
                        "passed_time": 103.0827099,
                        "remaining_time": 36.59575878,
                        "test": [
                          0.8741949085,
                          0.3358007504
                        ]
                      },
                      {
                        "learn": [
                          0.393650655
                        ],
                        "iteration": 369,
                        "passed_time": 103.2989363,
                        "remaining_time": 36.29422086,
                        "test": [
                          0.8742014515,
                          0.3357730819
                        ]
                      },
                      {
                        "learn": [
                          0.3935924654
                        ],
                        "iteration": 370,
                        "passed_time": 103.549212,
                        "remaining_time": 36.00498207,
                        "test": [
                          0.8746803798,
                          0.3353161228
                        ]
                      },
                      {
                        "learn": [
                          0.3935305786
                        ],
                        "iteration": 371,
                        "passed_time": 103.8693586,
                        "remaining_time": 35.73999436,
                        "test": [
                          0.8751368865,
                          0.3349085804
                        ]
                      },
                      {
                        "learn": [
                          0.3935052483
                        ],
                        "iteration": 372,
                        "passed_time": 104.1216148,
                        "remaining_time": 35.45159539,
                        "test": [
                          0.8751529248,
                          0.3348858382
                        ]
                      },
                      {
                        "learn": [
                          0.3934904078
                        ],
                        "iteration": 373,
                        "passed_time": 104.3958964,
                        "remaining_time": 35.17081001,
                        "test": [
                          0.8752533689,
                          0.3347816752
                        ]
                      },
                      {
                        "learn": [
                          0.3934587256
                        ],
                        "iteration": 374,
                        "passed_time": 104.7150532,
                        "remaining_time": 34.90501772,
                        "test": [
                          0.8754995792,
                          0.3345412545
                        ]
                      },
                      {
                        "learn": [
                          0.393429611
                        ],
                        "iteration": 375,
                        "passed_time": 105.0943544,
                        "remaining_time": 34.65877644,
                        "test": [
                          0.8755014144,
                          0.3345389602
                        ]
                      },
                      {
                        "learn": [
                          0.3934083303
                        ],
                        "iteration": 376,
                        "passed_time": 105.5436939,
                        "remaining_time": 34.43467996,
                        "test": [
                          0.8755647333,
                          0.3344617986
                        ]
                      },
                      {
                        "learn": [
                          0.3933526348
                        ],
                        "iteration": 377,
                        "passed_time": 106.0179284,
                        "remaining_time": 34.21742664,
                        "test": [
                          0.8761377949,
                          0.3339625774
                        ]
                      },
                      {
                        "learn": [
                          0.3933165104
                        ],
                        "iteration": 378,
                        "passed_time": 106.4111012,
                        "remaining_time": 33.97293733,
                        "test": [
                          0.8763390385,
                          0.3337892703
                        ]
                      },
                      {
                        "learn": [
                          0.3932600323
                        ],
                        "iteration": 379,
                        "passed_time": 106.8780487,
                        "remaining_time": 33.75096275,
                        "test": [
                          0.8768851158,
                          0.333301279
                        ]
                      },
                      {
                        "learn": [
                          0.3932265987
                        ],
                        "iteration": 380,
                        "passed_time": 107.3653847,
                        "remaining_time": 33.5340703,
                        "test": [
                          0.8769372783,
                          0.3332666185
                        ]
                      },
                      {
                        "learn": [
                          0.3932046207
                        ],
                        "iteration": 381,
                        "passed_time": 107.8963709,
                        "remaining_time": 33.32924547,
                        "test": [
                          0.876963987,
                          0.333261383
                        ]
                      },
                      {
                        "learn": [
                          0.3931752464
                        ],
                        "iteration": 382,
                        "passed_time": 108.3494865,
                        "remaining_time": 33.09892931,
                        "test": [
                          0.8769734097,
                          0.3332632903
                        ]
                      },
                      {
                        "learn": [
                          0.3931409635
                        ],
                        "iteration": 383,
                        "passed_time": 108.8649773,
                        "remaining_time": 32.88629524,
                        "test": [
                          0.8770042676,
                          0.3332200395
                        ]
                      },
                      {
                        "learn": [
                          0.3931023409
                        ],
                        "iteration": 384,
                        "passed_time": 109.3199386,
                        "remaining_time": 32.65400764,
                        "test": [
                          0.8770542829,
                          0.3331915536
                        ]
                      },
                      {
                        "learn": [
                          0.3930504034
                        ],
                        "iteration": 385,
                        "passed_time": 109.6532589,
                        "remaining_time": 32.38464122,
                        "test": [
                          0.8774740706,
                          0.332834955
                        ]
                      },
                      {
                        "learn": [
                          0.3930186926
                        ],
                        "iteration": 386,
                        "passed_time": 109.9677522,
                        "remaining_time": 32.10944703,
                        "test": [
                          0.8775238176,
                          0.3327978846
                        ]
                      },
                      {
                        "learn": [
                          0.3929593457
                        ],
                        "iteration": 387,
                        "passed_time": 110.2448803,
                        "remaining_time": 31.8232644,
                        "test": [
                          0.8778244172,
                          0.3325234555
                        ]
                      },
                      {
                        "learn": [
                          0.3928983968
                        ],
                        "iteration": 388,
                        "passed_time": 110.466842,
                        "remaining_time": 31.5213868,
                        "test": [
                          0.8778561456,
                          0.3324790751
                        ]
                      },
                      {
                        "learn": [
                          0.3928414755
                        ],
                        "iteration": 389,
                        "passed_time": 110.7300838,
                        "remaining_time": 31.2315621,
                        "test": [
                          0.8779233743,
                          0.3323974611
                        ]
                      },
                      {
                        "learn": [
                          0.3927964071
                        ],
                        "iteration": 390,
                        "passed_time": 111.0463079,
                        "remaining_time": 30.95664338,
                        "test": [
                          0.8783270512,
                          0.3320609987
                        ]
                      },
                      {
                        "learn": [
                          0.3926551816
                        ],
                        "iteration": 391,
                        "passed_time": 111.3483593,
                        "remaining_time": 30.6776092,
                        "test": [
                          0.8784541822,
                          0.3319121038
                        ]
                      },
                      {
                        "learn": [
                          0.392619501
                        ],
                        "iteration": 392,
                        "passed_time": 111.6189002,
                        "remaining_time": 30.38987868,
                        "test": [
                          0.8784580848,
                          0.3318868145
                        ]
                      },
                      {
                        "learn": [
                          0.3925879844
                        ],
                        "iteration": 393,
                        "passed_time": 111.9353778,
                        "remaining_time": 30.11459402,
                        "test": [
                          0.8785067074,
                          0.331855864
                        ]
                      },
                      {
                        "learn": [
                          0.3925430969
                        ],
                        "iteration": 394,
                        "passed_time": 112.1727888,
                        "remaining_time": 29.81808309,
                        "test": [
                          0.8789463634,
                          0.3315033832
                        ]
                      },
                      {
                        "learn": [
                          0.3924889616
                        ],
                        "iteration": 395,
                        "passed_time": 112.4182812,
                        "remaining_time": 29.52399304,
                        "test": [
                          0.8789941445,
                          0.3314170708
                        ]
                      },
                      {
                        "learn": [
                          0.3924543963
                        ],
                        "iteration": 396,
                        "passed_time": 112.6732107,
                        "remaining_time": 29.23259624,
                        "test": [
                          0.8792436408,
                          0.3311387048
                        ]
                      },
                      {
                        "learn": [
                          0.3924285321
                        ],
                        "iteration": 397,
                        "passed_time": 112.967759,
                        "remaining_time": 28.95153622,
                        "test": [
                          0.87926385,
                          0.331121218
                        ]
                      },
                      {
                        "learn": [
                          0.3924053511
                        ],
                        "iteration": 398,
                        "passed_time": 113.2459134,
                        "remaining_time": 28.66625878,
                        "test": [
                          0.8792870914,
                          0.331103985
                        ]
                      },
                      {
                        "learn": [
                          0.3923657808
                        ],
                        "iteration": 399,
                        "passed_time": 113.4965645,
                        "remaining_time": 28.37414112,
                        "test": [
                          0.8794412357,
                          0.3309394774
                        ]
                      },
                      {
                        "learn": [
                          0.3923301892
                        ],
                        "iteration": 400,
                        "passed_time": 113.7724766,
                        "remaining_time": 28.08846678,
                        "test": [
                          0.8794846718,
                          0.3309165192
                        ]
                      },
                      {
                        "learn": [
                          0.3923023617
                        ],
                        "iteration": 401,
                        "passed_time": 114.0494682,
                        "remaining_time": 27.80310418,
                        "test": [
                          0.8794996728,
                          0.330898895
                        ]
                      },
                      {
                        "learn": [
                          0.392253119
                        ],
                        "iteration": 402,
                        "passed_time": 114.3250433,
                        "remaining_time": 27.51744218,
                        "test": [
                          0.8795318654,
                          0.3308592717
                        ]
                      },
                      {
                        "learn": [
                          0.3922005075
                        ],
                        "iteration": 403,
                        "passed_time": 114.5619329,
                        "remaining_time": 27.22263751,
                        "test": [
                          0.8797208065,
                          0.3305731615
                        ]
                      },
                      {
                        "learn": [
                          0.3921751775
                        ],
                        "iteration": 404,
                        "passed_time": 114.8094269,
                        "remaining_time": 26.93060632,
                        "test": [
                          0.8797586716,
                          0.3305579479
                        ]
                      },
                      {
                        "learn": [
                          0.3921442928
                        ],
                        "iteration": 405,
                        "passed_time": 115.0709829,
                        "remaining_time": 26.64205023,
                        "test": [
                          0.8798508608,
                          0.3304335264
                        ]
                      },
                      {
                        "learn": [
                          0.3920958363
                        ],
                        "iteration": 406,
                        "passed_time": 115.3364414,
                        "remaining_time": 26.35451855,
                        "test": [
                          0.8798772576,
                          0.3303798406
                        ]
                      },
                      {
                        "learn": [
                          0.3920691344
                        ],
                        "iteration": 407,
                        "passed_time": 115.6006652,
                        "remaining_time": 26.06681667,
                        "test": [
                          0.8798866586,
                          0.330342193
                        ]
                      },
                      {
                        "learn": [
                          0.3920348144
                        ],
                        "iteration": 408,
                        "passed_time": 115.8801254,
                        "remaining_time": 25.78261958,
                        "test": [
                          0.8799365578,
                          0.3303118222
                        ]
                      },
                      {
                        "learn": [
                          0.3920027332
                        ],
                        "iteration": 409,
                        "passed_time": 116.1583792,
                        "remaining_time": 25.49818079,
                        "test": [
                          0.8800002829,
                          0.330229448
                        ]
                      },
                      {
                        "learn": [
                          0.3919627064
                        ],
                        "iteration": 410,
                        "passed_time": 116.4207158,
                        "remaining_time": 25.21032533,
                        "test": [
                          0.8800223129,
                          0.3302026595
                        ]
                      },
                      {
                        "learn": [
                          0.3919034981
                        ],
                        "iteration": 411,
                        "passed_time": 116.727992,
                        "remaining_time": 24.93219247,
                        "test": [
                          0.8801236492,
                          0.3300898745
                        ]
                      },
                      {
                        "learn": [
                          0.3918875199
                        ],
                        "iteration": 412,
                        "passed_time": 117.1184974,
                        "remaining_time": 24.67145103,
                        "test": [
                          0.880229686,
                          0.3300118845
                        ]
                      },
                      {
                        "learn": [
                          0.3918204471
                        ],
                        "iteration": 413,
                        "passed_time": 117.5192552,
                        "remaining_time": 24.41221242,
                        "test": [
                          0.8802486911,
                          0.3299763041
                        ]
                      },
                      {
                        "learn": [
                          0.3917684297
                        ],
                        "iteration": 414,
                        "passed_time": 117.9731374,
                        "remaining_time": 24.16317272,
                        "test": [
                          0.8804831936,
                          0.329774155
                        ]
                      },
                      {
                        "learn": [
                          0.3917179861
                        ],
                        "iteration": 415,
                        "passed_time": 118.4776132,
                        "remaining_time": 23.92336419,
                        "test": [
                          0.8805202608,
                          0.3297340311
                        ]
                      },
                      {
                        "learn": [
                          0.3916890532
                        ],
                        "iteration": 416,
                        "passed_time": 119.0173784,
                        "remaining_time": 23.68931032,
                        "test": [
                          0.8807393562,
                          0.3295371744
                        ]
                      },
                      {
                        "learn": [
                          0.3916058138
                        ],
                        "iteration": 417,
                        "passed_time": 119.6243857,
                        "remaining_time": 23.46698476,
                        "test": [
                          0.8812141716,
                          0.3291372884
                        ]
                      },
                      {
                        "learn": [
                          0.3915755305
                        ],
                        "iteration": 418,
                        "passed_time": 120.0512865,
                        "remaining_time": 23.20800526,
                        "test": [
                          0.8812429984,
                          0.3291140078
                        ]
                      },
                      {
                        "learn": [
                          0.3915551098
                        ],
                        "iteration": 419,
                        "passed_time": 120.6021141,
                        "remaining_time": 22.97183126,
                        "test": [
                          0.8812420482,
                          0.3291029984
                        ]
                      },
                      {
                        "learn": [
                          0.3915235057
                        ],
                        "iteration": 420,
                        "passed_time": 121.0677244,
                        "remaining_time": 22.71817156,
                        "test": [
                          0.8812742335,
                          0.329079295
                        ]
                      },
                      {
                        "learn": [
                          0.3914968864
                        ],
                        "iteration": 421,
                        "passed_time": 121.60729,
                        "remaining_time": 22.47717683,
                        "test": [
                          0.8813486581,
                          0.3289951268
                        ]
                      },
                      {
                        "learn": [
                          0.3914446959
                        ],
                        "iteration": 422,
                        "passed_time": 122.1327277,
                        "remaining_time": 22.23219866,
                        "test": [
                          0.8813642684,
                          0.3289536052
                        ]
                      },
                      {
                        "learn": [
                          0.3913789867
                        ],
                        "iteration": 423,
                        "passed_time": 122.7512043,
                        "remaining_time": 22.00257436,
                        "test": [
                          0.8814068267,
                          0.3288885068
                        ]
                      },
                      {
                        "learn": [
                          0.3913327366
                        ],
                        "iteration": 424,
                        "passed_time": 123.2238007,
                        "remaining_time": 21.74537659,
                        "test": [
                          0.8819364305,
                          0.3284138447
                        ]
                      },
                      {
                        "learn": [
                          0.3913077404
                        ],
                        "iteration": 425,
                        "passed_time": 123.7577423,
                        "remaining_time": 21.49782378,
                        "test": [
                          0.8820208436,
                          0.3283076276
                        ]
                      },
                      {
                        "learn": [
                          0.3912820266
                        ],
                        "iteration": 426,
                        "passed_time": 124.206426,
                        "remaining_time": 21.23435386,
                        "test": [
                          0.8822561513,
                          0.3280852697
                        ]
                      },
                      {
                        "learn": [
                          0.3912460437
                        ],
                        "iteration": 427,
                        "passed_time": 124.7165481,
                        "remaining_time": 20.98035389,
                        "test": [
                          0.8824915098,
                          0.3278908429
                        ]
                      },
                      {
                        "learn": [
                          0.3911952202
                        ],
                        "iteration": 428,
                        "passed_time": 125.1172389,
                        "remaining_time": 20.70704887,
                        "test": [
                          0.8830033852,
                          0.3273907978
                        ]
                      },
                      {
                        "learn": [
                          0.3911625635
                        ],
                        "iteration": 429,
                        "passed_time": 125.6537095,
                        "remaining_time": 20.45525503,
                        "test": [
                          0.8830246172,
                          0.3273560821
                        ]
                      },
                      {
                        "learn": [
                          0.3910906804
                        ],
                        "iteration": 430,
                        "passed_time": 126.1978494,
                        "remaining_time": 20.20336801,
                        "test": [
                          0.883182345,
                          0.3271917792
                        ]
                      },
                      {
                        "learn": [
                          0.3910550748
                        ],
                        "iteration": 431,
                        "passed_time": 126.649009,
                        "remaining_time": 19.93549216,
                        "test": [
                          0.8836258383,
                          0.326797539
                        ]
                      },
                      {
                        "learn": [
                          0.3909901501
                        ],
                        "iteration": 432,
                        "passed_time": 126.9188961,
                        "remaining_time": 19.63872064,
                        "test": [
                          0.8840835927,
                          0.3263835304
                        ]
                      },
                      {
                        "learn": [
                          0.3909233572
                        ],
                        "iteration": 433,
                        "passed_time": 127.2238382,
                        "remaining_time": 19.34740396,
                        "test": [
                          0.8841132537,
                          0.3263256006
                        ]
                      },
                      {
                        "learn": [
                          0.3909045857
                        ],
                        "iteration": 434,
                        "passed_time": 127.4664631,
                        "remaining_time": 19.04671288,
                        "test": [
                          0.8841397012,
                          0.326286366
                        ]
                      },
                      {
                        "learn": [
                          0.3908838038
                        ],
                        "iteration": 435,
                        "passed_time": 127.7153473,
                        "remaining_time": 18.74720695,
                        "test": [
                          0.8841396214,
                          0.3262858629
                        ]
                      },
                      {
                        "learn": [
                          0.3908642982
                        ],
                        "iteration": 436,
                        "passed_time": 128.0042911,
                        "remaining_time": 18.45370788,
                        "test": [
                          0.8841281676,
                          0.3262729026
                        ]
                      },
                      {
                        "learn": [
                          0.3908129537
                        ],
                        "iteration": 437,
                        "passed_time": 128.2897017,
                        "remaining_time": 18.15972947,
                        "test": [
                          0.8841273479,
                          0.3262465033
                        ]
                      },
                      {
                        "learn": [
                          0.3907744425
                        ],
                        "iteration": 438,
                        "passed_time": 128.4822147,
                        "remaining_time": 17.85288176,
                        "test": [
                          0.8841565447,
                          0.3261905943
                        ]
                      },
                      {
                        "learn": [
                          0.390725846
                        ],
                        "iteration": 439,
                        "passed_time": 128.7698815,
                        "remaining_time": 17.5595293,
                        "test": [
                          0.8845981375,
                          0.3258116011
                        ]
                      },
                      {
                        "learn": [
                          0.3906752615
                        ],
                        "iteration": 440,
                        "passed_time": 128.9781223,
                        "remaining_time": 17.25557645,
                        "test": [
                          0.8849381763,
                          0.3254752102
                        ]
                      },
                      {
                        "learn": [
                          0.3906510982
                        ],
                        "iteration": 441,
                        "passed_time": 129.2116151,
                        "remaining_time": 16.95537031,
                        "test": [
                          0.8849836217,
                          0.3253923539
                        ]
                      },
                      {
                        "learn": [
                          0.3906415012
                        ],
                        "iteration": 442,
                        "passed_time": 129.4907636,
                        "remaining_time": 16.66133979,
                        "test": [
                          0.8849610332,
                          0.3253865873
                        ]
                      },
                      {
                        "learn": [
                          0.3906002696
                        ],
                        "iteration": 443,
                        "passed_time": 129.7675173,
                        "remaining_time": 16.36707425,
                        "test": [
                          0.8850248454,
                          0.3253444746
                        ]
                      },
                      {
                        "learn": [
                          0.3905648016
                        ],
                        "iteration": 444,
                        "passed_time": 130.0372973,
                        "remaining_time": 16.07202551,
                        "test": [
                          0.8852926503,
                          0.3250723199
                        ]
                      },
                      {
                        "learn": [
                          0.3905313171
                        ],
                        "iteration": 445,
                        "passed_time": 130.3055178,
                        "remaining_time": 15.77690126,
                        "test": [
                          0.8853175673,
                          0.3250454994
                        ]
                      },
                      {
                        "learn": [
                          0.3904817644
                        ],
                        "iteration": 446,
                        "passed_time": 130.5408478,
                        "remaining_time": 15.47799762,
                        "test": [
                          0.8855851692,
                          0.3248351419
                        ]
                      },
                      {
                        "learn": [
                          0.3904650587
                        ],
                        "iteration": 447,
                        "passed_time": 130.820783,
                        "remaining_time": 15.18455517,
                        "test": [
                          0.8855892314,
                          0.3248245115
                        ]
                      },
                      {
                        "learn": [
                          0.390456809
                        ],
                        "iteration": 448,
                        "passed_time": 131.0823107,
                        "remaining_time": 14.88908206,
                        "test": [
                          0.8855957018,
                          0.3248188327
                        ]
                      },
                      {
                        "learn": [
                          0.3904287829
                        ],
                        "iteration": 449,
                        "passed_time": 131.3534634,
                        "remaining_time": 14.59482927,
                        "test": [
                          0.8857262566,
                          0.3246921942
                        ]
                      },
                      {
                        "learn": [
                          0.3904051288
                        ],
                        "iteration": 450,
                        "passed_time": 131.4947105,
                        "remaining_time": 14.28656499,
                        "test": [
                          0.8857784554,
                          0.324620701
                        ]
                      },
                      {
                        "learn": [
                          0.3903839105
                        ],
                        "iteration": 451,
                        "passed_time": 131.7670105,
                        "remaining_time": 13.99295687,
                        "test": [
                          0.8858194324,
                          0.3246017744
                        ]
                      },
                      {
                        "learn": [
                          0.3903575072
                        ],
                        "iteration": 452,
                        "passed_time": 131.9506739,
                        "remaining_time": 13.69024652,
                        "test": [
                          0.8858950611,
                          0.3245256426
                        ]
                      },
                      {
                        "learn": [
                          0.3903285284
                        ],
                        "iteration": 453,
                        "passed_time": 132.2413767,
                        "remaining_time": 13.39890601,
                        "test": [
                          0.8858801616,
                          0.3245210135
                        ]
                      },
                      {
                        "learn": [
                          0.3902630256
                        ],
                        "iteration": 454,
                        "passed_time": 132.4977147,
                        "remaining_time": 13.10416958,
                        "test": [
                          0.8858967947,
                          0.324476657
                        ]
                      },
                      {
                        "learn": [
                          0.3902316169
                        ],
                        "iteration": 455,
                        "passed_time": 132.7440293,
                        "remaining_time": 12.80863441,
                        "test": [
                          0.8859096993,
                          0.324466197
                        ]
                      },
                      {
                        "learn": [
                          0.3901713681
                        ],
                        "iteration": 456,
                        "passed_time": 132.9929853,
                        "remaining_time": 12.51356317,
                        "test": [
                          0.8859243594,
                          0.3244355699
                        ]
                      },
                      {
                        "learn": [
                          0.3901473641
                        ],
                        "iteration": 457,
                        "passed_time": 133.2604377,
                        "remaining_time": 12.22038948,
                        "test": [
                          0.8859633053,
                          0.324424925
                        ]
                      },
                      {
                        "learn": [
                          0.3900714242
                        ],
                        "iteration": 458,
                        "passed_time": 133.5045919,
                        "remaining_time": 11.92524677,
                        "test": [
                          0.8862966924,
                          0.3241158592
                        ]
                      },
                      {
                        "learn": [
                          0.3900421491
                        ],
                        "iteration": 459,
                        "passed_time": 133.8100313,
                        "remaining_time": 11.6356549,
                        "test": [
                          0.8865702134,
                          0.3238400556
                        ]
                      },
                      {
                        "learn": [
                          0.3900096444
                        ],
                        "iteration": 460,
                        "passed_time": 134.1022192,
                        "remaining_time": 11.34487321,
                        "test": [
                          0.8870398931,
                          0.3234195613
                        ]
                      },
                      {
                        "learn": [
                          0.3899822131
                        ],
                        "iteration": 461,
                        "passed_time": 134.3587257,
                        "remaining_time": 11.0511506,
                        "test": [
                          0.8870416413,
                          0.3233916986
                        ]
                      },
                      {
                        "learn": [
                          0.3899548489
                        ],
                        "iteration": 462,
                        "passed_time": 134.5909061,
                        "remaining_time": 10.75564477,
                        "test": [
                          0.8873129934,
                          0.3231111189
                        ]
                      },
                      {
                        "learn": [
                          0.3898747992
                        ],
                        "iteration": 463,
                        "passed_time": 134.8796555,
                        "remaining_time": 10.46480086,
                        "test": [
                          0.8878264864,
                          0.3226811241
                        ]
                      },
                      {
                        "learn": [
                          0.3898397448
                        ],
                        "iteration": 464,
                        "passed_time": 135.1731666,
                        "remaining_time": 10.17432437,
                        "test": [
                          0.8878345817,
                          0.3226674909
                        ]
                      },
                      {
                        "learn": [
                          0.389807014
                        ],
                        "iteration": 465,
                        "passed_time": 135.4351845,
                        "remaining_time": 9.881537066,
                        "test": [
                          0.8879122559,
                          0.3225779802
                        ]
                      },
                      {
                        "learn": [
                          0.38976686
                        ],
                        "iteration": 466,
                        "passed_time": 135.6723333,
                        "remaining_time": 9.587124194,
                        "test": [
                          0.8881506828,
                          0.3223330859
                        ]
                      },
                      {
                        "learn": [
                          0.3897309568
                        ],
                        "iteration": 467,
                        "passed_time": 135.9482195,
                        "remaining_time": 9.29560475,
                        "test": [
                          0.888143545,
                          0.3223022115
                        ]
                      },
                      {
                        "learn": [
                          0.3896511138
                        ],
                        "iteration": 468,
                        "passed_time": 136.2105221,
                        "remaining_time": 9.003254124,
                        "test": [
                          0.8883073443,
                          0.3220337926
                        ]
                      },
                      {
                        "learn": [
                          0.3896069548
                        ],
                        "iteration": 469,
                        "passed_time": 136.4818342,
                        "remaining_time": 8.711606438,
                        "test": [
                          0.8883499099,
                          0.321995555
                        ]
                      },
                      {
                        "learn": [
                          0.3895522555
                        ],
                        "iteration": 470,
                        "passed_time": 136.9096371,
                        "remaining_time": 8.429680413,
                        "test": [
                          0.8888127202,
                          0.3215704979
                        ]
                      },
                      {
                        "learn": [
                          0.3895172622
                        ],
                        "iteration": 471,
                        "passed_time": 137.3922286,
                        "remaining_time": 8.15038644,
                        "test": [
                          0.8888876453,
                          0.3214869377
                        ]
                      },
                      {
                        "learn": [
                          0.3894101238
                        ],
                        "iteration": 472,
                        "passed_time": 137.8686264,
                        "remaining_time": 7.86987931,
                        "test": [
                          0.8892766621,
                          0.3210627387
                        ]
                      },
                      {
                        "learn": [
                          0.3893544914
                        ],
                        "iteration": 473,
                        "passed_time": 138.4064846,
                        "remaining_time": 7.591916878,
                        "test": [
                          0.8893221873,
                          0.3210144199
                        ]
                      },
                      {
                        "learn": [
                          0.3893133848
                        ],
                        "iteration": 474,
                        "passed_time": 138.8538548,
                        "remaining_time": 7.308097623,
                        "test": [
                          0.8897231803,
                          0.320645836
                        ]
                      },
                      {
                        "learn": [
                          0.3892829487
                        ],
                        "iteration": 475,
                        "passed_time": 139.2515647,
                        "remaining_time": 7.021087295,
                        "test": [
                          0.8897334662,
                          0.3206288517
                        ]
                      },
                      {
                        "learn": [
                          0.3892399733
                        ],
                        "iteration": 476,
                        "passed_time": 139.7469984,
                        "remaining_time": 6.738324869,
                        "test": [
                          0.8897470745,
                          0.3206042194
                        ]
                      },
                      {
                        "learn": [
                          0.3891091962
                        ],
                        "iteration": 477,
                        "passed_time": 140.2147524,
                        "remaining_time": 6.453398646,
                        "test": [
                          0.8901685523,
                          0.3201546548
                        ]
                      },
                      {
                        "learn": [
                          0.3890432196
                        ],
                        "iteration": 478,
                        "passed_time": 140.7499881,
                        "remaining_time": 6.170667539,
                        "test": [
                          0.8900936636,
                          0.3201732413
                        ]
                      },
                      {
                        "learn": [
                          0.3889925917
                        ],
                        "iteration": 479,
                        "passed_time": 141.1910424,
                        "remaining_time": 5.8829601,
                        "test": [
                          0.8905050731,
                          0.319766701
                        ]
                      },
                      {
                        "learn": [
                          0.3889826301
                        ],
                        "iteration": 480,
                        "passed_time": 141.4980519,
                        "remaining_time": 5.589320136,
                        "test": [
                          0.8905115072,
                          0.3197621678
                        ]
                      },
                      {
                        "learn": [
                          0.3889667386
                        ],
                        "iteration": 481,
                        "passed_time": 141.7508861,
                        "remaining_time": 5.293601556,
                        "test": [
                          0.8905395434,
                          0.3197509237
                        ]
                      },
                      {
                        "learn": [
                          0.3889506564
                        ],
                        "iteration": 482,
                        "passed_time": 141.9897472,
                        "remaining_time": 4.997568743,
                        "test": [
                          0.8905684282,
                          0.3197346693
                        ]
                      },
                      {
                        "learn": [
                          0.3889205009
                        ],
                        "iteration": 483,
                        "passed_time": 142.2622174,
                        "remaining_time": 4.702883221,
                        "test": [
                          0.8905910095,
                          0.3197099548
                        ]
                      },
                      {
                        "learn": [
                          0.3888865709
                        ],
                        "iteration": 484,
                        "passed_time": 142.4991868,
                        "remaining_time": 4.407191345,
                        "test": [
                          0.8905544355,
                          0.3197160213
                        ]
                      },
                      {
                        "learn": [
                          0.3888575788
                        ],
                        "iteration": 485,
                        "passed_time": 142.7684557,
                        "remaining_time": 4.112671565,
                        "test": [
                          0.8907659144,
                          0.3194898671
                        ]
                      },
                      {
                        "learn": [
                          0.3887999612
                        ],
                        "iteration": 486,
                        "passed_time": 143.0432774,
                        "remaining_time": 3.818403708,
                        "test": [
                          0.8908993925,
                          0.3194013081
                        ]
                      },
                      {
                        "learn": [
                          0.3887858433
                        ],
                        "iteration": 487,
                        "passed_time": 143.2849295,
                        "remaining_time": 3.523399905,
                        "test": [
                          0.8909994159,
                          0.3192993876
                        ]
                      },
                      {
                        "learn": [
                          0.3887353232
                        ],
                        "iteration": 488,
                        "passed_time": 143.5777757,
                        "remaining_time": 3.229765915,
                        "test": [
                          0.8910036231,
                          0.3192627495
                        ]
                      },
                      {
                        "learn": [
                          0.3886800849
                        ],
                        "iteration": 489,
                        "passed_time": 143.8448465,
                        "remaining_time": 2.935609111,
                        "test": [
                          0.891023165,
                          0.3192227911
                        ]
                      },
                      {
                        "learn": [
                          0.388661965
                        ],
                        "iteration": 490,
                        "passed_time": 144.1252686,
                        "remaining_time": 2.641807368,
                        "test": [
                          0.8910262987,
                          0.3192091211
                        ]
                      },
                      {
                        "learn": [
                          0.3885917705
                        ],
                        "iteration": 491,
                        "passed_time": 144.3428018,
                        "remaining_time": 2.347037427,
                        "test": [
                          0.8910846559,
                          0.319047425
                        ]
                      },
                      {
                        "learn": [
                          0.3885816069
                        ],
                        "iteration": 492,
                        "passed_time": 144.6109814,
                        "remaining_time": 2.053299938,
                        "test": [
                          0.8910753129,
                          0.3190485922
                        ]
                      },
                      {
                        "learn": [
                          0.3885536334
                        ],
                        "iteration": 493,
                        "passed_time": 144.8611727,
                        "remaining_time": 1.759447442,
                        "test": [
                          0.8911177262,
                          0.3190292657
                        ]
                      },
                      {
                        "learn": [
                          0.3884527374
                        ],
                        "iteration": 494,
                        "passed_time": 145.1394284,
                        "remaining_time": 1.466054832,
                        "test": [
                          0.891195473,
                          0.3189404796
                        ]
                      },
                      {
                        "learn": [
                          0.3884215321
                        ],
                        "iteration": 495,
                        "passed_time": 145.3821576,
                        "remaining_time": 1.172436755,
                        "test": [
                          0.8912191278,
                          0.3189060163
                        ]
                      },
                      {
                        "learn": [
                          0.3883370158
                        ],
                        "iteration": 496,
                        "passed_time": 145.6600419,
                        "remaining_time": 0.8792356656,
                        "test": [
                          0.8912256345,
                          0.318842578
                        ]
                      },
                      {
                        "learn": [
                          0.3882460055
                        ],
                        "iteration": 497,
                        "passed_time": 145.8565991,
                        "remaining_time": 0.5857694743,
                        "test": [
                          0.8912958373,
                          0.3187612681
                        ]
                      },
                      {
                        "learn": [
                          0.3881985523
                        ],
                        "iteration": 498,
                        "passed_time": 146.1027801,
                        "remaining_time": 0.2927911425,
                        "test": [
                          0.8913187087,
                          0.3187246335
                        ]
                      },
                      {
                        "learn": [
                          0.3881743829
                        ],
                        "iteration": 499,
                        "passed_time": 146.3436158,
                        "remaining_time": 0,
                        "test": [
                          0.8914069446,
                          0.3185972575
                        ]
                      }
                    ],
                    "meta": {
                      "test_sets": [
                        "test"
                      ],
                      "test_metrics": [
                        {
                          "best_value": "Max",
                          "name": "AUC"
                        },
                        {
                          "best_value": "Min",
                          "name": "Logloss"
                        }
                      ],
                      "learn_metrics": [
                        {
                          "best_value": "Min",
                          "name": "Logloss"
                        }
                      ],
                      "launch_mode": "Train",
                      "parameters": "",
                      "iteration_count": 500,
                      "learn_sets": [
                        "learn"
                      ],
                      "name": "experiment"
                    }
                  }
                }
              }
            },
            "layout": "IPY_MODEL_44dcb781dff14494a0e3ca831d001ab1"
          }
        }
      }
    }
  },
  "nbformat": 4,
  "nbformat_minor": 0
}