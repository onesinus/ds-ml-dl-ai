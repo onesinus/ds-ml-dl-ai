{
  "cells": [
    {
      "cell_type": "markdown",
      "metadata": {
        "id": "4PkfKuWmrg7Q"
      },
      "source": [
        "### Import library / packages"
      ]
    },
    {
      "cell_type": "code",
      "execution_count": null,
      "metadata": {
        "id": "3zeAJajdritU"
      },
      "outputs": [],
      "source": [
        "import os\n",
        "import urllib.request\n",
        "import zipfile\n",
        "\n",
        "import numpy as np\n",
        "import tensorflow as tf\n",
        "\n",
        "import string\n",
        "import matplotlib.pyplot as plt\n",
        "import seaborn as sns\n",
        "\n",
        "from tensorflow.keras.preprocessing.image import ImageDataGenerator\n",
        "from tensorflow.keras.models import Sequential\n",
        "from tensorflow.keras.layers import Conv2D, MaxPooling2D, Flatten, Dense, Dropout\n",
        "from tensorflow.keras.optimizers import SGD\n",
        "\n",
        "from tensorflow.keras.applications import VGG16, ResNet50, MobileNetV2\n",
        "# from sklearn.metrics import confusion_matrix"
      ]
    },
    {
      "cell_type": "markdown",
      "metadata": {
        "id": "C7o3L4_BX2Xf"
      },
      "source": [
        "# Download and extract the dataset"
      ]
    },
    {
      "cell_type": "code",
      "execution_count": null,
      "metadata": {
        "id": "CSADOvx3txl9",
        "colab": {
          "base_uri": "https://localhost:8080/"
        },
        "outputId": "d1e82404-ccd2-4acf-ae00-0fadb9dbaf07"
      },
      "outputs": [
        {
          "output_type": "stream",
          "name": "stdout",
          "text": [
            "Downloading dataset...\n",
            "Download complete.\n",
            "Extracting dataset...\n",
            "Extraction complete.\n"
          ]
        }
      ],
      "source": [
        "url = \"https://github.com/onesinus/datasets/raw/main/brain_tumor_detection.zip\"\n",
        "filename = \"brain_tumor_detection.zip\"\n",
        "dataset_dir = \"/content/dataset\"  # Directory to store extracted data\n",
        "\n",
        "# Create the directory if it doesn't exist\n",
        "os.makedirs(dataset_dir, exist_ok=True)\n",
        "\n",
        "if not os.path.exists(filename):\n",
        "  print(\"Downloading dataset...\")\n",
        "  urllib.request.urlretrieve(url, filename)\n",
        "  print(\"Download complete.\")\n",
        "\n",
        "# Extract the downloaded zip file\n",
        "if os.path.exists(filename):\n",
        "  print(\"Extracting dataset...\")\n",
        "  with zipfile.ZipFile(filename, 'r') as zip_ref:\n",
        "    zip_ref.extractall(dataset_dir)\n",
        "  os.remove(filename)  # Remove downloaded zip\n",
        "  print(\"Extraction complete.\")"
      ]
    },
    {
      "cell_type": "markdown",
      "metadata": {
        "id": "DWAvA_H3X6F6"
      },
      "source": [
        "# Define label mapping"
      ]
    },
    {
      "cell_type": "code",
      "execution_count": null,
      "metadata": {
        "id": "-nn9_rKe5-z8"
      },
      "outputs": [],
      "source": [
        "label_map = {'0': 0, '1': 1, '2': 2}  # Modify if class labels are encoded differently\n",
        "\n",
        "# Image dimensions (adjust if images have different sizes)\n",
        "img_width, img_height = 139, 132  # Example size, adjust based on your data\n",
        "\n",
        "# Data augmentation (optional, experiment to see if it improves performance)\n",
        "train_datagen = ImageDataGenerator(rescale=1./255, shear_range=0.2, zoom_range=0.2, horizontal_flip=True)\n",
        "valid_datagen = ImageDataGenerator(rescale=1./255)\n",
        "test_datagen = ImageDataGenerator(rescale=1./255)"
      ]
    },
    {
      "cell_type": "markdown",
      "metadata": {
        "id": "agH1_6WVX-mH"
      },
      "source": [
        "# Loads images and labels from separate directories"
      ]
    },
    {
      "cell_type": "code",
      "execution_count": null,
      "metadata": {
        "id": "VpTAc8KUsAT3"
      },
      "outputs": [],
      "source": [
        "def load_data(data_dir, images_dir_name, labels_dir_name, label_map):\n",
        "  \"\"\"Loads images and labels from separate directories, handling multiple labels per file.\"\"\"\n",
        "  images = []\n",
        "  labels = []\n",
        "  for filename in os.listdir(os.path.join(data_dir, images_dir_name)):\n",
        "    if filename.endswith(\".jpg\"):\n",
        "      img_path = os.path.join(data_dir, images_dir_name, filename)\n",
        "      img = tf.keras.preprocessing.image.load_img(img_path, target_size=(img_width, img_height))\n",
        "      img_array = tf.keras.preprocessing.image.img_to_array(img)\n",
        "      img_array = img_array / 255.0  # Normalize pixel values\n",
        "\n",
        "      label_filename = os.path.splitext(filename)[0] + \".txt\"  # Remove extension and add .txt\n",
        "      label_path = os.path.join(data_dir, labels_dir_name, label_filename)\n",
        "\n",
        "      with open(label_path, 'r') as f:\n",
        "        label_lines = f.readlines()  # Read all lines in the label file\n",
        "\n",
        "      # Assuming multiple labels per line (modify if different)\n",
        "      one_hot_labels = np.zeros(len(label_map))  # Initialize one-hot encoded labels\n",
        "      for line in label_lines:\n",
        "        label_str = line.strip()\n",
        "        label_values = label_str.split()\n",
        "        class_value = label_values[0]\n",
        "        # print(label_str)\n",
        "        if class_value in label_map:\n",
        "          label_index = label_map[class_value]\n",
        "          one_hot_labels[label_index] = 1.0  # Set corresponding label to 1 in one-hot vector\n",
        "\n",
        "      images.append(img_array)\n",
        "      labels.append(one_hot_labels)\n",
        "\n",
        "  return np.array(images), np.array(labels)\n",
        "\n",
        "# Load training and validation data (assuming separate directories)\n",
        "train_images, train_labels = load_data(dataset_dir, 'Brain Tumor Detection/train/images', 'Brain Tumor Detection/train/labels', label_map)\n",
        "validation_images, validation_labels = load_data(dataset_dir, 'Brain Tumor Detection/valid/images', 'Brain Tumor Detection/valid/labels', label_map)\n",
        "test_images, test_labels = load_data(dataset_dir, 'Brain Tumor Detection/test/images', 'Brain Tumor Detection/test/labels', label_map)\n",
        "\n",
        "# Create training and validation generators\n",
        "train_generator = train_datagen.flow(train_images, train_labels, batch_size=100)\n",
        "# time.sleep(1)\n",
        "validation_generator = valid_datagen.flow(validation_images, validation_labels, batch_size=100)\n",
        "# time.sleep(1)\n",
        "test_generator = test_datagen.flow(test_images, test_labels, batch_size=100)"
      ]
    },
    {
      "cell_type": "code",
      "execution_count": null,
      "metadata": {
        "id": "HUOZhCNkvBR0",
        "colab": {
          "base_uri": "https://localhost:8080/"
        },
        "outputId": "bfb4e480-3aba-4c67-bbcb-1a95c8de96a4"
      },
      "outputs": [
        {
          "output_type": "stream",
          "name": "stdout",
          "text": [
            "Shape of X (training images): (6930, 139, 132, 3)\n",
            "Shape of Y (training labels): (6930, 3)\n",
            "Training Label [0]: [1. 1. 1.]\n",
            "Training Label [1]: [0. 1. 0.]\n",
            "Training Label [2]: [0. 1. 0.]\n",
            "Training Label [3]: [1. 1. 1.]\n",
            "Training Label [4]: [0. 1. 0.]\n",
            "Training Label [5]: [0. 1. 1.]\n",
            "Training Label [6]: [0. 1. 1.]\n",
            "Training Label [7]: [0. 1. 0.]\n",
            "Training Label [8]: [1. 1. 1.]\n",
            "Training Label [9]: [1. 1. 1.]\n",
            "Shape of X (validation images): (1980, 139, 132, 3)\n",
            "Shape of Y (validation labels): (1980, 3)\n",
            "Shape of X (test images): (990, 139, 132, 3)\n",
            "Shape of Y (test labels): (990, 3)\n"
          ]
        }
      ],
      "source": [
        "# Print shapes for training data\n",
        "print(f\"Shape of X (training images): {train_images.shape}\")\n",
        "print(f\"Shape of Y (training labels): {train_labels.shape}\")\n",
        "\n",
        "# print(f\"Training Image [0]: {train_images[0]}\")\n",
        "print(f\"Training Label [0]: {train_labels[0]}\")\n",
        "\n",
        "for i in range(1,10):\n",
        "  print(f\"Training Label [{i}]: {train_labels[i]}\")\n",
        "\n",
        "# Print shapes for validation data\n",
        "print(f\"Shape of X (validation images): {validation_images.shape}\")\n",
        "print(f\"Shape of Y (validation labels): {validation_labels.shape}\")\n",
        "\n",
        "# Assuming you have loaded test data using the same approach\n",
        "print(f\"Shape of X (test images): {test_images.shape}\")\n",
        "print(f\"Shape of Y (test labels): {test_labels.shape}\")"
      ]
    },
    {
      "cell_type": "markdown",
      "metadata": {
        "id": "ummPp3-wYGC6"
      },
      "source": [
        "# Define CNN models"
      ]
    },
    {
      "cell_type": "code",
      "execution_count": null,
      "metadata": {
        "id": "81ztowBVtZRb"
      },
      "outputs": [],
      "source": [
        "models_configurations = [\n",
        "    # Configuration a\n",
        "    [\n",
        "        Conv2D(32, (3, 3), activation='relu', input_shape=(img_width, img_height, 3)),\n",
        "        MaxPooling2D((2, 2)),\n",
        "        Flatten(),\n",
        "        Dense(128, activation='relu'),\n",
        "        Dense(1, activation='sigmoid')\n",
        "    ],\n",
        "    # Configuration b\n",
        "    [\n",
        "        Conv2D(32, (3, 3), activation='relu', input_shape=(img_width, img_height, 3)),\n",
        "        Conv2D(64, (3, 3), activation='relu'),\n",
        "        MaxPooling2D((2, 2)),\n",
        "        Flatten(),\n",
        "        Dense(128, activation='relu'),\n",
        "        Dense(1, activation='sigmoid')\n",
        "    ],\n",
        "    # Configuration c\n",
        "    [\n",
        "        Conv2D(32, (3, 3), activation='relu', input_shape=(img_width, img_height, 3)),\n",
        "        Conv2D(64, (3, 3), activation='relu'),\n",
        "        MaxPooling2D((2, 2)),\n",
        "        Conv2D(128, (3, 3), activation='relu'),\n",
        "        MaxPooling2D((2, 2)),\n",
        "        Flatten(),\n",
        "        Dense(128, activation='relu'),\n",
        "        Dense(1, activation='sigmoid')\n",
        "    ],\n",
        "    # Configuration d\n",
        "    [\n",
        "        Conv2D(32, (3, 3), activation='relu', input_shape=(img_width, img_height, 3)),\n",
        "        Conv2D(64, (3, 3), activation='relu'),\n",
        "        MaxPooling2D((2, 2)),\n",
        "        Conv2D(128, (3, 3), activation='relu'),\n",
        "        Conv2D(256, (3, 3), activation='relu'),\n",
        "        MaxPooling2D((2, 2)),\n",
        "        Flatten(),\n",
        "        Dense(128, activation='relu'),\n",
        "        Dense(1, activation='sigmoid')\n",
        "    ]\n",
        "]"
      ]
    },
    {
      "cell_type": "code",
      "execution_count": null,
      "metadata": {
        "id": "KVGEN_frZfJz"
      },
      "outputs": [],
      "source": [
        "# Define lists to store accuracy and loss values\n",
        "train_accs = []\n",
        "val_accs = []\n",
        "test_accs = []\n",
        "train_losses = []\n",
        "val_losses = []\n",
        "test_losses = []\n",
        "\n",
        "# Define alphabet letters for model labels\n",
        "model_labels = list(string.ascii_lowercase)[:len(models_configurations)]\n",
        "\n",
        "def create_model(layers_config, optimizer):\n",
        "    model = Sequential()\n",
        "    for layer_config in layers_config:\n",
        "        model.add(layer_config)\n",
        "\n",
        "    model.compile(loss='binary_crossentropy', optimizer=optimizer, metrics=['accuracy'])\n",
        "    return model\n",
        "\n",
        "# Define a function to train and evaluate models\n",
        "def train_and_evaluate(models_configurations, optimizer):\n",
        "    train_accs = []\n",
        "    val_accs = []\n",
        "    test_accs = []\n",
        "    train_losses = []\n",
        "    val_losses = []\n",
        "    test_losses = []\n",
        "\n",
        "    for i, layers_config in enumerate(models_configurations):\n",
        "        print(f\"Training Model {chr(97 + i)}:\")\n",
        "        model = create_model(layers_config, optimizer)\n",
        "        # print(model.summary())\n",
        "        history = model.fit(\n",
        "            train_generator,\n",
        "            steps_per_epoch=len(train_generator),\n",
        "            # epochs=1,\n",
        "            epochs=5,\n",
        "            validation_data=validation_generator,\n",
        "            validation_steps=len(validation_generator)\n",
        "        )\n",
        "\n",
        "        # Evaluate the model on the test set (optional)\n",
        "        test_loss, test_acc = model.evaluate(test_generator)\n",
        "        print(f\"Model {chr(97 + i)}: Test Accuracy = {test_acc:.4f}, Loss: {test_loss}\")\n",
        "\n",
        "        # Append accuracy and loss values to lists\n",
        "        train_accs.append(history.history['accuracy'][-1])\n",
        "        val_accs.append(history.history['val_accuracy'][-1])\n",
        "        train_losses.append(history.history['loss'][-1])\n",
        "        val_losses.append(history.history['val_loss'][-1])\n",
        "        test_accs.append(test_acc)\n",
        "        test_losses.append(test_loss)\n",
        "\n",
        "        # Calculate confusion matrix # There is an error here\n",
        "        # y_pred_probs = model.predict(test_generator)\n",
        "        # y_pred = np.argmax(y_pred_probs, axis=1)\n",
        "        # y_true = test_generator.classes # AttributeError: 'NumpyArrayIterator' object has no attribute 'classes'\n",
        "        # cm = confusion_matrix(y_true, y_pred)\n",
        "\n",
        "        # # Plot confusion matrix\n",
        "        # plt.figure(figsize=(8, 6))\n",
        "        # sns.heatmap(cm, annot=True, fmt='d', cmap='Blues')\n",
        "        # plt.title(f'Confusion Matrix - Model {chr(97 + i)}')\n",
        "        # plt.xlabel('Predicted Label')\n",
        "        # plt.ylabel('True Label')\n",
        "        # plt.show()\n",
        "\n",
        "    return train_accs, val_accs, test_accs, train_losses, val_losses, test_losses"
      ]
    },
    {
      "cell_type": "code",
      "execution_count": null,
      "metadata": {
        "id": "n6WweSdmanxj"
      },
      "outputs": [],
      "source": [
        "def plot_comparison(train_accs, val_accs, test_accs, train_losses, val_losses, test_losses, model_labels, optimizer):\n",
        "    \"\"\"\n",
        "    Plot accuracy and loss comparison for different models.\n",
        "\n",
        "    Args:\n",
        "    train_accs (list): List of training accuracies for each model.\n",
        "    val_accs (list): List of validation accuracies for each model.\n",
        "    test_accs (list): List of test accuracies for each model.\n",
        "    train_losses (list): List of training losses for each model.\n",
        "    val_losses (list): List of validation losses for each model.\n",
        "    test_losses (list): List of test losses for each model.\n",
        "    model_labels (list): List of model labels.\n",
        "    optimizer (str): The name of the optimizer used.\n",
        "    \"\"\"\n",
        "    # Plot accuracy values\n",
        "    plt.figure(figsize=(12, 6))\n",
        "    plt.subplot(1, 2, 1)\n",
        "    plt.plot(model_labels, train_accs, label='Train Accuracy', marker='o')\n",
        "    plt.plot(model_labels, val_accs, label='Validation Accuracy', marker='o')\n",
        "    plt.plot(model_labels, test_accs, label='Test Accuracy', marker='o')\n",
        "    plt.title(f'Model Accuracy Comparison with {optimizer.capitalize()} Optimizer')\n",
        "    plt.xlabel('Model Configuration')\n",
        "    plt.ylabel('Accuracy')\n",
        "    plt.legend()\n",
        "    plt.grid(True)\n",
        "\n",
        "    # Plot loss values\n",
        "    plt.subplot(1, 2, 2)\n",
        "    plt.plot(model_labels, train_losses, label='Train Loss', marker='o')\n",
        "    plt.plot(model_labels, val_losses, label='Validation Loss', marker='o')\n",
        "    plt.plot(model_labels, test_losses, label='Test Loss', marker='o')\n",
        "    plt.title(f'Model Loss Comparison with {optimizer.capitalize()} Optimizer')\n",
        "    plt.xlabel('Model Configuration')\n",
        "    plt.ylabel('Loss')\n",
        "    plt.legend()\n",
        "    plt.grid(True)\n",
        "\n",
        "    plt.tight_layout()\n",
        "    plt.show()"
      ]
    },
    {
      "cell_type": "markdown",
      "metadata": {
        "id": "yJioyMe3YITb"
      },
      "source": [
        "# Modeling SGD"
      ]
    },
    {
      "cell_type": "code",
      "execution_count": null,
      "metadata": {
        "id": "SnKgS3cnr9Qz"
      },
      "outputs": [],
      "source": [
        "# # Define optimizers to try\n",
        "# optimizers = ['sgd']\n",
        "\n",
        "# # Iterate over each optimizer\n",
        "# for optimizer in optimizers:\n",
        "#     print(f\"\\nTraining models with optimizer: {optimizer.capitalize()}\")\n",
        "#     train_accs, val_accs, test_accs, train_losses, val_losses, test_losses = train_and_evaluate(models_configurations, optimizer)\n",
        "\n",
        "#     plot_comparison(train_accs, val_accs, test_accs, train_losses, val_losses, test_losses, model_labels, optimizer)"
      ]
    },
    {
      "cell_type": "code",
      "source": [
        "    # plot_comparison([0.7235, 0.7235, 0.7235, 0.7235], [0.7374, 0.7374, 0.7374, 0.7374], [0.7084, 0.7084, 0.7084, 0.7084], [0.5898, 0.5899, 0.5898, 0.5898], [0.5759, 0.5760, 0.5763, 0.5765], [0.6043, 0.6037, 0.6038, 0.6038], [\"a\", \"b\", \"c\", \"d\"], \"SGD\")"
      ],
      "metadata": {
        "id": "7FYODn4-2HFn"
      },
      "execution_count": null,
      "outputs": []
    },
    {
      "cell_type": "markdown",
      "metadata": {
        "id": "_t4BFtdKYWoS"
      },
      "source": [
        "# Modeling Adam"
      ]
    },
    {
      "cell_type": "code",
      "execution_count": null,
      "metadata": {
        "id": "w_hZwt1DYaET"
      },
      "outputs": [],
      "source": [
        "# # Define optimizers to try\n",
        "# optimizers = ['adam']\n",
        "\n",
        "# # Iterate over each optimizer\n",
        "# for optimizer in optimizers:\n",
        "#     print(f\"\\nTraining models with optimizer: {optimizer.capitalize()}\")\n",
        "#     train_accs, val_accs, test_accs, train_losses, val_losses, test_losses = train_and_evaluate(models_configurations, optimizer)"
      ]
    },
    {
      "cell_type": "code",
      "execution_count": null,
      "metadata": {
        "id": "AVBXY0MColWo"
      },
      "outputs": [],
      "source": [
        "    # plot_comparison(train_accs, val_accs, test_accs, train_losses, val_losses, test_losses, model_labels, optimizer)"
      ]
    },
    {
      "cell_type": "markdown",
      "metadata": {
        "id": "QTY4S01uYcF_"
      },
      "source": [
        "# Modeling Adagrad"
      ]
    },
    {
      "cell_type": "code",
      "execution_count": null,
      "metadata": {
        "id": "5Uu1jcObYdeh"
      },
      "outputs": [],
      "source": [
        "# # Define optimizers to try\n",
        "# optimizers = ['adagrad']\n",
        "\n",
        "# # Iterate over each optimizer\n",
        "# for optimizer in optimizers:\n",
        "#    print(f\"\\nTraining models with optimizer: {optimizer.capitalize()}\")\n",
        "#    train_accs, val_accs, test_accs, train_losses, val_losses, test_losses = train_and_evaluate(models_configurations, optimizer)\n",
        "#    plot_comparison(train_accs, val_accs, test_accs, train_losses, val_losses, test_losses, model_labels, optimizer)"
      ]
    },
    {
      "cell_type": "code",
      "source": [
        "# plot_comparison(\n",
        "#     [0.7235, 0.7235, 0.7235, 0.7235],\n",
        "#     [0.7374, 0.7374, 0.7374, 0.7374],\n",
        "#     [0.7084, 0.7084, 0.7084, 0.7084],\n",
        "#     [0.5895, 0.5896, 0.5896, 0.5896],\n",
        "#     [0.5761, 0.5761, 0.5761, 0.5761],\n",
        "#     [0.6040, 0.6041, 0.6041, 0.6041],\n",
        "#     [\"a\", \"b\", \"c\", \"d\"],\n",
        "#     \"adagrad\"\n",
        "# )"
      ],
      "metadata": {
        "id": "Kjpdpelw0xk3"
      },
      "execution_count": null,
      "outputs": []
    },
    {
      "cell_type": "markdown",
      "metadata": {
        "id": "AZan8wTvYd3l"
      },
      "source": [
        "# Modeling Adadelta"
      ]
    },
    {
      "cell_type": "code",
      "execution_count": null,
      "metadata": {
        "id": "XLNR504wYgNT"
      },
      "outputs": [],
      "source": [
        "# # Define optimizers to try\n",
        "# optimizers = ['adadelta']\n",
        "\n",
        "# # Iterate over each optimizer\n",
        "# for optimizer in optimizers:\n",
        "#    print(f\"\\Training models with optimizer: {optimizer.capitalize()}\")\n",
        "#    train_accs, val_accs, test_accs, train_losses, val_losses, test_losses = train_and_evaluate(models_configurations, optimizer)\n",
        "#    plot_comparison(train_accs, val_accs, test_accs, train_losses, val_losses, test_losses, model_labels, optimizer)"
      ]
    },
    {
      "cell_type": "markdown",
      "metadata": {
        "id": "r45bddc8Yi0x"
      },
      "source": [
        "# Dropout 20% pada FC"
      ]
    },
    {
      "cell_type": "code",
      "execution_count": null,
      "metadata": {
        "id": "NI7fuZ7wYlWK"
      },
      "outputs": [],
      "source": [
        "# models_configurations = [\n",
        "#     # Configuration a\n",
        "#     [\n",
        "#         Conv2D(32, (3, 3), activation='relu', input_shape=(img_width, img_height, 3)),\n",
        "#         MaxPooling2D((2, 2)),\n",
        "#         Flatten(),\n",
        "#         Dense(128, activation='relu'),\n",
        "#         Dropout(0.2),  # Dropout 20%\n",
        "#         Dense(1, activation='sigmoid')\n",
        "#     ],\n",
        "#     # Configuration b\n",
        "#     [\n",
        "#         Conv2D(32, (3, 3), activation='relu', input_shape=(img_width, img_height, 3)),\n",
        "#         Conv2D(64, (3, 3), activation='relu'),\n",
        "#         MaxPooling2D((2, 2)),\n",
        "#         Flatten(),\n",
        "#         Dense(128, activation='relu'),\n",
        "#         Dropout(0.2),\n",
        "#         Dense(1, activation='sigmoid')\n",
        "#     ],\n",
        "#     # Configuration c\n",
        "#     [\n",
        "#         Conv2D(32, (3, 3), activation='relu', input_shape=(img_width, img_height, 3)),\n",
        "#         Conv2D(64, (3, 3), activation='relu'),\n",
        "#         MaxPooling2D((2, 2)),\n",
        "#         Conv2D(128, (3, 3), activation='relu'),\n",
        "#         MaxPooling2D((2, 2)),\n",
        "#         Flatten(),\n",
        "#         Dense(128, activation='relu'),\n",
        "#         Dropout(0.2),  # Dropout 20%\n",
        "#         Dense(1, activation='sigmoid')\n",
        "#     ],\n",
        "#     # Configuration d\n",
        "#     [\n",
        "#         Conv2D(32, (3, 3), activation='relu', input_shape=(img_width, img_height, 3)),\n",
        "#         Conv2D(64, (3, 3), activation='relu'),\n",
        "#         MaxPooling2D((2, 2)),\n",
        "#         Conv2D(128, (3, 3), activation='relu'),\n",
        "#         Conv2D(256, (3, 3), activation='relu'),\n",
        "#         MaxPooling2D((2, 2)),\n",
        "#         Flatten(),\n",
        "#         Dense(128, activation='relu'),\n",
        "#         Dropout(0.2),\n",
        "#         Dense(1, activation='sigmoid')\n",
        "#     ]\n",
        "# ]\n",
        "\n",
        "# # Define optimizers to try\n",
        "# # optimizers = ['sgd', 'adam', 'adagrad', 'adadelta']\n",
        "# optimizers = ['adam', 'adagrad', 'adadelta']\n",
        "\n",
        "# # Iterate over each optimizer\n",
        "# for optimizer in optimizers:\n",
        "#     print(f\"\\nTraining models with optimizer: {optimizer.capitalize()}\")\n",
        "#     train_accs, val_accs, test_accs, train_losses, val_losses, test_losses = train_and_evaluate(models_configurations, optimizer)\n",
        "#     plot_comparison(train_accs, val_accs, test_accs, train_losses, val_losses, test_losses, model_labels, optimizer)"
      ]
    },
    {
      "cell_type": "markdown",
      "source": [
        "# Dropout 50% pada FC"
      ],
      "metadata": {
        "id": "PfWkjpRCZixa"
      }
    },
    {
      "cell_type": "code",
      "source": [
        "# models_configurations = [\n",
        "#     # Configuration a\n",
        "#     # [\n",
        "#     #     Conv2D(32, (3, 3), activation='relu', input_shape=(img_width, img_height, 3)),\n",
        "#     #     MaxPooling2D((2, 2)),\n",
        "#     #     Flatten(),\n",
        "#     #     Dense(128, activation='relu'),\n",
        "#     #     Dropout(0.5),  # Dropout 50%\n",
        "#     #     Dense(1, activation='sigmoid')\n",
        "#     # ],\n",
        "#     # Configuration b\n",
        "#     [\n",
        "#         Conv2D(32, (3, 3), activation='relu', input_shape=(img_width, img_height, 3)),\n",
        "#         Conv2D(64, (3, 3), activation='relu'),\n",
        "#         MaxPooling2D((2, 2)),\n",
        "#         Flatten(),\n",
        "#         Dense(128, activation='relu'),\n",
        "#         Dropout(0.5),\n",
        "#         Dense(1, activation='sigmoid')\n",
        "#     ],\n",
        "#     # Configuration c\n",
        "#     [\n",
        "#         Conv2D(32, (3, 3), activation='relu', input_shape=(img_width, img_height, 3)),\n",
        "#         Conv2D(64, (3, 3), activation='relu'),\n",
        "#         MaxPooling2D((2, 2)),\n",
        "#         Conv2D(128, (3, 3), activation='relu'),\n",
        "#         MaxPooling2D((2, 2)),\n",
        "#         Flatten(),\n",
        "#         Dense(128, activation='relu'),\n",
        "#         Dropout(0.5),  # Dropout 50%\n",
        "#         Dense(1, activation='sigmoid')\n",
        "#     ],\n",
        "#     # Configuration d\n",
        "#     [\n",
        "#         Conv2D(32, (3, 3), activation='relu', input_shape=(img_width, img_height, 3)),\n",
        "#         Conv2D(64, (3, 3), activation='relu'),\n",
        "#         MaxPooling2D((2, 2)),\n",
        "#         Conv2D(128, (3, 3), activation='relu'),\n",
        "#         Conv2D(256, (3, 3), activation='relu'),\n",
        "#         MaxPooling2D((2, 2)),\n",
        "#         Flatten(),\n",
        "#         Dense(128, activation='relu'),\n",
        "#         Dropout(0.5),\n",
        "#         Dense(1, activation='sigmoid')\n",
        "#     ]\n",
        "# ]\n",
        "\n",
        "# # Define optimizers to try\n",
        "# # optimizers = ['sgd', 'adam', 'adagrad', 'adadelta']\n",
        "# optimizers = ['adadelta']\n",
        "\n",
        "# # Iterate over each optimizer\n",
        "# for optimizer in optimizers:\n",
        "#     print(f\"\\nTraining models with optimizer: {optimizer.capitalize()}\")\n",
        "#     train_accs, val_accs, test_accs, train_losses, val_losses, test_losses = train_and_evaluate(models_configurations, optimizer)\n",
        "#     plot_comparison(train_accs, val_accs, test_accs, train_losses, val_losses, test_losses, model_labels, optimizer)"
      ],
      "metadata": {
        "id": "Nne_KLN1ZkER"
      },
      "execution_count": null,
      "outputs": []
    },
    {
      "cell_type": "code",
      "source": [
        "# plot_comparison(\n",
        "#     [0.7235, 0.7235, 0.7235, 0.7235],\n",
        "#     [0.7374, 0.7374, 0.7374, 0.7374],\n",
        "#     [0.7084, 0.7084, 0.7084, 0.7084],\n",
        "#     [0.5924, 0.5910, 0.5920, 0.5927],\n",
        "#     [0.5767, 0.5765, 0.5766, 0.5765],\n",
        "#     [0.6038, 0.6038, 0.6037, 0.6037],\n",
        "#     [\"a\", \"b\", \"c\", \"d\"],\n",
        "#     \"adadelta\"\n",
        "# )"
      ],
      "metadata": {
        "colab": {
          "base_uri": "https://localhost:8080/",
          "height": 607
        },
        "id": "aWKfCzsVdRIS",
        "outputId": "f53bf52f-0ae9-4a32-c4e9-ca6403ab58c4"
      },
      "execution_count": null,
      "outputs": [
        {
          "output_type": "display_data",
          "data": {
            "text/plain": [
              "<Figure size 1200x600 with 2 Axes>"
            ],
            "image/png": "[encoded data removed]"
          },
          "metadata": {}
        }
      ]
    },
    {
      "cell_type": "markdown",
      "metadata": {
        "id": "lYTkMUzVYlqc"
      },
      "source": [
        "# Keras DCNN Model"
      ]
    },
    {
      "cell_type": "code",
      "source": [
        "# # Select 3 pre-trained models\n",
        "# # pretrained_models = [VGG16, ResNet50, MobileNetV2]\n",
        "# pretrained_models = [MobileNetV2]\n",
        "\n",
        "# # Define input shape based on your data\n",
        "# input_shape = (img_width, img_height, 3)\n",
        "\n",
        "# # Function to create model without transfer learning\n",
        "# def create_model_from_scratch():\n",
        "#     model = Sequential([\n",
        "#         Conv2D(32, (3, 3), activation='relu', input_shape=input_shape),\n",
        "#         MaxPooling2D((2, 2)),\n",
        "#         Flatten(),\n",
        "#         Dense(128, activation='relu'),\n",
        "#         Dense(1, activation='sigmoid')\n",
        "#     ])\n",
        "#     model.compile(loss='binary_crossentropy', optimizer='SGD', metrics=['accuracy'])\n",
        "#     return model\n",
        "\n",
        "# # Function to create model with transfer learning without fine-tuning\n",
        "# def create_model_transfer_learning(model_type):\n",
        "#     base_model = model_type(weights='imagenet', include_top=False, input_shape=input_shape)\n",
        "#     model = Sequential([\n",
        "#         base_model,\n",
        "#         Flatten(),\n",
        "#         Dense(128, activation='relu'),\n",
        "#         Dense(1, activation='sigmoid')\n",
        "#     ])\n",
        "#     model.compile(loss='binary_crossentropy', optimizer='SGD', metrics=['accuracy'])\n",
        "#     return model\n",
        "\n",
        "# # Function to create model with transfer learning and fine-tuning\n",
        "# def create_model_fine_tuning(model_type):\n",
        "#     base_model = model_type(weights='imagenet', include_top=False, input_shape=input_shape)\n",
        "#     for layer in base_model.layers:\n",
        "#         layer.trainable = True  # Set all layers to be trainable\n",
        "#     model = Sequential([\n",
        "#         base_model,\n",
        "#         Flatten(),\n",
        "#         Dense(128, activation='relu'),\n",
        "#         Dense(1, activation='sigmoid')\n",
        "#     ])\n",
        "#     model.compile(loss='binary_crossentropy', optimizer='SGD', metrics=['accuracy'])\n",
        "#     return model"
      ],
      "metadata": {
        "id": "MsHSF_o_jNYB"
      },
      "execution_count": null,
      "outputs": []
    },
    {
      "cell_type": "code",
      "execution_count": null,
      "metadata": {
        "id": "EJ2DStdx2L2i"
      },
      "outputs": [],
      "source": [
        "# # Train models for each scenario\n",
        "# for i, model_type in enumerate(pretrained_models):\n",
        "#     print(f\"\\nModel {chr(97 + i)}: {model_type.__name__}\")\n",
        "\n",
        "#     # Train from scratch\n",
        "#     print(\"Training from scratch...\")\n",
        "#     model_scratch = create_model_from_scratch()\n",
        "#     history_scratch = model_scratch.fit(\n",
        "#         train_generator,\n",
        "#         steps_per_epoch=len(train_generator),\n",
        "#         # epochs=1,  # Adjust epochs as needed\n",
        "#         epochs=50,\n",
        "#         validation_data=validation_generator,\n",
        "#         validation_steps=len(validation_generator)\n",
        "#     )\n",
        "\n",
        "#     # Transfer learning without fine-tuning\n",
        "#     print(\"Transfer learning without fine-tuning...\")\n",
        "#     model_transfer = create_model_transfer_learning(model_type)\n",
        "#     history_transfer = model_transfer.fit(\n",
        "#         train_generator,\n",
        "#         steps_per_epoch=len(train_generator),\n",
        "#         # epochs=1,\n",
        "#         epochs=50,\n",
        "#         validation_data=validation_generator,\n",
        "#         validation_steps=len(validation_generator)\n",
        "#     )\n",
        "\n",
        "#     # Transfer learning with fine-tuning\n",
        "#     print(\"Transfer learning with fine-tuning...\")\n",
        "#     model_fine_tuning = create_model_fine_tuning(model_type)\n",
        "#     history_fine_tuning = model_fine_tuning.fit(\n",
        "#         train_generator,\n",
        "#         steps_per_epoch=len(train_generator),\n",
        "#         # epochs=1,  # Adjust epochs as needed\n",
        "#         epochs=50,  # Adjust epochs as needed\n",
        "#         validation_data=validation_generator,\n",
        "#         validation_steps=len(validation_generator)\n",
        "#     )"
      ]
    }
  ],
  "metadata": {
    "colab": {
      "provenance": [],
      "gpuType": "T4"
    },
    "kernelspec": {
      "display_name": "Python 3",
      "name": "python3"
    },
    "language_info": {
      "name": "python"
    },
    "accelerator": "GPU"
  },
  "nbformat": 4,
  "nbformat_minor": 0
}
