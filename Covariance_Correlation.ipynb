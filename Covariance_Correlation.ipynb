{
  "cells": [
    {
      "cell_type": "code",
      "source": [
        "import numpy as np\n",
        "\n",
        "# Data\n",
        "x = np.array([1, 2, 3, 4, 5, 6, 7, 8])\n",
        "y = np.array([2, 3, 1, 2, 7, 8, 4, 5])\n",
        "\n",
        "# Menghitung korelasi\n",
        "correlation = np.corrcoef(x, y)[0, 1]\n",
        "print(f'Nilai Korelasi: {correlation}')\n",
        "\n",
        "# Menghitung kovarian\n",
        "covariance = np.cov(x, y)[0, 1]\n",
        "print(f'Nilai Kovarian: {covariance}')"
      ],
      "metadata": {
        "id": "ZCCyMNKqHdnF",
        "colab": {
          "base_uri": "https://localhost:8080/"
        },
        "outputId": "46046dcf-e2ee-4f7b-8eca-a2825e14aba2"
      },
      "id": "ZCCyMNKqHdnF",
      "execution_count": null,
      "outputs": [
        {
          "output_type": "stream",
          "name": "stdout",
          "text": [
            "Nilai Korelasi: 0.6048147367590061\n",
            "Nilai Kovarian: 3.714285714285714\n"
          ]
        }
      ]
    },
    {
      "cell_type": "code",
      "execution_count": null,
      "id": "82274242",
      "metadata": {
        "colab": {
          "base_uri": "https://localhost:8080/",
          "height": 452
        },
        "id": "82274242",
        "outputId": "b15c9618-2768-438a-f8fc-b0e17b9e540d"
      },
      "outputs": [
        {
          "output_type": "display_data",
          "data": {
            "text/plain": [
              "<Figure size 640x480 with 1 Axes>"
            ],
            "image/png": "[encoded data removed]"
          },
          "metadata": {}
        }
      ],
      "source": [
        "import matplotlib.pyplot as plt\n",
        "import seaborn as sns\n",
        "import pandas as pd\n",
        "import numpy as np\n",
        "\n",
        "# df = pd.read_csv('iris.csv') # must upload the csv file to google colab\n",
        "url = \"https://raw.githubusercontent.com/jbrownlee/Datasets/master/iris.csv\"\n",
        "names = ['SepalLengthCm', 'SepalWidthCm', 'petal-length', 'petal-width', 'class']\n",
        "df = pd.read_csv(url, names=names)\n",
        "sns.scatterplot(data = df, x = \"SepalLengthCm\", y = \"SepalWidthCm\")\n",
        "\n",
        "plt.show()"
      ]
    },
    {
      "cell_type": "code",
      "execution_count": null,
      "id": "9126e3ba",
      "metadata": {
        "id": "9126e3ba"
      },
      "outputs": [],
      "source": [
        "# COV xy = Σ(xi - x̄)(yi - y̅) / N - 1\n",
        "# ==================================================\n",
        "# xi, yi - are individual elements of the x and y series\n",
        "# x̄, y̅ - are the mathematical means of the x and y series\n",
        "# N - is the number of elements in the series\n",
        "def covariance(x,y):\n",
        "    mean_x = sum(x) / float(len(x))\n",
        "    mean_y = sum(y) / float(len(y))\n",
        "\n",
        "    # Subtracting mean from the individual elements\n",
        "    sub_x = [i - mean_x for i in x]\n",
        "    sub_y = [i - mean_y for i in y]\n",
        "\n",
        "    numerator = sum([sub_x[i] * sub_y[i] for i in range(len(sub_x))])\n",
        "    denominator = len(x) - 1\n",
        "    cov = numerator / denominator\n",
        "    return cov\n",
        "\n",
        "# r xy = Σ(xi - x̄)(yi - y̅) / (√(xi - x̄) ^ 2 * √(yi - y̅) ^ 2)\n",
        "# ==================================================\n",
        "# xi, yi - are individual elements of the x and y series\n",
        "# x̄, y̅ - are the mathematical means of the x and y series\n",
        "# The numerator corresponds to the covariance\n",
        "# The denominators correspond to the individual standard deviations of x and y\n",
        "\n",
        "def correlation(x,y):\n",
        "    mean_x = sum(x) / float(len(x))\n",
        "    mean_y = sum(y) / float(len(y))\n",
        "\n",
        "    sub_x = [i - mean_x for i in x]\n",
        "    sub_y = [i - mean_y for i in y]\n",
        "\n",
        "    numerator = sum([sub_x[i] * sub_y[i] for i in range(len(sub_x))])\n",
        "\n",
        "    std_deviation_x = sum([sub_x[i] ** 2 for i in range(len(sub_x))])\n",
        "    std_deviation_y = sum([sub_y[i] ** 2 for i in range(len(sub_y))])\n",
        "\n",
        "    denominator = (std_deviation_x*std_deviation_y)**0.5 # short but equivalent to (std_deviation_x**0.5) * (std_deviation_y**0.5)\n",
        "\n",
        "    cor = numerator / denominator\n",
        "    return cor"
      ]
    },
    {
      "cell_type": "code",
      "execution_count": null,
      "id": "4fa6c0a1",
      "metadata": {
        "id": "4fa6c0a1"
      },
      "outputs": [],
      "source": [
        "# def executor(filename, action_name):\n",
        "#     with open(filename, \"r\") as f:\n",
        "#         g = f.readlines()\n",
        "\n",
        "#         sep_length = [float(x.split(\",\")[1]) for x in g[1:]]\n",
        "#         sep_width = [float(x.split(\",\")[2]) for x in g[1:]]\n",
        "\n",
        "#         actions = {\n",
        "#             \"covariance\": covariance,\n",
        "#             \"correlation\": correlation\n",
        "#         }\n",
        "\n",
        "#         cov_func = actions[action_name](sep_length, sep_width)\n",
        "#         print(f\"{action_name} value:\", cov_func)\n",
        "\n",
        "# executor(\"iris.csv\", \"covariance\")\n",
        "# executor(\"iris.csv\", \"correlation\")\n"
      ]
    },
    {
      "cell_type": "code",
      "execution_count": null,
      "id": "6ba8b6ca",
      "metadata": {
        "id": "6ba8b6ca"
      },
      "outputs": [],
      "source": [
        "# with open(\"iris.csv\", \"r\") as f:\n",
        "#         g = f.readlines()\n",
        "\n",
        "#         sep_length = [float(x.split(\",\")[1]) for x in g[1:]]\n",
        "#         sep_width = [float(x.split(\",\")[2]) for x in g[1:]]\n",
        "\n",
        "#         cov_mat = np.stack((sep_length, sep_width), axis = 0)\n",
        "#         print(np.cov(cov_mat))\n",
        "#         print(np.corrcoef(sep_length, sep_width))\n"
      ]
    }
  ],
  "metadata": {
    "kernelspec": {
      "display_name": "Python 3 (ipykernel)",
      "language": "python",
      "name": "python3"
    },
    "language_info": {
      "codemirror_mode": {
        "name": "ipython",
        "version": 3
      },
      "file_extension": ".py",
      "mimetype": "text/x-python",
      "name": "python",
      "nbconvert_exporter": "python",
      "pygments_lexer": "ipython3",
      "version": "3.8.10"
    },
    "colab": {
      "provenance": []
    }
  },
  "nbformat": 4,
  "nbformat_minor": 5
}