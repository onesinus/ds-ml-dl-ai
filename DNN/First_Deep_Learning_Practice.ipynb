{
  "nbformat": 4,
  "nbformat_minor": 0,
  "metadata": {
    "colab": {
      "provenance": [],
      "toc_visible": true
    },
    "kernelspec": {
      "name": "python3",
      "display_name": "Python 3"
    },
    "language_info": {
      "name": "python"
    }
  },
  "cells": [
    {
      "cell_type": "markdown",
      "source": [
        "# Tutorial 1: Understanding Deep Learning from scratch"
      ],
      "metadata": {
        "id": "0DeErpSzKWm3"
      }
    },
    {
      "cell_type": "markdown",
      "source": [
        "## Step 1 : Creating the data set using numpy array of 0s and 1s."
      ],
      "metadata": {
        "id": "oqQ8NhrjZk84"
      }
    },
    {
      "cell_type": "code",
      "execution_count": null,
      "metadata": {
        "id": "l3xOAEhNI__l"
      },
      "outputs": [],
      "source": [
        "a = [\n",
        "    0, 0, 1, 1, 0, 0,\n",
        "    0, 1, 0, 0, 1, 0,\n",
        "    1, 1, 1, 1, 1, 1,\n",
        "    1, 0, 0, 0, 0, 1,\n",
        "    1, 0, 0, 0, 0, 1\n",
        "]\n",
        "\n",
        "b = [\n",
        "    0, 1, 1, 1, 1, 0,\n",
        "    0, 1, 0, 0, 1, 0,\n",
        "    0, 1, 1, 1, 1, 0,\n",
        "    0, 1, 0, 0, 1, 0,\n",
        "    0, 1, 1, 1, 1, 0\n",
        "]\n",
        "\n",
        "c = [\n",
        "    0, 1, 1, 1, 1, 0,\n",
        "    0, 1, 0, 0, 0, 0,\n",
        "    0, 1, 0, 0, 0, 0,\n",
        "    0, 1, 0, 0, 0, 0,\n",
        "    0, 1, 1, 1, 1, 0\n",
        "]\n",
        "\n",
        "# label for each letter\n",
        "y = [\n",
        "    [1, 0, 0],\n",
        "    [0, 1, 0],\n",
        "    [0, 0, 1]\n",
        "]"
      ]
    },
    {
      "cell_type": "markdown",
      "source": [
        "## Step 2 : Visualization of data set"
      ],
      "metadata": {
        "id": "SAD6ukuPZsLB"
      }
    },
    {
      "cell_type": "code",
      "source": [
        "import numpy as np\n",
        "import matplotlib.pyplot as plt\n",
        "\n",
        "plt.imshow(np.array(a).reshape(5, 6))\n",
        "plt.show()\n",
        "\n",
        "# plt.imshow(np.array(b).reshape(5, 6))\n",
        "# plt.show()\n",
        "\n",
        "# plt.imshow(np.array(c).reshape(5, 6))\n",
        "# plt.show()"
      ],
      "metadata": {
        "colab": {
          "base_uri": "https://localhost:8080/",
          "height": 430
        },
        "id": "SGDeohbYLMth",
        "outputId": "59545f7d-a88f-4f86-a149-2c855fd5f1c0"
      },
      "execution_count": null,
      "outputs": [
        {
          "output_type": "display_data",
          "data": {
            "text/plain": [
              "<Figure size 640x480 with 1 Axes>"
            ],
            "image/png": "[encoded data removed]"
          },
          "metadata": {}
        }
      ]
    },
    {
      "cell_type": "markdown",
      "source": [
        "## Step 3 :As the data set is in the form of list we will convert it into numpy array."
      ],
      "metadata": {
        "id": "fzsuQmyFZyCU"
      }
    },
    {
      "cell_type": "code",
      "source": [
        "x = [\n",
        "    np.array(a).reshape(1, 30),\n",
        "    np.array(b).reshape(1, 30),\n",
        "    np.array(c).reshape(1, 30)\n",
        "]\n",
        "print(x)\n",
        "\n",
        "y = np.array(y)\n",
        "print(y)"
      ],
      "metadata": {
        "colab": {
          "base_uri": "https://localhost:8080/"
        },
        "id": "1tXSywPPL9xs",
        "outputId": "554b1edb-d5ea-4fac-ef6d-1f0978d43aa0"
      },
      "execution_count": null,
      "outputs": [
        {
          "output_type": "stream",
          "name": "stdout",
          "text": [
            "[array([[0, 0, 1, 1, 0, 0, 0, 1, 0, 0, 1, 0, 1, 1, 1, 1, 1, 1, 1, 0, 0, 0,\n",
            "        0, 1, 1, 0, 0, 0, 0, 1]]), array([[0, 1, 1, 1, 1, 0, 0, 1, 0, 0, 1, 0, 0, 1, 1, 1, 1, 0, 0, 1, 0, 0,\n",
            "        1, 0, 0, 1, 1, 1, 1, 0]]), array([[0, 1, 1, 1, 1, 0, 0, 1, 0, 0, 0, 0, 0, 1, 0, 0, 0, 0, 0, 1, 0, 0,\n",
            "        0, 0, 0, 1, 1, 1, 1, 0]])]\n",
            "[[1 0 0]\n",
            " [0 1 0]\n",
            " [0 0 1]]\n"
          ]
        }
      ]
    },
    {
      "cell_type": "markdown",
      "source": [
        "## Step 4 : Defining the architecture or structure of the deep neural network. This includes deciding the number of layers and the number of nodes in each layer. Our neural network is going to have the following structure."
      ],
      "metadata": {
        "id": "72QXP7VKZ-I5"
      }
    },
    {
      "cell_type": "code",
      "source": [
        "\"\"\"\n",
        "1st layer: Input layer(1, 30)\n",
        "2nd layer: Hidden layer (1, 5)\n",
        "3rd layer: Output layer(3, 3)\n",
        "\"\"\""
      ],
      "metadata": {
        "colab": {
          "base_uri": "https://localhost:8080/",
          "height": 35
        },
        "id": "ZVcoz1bAZ_Ta",
        "outputId": "9f803b6c-1747-45a4-e9de-2f78a463c7f5"
      },
      "execution_count": null,
      "outputs": [
        {
          "output_type": "execute_result",
          "data": {
            "text/plain": [
              "'\\n1st layer: Input layer(1, 30)\\n2nd layer: Hidden layer (1, 5)\\n3rd layer: Output layer(3, 3)\\n'"
            ],
            "application/vnd.google.colaboratory.intrinsic+json": {
              "type": "string"
            }
          },
          "metadata": {},
          "execution_count": 123
        }
      ]
    },
    {
      "cell_type": "markdown",
      "source": [],
      "metadata": {
        "id": "wXh3W4WsaOLo"
      }
    },
    {
      "cell_type": "markdown",
      "source": [
        "## Step 5: Declaring and defining all the function to build deep neural network."
      ],
      "metadata": {
        "id": "_hlv8R0yaONm"
      }
    },
    {
      "cell_type": "code",
      "source": [
        "# activation function\n",
        "\n",
        "def sigmoid(x):\n",
        "  return (1 / (1 + np.exp(-x)))\n",
        "\n",
        "# Creating feed forward neural network\n",
        "# IL: (1, 30)\n",
        "# HL: (1, 5)\n",
        "# OL: (3, 3)\n",
        "\n",
        "def f_forward(x, w1, w2):\n",
        "  # Hidden\n",
        "  z1 = x.dot(w1) # Input from layer 1\n",
        "  a1 = sigmoid(z1) # Output of layer 2\n",
        "\n",
        "  # Output Layer\n",
        "  z2 = a1.dot(w2)\n",
        "  a2 = sigmoid(z2)\n",
        "\n",
        "  return (a2)\n",
        "\n",
        "# Initialize the weights randomly\n",
        "def generate_wt(x, y):\n",
        "  l = []\n",
        "  for i in range(x * y):\n",
        "    l.append(np.random.randn())\n",
        "\n",
        "  return (np.array(l).reshape(x, y))\n",
        "\n",
        "# MSE for loss\n",
        "def loss(out, Y):\n",
        "  s = (np.square(out-Y))\n",
        "  s = np.sum(s) / len(y)\n",
        "\n",
        "  return (s)\n",
        "\n",
        "# Back propagation of error\n",
        "def back_prop(x, y, w1, w2, alpha):\n",
        "  # hidden layer\n",
        "  z1 = x.dot(w1)  # input from layer 1\n",
        "  a1 = sigmoid(z1) # output of layer 2\n",
        "\n",
        "  # output layer\n",
        "  z2 = a1.dot(w2) # input of out layer\n",
        "  a2 = sigmoid(z2) # output of out layer\n",
        "\n",
        "  # error in output layer\n",
        "  d2 = (a2-y)\n",
        "  d1 = np.multiply((w2.dot((d2.transpose()))).transpose(), (np.multiply(a1, 1-a1)))\n",
        "\n",
        "  # Gradient for w1 and w2\n",
        "  w1_adj = x.transpose().dot(d1)\n",
        "  w2_adj = a1.transpose().dot(d2)\n",
        "\n",
        "  # Updating parameters\n",
        "  w1 = w1-(alpha * (w1_adj))\n",
        "  w2 = w2-(alpha * (w2_adj))\n",
        "\n",
        "  return (w1, w2)\n",
        "\n",
        "def train(x, Y, w1, w2, alpha = 0.01, epoch = 10):\n",
        "  acc = []\n",
        "  losss = []\n",
        "  for j in range(epoch):\n",
        "    l = []\n",
        "    for i in range(len(x)):\n",
        "      out = f_forward(x[i], w1, w2)\n",
        "      l.append((loss(out, Y[i])))\n",
        "      w1, w2 = back_prop(x[i], Y[i], w1, w2, alpha)\n",
        "    print(\"epochs: \", j + 1, \" ========= acc \", (1 - (sum(l) / len(x))) * 100)\n",
        "    acc.append((1 - (sum(l) / len(x))) * 100)\n",
        "    losss.append(sum(l) / len(x))\n",
        "\n",
        "  return (acc, losss, w1, w2)\n",
        "\n",
        "def predict(x, w1, w2):\n",
        "  Out = f_forward(x, w1, w2)\n",
        "  maxm = 0\n",
        "  k = 0\n",
        "  for i in range(len(Out[0])):\n",
        "    if (maxm < Out[0][i]):\n",
        "      maxm = Out[0][i]\n",
        "      k = i\n",
        "\n",
        "  if (k == 0):\n",
        "    print(\"Image is of letter A\")\n",
        "  elif (k == 1):\n",
        "    print(\"Image is of letter B\")\n",
        "  else:\n",
        "    print(\"Image is of letter C\")\n",
        "\n",
        "  plt.imshow(x.reshape(5, 6))\n",
        "  plt.show()"
      ],
      "metadata": {
        "id": "HFbM9k2MNStV"
      },
      "execution_count": null,
      "outputs": []
    },
    {
      "cell_type": "markdown",
      "source": [
        "## Step 6: Initializing the weights, as the neural network is having 3 layers, so there will be 2 weight matrix associate with it. The size of each matrix depends on the number of nodes in two connecting layers."
      ],
      "metadata": {
        "id": "PUXu2owBaSs2"
      }
    },
    {
      "cell_type": "code",
      "source": [
        "w1 = generate_wt(30, 5)\n",
        "w2 = generate_wt(5, 3)\n",
        "print(w1, \"\\n\\n\", w2)"
      ],
      "metadata": {
        "colab": {
          "base_uri": "https://localhost:8080/"
        },
        "id": "rhzVIrzDZVXA",
        "outputId": "91a6c5fd-fb2a-4a83-d2d4-575709679bdb"
      },
      "execution_count": null,
      "outputs": [
        {
          "output_type": "stream",
          "name": "stdout",
          "text": [
            "[[-0.86141289  1.31311491  0.25354444  0.2295071  -0.16800891]\n",
            " [-1.01601699  1.62976277  1.01924355 -0.60515865  1.93325368]\n",
            " [-0.21865639 -0.95304163  1.83791713 -1.01896945  0.92202104]\n",
            " [ 0.55110872  0.32645652  1.08605399  1.83112538  0.64726401]\n",
            " [-0.19347905 -1.10946319 -0.28013548 -2.19064839 -2.16500045]\n",
            " [-2.28101438 -1.12644546 -1.37329246  0.29327425 -0.12471452]\n",
            " [ 0.28802465  0.93557249 -0.05976387 -1.29122271 -0.66538929]\n",
            " [ 0.86276023  0.08542315 -1.74575906  0.63314347 -1.05878634]\n",
            " [-0.06342186  1.29912891 -0.18001589  0.36598033 -0.37848316]\n",
            " [ 0.86567333  0.17526554  0.06626317 -1.30131523 -0.52046486]\n",
            " [ 2.4002362   1.67587936  0.88564009 -0.81899635  1.38893356]\n",
            " [-0.5004114  -0.08985725  0.24682337  1.36511658  0.74429194]\n",
            " [-0.59158256  0.03438893  0.70783217 -0.20629457 -0.49100456]\n",
            " [ 0.28001736 -0.434023   -1.73852163  0.37982177  1.89792323]\n",
            " [-1.25560085  0.16038067 -0.53616428 -0.20412267  1.06900735]\n",
            " [-1.71667783  1.46201996 -0.19825251 -0.23872163 -0.56346146]\n",
            " [-1.03850285 -1.94453267  0.47766404 -0.00777447 -0.40989101]\n",
            " [-1.9537196   0.7716119   2.18944429 -0.68611396 -1.22736133]\n",
            " [-0.80705056  1.51951505  0.12431623 -0.76852375  0.12944269]\n",
            " [-0.80818033 -0.87561285  0.53582038 -0.30298775  1.53632208]\n",
            " [ 1.03867405 -0.34751508 -1.28760458 -1.20019141 -0.43833629]\n",
            " [-1.22536955  1.42241632  1.08673035 -1.28461779  1.11826786]\n",
            " [ 0.78819925 -0.6204264  -0.83596503 -0.07094944 -0.67703703]\n",
            " [ 2.80827501 -0.47224639 -0.66612919 -2.25796481 -0.89722474]\n",
            " [ 1.07251972  0.65603168  0.01360355 -0.47798619  0.05443402]\n",
            " [-0.4659333   0.62754164  0.62765812 -0.6531209   2.24876188]\n",
            " [-0.90054327  1.70274156 -0.82291682  0.40052474 -1.46306089]\n",
            " [ 0.87818837  0.62864157  0.5415918  -0.32642385  0.14942612]\n",
            " [-0.51674802  1.6937761   0.00382253  1.4255307   1.84724235]\n",
            " [-0.78807293 -0.32331366  0.57253348  0.11474611  0.71791574]] \n",
            "\n",
            " [[ 1.65242236  0.20451242 -1.36223795]\n",
            " [ 0.46206808 -0.59266908 -0.14352482]\n",
            " [ 0.54513263 -0.31596847  1.12547979]\n",
            " [ 0.9303     -0.16474929 -0.30396605]\n",
            " [ 0.15552618  1.63735558 -0.66215155]]\n"
          ]
        }
      ]
    },
    {
      "cell_type": "markdown",
      "source": [
        "## Step 7 : Training the model."
      ],
      "metadata": {
        "id": "R0qdvmtuaXCh"
      }
    },
    {
      "cell_type": "code",
      "source": [
        "acc, losss, w1, w2 = train(x, y, w1, w2, 0.1, 100)"
      ],
      "metadata": {
        "colab": {
          "base_uri": "https://localhost:8080/"
        },
        "id": "W0P1hhSqaX54",
        "outputId": "05024d50-ade9-462f-cab7-31722bb1d5ca"
      },
      "execution_count": null,
      "outputs": [
        {
          "output_type": "stream",
          "name": "stdout",
          "text": [
            "epochs:  1  ========= acc  65.37295345086977\n",
            "epochs:  2  ========= acc  69.60161467642023\n",
            "epochs:  3  ========= acc  72.96833642484104\n",
            "epochs:  4  ========= acc  75.58440043366117\n",
            "epochs:  5  ========= acc  77.62127474684434\n",
            "epochs:  6  ========= acc  79.22551984293509\n",
            "epochs:  7  ========= acc  80.50397756921421\n",
            "epochs:  8  ========= acc  81.53566907049972\n",
            "epochs:  9  ========= acc  82.38199462222427\n",
            "epochs:  10  ========= acc  83.09087007469455\n",
            "epochs:  11  ========= acc  83.69872952793474\n",
            "epochs:  12  ========= acc  84.23253529873669\n",
            "epochs:  13  ========= acc  84.711890492286\n",
            "epochs:  14  ========= acc  85.15092531115364\n",
            "epochs:  15  ========= acc  85.55979044290638\n",
            "epochs:  16  ========= acc  85.94575591571898\n",
            "epochs:  17  ========= acc  86.31398782476276\n",
            "epochs:  18  ========= acc  86.66809089897993\n",
            "epochs:  19  ========= acc  87.01049516868675\n",
            "epochs:  20  ========= acc  87.3427469661093\n",
            "epochs:  21  ========= acc  87.66574462701334\n",
            "epochs:  22  ========= acc  87.97994014294778\n",
            "epochs:  23  ========= acc  88.28551214829882\n",
            "epochs:  24  ========= acc  88.58250601075045\n",
            "epochs:  25  ========= acc  88.87093506211615\n",
            "epochs:  26  ========= acc  89.15084161879027\n",
            "epochs:  27  ========= acc  89.42232321678092\n",
            "epochs:  28  ========= acc  89.68553425884292\n",
            "epochs:  29  ========= acc  89.94067421728408\n",
            "epochs:  30  ========= acc  90.18797138245583\n",
            "epochs:  31  ========= acc  90.42766775475755\n",
            "epochs:  32  ========= acc  90.66000760274115\n",
            "epochs:  33  ========= acc  90.88523014240117\n",
            "epochs:  34  ========= acc  91.10356573203437\n",
            "epochs:  35  ========= acc  91.31523462075633\n",
            "epochs:  36  ========= acc  91.52044731516094\n",
            "epochs:  37  ========= acc  91.71940581050964\n",
            "epochs:  38  ========= acc  91.91230514492736\n",
            "epochs:  39  ========= acc  92.09933492287203\n",
            "epochs:  40  ========= acc  92.28068060168239\n",
            "epochs:  41  ========= acc  92.45652444318253\n",
            "epochs:  42  ========= acc  92.62704610740334\n",
            "epochs:  43  ========= acc  92.79242291430518\n",
            "epochs:  44  ========= acc  92.95282982790982\n",
            "epochs:  45  ========= acc  93.10843923044759\n",
            "epochs:  46  ========= acc  93.25942055620243\n",
            "epochs:  47  ========= acc  93.40593984929144\n",
            "epochs:  48  ========= acc  93.54815929967499\n",
            "epochs:  49  ========= acc  93.68623679970098\n",
            "epochs:  50  ========= acc  93.82032555126928\n",
            "epochs:  51  ========= acc  93.95057374250018\n",
            "epochs:  52  ========= acc  94.07712430332083\n",
            "epochs:  53  ========= acc  94.2001147419401\n",
            "epochs:  54  ========= acc  94.31967705876136\n",
            "epochs:  55  ========= acc  94.43593773067929\n",
            "epochs:  56  ========= acc  94.5490177566223\n",
            "epochs:  57  ========= acc  94.65903275430139\n",
            "epochs:  58  ========= acc  94.76609309809115\n",
            "epochs:  59  ========= acc  94.87030408851899\n",
            "epochs:  60  ========= acc  94.97176614474866\n",
            "epochs:  61  ========= acc  95.07057501253865\n",
            "epochs:  62  ========= acc  95.16682198130826\n",
            "epochs:  63  ========= acc  95.2605941050689\n",
            "epochs:  64  ========= acc  95.35197442302147\n",
            "epochs:  65  ========= acc  95.44104217655152\n",
            "epochs:  66  ========= acc  95.52787302016246\n",
            "epochs:  67  ========= acc  95.61253922456939\n",
            "epochs:  68  ========= acc  95.69510987074155\n",
            "epochs:  69  ========= acc  95.7756510341392\n",
            "epochs:  70  ========= acc  95.85422595875413\n",
            "epochs:  71  ========= acc  95.93089522084584\n",
            "epochs:  72  ========= acc  96.0057168824796\n",
            "epochs:  73  ========= acc  96.07874663513111\n",
            "epochs:  74  ========= acc  96.15003793373411\n",
            "epochs:  75  ========= acc  96.21964212162418\n",
            "epochs:  76  ========= acc  96.28760854687762\n",
            "epochs:  77  ========= acc  96.35398467056953\n",
            "epochs:  78  ========= acc  96.41881616748242\n",
            "epochs:  79  ========= acc  96.48214701979167\n",
            "epochs:  80  ========= acc  96.54401960423905\n",
            "epochs:  81  ========= acc  96.60447477328592\n",
            "epochs:  82  ========= acc  96.66355193071124\n",
            "epochs:  83  ========= acc  96.72128910209301\n",
            "epochs:  84  ========= acc  96.77772300058234\n",
            "epochs:  85  ========= acc  96.83288908834994\n",
            "epochs:  86  ========= acc  96.88682163405673\n",
            "epochs:  87  ========= acc  96.93955376667104\n",
            "epochs:  88  ========= acc  96.99111752592977\n",
            "epochs:  89  ========= acc  97.04154390971377\n",
            "epochs:  90  ========= acc  97.09086291858577\n",
            "epochs:  91  ========= acc  97.13910359771556\n",
            "epochs:  92  ========= acc  97.18629407639784\n",
            "epochs:  93  ========= acc  97.23246160534899\n",
            "epochs:  94  ========= acc  97.2776325919513\n",
            "epochs:  95  ========= acc  97.32183263359866\n",
            "epochs:  96  ========= acc  97.36508654928204\n",
            "epochs:  97  ========= acc  97.40741840954115\n",
            "epochs:  98  ========= acc  97.44885156489656\n",
            "epochs:  99  ========= acc  97.48940867286574\n",
            "epochs:  100  ========= acc  97.52911172365754\n"
          ]
        }
      ]
    },
    {
      "cell_type": "markdown",
      "source": [
        "## Step 8 : Plotting the graphs of loss and accuracy with respect to number of epochs(Iteration)."
      ],
      "metadata": {
        "id": "eWo1_EFzajRb"
      }
    },
    {
      "cell_type": "code",
      "source": [
        "plt.plot(acc)\n",
        "plt.ylabel('Accuracy')\n",
        "plt.xlabel('Epochs:')\n",
        "plt.show()"
      ],
      "metadata": {
        "id": "w0LWBk_IakWX",
        "colab": {
          "base_uri": "https://localhost:8080/",
          "height": 449
        },
        "outputId": "6c1f41b0-638c-45d0-b1de-2b7b9c4409c4"
      },
      "execution_count": null,
      "outputs": [
        {
          "output_type": "display_data",
          "data": {
            "text/plain": [
              "<Figure size 640x480 with 1 Axes>"
            ],
            "image/png": "[encoded data removed]"
          },
          "metadata": {}
        }
      ]
    },
    {
      "cell_type": "code",
      "source": [
        "plt.plot(losss)\n",
        "plt.ylabel('Loss')\n",
        "plt.xlabel('Epochs:')\n",
        "plt.show()"
      ],
      "metadata": {
        "colab": {
          "base_uri": "https://localhost:8080/",
          "height": 449
        },
        "id": "i6UlbF0gGbBT",
        "outputId": "c2631ddc-a838-4b9e-82ed-26c93b3a4e0b"
      },
      "execution_count": null,
      "outputs": [
        {
          "output_type": "display_data",
          "data": {
            "text/plain": [
              "<Figure size 640x480 with 1 Axes>"
            ],
            "image/png": "[encoded data removed]"
          },
          "metadata": {}
        }
      ]
    },
    {
      "cell_type": "code",
      "source": [
        "# the trained weights are\n",
        "print(w1, \"\\n\", w2)"
      ],
      "metadata": {
        "colab": {
          "base_uri": "https://localhost:8080/"
        },
        "id": "7MtdDU8xGvuT",
        "outputId": "de3adf34-da19-44d6-9d09-a2c2f85ab771"
      },
      "execution_count": null,
      "outputs": [
        {
          "output_type": "stream",
          "name": "stdout",
          "text": [
            "[[-0.86141289  1.31311491  0.25354444  0.2295071  -0.16800891]\n",
            " [-1.36693498  1.6513533   1.17711354 -0.78435263  1.96891551]\n",
            " [-0.12800688 -0.88909867  2.010237   -1.17258014  0.53788064]\n",
            " [ 0.64175823  0.39039948  1.25837386  1.67751468  0.26312362]\n",
            " [-0.54439704 -1.08787265 -0.12226549 -2.36984237 -2.12933861]\n",
            " [-2.28101438 -1.12644546 -1.37329246  0.29327425 -0.12471452]\n",
            " [ 0.28802465  0.93557249 -0.05976387 -1.29122271 -0.66538929]\n",
            " [ 0.95340974  0.14936612 -1.57343919  0.47953278 -1.44292674]\n",
            " [-0.06342186  1.29912891 -0.18001589  0.36598033 -0.37848316]\n",
            " [ 0.86567333  0.17526554  0.06626317 -1.30131523 -0.52046486]\n",
            " [ 2.91582604  1.68993907 -0.28036088 -0.86754629  1.02386738]\n",
            " [-0.5004114  -0.08985725  0.24682337  1.36511658  0.74429194]\n",
            " [-0.15001506  0.07674136  0.72228205 -0.18071128 -0.91080679]\n",
            " [ 0.37066688 -0.37008003 -1.56620176  0.22621108  1.51378283]\n",
            " [-0.74001101  0.17444038 -1.70216525 -0.25267261  0.70394117]\n",
            " [-1.201088    1.47607968 -1.36425348 -0.28727156 -0.92852764]\n",
            " [-0.52291302 -1.93047295 -0.68833693 -0.05632441 -0.77495719]\n",
            " [-1.5121521   0.81396433  2.20389417 -0.66053067 -1.64716356]\n",
            " [-0.36548306  1.56186748  0.13876611 -0.74294046 -0.29035955]\n",
            " [-1.15909832 -0.85402232  0.69369037 -0.48218173  1.57198392]\n",
            " [ 1.03867405 -0.34751508 -1.28760458 -1.20019141 -0.43833629]\n",
            " [-1.22536955  1.42241632  1.08673035 -1.28461779  1.11826786]\n",
            " [ 0.86222158 -0.64871911 -2.01641587 -0.14508267 -0.62230098]\n",
            " [ 3.24984251 -0.42989395 -0.65167931 -2.23238152 -1.31702697]\n",
            " [ 1.51408722  0.69838411  0.02805343 -0.4524029  -0.36536822]\n",
            " [-0.81685129  0.64913217  0.78552811 -0.83231488  2.28442372]\n",
            " [-1.25146126  1.72433209 -0.66504683  0.22133076 -1.42739906]\n",
            " [ 0.52727038  0.6502321   0.69946179 -0.50561784  0.18508795]\n",
            " [-0.86766601  1.71536663  0.16169252  1.24633672  1.88290419]\n",
            " [-0.34650542 -0.28096123  0.58698336  0.1403294   0.29811351]] \n",
            " [[ 3.1401191  -0.93130622 -2.7632781 ]\n",
            " [-0.87455582 -0.83840989 -0.78686035]\n",
            " [ 0.04883389 -2.9427578   2.70338224]\n",
            " [ 0.64489182 -0.4314572   0.06372758]\n",
            " [-2.3318738   2.08196067 -0.35994914]]\n"
          ]
        }
      ]
    },
    {
      "cell_type": "markdown",
      "source": [
        "## Step 9: Making Prediction"
      ],
      "metadata": {
        "id": "3VvddgDNG5FG"
      }
    },
    {
      "cell_type": "code",
      "source": [
        "\"\"\"\n",
        "The predict function will take the following arguments:\n",
        "1) image matrix\n",
        "2) w1 trained weights\n",
        "3) w2 trained weights\n",
        "\"\"\"\n",
        "predict(x[1], w1, w2)"
      ],
      "metadata": {
        "colab": {
          "base_uri": "https://localhost:8080/",
          "height": 447
        },
        "id": "Mao0ENWJG6FV",
        "outputId": "526d2985-dcfa-45d7-9fee-2d527669d85c"
      },
      "execution_count": null,
      "outputs": [
        {
          "output_type": "stream",
          "name": "stdout",
          "text": [
            "Image is of letter B\n"
          ]
        },
        {
          "output_type": "display_data",
          "data": {
            "text/plain": [
              "<Figure size 640x480 with 1 Axes>"
            ],
            "image/png": "[encoded data removed]"
          },
          "metadata": {}
        }
      ]
    },
    {
      "cell_type": "code",
      "source": [
        "predict(x[0], w1, w2)\n",
        "predict(x[2], w1, w2)"
      ],
      "metadata": {
        "colab": {
          "base_uri": "https://localhost:8080/",
          "height": 878
        },
        "id": "X4wnBz6kKMyM",
        "outputId": "047212b5-b983-4185-87d2-b43ebadd8556"
      },
      "execution_count": null,
      "outputs": [
        {
          "output_type": "stream",
          "name": "stdout",
          "text": [
            "Image is of letter A\n"
          ]
        },
        {
          "output_type": "display_data",
          "data": {
            "text/plain": [
              "<Figure size 640x480 with 1 Axes>"
            ],
            "image/png": "[encoded data removed]"
          },
          "metadata": {}
        },
        {
          "output_type": "stream",
          "name": "stdout",
          "text": [
            "Image is of letter C\n"
          ]
        },
        {
          "output_type": "display_data",
          "data": {
            "text/plain": [
              "<Figure size 640x480 with 1 Axes>"
            ],
            "image/png": "[encoded data removed]"
          },
          "metadata": {}
        }
      ]
    },
    {
      "cell_type": "markdown",
      "source": [
        "# Tutorial 2: Introduction to Deep Neural Networks (DNN)"
      ],
      "metadata": {
        "id": "GnzT4owFK-Fg"
      }
    },
    {
      "cell_type": "markdown",
      "source": [
        "## Step 1: Import required libraries"
      ],
      "metadata": {
        "id": "CnPnEqDFLRsU"
      }
    },
    {
      "cell_type": "code",
      "source": [
        "import tensorflow as tf\n",
        "from tensorflow.keras.models import Sequential\n",
        "from tensorflow.keras.layers import Input, Dense, Conv2D\n",
        "from tensorflow.keras.layers import Flatten, MaxPooling2D"
      ],
      "metadata": {
        "id": "mxS7z9fnLI9I"
      },
      "execution_count": null,
      "outputs": []
    },
    {
      "cell_type": "code",
      "source": [
        "# Creating the model\n",
        "DNN_Model = Sequential()\n",
        "DNN_Model"
      ],
      "metadata": {
        "colab": {
          "base_uri": "https://localhost:8080/"
        },
        "id": "e7dvdK2MLey7",
        "outputId": "9a6c8ed1-cf81-412c-fd7a-0471031ba3ec"
      },
      "execution_count": null,
      "outputs": [
        {
          "output_type": "execute_result",
          "data": {
            "text/plain": [
              "<keras.src.engine.sequential.Sequential at 0x78e89cd4e9e0>"
            ]
          },
          "metadata": {},
          "execution_count": 133
        }
      ]
    },
    {
      "cell_type": "code",
      "source": [
        "# Inputting the shape to the model\n",
        "DNN_Model.add(Input(shape = (256, 256, 3)))\n",
        "\n",
        "# Creating the deep neural network\n",
        "DNN_Model.add(Conv2D(256, (3, 3), activation='relu', padding = \"same\"))\n",
        "DNN_Model.add(MaxPooling2D(2, 2))\n",
        "DNN_Model.add(Conv2D(128, (3, 3), activation='relu', padding = \"same\"))\n",
        "DNN_Model.add(MaxPooling2D(2, 2))\n",
        "DNN_Model.add(Conv2D(64, (3, 3), activation='relu', padding = \"same\"))\n",
        "DNN_Model.add(MaxPooling2D(2, 2))\n",
        "\n",
        "# Creating the output layers\n",
        "DNN_Model.add(Flatten())\n",
        "DNN_Model.add(Dense(64, activation='relu'))\n",
        "DNN_Model.add(Dense(10))"
      ],
      "metadata": {
        "id": "73pa5kilLwnJ"
      },
      "execution_count": null,
      "outputs": []
    },
    {
      "cell_type": "code",
      "source": [
        "tf.keras.utils.plot_model(DNN_Model, to_file='model_big.png', show_shapes=True)\n",
        "\n"
      ],
      "metadata": {
        "colab": {
          "base_uri": "https://localhost:8080/",
          "height": 1000
        },
        "id": "FyuHS9ffMUIW",
        "outputId": "1c24b3a4-6f6c-48d8-fbae-34847954e5ad"
      },
      "execution_count": null,
      "outputs": [
        {
          "output_type": "execute_result",
          "data": {
            "image/png": "[encoded data removed]",
            "text/plain": [
              "<IPython.core.display.Image object>"
            ]
          },
          "metadata": {},
          "execution_count": 135
        }
      ]
    },
    {
      "cell_type": "markdown",
      "source": [
        "# Tutorial 3: Implementing a Deep Neural Network from scratch\n",
        "\n",
        "https://webcache.googleusercontent.com/search?q=cache:https://medium.com/analytics-vidhya/implementing-a-deep-neural-network-from-scratch-8ed9988d2e4d"
      ],
      "metadata": {
        "id": "gU6OTRHnMaYG"
      }
    },
    {
      "cell_type": "markdown",
      "source": [
        "## Step 1: Import packages / Libraries"
      ],
      "metadata": {
        "id": "v-PUO02JuUmn"
      }
    },
    {
      "cell_type": "code",
      "source": [
        "import numpy as np\n",
        "import tensorflow.keras.datasets as tfkd\n",
        "from tensorflow.keras.utils import to_categorical\n",
        "import matplotlib.pyplot as plt"
      ],
      "metadata": {
        "id": "XO9jqyKgMcu3"
      },
      "execution_count": null,
      "outputs": []
    },
    {
      "cell_type": "markdown",
      "source": [
        "## Step 2: Load the dataset"
      ],
      "metadata": {
        "id": "N16g-EkPuXxc"
      }
    },
    {
      "cell_type": "code",
      "source": [
        "(x_train, y_train), (x_test, y_test) = tfkd.cifar10.load_data()"
      ],
      "metadata": {
        "id": "VaOdlJN1uGsV",
        "colab": {
          "base_uri": "https://localhost:8080/"
        },
        "outputId": "1b534401-37ef-4341-e778-035418f71c43"
      },
      "execution_count": null,
      "outputs": [
        {
          "output_type": "stream",
          "name": "stdout",
          "text": [
            "Downloading data from https://www.cs.toronto.edu/~kriz/cifar-10-python.tar.gz\n",
            "170498071/170498071 [==============================] - 4s 0us/step\n"
          ]
        }
      ]
    },
    {
      "cell_type": "code",
      "source": [
        "plt.imshow(x_train[11])"
      ],
      "metadata": {
        "colab": {
          "base_uri": "https://localhost:8080/",
          "height": 447
        },
        "id": "aFeU2CC2uhjO",
        "outputId": "da3fae57-a62b-47be-9b24-eb663db1d676"
      },
      "execution_count": null,
      "outputs": [
        {
          "output_type": "execute_result",
          "data": {
            "text/plain": [
              "<matplotlib.image.AxesImage at 0x7f723b03c610>"
            ]
          },
          "metadata": {},
          "execution_count": 3
        },
        {
          "output_type": "display_data",
          "data": {
            "text/plain": [
              "<Figure size 640x480 with 1 Axes>"
            ],
            "image/png": "[encoded data removed]"
          },
          "metadata": {}
        }
      ]
    },
    {
      "cell_type": "code",
      "source": [
        "print(f\"Training Dataset Shapes: {x_train.shape}, {y_train.shape}\")\n",
        "print(f\"Test Dataset Shapes: {x_test.shape}, {y_test.shape}\")"
      ],
      "metadata": {
        "colab": {
          "base_uri": "https://localhost:8080/"
        },
        "id": "8kI4G_xDus4m",
        "outputId": "d64e08a6-2a3e-4352-971d-904495128373"
      },
      "execution_count": null,
      "outputs": [
        {
          "output_type": "stream",
          "name": "stdout",
          "text": [
            "Training Dataset Shapes: (50000, 32, 32, 3), (50000, 1)\n",
            "Test Dataset Shapes: (10000, 32, 32, 3), (10000, 1)\n"
          ]
        }
      ]
    },
    {
      "cell_type": "markdown",
      "source": [
        "## Step 3: Defining utility function for pre-processing the dataset"
      ],
      "metadata": {
        "id": "YKSSQ1jMvBoF"
      }
    },
    {
      "cell_type": "code",
      "source": [
        "def preprocess_X(data):\n",
        "  # Reshape the image vector, by using \"-1\" we flatten the channels of the image\n",
        "  processed_x = data.reshape(data.shape[0], -1)\n",
        "  # Normalize the data to be between the range 0 and 1\n",
        "  processed_x = processed_x / 255.0\n",
        "  processed_x = processed_x.T\n",
        "  return processed_x"
      ],
      "metadata": {
        "id": "Ig1OP51UvIdE"
      },
      "execution_count": null,
      "outputs": []
    },
    {
      "cell_type": "markdown",
      "source": [
        "### X & Y Train Preprocessed"
      ],
      "metadata": {
        "id": "rDeCvRXGBWuQ"
      }
    },
    {
      "cell_type": "code",
      "source": [
        "x_train_preprocessed = preprocess_X(x_train)\n",
        "print(x_train_preprocessed.shape)\n",
        "\n",
        "x_test_preprocessed = preprocess_X(x_test)\n",
        "print(x_test_preprocessed.shape)"
      ],
      "metadata": {
        "colab": {
          "base_uri": "https://localhost:8080/"
        },
        "id": "s45YB_vXvhW5",
        "outputId": "e2660b84-e35c-454d-b715-e4ac14c7fab6"
      },
      "execution_count": null,
      "outputs": [
        {
          "output_type": "stream",
          "name": "stdout",
          "text": [
            "(3072, 50000)\n",
            "(3072, 10000)\n"
          ]
        }
      ]
    },
    {
      "cell_type": "code",
      "source": [
        "y_train = y_train.T\n",
        "print(y_train.shape)\n",
        "\n",
        "y_test = y_test.T\n",
        "print(y_test.shape)"
      ],
      "metadata": {
        "colab": {
          "base_uri": "https://localhost:8080/"
        },
        "id": "zbPmffIXv37p",
        "outputId": "962c1838-b464-46b5-a6f4-9888a7f144e8"
      },
      "execution_count": null,
      "outputs": [
        {
          "output_type": "stream",
          "name": "stdout",
          "text": [
            "(1, 50000)\n",
            "(1, 10000)\n"
          ]
        }
      ]
    },
    {
      "cell_type": "markdown",
      "source": [
        "## Step 4: Building our DNN Model"
      ],
      "metadata": {
        "id": "NEd9lI-twBTb"
      }
    },
    {
      "cell_type": "markdown",
      "source": [
        "### Initializing our parameters\n",
        "\n",
        "The function takes the dimensions of all the layers as an argument and then returns a dictionary “parameters” that contains:\n",
        "\n",
        "Randomly Initialized weights “w”\n",
        "Initialized to zero biases “b”"
      ],
      "metadata": {
        "id": "NNqkXYLUwD7s"
      }
    },
    {
      "cell_type": "code",
      "source": [
        "def init_params(dimensions):\n",
        "  # dimensions: python list containing the dimensions of each layer in our network\n",
        "  parameters = {}\n",
        "  np.random.seed(3)\n",
        "\n",
        "  # number of layers in the network\n",
        "  L = len(dimensions)\n",
        "\n",
        "  for l in range(1, L):\n",
        "    parameters['W' + str(l)] = np.random.randn(dimensions[l], dimensions[l-1]) * 0.01\n",
        "    parameters['b' + str(l)] = np.zeros((dimensions[l], 1))\n",
        "\n",
        "  return parameters"
      ],
      "metadata": {
        "id": "-cGsthQUwGPH"
      },
      "execution_count": null,
      "outputs": []
    },
    {
      "cell_type": "markdown",
      "source": [
        "### calculate activation functions"
      ],
      "metadata": {
        "id": "d7mDKK8tw9CI"
      }
    },
    {
      "cell_type": "code",
      "source": [
        "def activation_function(z, activation_type):\n",
        "  cache = z\n",
        "  if activation_type == \"sigmoid\":\n",
        "    sigmoid_of_Z = 1/(1+np.exp(-z))\n",
        "    return sigmoid_of_Z, cache\n",
        "\n",
        "  elif activation_type == \"relu\":\n",
        "    relu_of_Z = (abs(z) + z )/2\n",
        "    return relu_of_Z, cache\n",
        "\n",
        "  elif activation_type == \"softmax\":\n",
        "    e_Z = np.exp(z - np.max(z))\n",
        "    return (e_Z / e_Z.sum()), cache\n",
        "\n",
        "  elif activation_type == \"tanh\":\n",
        "    tanh_of_Z = np.tanh(z)\n",
        "    return tanh_of_Z, cache\n",
        "\n",
        "  else:\n",
        "    print(F\"Error: wrong type of activation function defined. \\n\")\n",
        "    print(F\"Available: sigmoid, relu, tanh, and softmax.\")"
      ],
      "metadata": {
        "id": "ca6RX17ww95k"
      },
      "execution_count": null,
      "outputs": []
    },
    {
      "cell_type": "markdown",
      "source": [
        "## Implementing Forward propagation\n",
        "\n",
        "A: activation from previous layer (or input data): (size of prev layer, number of examples)\n",
        "\n",
        "W: Weights matrix: numpy array of shape (size of current layer, size of prev layer)\n",
        "\n",
        "b: bias vector, numpy array of shape (size of current layer, 1)"
      ],
      "metadata": {
        "id": "GP1iZN5DyJCf"
      }
    },
    {
      "cell_type": "markdown",
      "source": [
        "### forwardProp Preactivation"
      ],
      "metadata": {
        "id": "xf367jlwMbOR"
      }
    },
    {
      "cell_type": "code",
      "source": [
        "def forward_prop_preactivations(A, W, b):\n",
        "    z = np.dot(W, A) + b\n",
        "    cache = (A, W, b)  # Cache contains A, W, and b\n",
        "    return z, cache"
      ],
      "metadata": {
        "id": "nbvMtM1LyJ3y"
      },
      "execution_count": null,
      "outputs": []
    },
    {
      "cell_type": "markdown",
      "source": [
        "### forwardProp activation"
      ],
      "metadata": {
        "id": "1RbeyTK0Meak"
      }
    },
    {
      "cell_type": "code",
      "source": [
        "def forwardProp_activations(A_previous, W, b, act_fn):\n",
        "    z, cacheZ = forward_prop_preactivations(A_previous, W, b)\n",
        "    A, cacheA = activation_function(z, act_fn)\n",
        "    cache = (cacheZ, cacheA)  # Cache contains both pre-activation and activation caches\n",
        "    return A, cache"
      ],
      "metadata": {
        "id": "xyT1iDb7ywXo"
      },
      "execution_count": null,
      "outputs": []
    },
    {
      "cell_type": "markdown",
      "source": [
        "### Forward Propagation"
      ],
      "metadata": {
        "id": "e6zFzG0eMjoc"
      }
    },
    {
      "cell_type": "code",
      "source": [
        "def forwardPropagation(X, parameters, output_activation=\"sigmoid\"):\n",
        "  caches = []\n",
        "  A = X\n",
        "  L = len(parameters) // 2\n",
        "\n",
        "  for l in range(1, L):\n",
        "    A_previous = A\n",
        "\n",
        "    W = parameters['W' + str(l)]\n",
        "    b = parameters['b' + str(l)]\n",
        "    A, cache = forwardProp_activations(A_previous, W, b, \"relu\")\n",
        "    caches.append(cache)\n",
        "\n",
        "  WL = parameters['W' + str(L)]\n",
        "  bL = parameters['b' + str(L)]\n",
        "  AL, cache = forwardProp_activations(A, WL, bL, output_activation)\n",
        "  caches.append(cache)\n",
        "\n",
        "  return AL, caches"
      ],
      "metadata": {
        "id": "XmeijvKXzbA9"
      },
      "execution_count": null,
      "outputs": []
    },
    {
      "cell_type": "markdown",
      "source": [
        "## Step 5: Computing Loss"
      ],
      "metadata": {
        "id": "h_FCSpH30wai"
      }
    },
    {
      "cell_type": "code",
      "source": [
        "def compute_cost(AL, Y):\n",
        "  m = Y.shape[1]\n",
        "  logprobs = np.multiply(np.log(AL), Y) + np.multiply((1 - Y), np.log(1 - AL))\n",
        "  cost = -np.sum(logprobs) / m\n",
        "\n",
        "  return cost"
      ],
      "metadata": {
        "id": "Si_9vBIN0xVQ"
      },
      "execution_count": null,
      "outputs": []
    },
    {
      "cell_type": "markdown",
      "source": [
        "## Step 6: Implementing backpropagation"
      ],
      "metadata": {
        "id": "SdPtCN-I1ewA"
      }
    },
    {
      "cell_type": "markdown",
      "source": [
        "### Activation Function Backward function"
      ],
      "metadata": {
        "id": "9BN9iAnq82Fq"
      }
    },
    {
      "cell_type": "code",
      "source": [
        "def activation_function_backward(dA, cache, type_):\n",
        "  Z = cache\n",
        "\n",
        "  if type_ == \"sigmoid\":\n",
        "    s = 1 / (1 + np.exp(-Z[0]))\n",
        "    dZ = dA * s * (1 - s)\n",
        "    return dZ\n",
        "\n",
        "  elif type_ == \"relu\":\n",
        "    dZ = np.array(dA, copy=True)\n",
        "    # When Z <= 0, set dZ to 0\n",
        "    dZ[Z <= 0] = 0\n",
        "    return dZ\n",
        "\n",
        "  elif type_ == \"tanh\":\n",
        "    s = np.tanh(Z)\n",
        "    dZ = dA * (1 - np.square(s))\n",
        "    return dZ\n",
        "\n",
        "  elif type_ == \"softmax\":\n",
        "    return None\n",
        "  else:\n",
        "    print(\"Error: Unsupported activation function type\")\n",
        "    return None"
      ],
      "metadata": {
        "id": "0nUlnyJb1hqc"
      },
      "execution_count": null,
      "outputs": []
    },
    {
      "cell_type": "markdown",
      "source": [
        "### Backwardprop derivatives function"
      ],
      "metadata": {
        "id": "9OI2wG5R83tX"
      }
    },
    {
      "cell_type": "code",
      "source": [
        "def backwardprop_derivatives(dZ, cache):\n",
        "    A_previous, W, b = cache\n",
        "    m = A_previous.shape[1]\n",
        "    dW = np.dot(dZ, A_previous.T) / m\n",
        "    db = np.sum(dZ, axis=1, keepdims=True)\n",
        "    dA_previous = np.dot(W.T, dZ)\n",
        "    return dA_previous, dW, db"
      ],
      "metadata": {
        "id": "gl64_cBj2hMT"
      },
      "execution_count": null,
      "outputs": []
    },
    {
      "cell_type": "markdown",
      "source": [
        "###backwardprop activation function"
      ],
      "metadata": {
        "id": "S_0l-w3z85pa"
      }
    },
    {
      "cell_type": "code",
      "source": [
        "def backwardProp_activation(dA, cache, act_fn):\n",
        "  cacheZ, cacheA = cache  # Unpack the cache to obtain both pre-activation and activation caches\n",
        "  dZ = activation_function_backward(dA, cacheZ, act_fn)\n",
        "  dA_previous, dW, db = backwardprop_derivatives(dZ, cacheA)\n",
        "\n",
        "  return dA_previous, dW, db"
      ],
      "metadata": {
        "id": "m1RDTPeq3tf2"
      },
      "execution_count": null,
      "outputs": []
    },
    {
      "cell_type": "markdown",
      "source": [
        "### backwardPropagation"
      ],
      "metadata": {
        "id": "RhuXfANN9FIv"
      }
    },
    {
      "cell_type": "code",
      "source": [
        "def backwardPropagation(AL, Y, caches):\n",
        "  grads = {}\n",
        "  m = AL.shape[1]\n",
        "  Y = Y.reshape(AL.shape)\n",
        "  L = len(caches)\n",
        "  dAL = -(np.divide(Y, AL) - np.divide((1-Y),(1-AL)))\n",
        "\n",
        "  cache = caches[L-1]\n",
        "  grads[\"dA\"+str(L)], grads[\"dW\"+str(L)], grads[\"db\"+str(L)] = backwardProp_activation(dAL, cache, \"sigmoid\")\n",
        "  for l in reversed(range(L-1)):\n",
        "    cache = caches[l]\n",
        "    dA_previous_temp, dW_temp, db_temp = backwardProp_activation(grads[\"dA\"+str(l+1)], cache, \"relu\")\n",
        "    grads[\"dA\" + str(l)] = dA_previous_temp\n",
        "    grads[\"dW\" + str(l + 1)] = dW_temp\n",
        "    grads[\"db\" + str(l + 1)] = db_temp\n",
        "\n",
        "  return grads"
      ],
      "metadata": {
        "id": "1YKV0EZT4i30"
      },
      "execution_count": null,
      "outputs": []
    },
    {
      "cell_type": "markdown",
      "source": [
        "## Step 7: Create Update weights function"
      ],
      "metadata": {
        "id": "YPYOiERo7Kdl"
      }
    },
    {
      "cell_type": "code",
      "source": [
        "  def update_weights(parameters, grads, learning_rate):\n",
        "    params = parameters.copy()\n",
        "    L = len(parameters) // 2\n",
        "    for l in range(L):\n",
        "      params[\"W\" + str(l+1)] = parameters[\"W\" + str(l+1)] - (learning_rate * grads[\"dW\" + str(l + 1)])\n",
        "      params[\"b\" + str(l+1)] = parameters[\"b\" + str(l+1)] - (learning_rate * grads[\"db\" + str(l + 1)])\n",
        "\n",
        "    return params"
      ],
      "metadata": {
        "id": "wTzP0fMb7kKQ"
      },
      "execution_count": null,
      "outputs": []
    },
    {
      "cell_type": "markdown",
      "source": [
        "## Step 8: Model"
      ],
      "metadata": {
        "id": "GAfjAiZm8HeP"
      }
    },
    {
      "cell_type": "markdown",
      "source": [
        "### Model Definition"
      ],
      "metadata": {
        "id": "XYr2_hLcPDoy"
      }
    },
    {
      "cell_type": "code",
      "source": [
        "def Model(X, Y, dimensions, learning_rate=0.0075, num_iterations=3000, print_cost=False):\n",
        "  np.random.seed(1)\n",
        "  costs = []\n",
        "  parameters = init_params(dimensions)\n",
        "\n",
        "  for i in range(num_iterations):\n",
        "    AL, caches = forwardPropagation(X, parameters)\n",
        "    cost = compute_cost(AL, Y)\n",
        "    grads = backwardPropagation(AL, Y, caches)\n",
        "    parameters = update_weights(parameters, grads, learning_rate)\n",
        "\n",
        "    # print the cost every 100 iterations\n",
        "    if print_cost and i % 100 == 0:\n",
        "      print(f\"Cost after iteration {i}: {np.squeeze(cost)}\")\n",
        "    if i % 100 == 0:\n",
        "      costs.append(cost)\n",
        "\n",
        "  return parameters, costs"
      ],
      "metadata": {
        "id": "JnLdbQUY8Jkb"
      },
      "execution_count": null,
      "outputs": []
    },
    {
      "cell_type": "markdown",
      "source": [
        "### Model Training"
      ],
      "metadata": {
        "id": "HzNSD2ibPFL6"
      }
    },
    {
      "cell_type": "code",
      "source": [
        "# train model for 2000 iterations\n",
        "dimentions = [3072, 20, 7, 5, 1]\n",
        "parameters, costs = Model(x_train_preprocessed, y_train, dimentions, num_iterations=2000, print_cost=True)"
      ],
      "metadata": {
        "colab": {
          "base_uri": "https://localhost:8080/",
          "height": 321
        },
        "id": "NtGmc2og9u0R",
        "outputId": "456107c8-3cfd-4c14-9f6e-c5ed58da83a4"
      },
      "execution_count": null,
      "outputs": [
        {
          "output_type": "error",
          "ename": "ValueError",
          "evalue": "not enough values to unpack (expected 3, got 1)",
          "traceback": [
            "\u001b[0;31m---------------------------------------------------------------------------\u001b[0m",
            "\u001b[0;31mValueError\u001b[0m                                Traceback (most recent call last)",
            "\u001b[0;32m<ipython-input-73-eb1c3ccb4ddc>\u001b[0m in \u001b[0;36m<cell line: 3>\u001b[0;34m()\u001b[0m\n\u001b[1;32m      1\u001b[0m \u001b[0;31m# train model for 2000 iterations\u001b[0m\u001b[0;34m\u001b[0m\u001b[0;34m\u001b[0m\u001b[0m\n\u001b[1;32m      2\u001b[0m \u001b[0mdimentions\u001b[0m \u001b[0;34m=\u001b[0m \u001b[0;34m[\u001b[0m\u001b[0;36m3072\u001b[0m\u001b[0;34m,\u001b[0m \u001b[0;36m20\u001b[0m\u001b[0;34m,\u001b[0m \u001b[0;36m7\u001b[0m\u001b[0;34m,\u001b[0m \u001b[0;36m5\u001b[0m\u001b[0;34m,\u001b[0m \u001b[0;36m1\u001b[0m\u001b[0;34m]\u001b[0m\u001b[0;34m\u001b[0m\u001b[0;34m\u001b[0m\u001b[0m\n\u001b[0;32m----> 3\u001b[0;31m \u001b[0mparameters\u001b[0m\u001b[0;34m,\u001b[0m \u001b[0mcosts\u001b[0m \u001b[0;34m=\u001b[0m \u001b[0mModel\u001b[0m\u001b[0;34m(\u001b[0m\u001b[0mx_train_preprocessed\u001b[0m\u001b[0;34m,\u001b[0m \u001b[0my_train\u001b[0m\u001b[0;34m,\u001b[0m \u001b[0mdimentions\u001b[0m\u001b[0;34m,\u001b[0m \u001b[0mnum_iterations\u001b[0m\u001b[0;34m=\u001b[0m\u001b[0;36m2000\u001b[0m\u001b[0;34m,\u001b[0m \u001b[0mprint_cost\u001b[0m\u001b[0;34m=\u001b[0m\u001b[0;32mTrue\u001b[0m\u001b[0;34m)\u001b[0m\u001b[0;34m\u001b[0m\u001b[0;34m\u001b[0m\u001b[0m\n\u001b[0m",
            "\u001b[0;32m<ipython-input-68-e0e07b2d23b0>\u001b[0m in \u001b[0;36mModel\u001b[0;34m(X, Y, dimensions, learning_rate, num_iterations, print_cost)\u001b[0m\n\u001b[1;32m      7\u001b[0m     \u001b[0mAL\u001b[0m\u001b[0;34m,\u001b[0m \u001b[0mcaches\u001b[0m \u001b[0;34m=\u001b[0m \u001b[0mforwardPropagation\u001b[0m\u001b[0;34m(\u001b[0m\u001b[0mX\u001b[0m\u001b[0;34m,\u001b[0m \u001b[0mparameters\u001b[0m\u001b[0;34m)\u001b[0m\u001b[0;34m\u001b[0m\u001b[0;34m\u001b[0m\u001b[0m\n\u001b[1;32m      8\u001b[0m     \u001b[0mcost\u001b[0m \u001b[0;34m=\u001b[0m \u001b[0mcompute_cost\u001b[0m\u001b[0;34m(\u001b[0m\u001b[0mAL\u001b[0m\u001b[0;34m,\u001b[0m \u001b[0mY\u001b[0m\u001b[0;34m)\u001b[0m\u001b[0;34m\u001b[0m\u001b[0;34m\u001b[0m\u001b[0m\n\u001b[0;32m----> 9\u001b[0;31m     \u001b[0mgrads\u001b[0m \u001b[0;34m=\u001b[0m \u001b[0mbackwardPropagation\u001b[0m\u001b[0;34m(\u001b[0m\u001b[0mAL\u001b[0m\u001b[0;34m,\u001b[0m \u001b[0mY\u001b[0m\u001b[0;34m,\u001b[0m \u001b[0mcaches\u001b[0m\u001b[0;34m)\u001b[0m\u001b[0;34m\u001b[0m\u001b[0;34m\u001b[0m\u001b[0m\n\u001b[0m\u001b[1;32m     10\u001b[0m     \u001b[0mparameters\u001b[0m \u001b[0;34m=\u001b[0m \u001b[0mupdate_weights\u001b[0m\u001b[0;34m(\u001b[0m\u001b[0mparameters\u001b[0m\u001b[0;34m,\u001b[0m \u001b[0mgrads\u001b[0m\u001b[0;34m,\u001b[0m \u001b[0mlearning_rate\u001b[0m\u001b[0;34m)\u001b[0m\u001b[0;34m\u001b[0m\u001b[0;34m\u001b[0m\u001b[0m\n\u001b[1;32m     11\u001b[0m \u001b[0;34m\u001b[0m\u001b[0m\n",
            "\u001b[0;32m<ipython-input-66-9872afdaf6b7>\u001b[0m in \u001b[0;36mbackwardPropagation\u001b[0;34m(AL, Y, caches)\u001b[0m\n\u001b[1;32m      7\u001b[0m \u001b[0;34m\u001b[0m\u001b[0m\n\u001b[1;32m      8\u001b[0m   \u001b[0mcache\u001b[0m \u001b[0;34m=\u001b[0m \u001b[0mcaches\u001b[0m\u001b[0;34m[\u001b[0m\u001b[0mL\u001b[0m\u001b[0;34m-\u001b[0m\u001b[0;36m1\u001b[0m\u001b[0;34m]\u001b[0m\u001b[0;34m\u001b[0m\u001b[0;34m\u001b[0m\u001b[0m\n\u001b[0;32m----> 9\u001b[0;31m   \u001b[0mgrads\u001b[0m\u001b[0;34m[\u001b[0m\u001b[0;34m\"dA\"\u001b[0m\u001b[0;34m+\u001b[0m\u001b[0mstr\u001b[0m\u001b[0;34m(\u001b[0m\u001b[0mL\u001b[0m\u001b[0;34m)\u001b[0m\u001b[0;34m]\u001b[0m\u001b[0;34m,\u001b[0m \u001b[0mgrads\u001b[0m\u001b[0;34m[\u001b[0m\u001b[0;34m\"dW\"\u001b[0m\u001b[0;34m+\u001b[0m\u001b[0mstr\u001b[0m\u001b[0;34m(\u001b[0m\u001b[0mL\u001b[0m\u001b[0;34m)\u001b[0m\u001b[0;34m]\u001b[0m\u001b[0;34m,\u001b[0m \u001b[0mgrads\u001b[0m\u001b[0;34m[\u001b[0m\u001b[0;34m\"db\"\u001b[0m\u001b[0;34m+\u001b[0m\u001b[0mstr\u001b[0m\u001b[0;34m(\u001b[0m\u001b[0mL\u001b[0m\u001b[0;34m)\u001b[0m\u001b[0;34m]\u001b[0m \u001b[0;34m=\u001b[0m \u001b[0mbackwardProp_activation\u001b[0m\u001b[0;34m(\u001b[0m\u001b[0mdAL\u001b[0m\u001b[0;34m,\u001b[0m \u001b[0mcache\u001b[0m\u001b[0;34m,\u001b[0m \u001b[0;34m\"sigmoid\"\u001b[0m\u001b[0;34m)\u001b[0m\u001b[0;34m\u001b[0m\u001b[0;34m\u001b[0m\u001b[0m\n\u001b[0m\u001b[1;32m     10\u001b[0m   \u001b[0;32mfor\u001b[0m \u001b[0ml\u001b[0m \u001b[0;32min\u001b[0m \u001b[0mreversed\u001b[0m\u001b[0;34m(\u001b[0m\u001b[0mrange\u001b[0m\u001b[0;34m(\u001b[0m\u001b[0mL\u001b[0m\u001b[0;34m-\u001b[0m\u001b[0;36m1\u001b[0m\u001b[0;34m)\u001b[0m\u001b[0;34m)\u001b[0m\u001b[0;34m:\u001b[0m\u001b[0;34m\u001b[0m\u001b[0;34m\u001b[0m\u001b[0m\n\u001b[1;32m     11\u001b[0m     \u001b[0mcache\u001b[0m \u001b[0;34m=\u001b[0m \u001b[0mcaches\u001b[0m\u001b[0;34m[\u001b[0m\u001b[0ml\u001b[0m\u001b[0;34m]\u001b[0m\u001b[0;34m\u001b[0m\u001b[0;34m\u001b[0m\u001b[0m\n",
            "\u001b[0;32m<ipython-input-65-2d8eb110afa9>\u001b[0m in \u001b[0;36mbackwardProp_activation\u001b[0;34m(dA, cache, act_fn)\u001b[0m\n\u001b[1;32m      2\u001b[0m   \u001b[0mcacheZ\u001b[0m\u001b[0;34m,\u001b[0m \u001b[0mcacheA\u001b[0m \u001b[0;34m=\u001b[0m \u001b[0mcache\u001b[0m  \u001b[0;31m# Unpack the cache to obtain both pre-activation and activation caches\u001b[0m\u001b[0;34m\u001b[0m\u001b[0;34m\u001b[0m\u001b[0m\n\u001b[1;32m      3\u001b[0m   \u001b[0mdZ\u001b[0m \u001b[0;34m=\u001b[0m \u001b[0mactivation_function_backward\u001b[0m\u001b[0;34m(\u001b[0m\u001b[0mdA\u001b[0m\u001b[0;34m,\u001b[0m \u001b[0mcacheZ\u001b[0m\u001b[0;34m,\u001b[0m \u001b[0mact_fn\u001b[0m\u001b[0;34m)\u001b[0m\u001b[0;34m\u001b[0m\u001b[0;34m\u001b[0m\u001b[0m\n\u001b[0;32m----> 4\u001b[0;31m   \u001b[0mdA_previous\u001b[0m\u001b[0;34m,\u001b[0m \u001b[0mdW\u001b[0m\u001b[0;34m,\u001b[0m \u001b[0mdb\u001b[0m \u001b[0;34m=\u001b[0m \u001b[0mbackwardprop_derivatives\u001b[0m\u001b[0;34m(\u001b[0m\u001b[0mdZ\u001b[0m\u001b[0;34m,\u001b[0m \u001b[0mcacheA\u001b[0m\u001b[0;34m)\u001b[0m\u001b[0;34m\u001b[0m\u001b[0;34m\u001b[0m\u001b[0m\n\u001b[0m\u001b[1;32m      5\u001b[0m \u001b[0;34m\u001b[0m\u001b[0m\n\u001b[1;32m      6\u001b[0m   \u001b[0;32mreturn\u001b[0m \u001b[0mdA_previous\u001b[0m\u001b[0;34m,\u001b[0m \u001b[0mdW\u001b[0m\u001b[0;34m,\u001b[0m \u001b[0mdb\u001b[0m\u001b[0;34m\u001b[0m\u001b[0;34m\u001b[0m\u001b[0m\n",
            "\u001b[0;32m<ipython-input-72-ec9f26a343b7>\u001b[0m in \u001b[0;36mbackwardprop_derivatives\u001b[0;34m(dZ, cache)\u001b[0m\n\u001b[1;32m      1\u001b[0m \u001b[0;32mdef\u001b[0m \u001b[0mbackwardprop_derivatives\u001b[0m\u001b[0;34m(\u001b[0m\u001b[0mdZ\u001b[0m\u001b[0;34m,\u001b[0m \u001b[0mcache\u001b[0m\u001b[0;34m)\u001b[0m\u001b[0;34m:\u001b[0m\u001b[0;34m\u001b[0m\u001b[0;34m\u001b[0m\u001b[0m\n\u001b[0;32m----> 2\u001b[0;31m     \u001b[0mA_previous\u001b[0m\u001b[0;34m,\u001b[0m \u001b[0mW\u001b[0m\u001b[0;34m,\u001b[0m \u001b[0mb\u001b[0m \u001b[0;34m=\u001b[0m \u001b[0mcache\u001b[0m\u001b[0;34m\u001b[0m\u001b[0;34m\u001b[0m\u001b[0m\n\u001b[0m\u001b[1;32m      3\u001b[0m     \u001b[0mm\u001b[0m \u001b[0;34m=\u001b[0m \u001b[0mA_previous\u001b[0m\u001b[0;34m.\u001b[0m\u001b[0mshape\u001b[0m\u001b[0;34m[\u001b[0m\u001b[0;36m1\u001b[0m\u001b[0;34m]\u001b[0m\u001b[0;34m\u001b[0m\u001b[0;34m\u001b[0m\u001b[0m\n\u001b[1;32m      4\u001b[0m     \u001b[0mdW\u001b[0m \u001b[0;34m=\u001b[0m \u001b[0mnp\u001b[0m\u001b[0;34m.\u001b[0m\u001b[0mdot\u001b[0m\u001b[0;34m(\u001b[0m\u001b[0mdZ\u001b[0m\u001b[0;34m,\u001b[0m \u001b[0mA_previous\u001b[0m\u001b[0;34m.\u001b[0m\u001b[0mT\u001b[0m\u001b[0;34m)\u001b[0m \u001b[0;34m/\u001b[0m \u001b[0mm\u001b[0m\u001b[0;34m\u001b[0m\u001b[0;34m\u001b[0m\u001b[0m\n\u001b[1;32m      5\u001b[0m     \u001b[0mdb\u001b[0m \u001b[0;34m=\u001b[0m \u001b[0mnp\u001b[0m\u001b[0;34m.\u001b[0m\u001b[0msum\u001b[0m\u001b[0;34m(\u001b[0m\u001b[0mdZ\u001b[0m\u001b[0;34m,\u001b[0m \u001b[0maxis\u001b[0m\u001b[0;34m=\u001b[0m\u001b[0;36m1\u001b[0m\u001b[0;34m,\u001b[0m \u001b[0mkeepdims\u001b[0m\u001b[0;34m=\u001b[0m\u001b[0;32mTrue\u001b[0m\u001b[0;34m)\u001b[0m\u001b[0;34m\u001b[0m\u001b[0;34m\u001b[0m\u001b[0m\n",
            "\u001b[0;31mValueError\u001b[0m: not enough values to unpack (expected 3, got 1)"
          ]
        }
      ]
    }
  ]
}